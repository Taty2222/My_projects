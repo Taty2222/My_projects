{
 "cells": [
  {
   "cell_type": "markdown",
   "id": "543e82a5",
   "metadata": {},
   "source": [
    "# Исследование надежности заемщиков."
   ]
  },
  {
   "cell_type": "markdown",
   "id": "11efefae",
   "metadata": {},
   "source": [
    "Цель исследования оценить влияет ли семейное положение и количество детей клиента на факт погашения кредита в срок. Входные данные — статистика о платёжеспособности клиентов."
   ]
  },
  {
   "cell_type": "markdown",
   "id": "87c678d5",
   "metadata": {},
   "source": [
    "В исходных данных содержится следующая информация:\n",
    "- children — количество детей в семье\n",
    "- days_employed — общий трудовой стаж в днях\n",
    "- dob_years — возраст клиента в годах\n",
    "- education — уровень образования клиента\n",
    "- education_id — идентификатор уровня образования\n",
    "- family_status — семейное положение\n",
    "- family_status_id — идентификатор семейного положения\n",
    "- gender — пол клиента\n",
    "- income_type — тип занятости\n",
    "- debt — имел ли задолженность по возврату кредитов\n",
    "- total_income — ежемесячный доход\n",
    "- purpose — цель получения кредита"
   ]
  },
  {
   "cell_type": "markdown",
   "id": "15c068ad",
   "metadata": {},
   "source": [
    "### Шаг 1. Обзор данных"
   ]
  },
  {
   "cell_type": "code",
   "execution_count": 1,
   "id": "2ba187ed",
   "metadata": {},
   "outputs": [],
   "source": [
    "import pandas as pd"
   ]
  },
  {
   "cell_type": "code",
   "execution_count": 2,
   "id": "3c3992ef",
   "metadata": {},
   "outputs": [],
   "source": [
    "data=pd.read_csv('/datasets/data.csv')"
   ]
  },
  {
   "cell_type": "code",
   "execution_count": 3,
   "id": "9a81e5a5",
   "metadata": {},
   "outputs": [
    {
     "name": "stdout",
     "output_type": "stream",
     "text": [
      "<class 'pandas.core.frame.DataFrame'>\n",
      "RangeIndex: 21525 entries, 0 to 21524\n",
      "Data columns (total 12 columns):\n",
      "children            21525 non-null int64\n",
      "days_employed       19351 non-null float64\n",
      "dob_years           21525 non-null int64\n",
      "education           21525 non-null object\n",
      "education_id        21525 non-null int64\n",
      "family_status       21525 non-null object\n",
      "family_status_id    21525 non-null int64\n",
      "gender              21525 non-null object\n",
      "income_type         21525 non-null object\n",
      "debt                21525 non-null int64\n",
      "total_income        19351 non-null float64\n",
      "purpose             21525 non-null object\n",
      "dtypes: float64(2), int64(5), object(5)\n",
      "memory usage: 2.0+ MB\n"
     ]
    }
   ],
   "source": [
    "data.info()"
   ]
  },
  {
   "cell_type": "code",
   "execution_count": 4,
   "id": "a53c1221",
   "metadata": {},
   "outputs": [
    {
     "data": {
      "text/html": [
       "<div>\n",
       "<style scoped>\n",
       "    .dataframe tbody tr th:only-of-type {\n",
       "        vertical-align: middle;\n",
       "    }\n",
       "\n",
       "    .dataframe tbody tr th {\n",
       "        vertical-align: top;\n",
       "    }\n",
       "\n",
       "    .dataframe thead th {\n",
       "        text-align: right;\n",
       "    }\n",
       "</style>\n",
       "<table border=\"1\" class=\"dataframe\">\n",
       "  <thead>\n",
       "    <tr style=\"text-align: right;\">\n",
       "      <th></th>\n",
       "      <th>children</th>\n",
       "      <th>days_employed</th>\n",
       "      <th>dob_years</th>\n",
       "      <th>education</th>\n",
       "      <th>education_id</th>\n",
       "      <th>family_status</th>\n",
       "      <th>family_status_id</th>\n",
       "      <th>gender</th>\n",
       "      <th>income_type</th>\n",
       "      <th>debt</th>\n",
       "      <th>total_income</th>\n",
       "      <th>purpose</th>\n",
       "    </tr>\n",
       "  </thead>\n",
       "  <tbody>\n",
       "    <tr>\n",
       "      <td>0</td>\n",
       "      <td>1</td>\n",
       "      <td>-8437.673028</td>\n",
       "      <td>42</td>\n",
       "      <td>высшее</td>\n",
       "      <td>0</td>\n",
       "      <td>женат / замужем</td>\n",
       "      <td>0</td>\n",
       "      <td>F</td>\n",
       "      <td>сотрудник</td>\n",
       "      <td>0</td>\n",
       "      <td>253875.639453</td>\n",
       "      <td>покупка жилья</td>\n",
       "    </tr>\n",
       "    <tr>\n",
       "      <td>1</td>\n",
       "      <td>1</td>\n",
       "      <td>-4024.803754</td>\n",
       "      <td>36</td>\n",
       "      <td>среднее</td>\n",
       "      <td>1</td>\n",
       "      <td>женат / замужем</td>\n",
       "      <td>0</td>\n",
       "      <td>F</td>\n",
       "      <td>сотрудник</td>\n",
       "      <td>0</td>\n",
       "      <td>112080.014102</td>\n",
       "      <td>приобретение автомобиля</td>\n",
       "    </tr>\n",
       "    <tr>\n",
       "      <td>2</td>\n",
       "      <td>0</td>\n",
       "      <td>-5623.422610</td>\n",
       "      <td>33</td>\n",
       "      <td>Среднее</td>\n",
       "      <td>1</td>\n",
       "      <td>женат / замужем</td>\n",
       "      <td>0</td>\n",
       "      <td>M</td>\n",
       "      <td>сотрудник</td>\n",
       "      <td>0</td>\n",
       "      <td>145885.952297</td>\n",
       "      <td>покупка жилья</td>\n",
       "    </tr>\n",
       "    <tr>\n",
       "      <td>3</td>\n",
       "      <td>3</td>\n",
       "      <td>-4124.747207</td>\n",
       "      <td>32</td>\n",
       "      <td>среднее</td>\n",
       "      <td>1</td>\n",
       "      <td>женат / замужем</td>\n",
       "      <td>0</td>\n",
       "      <td>M</td>\n",
       "      <td>сотрудник</td>\n",
       "      <td>0</td>\n",
       "      <td>267628.550329</td>\n",
       "      <td>дополнительное образование</td>\n",
       "    </tr>\n",
       "    <tr>\n",
       "      <td>4</td>\n",
       "      <td>0</td>\n",
       "      <td>340266.072047</td>\n",
       "      <td>53</td>\n",
       "      <td>среднее</td>\n",
       "      <td>1</td>\n",
       "      <td>гражданский брак</td>\n",
       "      <td>1</td>\n",
       "      <td>F</td>\n",
       "      <td>пенсионер</td>\n",
       "      <td>0</td>\n",
       "      <td>158616.077870</td>\n",
       "      <td>сыграть свадьбу</td>\n",
       "    </tr>\n",
       "  </tbody>\n",
       "</table>\n",
       "</div>"
      ],
      "text/plain": [
       "   children  days_employed  dob_years education  education_id  \\\n",
       "0         1   -8437.673028         42    высшее             0   \n",
       "1         1   -4024.803754         36   среднее             1   \n",
       "2         0   -5623.422610         33   Среднее             1   \n",
       "3         3   -4124.747207         32   среднее             1   \n",
       "4         0  340266.072047         53   среднее             1   \n",
       "\n",
       "      family_status  family_status_id gender income_type  debt   total_income  \\\n",
       "0   женат / замужем                 0      F   сотрудник     0  253875.639453   \n",
       "1   женат / замужем                 0      F   сотрудник     0  112080.014102   \n",
       "2   женат / замужем                 0      M   сотрудник     0  145885.952297   \n",
       "3   женат / замужем                 0      M   сотрудник     0  267628.550329   \n",
       "4  гражданский брак                 1      F   пенсионер     0  158616.077870   \n",
       "\n",
       "                      purpose  \n",
       "0               покупка жилья  \n",
       "1     приобретение автомобиля  \n",
       "2               покупка жилья  \n",
       "3  дополнительное образование  \n",
       "4             сыграть свадьбу  "
      ]
     },
     "execution_count": 4,
     "metadata": {},
     "output_type": "execute_result"
    }
   ],
   "source": [
    "data.head()"
   ]
  },
  {
   "cell_type": "markdown",
   "id": "c7867459",
   "metadata": {},
   "source": [
    "### Шаг 2.1 Заполнение пропусков"
   ]
  },
  {
   "cell_type": "markdown",
   "id": "46ad059c",
   "metadata": {},
   "source": [
    "В исходных данных есть пропущенные значения в столбцах days_employed и total_income. Количество пустых ячеек совпадает, возможно заемщики не работают и не имеют доход. "
   ]
  },
  {
   "cell_type": "code",
   "execution_count": 5,
   "id": "5f87642e",
   "metadata": {},
   "outputs": [
    {
     "data": {
      "text/plain": [
       "0.10099883855981417"
      ]
     },
     "execution_count": 5,
     "metadata": {},
     "output_type": "execute_result"
    }
   ],
   "source": [
    "data['days_employed'].isna().sum()/data['children'].count()"
   ]
  },
  {
   "cell_type": "markdown",
   "id": "1cdead45",
   "metadata": {},
   "source": [
    "Доля пропущенных значений составляет 10%. Для дальнейшего анализа пустные ячейки заполнены медианным значением по столбцу. В таблице есть сильно выделяющиеся значения, поэтому расчет среднего показателя может быть сильно завышен. Медианное значение лучше отражает средние показатели. "
   ]
  },
  {
   "cell_type": "code",
   "execution_count": 6,
   "id": "83c3423f",
   "metadata": {},
   "outputs": [],
   "source": [
    "days_med = abs(data['days_employed']).median() #расчет медианы для количества отработанных дней"
   ]
  },
  {
   "cell_type": "code",
   "execution_count": 7,
   "id": "383cac73",
   "metadata": {},
   "outputs": [],
   "source": [
    "data['median'] = data.groupby('income_type')['total_income'].transform('median') #расчет медианы для суммы дохода"
   ]
  },
  {
   "cell_type": "code",
   "execution_count": 8,
   "id": "2126b0f3",
   "metadata": {},
   "outputs": [],
   "source": [
    "# заполнение пустых ячеек медианным значением\n",
    "data['days_employed'] = data['days_employed'].fillna(days_med)\n",
    "data['total_income'] = data['total_income'].fillna(data['median'])"
   ]
  },
  {
   "cell_type": "markdown",
   "id": "71c18564",
   "metadata": {},
   "source": [
    "### Шаг 2.2 Проверка данных на аномалии и исправления."
   ]
  },
  {
   "cell_type": "code",
   "execution_count": 9,
   "id": "119634ca",
   "metadata": {
    "scrolled": true
   },
   "outputs": [
    {
     "data": {
      "text/html": [
       "<div>\n",
       "<style scoped>\n",
       "    .dataframe tbody tr th:only-of-type {\n",
       "        vertical-align: middle;\n",
       "    }\n",
       "\n",
       "    .dataframe tbody tr th {\n",
       "        vertical-align: top;\n",
       "    }\n",
       "\n",
       "    .dataframe thead th {\n",
       "        text-align: right;\n",
       "    }\n",
       "</style>\n",
       "<table border=\"1\" class=\"dataframe\">\n",
       "  <thead>\n",
       "    <tr style=\"text-align: right;\">\n",
       "      <th></th>\n",
       "      <th>children</th>\n",
       "      <th>days_employed</th>\n",
       "      <th>dob_years</th>\n",
       "      <th>education</th>\n",
       "      <th>education_id</th>\n",
       "      <th>family_status</th>\n",
       "      <th>family_status_id</th>\n",
       "      <th>gender</th>\n",
       "      <th>income_type</th>\n",
       "      <th>debt</th>\n",
       "      <th>total_income</th>\n",
       "      <th>purpose</th>\n",
       "      <th>median</th>\n",
       "    </tr>\n",
       "  </thead>\n",
       "  <tbody>\n",
       "    <tr>\n",
       "      <td>6954</td>\n",
       "      <td>0</td>\n",
       "      <td>401755.400475</td>\n",
       "      <td>56</td>\n",
       "      <td>среднее</td>\n",
       "      <td>1</td>\n",
       "      <td>вдовец / вдова</td>\n",
       "      <td>2</td>\n",
       "      <td>F</td>\n",
       "      <td>пенсионер</td>\n",
       "      <td>0</td>\n",
       "      <td>176278.441171</td>\n",
       "      <td>ремонт жилью</td>\n",
       "      <td>118514.486412</td>\n",
       "    </tr>\n",
       "    <tr>\n",
       "      <td>10006</td>\n",
       "      <td>0</td>\n",
       "      <td>401715.811749</td>\n",
       "      <td>69</td>\n",
       "      <td>высшее</td>\n",
       "      <td>0</td>\n",
       "      <td>Не женат / не замужем</td>\n",
       "      <td>4</td>\n",
       "      <td>F</td>\n",
       "      <td>пенсионер</td>\n",
       "      <td>0</td>\n",
       "      <td>57390.256908</td>\n",
       "      <td>получение образования</td>\n",
       "      <td>118514.486412</td>\n",
       "    </tr>\n",
       "    <tr>\n",
       "      <td>7664</td>\n",
       "      <td>1</td>\n",
       "      <td>401675.093434</td>\n",
       "      <td>61</td>\n",
       "      <td>среднее</td>\n",
       "      <td>1</td>\n",
       "      <td>женат / замужем</td>\n",
       "      <td>0</td>\n",
       "      <td>F</td>\n",
       "      <td>пенсионер</td>\n",
       "      <td>0</td>\n",
       "      <td>126214.519212</td>\n",
       "      <td>операции с жильем</td>\n",
       "      <td>118514.486412</td>\n",
       "    </tr>\n",
       "    <tr>\n",
       "      <td>2156</td>\n",
       "      <td>0</td>\n",
       "      <td>401674.466633</td>\n",
       "      <td>60</td>\n",
       "      <td>среднее</td>\n",
       "      <td>1</td>\n",
       "      <td>женат / замужем</td>\n",
       "      <td>0</td>\n",
       "      <td>M</td>\n",
       "      <td>пенсионер</td>\n",
       "      <td>0</td>\n",
       "      <td>325395.724541</td>\n",
       "      <td>автомобили</td>\n",
       "      <td>118514.486412</td>\n",
       "    </tr>\n",
       "    <tr>\n",
       "      <td>7794</td>\n",
       "      <td>0</td>\n",
       "      <td>401663.850046</td>\n",
       "      <td>61</td>\n",
       "      <td>среднее</td>\n",
       "      <td>1</td>\n",
       "      <td>гражданский брак</td>\n",
       "      <td>1</td>\n",
       "      <td>F</td>\n",
       "      <td>пенсионер</td>\n",
       "      <td>0</td>\n",
       "      <td>48286.441362</td>\n",
       "      <td>свадьба</td>\n",
       "      <td>118514.486412</td>\n",
       "    </tr>\n",
       "  </tbody>\n",
       "</table>\n",
       "</div>"
      ],
      "text/plain": [
       "       children  days_employed  dob_years education  education_id  \\\n",
       "6954          0  401755.400475         56   среднее             1   \n",
       "10006         0  401715.811749         69    высшее             0   \n",
       "7664          1  401675.093434         61   среднее             1   \n",
       "2156          0  401674.466633         60   среднее             1   \n",
       "7794          0  401663.850046         61   среднее             1   \n",
       "\n",
       "               family_status  family_status_id gender income_type  debt  \\\n",
       "6954          вдовец / вдова                 2      F   пенсионер     0   \n",
       "10006  Не женат / не замужем                 4      F   пенсионер     0   \n",
       "7664         женат / замужем                 0      F   пенсионер     0   \n",
       "2156         женат / замужем                 0      M   пенсионер     0   \n",
       "7794        гражданский брак                 1      F   пенсионер     0   \n",
       "\n",
       "        total_income                purpose         median  \n",
       "6954   176278.441171           ремонт жилью  118514.486412  \n",
       "10006   57390.256908  получение образования  118514.486412  \n",
       "7664   126214.519212      операции с жильем  118514.486412  \n",
       "2156   325395.724541             автомобили  118514.486412  \n",
       "7794    48286.441362                свадьба  118514.486412  "
      ]
     },
     "execution_count": 9,
     "metadata": {},
     "output_type": "execute_result"
    }
   ],
   "source": [
    "data.sort_values(by='days_employed', ascending=False).head()"
   ]
  },
  {
   "cell_type": "markdown",
   "id": "9589f4c5",
   "metadata": {},
   "source": [
    "1. В столбце с количеством отработанных дней есть отрицательные значения и дробная часть. Также есть сомнения в том что данные соответствуют действительности. При переводе максимального значения в количество лет выдает значение 1000. Возможно время указано в часах. Данная информация не влияет на анализ, поэтому можно оставить без изменений.\n",
    "2. В колонке количество детей есть отрицательные значения. Также много строк со значением 20. Скорее всего заполнено по ошибке. В отрицательных значениях был изменен знак. Строки со значением 20 заменены на значение 2, т.к. предполагаю что 0 - лишний символ в ячейке."
   ]
  },
  {
   "cell_type": "code",
   "execution_count": 10,
   "id": "8527324a",
   "metadata": {},
   "outputs": [],
   "source": [
    "data['children'] = abs(data['children']) # изменение отрицательного знака на положительный\n",
    "data.loc[data['children']==20, 'children']=2 #  замена значения 20 на 2\n",
    "    "
   ]
  },
  {
   "cell_type": "markdown",
   "id": "fb2d12b2",
   "metadata": {},
   "source": [
    "3. В колонке gender есть значение XNA. Поскольку с таким значением только 1 строка, ее можно удалить, она не повлияет на результат анализа."
   ]
  },
  {
   "cell_type": "code",
   "execution_count": 11,
   "id": "b8ffefa8",
   "metadata": {},
   "outputs": [],
   "source": [
    "data = data[data['gender']!='XNA'] # из датасета удалена строка с некорректным полом"
   ]
  },
  {
   "cell_type": "markdown",
   "id": "2dfe40e6",
   "metadata": {},
   "source": [
    "### Шаг 2.3. Изменение типов данных."
   ]
  },
  {
   "cell_type": "code",
   "execution_count": 12,
   "id": "eff07960",
   "metadata": {},
   "outputs": [],
   "source": [
    "data['total_income'] = data['total_income'].astype('int')"
   ]
  },
  {
   "cell_type": "markdown",
   "id": "97efee55",
   "metadata": {},
   "source": [
    "### Шаг 2.4. Удаление дубликатов."
   ]
  },
  {
   "cell_type": "markdown",
   "id": "b3d3d92a",
   "metadata": {},
   "source": [
    "Поиск явных дубликатов проведен методом duplicated().sum(). "
   ]
  },
  {
   "cell_type": "code",
   "execution_count": 13,
   "id": "eb9e79b4",
   "metadata": {},
   "outputs": [
    {
     "data": {
      "text/plain": [
       "54"
      ]
     },
     "execution_count": 13,
     "metadata": {},
     "output_type": "execute_result"
    }
   ],
   "source": [
    "data.duplicated().sum()"
   ]
  },
  {
   "cell_type": "code",
   "execution_count": 14,
   "id": "59db5a5c",
   "metadata": {},
   "outputs": [],
   "source": [
    "data = data.drop_duplicates() # удаление дубликатов строк"
   ]
  },
  {
   "cell_type": "code",
   "execution_count": 15,
   "id": "b4fbb597",
   "metadata": {},
   "outputs": [
    {
     "data": {
      "text/plain": [
       "array(['высшее', 'среднее', 'Среднее', 'СРЕДНЕЕ', 'ВЫСШЕЕ',\n",
       "       'неоконченное высшее', 'начальное', 'Высшее',\n",
       "       'НЕОКОНЧЕННОЕ ВЫСШЕЕ', 'Неоконченное высшее', 'НАЧАЛЬНОЕ',\n",
       "       'Начальное', 'Ученая степень', 'УЧЕНАЯ СТЕПЕНЬ', 'ученая степень'],\n",
       "      dtype=object)"
      ]
     },
     "execution_count": 15,
     "metadata": {},
     "output_type": "execute_result"
    }
   ],
   "source": [
    "data['education'].unique() # просмотр уникальных значений"
   ]
  },
  {
   "cell_type": "code",
   "execution_count": 16,
   "id": "c725674a",
   "metadata": {},
   "outputs": [],
   "source": [
    "data['education'] = data['education'].str.lower() # приведение данных к единому формату"
   ]
  },
  {
   "cell_type": "code",
   "execution_count": 17,
   "id": "b2a7c0e6",
   "metadata": {},
   "outputs": [
    {
     "data": {
      "text/plain": [
       "array(['высшее', 'среднее', 'неоконченное высшее', 'начальное',\n",
       "       'ученая степень'], dtype=object)"
      ]
     },
     "execution_count": 17,
     "metadata": {},
     "output_type": "execute_result"
    }
   ],
   "source": [
    "data['education'].unique()"
   ]
  },
  {
   "cell_type": "markdown",
   "id": "860f4230",
   "metadata": {},
   "source": [
    "Данные об образовании записаны по-разному, с использованием верхнего и нижнего регистра. Для устранения дубликатов, достаточно привести все значения к нижнему регистру.\n",
    "Подобные ошибки возникают когда нет установленного требования к заполнению типичных данных. Лучше создавать уникальные списки и пользоваться значением из списка для заполнения данных."
   ]
  },
  {
   "cell_type": "markdown",
   "id": "841d7a7b",
   "metadata": {},
   "source": [
    "### Шаг 2.5. Формирование дополнительных датафреймов словарей, декомпозиция исходного датафрейма."
   ]
  },
  {
   "cell_type": "code",
   "execution_count": 18,
   "id": "feeb6e1b",
   "metadata": {},
   "outputs": [
    {
     "data": {
      "text/html": [
       "<div>\n",
       "<style scoped>\n",
       "    .dataframe tbody tr th:only-of-type {\n",
       "        vertical-align: middle;\n",
       "    }\n",
       "\n",
       "    .dataframe tbody tr th {\n",
       "        vertical-align: top;\n",
       "    }\n",
       "\n",
       "    .dataframe thead th {\n",
       "        text-align: right;\n",
       "    }\n",
       "</style>\n",
       "<table border=\"1\" class=\"dataframe\">\n",
       "  <thead>\n",
       "    <tr style=\"text-align: right;\">\n",
       "      <th></th>\n",
       "      <th>education_id</th>\n",
       "      <th>education</th>\n",
       "    </tr>\n",
       "  </thead>\n",
       "  <tbody>\n",
       "    <tr>\n",
       "      <td>0</td>\n",
       "      <td>0</td>\n",
       "      <td>высшее</td>\n",
       "    </tr>\n",
       "    <tr>\n",
       "      <td>1</td>\n",
       "      <td>1</td>\n",
       "      <td>среднее</td>\n",
       "    </tr>\n",
       "    <tr>\n",
       "      <td>2</td>\n",
       "      <td>2</td>\n",
       "      <td>неоконченное высшее</td>\n",
       "    </tr>\n",
       "    <tr>\n",
       "      <td>3</td>\n",
       "      <td>3</td>\n",
       "      <td>начальное</td>\n",
       "    </tr>\n",
       "    <tr>\n",
       "      <td>4</td>\n",
       "      <td>4</td>\n",
       "      <td>ученая степень</td>\n",
       "    </tr>\n",
       "  </tbody>\n",
       "</table>\n",
       "</div>"
      ],
      "text/plain": [
       "   education_id            education\n",
       "0             0               высшее\n",
       "1             1              среднее\n",
       "2             2  неоконченное высшее\n",
       "3             3            начальное\n",
       "4             4       ученая степень"
      ]
     },
     "metadata": {},
     "output_type": "display_data"
    }
   ],
   "source": [
    "edu = data[['education_id', 'education']].drop_duplicates().reset_index(drop=True) #сформирован справочник образования\n",
    "display(edu)"
   ]
  },
  {
   "cell_type": "code",
   "execution_count": 19,
   "id": "abeaf779",
   "metadata": {
    "scrolled": true
   },
   "outputs": [
    {
     "data": {
      "text/html": [
       "<div>\n",
       "<style scoped>\n",
       "    .dataframe tbody tr th:only-of-type {\n",
       "        vertical-align: middle;\n",
       "    }\n",
       "\n",
       "    .dataframe tbody tr th {\n",
       "        vertical-align: top;\n",
       "    }\n",
       "\n",
       "    .dataframe thead th {\n",
       "        text-align: right;\n",
       "    }\n",
       "</style>\n",
       "<table border=\"1\" class=\"dataframe\">\n",
       "  <thead>\n",
       "    <tr style=\"text-align: right;\">\n",
       "      <th></th>\n",
       "      <th>family_status_id</th>\n",
       "      <th>family_status</th>\n",
       "    </tr>\n",
       "  </thead>\n",
       "  <tbody>\n",
       "    <tr>\n",
       "      <td>0</td>\n",
       "      <td>0</td>\n",
       "      <td>женат / замужем</td>\n",
       "    </tr>\n",
       "    <tr>\n",
       "      <td>1</td>\n",
       "      <td>1</td>\n",
       "      <td>гражданский брак</td>\n",
       "    </tr>\n",
       "    <tr>\n",
       "      <td>2</td>\n",
       "      <td>2</td>\n",
       "      <td>вдовец / вдова</td>\n",
       "    </tr>\n",
       "    <tr>\n",
       "      <td>3</td>\n",
       "      <td>3</td>\n",
       "      <td>в разводе</td>\n",
       "    </tr>\n",
       "    <tr>\n",
       "      <td>4</td>\n",
       "      <td>4</td>\n",
       "      <td>Не женат / не замужем</td>\n",
       "    </tr>\n",
       "  </tbody>\n",
       "</table>\n",
       "</div>"
      ],
      "text/plain": [
       "   family_status_id          family_status\n",
       "0                 0        женат / замужем\n",
       "1                 1       гражданский брак\n",
       "2                 2         вдовец / вдова\n",
       "3                 3              в разводе\n",
       "4                 4  Не женат / не замужем"
      ]
     },
     "metadata": {},
     "output_type": "display_data"
    }
   ],
   "source": [
    "family = data[['family_status_id', 'family_status']].drop_duplicates().reset_index(drop=True) #сформирован справочник семейного положения\n",
    "display(family)"
   ]
  },
  {
   "cell_type": "code",
   "execution_count": 20,
   "id": "9dd417be",
   "metadata": {},
   "outputs": [],
   "source": [
    "data = data.drop(columns= 'education', axis=1)\n",
    "data = data.drop(columns= 'family_status', axis=1) \n",
    "# удалены столбцы с образованием и семейным положением"
   ]
  },
  {
   "cell_type": "code",
   "execution_count": 21,
   "id": "023cadc2",
   "metadata": {
    "scrolled": true
   },
   "outputs": [
    {
     "data": {
      "text/html": [
       "<div>\n",
       "<style scoped>\n",
       "    .dataframe tbody tr th:only-of-type {\n",
       "        vertical-align: middle;\n",
       "    }\n",
       "\n",
       "    .dataframe tbody tr th {\n",
       "        vertical-align: top;\n",
       "    }\n",
       "\n",
       "    .dataframe thead th {\n",
       "        text-align: right;\n",
       "    }\n",
       "</style>\n",
       "<table border=\"1\" class=\"dataframe\">\n",
       "  <thead>\n",
       "    <tr style=\"text-align: right;\">\n",
       "      <th></th>\n",
       "      <th>children</th>\n",
       "      <th>days_employed</th>\n",
       "      <th>dob_years</th>\n",
       "      <th>education_id</th>\n",
       "      <th>family_status_id</th>\n",
       "      <th>gender</th>\n",
       "      <th>income_type</th>\n",
       "      <th>debt</th>\n",
       "      <th>total_income</th>\n",
       "      <th>purpose</th>\n",
       "      <th>median</th>\n",
       "    </tr>\n",
       "  </thead>\n",
       "  <tbody>\n",
       "    <tr>\n",
       "      <td>0</td>\n",
       "      <td>1</td>\n",
       "      <td>-8437.673028</td>\n",
       "      <td>42</td>\n",
       "      <td>0</td>\n",
       "      <td>0</td>\n",
       "      <td>F</td>\n",
       "      <td>сотрудник</td>\n",
       "      <td>0</td>\n",
       "      <td>253875</td>\n",
       "      <td>покупка жилья</td>\n",
       "      <td>142594.396847</td>\n",
       "    </tr>\n",
       "    <tr>\n",
       "      <td>1</td>\n",
       "      <td>1</td>\n",
       "      <td>-4024.803754</td>\n",
       "      <td>36</td>\n",
       "      <td>1</td>\n",
       "      <td>0</td>\n",
       "      <td>F</td>\n",
       "      <td>сотрудник</td>\n",
       "      <td>0</td>\n",
       "      <td>112080</td>\n",
       "      <td>приобретение автомобиля</td>\n",
       "      <td>142594.396847</td>\n",
       "    </tr>\n",
       "    <tr>\n",
       "      <td>2</td>\n",
       "      <td>0</td>\n",
       "      <td>-5623.422610</td>\n",
       "      <td>33</td>\n",
       "      <td>1</td>\n",
       "      <td>0</td>\n",
       "      <td>M</td>\n",
       "      <td>сотрудник</td>\n",
       "      <td>0</td>\n",
       "      <td>145885</td>\n",
       "      <td>покупка жилья</td>\n",
       "      <td>142594.396847</td>\n",
       "    </tr>\n",
       "    <tr>\n",
       "      <td>3</td>\n",
       "      <td>3</td>\n",
       "      <td>-4124.747207</td>\n",
       "      <td>32</td>\n",
       "      <td>1</td>\n",
       "      <td>0</td>\n",
       "      <td>M</td>\n",
       "      <td>сотрудник</td>\n",
       "      <td>0</td>\n",
       "      <td>267628</td>\n",
       "      <td>дополнительное образование</td>\n",
       "      <td>142594.396847</td>\n",
       "    </tr>\n",
       "    <tr>\n",
       "      <td>4</td>\n",
       "      <td>0</td>\n",
       "      <td>340266.072047</td>\n",
       "      <td>53</td>\n",
       "      <td>1</td>\n",
       "      <td>1</td>\n",
       "      <td>F</td>\n",
       "      <td>пенсионер</td>\n",
       "      <td>0</td>\n",
       "      <td>158616</td>\n",
       "      <td>сыграть свадьбу</td>\n",
       "      <td>118514.486412</td>\n",
       "    </tr>\n",
       "    <tr>\n",
       "      <td>5</td>\n",
       "      <td>0</td>\n",
       "      <td>-926.185831</td>\n",
       "      <td>27</td>\n",
       "      <td>0</td>\n",
       "      <td>1</td>\n",
       "      <td>M</td>\n",
       "      <td>компаньон</td>\n",
       "      <td>0</td>\n",
       "      <td>255763</td>\n",
       "      <td>покупка жилья</td>\n",
       "      <td>172357.950966</td>\n",
       "    </tr>\n",
       "    <tr>\n",
       "      <td>6</td>\n",
       "      <td>0</td>\n",
       "      <td>-2879.202052</td>\n",
       "      <td>43</td>\n",
       "      <td>0</td>\n",
       "      <td>0</td>\n",
       "      <td>F</td>\n",
       "      <td>компаньон</td>\n",
       "      <td>0</td>\n",
       "      <td>240525</td>\n",
       "      <td>операции с жильем</td>\n",
       "      <td>172357.950966</td>\n",
       "    </tr>\n",
       "    <tr>\n",
       "      <td>7</td>\n",
       "      <td>0</td>\n",
       "      <td>-152.779569</td>\n",
       "      <td>50</td>\n",
       "      <td>1</td>\n",
       "      <td>0</td>\n",
       "      <td>M</td>\n",
       "      <td>сотрудник</td>\n",
       "      <td>0</td>\n",
       "      <td>135823</td>\n",
       "      <td>образование</td>\n",
       "      <td>142594.396847</td>\n",
       "    </tr>\n",
       "    <tr>\n",
       "      <td>8</td>\n",
       "      <td>2</td>\n",
       "      <td>-6929.865299</td>\n",
       "      <td>35</td>\n",
       "      <td>0</td>\n",
       "      <td>1</td>\n",
       "      <td>F</td>\n",
       "      <td>сотрудник</td>\n",
       "      <td>0</td>\n",
       "      <td>95856</td>\n",
       "      <td>на проведение свадьбы</td>\n",
       "      <td>142594.396847</td>\n",
       "    </tr>\n",
       "    <tr>\n",
       "      <td>9</td>\n",
       "      <td>0</td>\n",
       "      <td>-2188.756445</td>\n",
       "      <td>41</td>\n",
       "      <td>1</td>\n",
       "      <td>0</td>\n",
       "      <td>M</td>\n",
       "      <td>сотрудник</td>\n",
       "      <td>0</td>\n",
       "      <td>144425</td>\n",
       "      <td>покупка жилья для семьи</td>\n",
       "      <td>142594.396847</td>\n",
       "    </tr>\n",
       "  </tbody>\n",
       "</table>\n",
       "</div>"
      ],
      "text/plain": [
       "   children  days_employed  dob_years  education_id  family_status_id gender  \\\n",
       "0         1   -8437.673028         42             0                 0      F   \n",
       "1         1   -4024.803754         36             1                 0      F   \n",
       "2         0   -5623.422610         33             1                 0      M   \n",
       "3         3   -4124.747207         32             1                 0      M   \n",
       "4         0  340266.072047         53             1                 1      F   \n",
       "5         0    -926.185831         27             0                 1      M   \n",
       "6         0   -2879.202052         43             0                 0      F   \n",
       "7         0    -152.779569         50             1                 0      M   \n",
       "8         2   -6929.865299         35             0                 1      F   \n",
       "9         0   -2188.756445         41             1                 0      M   \n",
       "\n",
       "  income_type  debt  total_income                     purpose         median  \n",
       "0   сотрудник     0        253875               покупка жилья  142594.396847  \n",
       "1   сотрудник     0        112080     приобретение автомобиля  142594.396847  \n",
       "2   сотрудник     0        145885               покупка жилья  142594.396847  \n",
       "3   сотрудник     0        267628  дополнительное образование  142594.396847  \n",
       "4   пенсионер     0        158616             сыграть свадьбу  118514.486412  \n",
       "5   компаньон     0        255763               покупка жилья  172357.950966  \n",
       "6   компаньон     0        240525           операции с жильем  172357.950966  \n",
       "7   сотрудник     0        135823                 образование  142594.396847  \n",
       "8   сотрудник     0         95856       на проведение свадьбы  142594.396847  \n",
       "9   сотрудник     0        144425     покупка жилья для семьи  142594.396847  "
      ]
     },
     "execution_count": 21,
     "metadata": {},
     "output_type": "execute_result"
    }
   ],
   "source": [
    "data.head(10)"
   ]
  },
  {
   "cell_type": "markdown",
   "id": "ba9354a2",
   "metadata": {},
   "source": [
    "### Шаг 2.6. Категоризация дохода."
   ]
  },
  {
   "cell_type": "code",
   "execution_count": 22,
   "id": "502794ac",
   "metadata": {},
   "outputs": [],
   "source": [
    "def income_rate(income):\n",
    "    if income <= 30000:\n",
    "        return 'E'\n",
    "    if income <= 50000:\n",
    "        return 'D'\n",
    "    if income <= 200000:\n",
    "        return 'C'\n",
    "    if income <= 1000000:\n",
    "        return 'B'\n",
    "    return 'A'\n",
    "#создана функция для определния категории дохода"
   ]
  },
  {
   "cell_type": "code",
   "execution_count": 23,
   "id": "b012b91a",
   "metadata": {},
   "outputs": [],
   "source": [
    "data['total_income_category'] = data['total_income'].apply(income_rate)"
   ]
  },
  {
   "cell_type": "code",
   "execution_count": 24,
   "id": "2b3a2117",
   "metadata": {},
   "outputs": [
    {
     "data": {
      "text/html": [
       "<div>\n",
       "<style scoped>\n",
       "    .dataframe tbody tr th:only-of-type {\n",
       "        vertical-align: middle;\n",
       "    }\n",
       "\n",
       "    .dataframe tbody tr th {\n",
       "        vertical-align: top;\n",
       "    }\n",
       "\n",
       "    .dataframe thead th {\n",
       "        text-align: right;\n",
       "    }\n",
       "</style>\n",
       "<table border=\"1\" class=\"dataframe\">\n",
       "  <thead>\n",
       "    <tr style=\"text-align: right;\">\n",
       "      <th></th>\n",
       "      <th>children</th>\n",
       "      <th>days_employed</th>\n",
       "      <th>dob_years</th>\n",
       "      <th>education_id</th>\n",
       "      <th>family_status_id</th>\n",
       "      <th>gender</th>\n",
       "      <th>income_type</th>\n",
       "      <th>debt</th>\n",
       "      <th>total_income</th>\n",
       "      <th>purpose</th>\n",
       "      <th>median</th>\n",
       "      <th>total_income_category</th>\n",
       "    </tr>\n",
       "  </thead>\n",
       "  <tbody>\n",
       "    <tr>\n",
       "      <td>0</td>\n",
       "      <td>1</td>\n",
       "      <td>-8437.673028</td>\n",
       "      <td>42</td>\n",
       "      <td>0</td>\n",
       "      <td>0</td>\n",
       "      <td>F</td>\n",
       "      <td>сотрудник</td>\n",
       "      <td>0</td>\n",
       "      <td>253875</td>\n",
       "      <td>покупка жилья</td>\n",
       "      <td>142594.396847</td>\n",
       "      <td>B</td>\n",
       "    </tr>\n",
       "    <tr>\n",
       "      <td>1</td>\n",
       "      <td>1</td>\n",
       "      <td>-4024.803754</td>\n",
       "      <td>36</td>\n",
       "      <td>1</td>\n",
       "      <td>0</td>\n",
       "      <td>F</td>\n",
       "      <td>сотрудник</td>\n",
       "      <td>0</td>\n",
       "      <td>112080</td>\n",
       "      <td>приобретение автомобиля</td>\n",
       "      <td>142594.396847</td>\n",
       "      <td>C</td>\n",
       "    </tr>\n",
       "    <tr>\n",
       "      <td>2</td>\n",
       "      <td>0</td>\n",
       "      <td>-5623.422610</td>\n",
       "      <td>33</td>\n",
       "      <td>1</td>\n",
       "      <td>0</td>\n",
       "      <td>M</td>\n",
       "      <td>сотрудник</td>\n",
       "      <td>0</td>\n",
       "      <td>145885</td>\n",
       "      <td>покупка жилья</td>\n",
       "      <td>142594.396847</td>\n",
       "      <td>C</td>\n",
       "    </tr>\n",
       "    <tr>\n",
       "      <td>3</td>\n",
       "      <td>3</td>\n",
       "      <td>-4124.747207</td>\n",
       "      <td>32</td>\n",
       "      <td>1</td>\n",
       "      <td>0</td>\n",
       "      <td>M</td>\n",
       "      <td>сотрудник</td>\n",
       "      <td>0</td>\n",
       "      <td>267628</td>\n",
       "      <td>дополнительное образование</td>\n",
       "      <td>142594.396847</td>\n",
       "      <td>B</td>\n",
       "    </tr>\n",
       "    <tr>\n",
       "      <td>4</td>\n",
       "      <td>0</td>\n",
       "      <td>340266.072047</td>\n",
       "      <td>53</td>\n",
       "      <td>1</td>\n",
       "      <td>1</td>\n",
       "      <td>F</td>\n",
       "      <td>пенсионер</td>\n",
       "      <td>0</td>\n",
       "      <td>158616</td>\n",
       "      <td>сыграть свадьбу</td>\n",
       "      <td>118514.486412</td>\n",
       "      <td>C</td>\n",
       "    </tr>\n",
       "  </tbody>\n",
       "</table>\n",
       "</div>"
      ],
      "text/plain": [
       "   children  days_employed  dob_years  education_id  family_status_id gender  \\\n",
       "0         1   -8437.673028         42             0                 0      F   \n",
       "1         1   -4024.803754         36             1                 0      F   \n",
       "2         0   -5623.422610         33             1                 0      M   \n",
       "3         3   -4124.747207         32             1                 0      M   \n",
       "4         0  340266.072047         53             1                 1      F   \n",
       "\n",
       "  income_type  debt  total_income                     purpose         median  \\\n",
       "0   сотрудник     0        253875               покупка жилья  142594.396847   \n",
       "1   сотрудник     0        112080     приобретение автомобиля  142594.396847   \n",
       "2   сотрудник     0        145885               покупка жилья  142594.396847   \n",
       "3   сотрудник     0        267628  дополнительное образование  142594.396847   \n",
       "4   пенсионер     0        158616             сыграть свадьбу  118514.486412   \n",
       "\n",
       "  total_income_category  \n",
       "0                     B  \n",
       "1                     C  \n",
       "2                     C  \n",
       "3                     B  \n",
       "4                     C  "
      ]
     },
     "execution_count": 24,
     "metadata": {},
     "output_type": "execute_result"
    }
   ],
   "source": [
    "data.head()"
   ]
  },
  {
   "cell_type": "markdown",
   "id": "296923c0",
   "metadata": {},
   "source": [
    "### Шаг 2.7. Категоризация целей кредита."
   ]
  },
  {
   "cell_type": "code",
   "execution_count": 25,
   "id": "326cd4b6",
   "metadata": {
    "scrolled": true
   },
   "outputs": [
    {
     "data": {
      "text/plain": [
       "array(['покупка жилья', 'приобретение автомобиля',\n",
       "       'дополнительное образование', 'сыграть свадьбу',\n",
       "       'операции с жильем', 'образование', 'на проведение свадьбы',\n",
       "       'покупка жилья для семьи', 'покупка недвижимости',\n",
       "       'покупка коммерческой недвижимости', 'покупка жилой недвижимости',\n",
       "       'строительство собственной недвижимости', 'недвижимость',\n",
       "       'строительство недвижимости', 'на покупку подержанного автомобиля',\n",
       "       'на покупку своего автомобиля',\n",
       "       'операции с коммерческой недвижимостью',\n",
       "       'строительство жилой недвижимости', 'жилье',\n",
       "       'операции со своей недвижимостью', 'автомобили',\n",
       "       'заняться образованием', 'сделка с подержанным автомобилем',\n",
       "       'получение образования', 'автомобиль', 'свадьба',\n",
       "       'получение дополнительного образования', 'покупка своего жилья',\n",
       "       'операции с недвижимостью', 'получение высшего образования',\n",
       "       'свой автомобиль', 'сделка с автомобилем',\n",
       "       'профильное образование', 'высшее образование',\n",
       "       'покупка жилья для сдачи', 'на покупку автомобиля', 'ремонт жилью',\n",
       "       'заняться высшим образованием'], dtype=object)"
      ]
     },
     "execution_count": 25,
     "metadata": {},
     "output_type": "execute_result"
    }
   ],
   "source": [
    "data['purpose'].unique()"
   ]
  },
  {
   "cell_type": "code",
   "execution_count": 26,
   "id": "5a8914a6",
   "metadata": {},
   "outputs": [],
   "source": [
    "def purpose_category(purpose):\n",
    "    if 'автомобил' in purpose:\n",
    "        return 'операции с автомобилем'\n",
    "    elif 'жиль' in purpose or 'недвижим' in purpose:\n",
    "        return 'операции с недвижимостью'\n",
    "    elif 'свадьб' in purpose:\n",
    "        return 'проведение свадьбы'\n",
    "    elif 'образовани' in purpose:\n",
    "        return 'получение образования'\n",
    "    return 'прочее'\n",
    "# функция для определения категори цели займа"
   ]
  },
  {
   "cell_type": "code",
   "execution_count": 27,
   "id": "97c0c2ba",
   "metadata": {},
   "outputs": [],
   "source": [
    "data['purpose_category'] = data['purpose'].apply(purpose_category)"
   ]
  },
  {
   "cell_type": "code",
   "execution_count": 28,
   "id": "cf9dd300",
   "metadata": {},
   "outputs": [
    {
     "data": {
      "text/html": [
       "<div>\n",
       "<style scoped>\n",
       "    .dataframe tbody tr th:only-of-type {\n",
       "        vertical-align: middle;\n",
       "    }\n",
       "\n",
       "    .dataframe tbody tr th {\n",
       "        vertical-align: top;\n",
       "    }\n",
       "\n",
       "    .dataframe thead th {\n",
       "        text-align: right;\n",
       "    }\n",
       "</style>\n",
       "<table border=\"1\" class=\"dataframe\">\n",
       "  <thead>\n",
       "    <tr style=\"text-align: right;\">\n",
       "      <th></th>\n",
       "      <th>children</th>\n",
       "      <th>days_employed</th>\n",
       "      <th>dob_years</th>\n",
       "      <th>education_id</th>\n",
       "      <th>family_status_id</th>\n",
       "      <th>gender</th>\n",
       "      <th>income_type</th>\n",
       "      <th>debt</th>\n",
       "      <th>total_income</th>\n",
       "      <th>purpose</th>\n",
       "      <th>median</th>\n",
       "      <th>total_income_category</th>\n",
       "      <th>purpose_category</th>\n",
       "    </tr>\n",
       "  </thead>\n",
       "  <tbody>\n",
       "    <tr>\n",
       "      <td>0</td>\n",
       "      <td>1</td>\n",
       "      <td>-8437.673028</td>\n",
       "      <td>42</td>\n",
       "      <td>0</td>\n",
       "      <td>0</td>\n",
       "      <td>F</td>\n",
       "      <td>сотрудник</td>\n",
       "      <td>0</td>\n",
       "      <td>253875</td>\n",
       "      <td>покупка жилья</td>\n",
       "      <td>142594.396847</td>\n",
       "      <td>B</td>\n",
       "      <td>операции с недвижимостью</td>\n",
       "    </tr>\n",
       "    <tr>\n",
       "      <td>1</td>\n",
       "      <td>1</td>\n",
       "      <td>-4024.803754</td>\n",
       "      <td>36</td>\n",
       "      <td>1</td>\n",
       "      <td>0</td>\n",
       "      <td>F</td>\n",
       "      <td>сотрудник</td>\n",
       "      <td>0</td>\n",
       "      <td>112080</td>\n",
       "      <td>приобретение автомобиля</td>\n",
       "      <td>142594.396847</td>\n",
       "      <td>C</td>\n",
       "      <td>операции с автомобилем</td>\n",
       "    </tr>\n",
       "    <tr>\n",
       "      <td>2</td>\n",
       "      <td>0</td>\n",
       "      <td>-5623.422610</td>\n",
       "      <td>33</td>\n",
       "      <td>1</td>\n",
       "      <td>0</td>\n",
       "      <td>M</td>\n",
       "      <td>сотрудник</td>\n",
       "      <td>0</td>\n",
       "      <td>145885</td>\n",
       "      <td>покупка жилья</td>\n",
       "      <td>142594.396847</td>\n",
       "      <td>C</td>\n",
       "      <td>операции с недвижимостью</td>\n",
       "    </tr>\n",
       "    <tr>\n",
       "      <td>3</td>\n",
       "      <td>3</td>\n",
       "      <td>-4124.747207</td>\n",
       "      <td>32</td>\n",
       "      <td>1</td>\n",
       "      <td>0</td>\n",
       "      <td>M</td>\n",
       "      <td>сотрудник</td>\n",
       "      <td>0</td>\n",
       "      <td>267628</td>\n",
       "      <td>дополнительное образование</td>\n",
       "      <td>142594.396847</td>\n",
       "      <td>B</td>\n",
       "      <td>получение образования</td>\n",
       "    </tr>\n",
       "    <tr>\n",
       "      <td>4</td>\n",
       "      <td>0</td>\n",
       "      <td>340266.072047</td>\n",
       "      <td>53</td>\n",
       "      <td>1</td>\n",
       "      <td>1</td>\n",
       "      <td>F</td>\n",
       "      <td>пенсионер</td>\n",
       "      <td>0</td>\n",
       "      <td>158616</td>\n",
       "      <td>сыграть свадьбу</td>\n",
       "      <td>118514.486412</td>\n",
       "      <td>C</td>\n",
       "      <td>проведение свадьбы</td>\n",
       "    </tr>\n",
       "  </tbody>\n",
       "</table>\n",
       "</div>"
      ],
      "text/plain": [
       "   children  days_employed  dob_years  education_id  family_status_id gender  \\\n",
       "0         1   -8437.673028         42             0                 0      F   \n",
       "1         1   -4024.803754         36             1                 0      F   \n",
       "2         0   -5623.422610         33             1                 0      M   \n",
       "3         3   -4124.747207         32             1                 0      M   \n",
       "4         0  340266.072047         53             1                 1      F   \n",
       "\n",
       "  income_type  debt  total_income                     purpose         median  \\\n",
       "0   сотрудник     0        253875               покупка жилья  142594.396847   \n",
       "1   сотрудник     0        112080     приобретение автомобиля  142594.396847   \n",
       "2   сотрудник     0        145885               покупка жилья  142594.396847   \n",
       "3   сотрудник     0        267628  дополнительное образование  142594.396847   \n",
       "4   пенсионер     0        158616             сыграть свадьбу  118514.486412   \n",
       "\n",
       "  total_income_category          purpose_category  \n",
       "0                     B  операции с недвижимостью  \n",
       "1                     C    операции с автомобилем  \n",
       "2                     C  операции с недвижимостью  \n",
       "3                     B     получение образования  \n",
       "4                     C        проведение свадьбы  "
      ]
     },
     "execution_count": 28,
     "metadata": {},
     "output_type": "execute_result"
    }
   ],
   "source": [
    "data.head()"
   ]
  },
  {
   "cell_type": "markdown",
   "id": "898e9d40",
   "metadata": {},
   "source": [
    "### Ответы на вопросы."
   ]
  },
  {
   "cell_type": "markdown",
   "id": "789712ba",
   "metadata": {},
   "source": [
    "Для анализа составила сводную таблицу и расчитала долю имевших задолженность заемиков в общей доле заемщиков в категории."
   ]
  },
  {
   "cell_type": "markdown",
   "id": "9de8a743",
   "metadata": {},
   "source": [
    "##### Вопрос 1: Есть ли зависимость между количеством детей и возвратом кредита в срок?"
   ]
  },
  {
   "cell_type": "code",
   "execution_count": 29,
   "id": "d3b497c4",
   "metadata": {},
   "outputs": [
    {
     "data": {
      "text/html": [
       "<div>\n",
       "<style scoped>\n",
       "    .dataframe tbody tr th:only-of-type {\n",
       "        vertical-align: middle;\n",
       "    }\n",
       "\n",
       "    .dataframe tbody tr th {\n",
       "        vertical-align: top;\n",
       "    }\n",
       "\n",
       "    .dataframe thead th {\n",
       "        text-align: right;\n",
       "    }\n",
       "</style>\n",
       "<table border=\"1\" class=\"dataframe\">\n",
       "  <thead>\n",
       "    <tr style=\"text-align: right;\">\n",
       "      <th>debt</th>\n",
       "      <th>0</th>\n",
       "      <th>1</th>\n",
       "      <th>share</th>\n",
       "    </tr>\n",
       "    <tr>\n",
       "      <th>children</th>\n",
       "      <th></th>\n",
       "      <th></th>\n",
       "      <th></th>\n",
       "    </tr>\n",
       "  </thead>\n",
       "  <tbody>\n",
       "    <tr>\n",
       "      <td>0</td>\n",
       "      <td>13043.0</td>\n",
       "      <td>1063.0</td>\n",
       "      <td>7.535800</td>\n",
       "    </tr>\n",
       "    <tr>\n",
       "      <td>1</td>\n",
       "      <td>4411.0</td>\n",
       "      <td>445.0</td>\n",
       "      <td>9.163921</td>\n",
       "    </tr>\n",
       "    <tr>\n",
       "      <td>2</td>\n",
       "      <td>1926.0</td>\n",
       "      <td>202.0</td>\n",
       "      <td>9.492481</td>\n",
       "    </tr>\n",
       "    <tr>\n",
       "      <td>3</td>\n",
       "      <td>303.0</td>\n",
       "      <td>27.0</td>\n",
       "      <td>8.181818</td>\n",
       "    </tr>\n",
       "    <tr>\n",
       "      <td>4</td>\n",
       "      <td>37.0</td>\n",
       "      <td>4.0</td>\n",
       "      <td>9.756098</td>\n",
       "    </tr>\n",
       "    <tr>\n",
       "      <td>5</td>\n",
       "      <td>9.0</td>\n",
       "      <td>0.0</td>\n",
       "      <td>0.000000</td>\n",
       "    </tr>\n",
       "  </tbody>\n",
       "</table>\n",
       "</div>"
      ],
      "text/plain": [
       "debt            0       1     share\n",
       "children                           \n",
       "0         13043.0  1063.0  7.535800\n",
       "1          4411.0   445.0  9.163921\n",
       "2          1926.0   202.0  9.492481\n",
       "3           303.0    27.0  8.181818\n",
       "4            37.0     4.0  9.756098\n",
       "5             9.0     0.0  0.000000"
      ]
     },
     "metadata": {},
     "output_type": "display_data"
    }
   ],
   "source": [
    "data_children = data.pivot_table(index = ['children'], columns='debt', values='income_type', aggfunc='count').fillna(0)\n",
    "data_children['share'] = data_children[1]/(data_children[0]+data_children[1])*100\n",
    "display(data_children)"
   ]
  },
  {
   "cell_type": "markdown",
   "id": "e7d44eac",
   "metadata": {},
   "source": [
    "##### Вывод 1:"
   ]
  },
  {
   "cell_type": "markdown",
   "id": "6bcec4e5",
   "metadata": {},
   "source": [
    "Заемщики с 5 детьми не имели просроченной задолженности по кредитам, но и количество таких заемщиков очень низкое. Для оценки надежности заемщиков мало данных.\n",
    "Заемщики без детей имеют самую низкую долю задолженности по кредитам, при этом в этой категории больше всего заявок.\n",
    "Заемщики с 1 - 4 детьми имеют примерно равную долю задолженности по кредитам.\n",
    "Можно сделать вывод что количество детей не влияет на возврат кредита. Но наличие или отсутствие детей влияет. Заемщики без детей являются самыми надежными."
   ]
  },
  {
   "cell_type": "markdown",
   "id": "6c9a409b",
   "metadata": {},
   "source": [
    "##### Вопрос 2: Есть ли зависимость между семейным положением и возвратом кредита в срок?"
   ]
  },
  {
   "cell_type": "code",
   "execution_count": 30,
   "id": "214553b5",
   "metadata": {},
   "outputs": [
    {
     "data": {
      "text/html": [
       "<div>\n",
       "<style scoped>\n",
       "    .dataframe tbody tr th:only-of-type {\n",
       "        vertical-align: middle;\n",
       "    }\n",
       "\n",
       "    .dataframe tbody tr th {\n",
       "        vertical-align: top;\n",
       "    }\n",
       "\n",
       "    .dataframe thead th {\n",
       "        text-align: right;\n",
       "    }\n",
       "</style>\n",
       "<table border=\"1\" class=\"dataframe\">\n",
       "  <thead>\n",
       "    <tr style=\"text-align: right;\">\n",
       "      <th></th>\n",
       "      <th>family_status_id</th>\n",
       "      <th>0</th>\n",
       "      <th>1</th>\n",
       "      <th>share</th>\n",
       "      <th>family_status</th>\n",
       "    </tr>\n",
       "  </thead>\n",
       "  <tbody>\n",
       "    <tr>\n",
       "      <td>0</td>\n",
       "      <td>0</td>\n",
       "      <td>11413</td>\n",
       "      <td>931</td>\n",
       "      <td>7.542126</td>\n",
       "      <td>женат / замужем</td>\n",
       "    </tr>\n",
       "    <tr>\n",
       "      <td>1</td>\n",
       "      <td>1</td>\n",
       "      <td>3774</td>\n",
       "      <td>388</td>\n",
       "      <td>9.322441</td>\n",
       "      <td>гражданский брак</td>\n",
       "    </tr>\n",
       "    <tr>\n",
       "      <td>2</td>\n",
       "      <td>2</td>\n",
       "      <td>896</td>\n",
       "      <td>63</td>\n",
       "      <td>6.569343</td>\n",
       "      <td>вдовец / вдова</td>\n",
       "    </tr>\n",
       "    <tr>\n",
       "      <td>3</td>\n",
       "      <td>3</td>\n",
       "      <td>1110</td>\n",
       "      <td>85</td>\n",
       "      <td>7.112971</td>\n",
       "      <td>в разводе</td>\n",
       "    </tr>\n",
       "    <tr>\n",
       "      <td>4</td>\n",
       "      <td>4</td>\n",
       "      <td>2536</td>\n",
       "      <td>274</td>\n",
       "      <td>9.750890</td>\n",
       "      <td>Не женат / не замужем</td>\n",
       "    </tr>\n",
       "  </tbody>\n",
       "</table>\n",
       "</div>"
      ],
      "text/plain": [
       "   family_status_id      0    1     share          family_status\n",
       "0                 0  11413  931  7.542126        женат / замужем\n",
       "1                 1   3774  388  9.322441       гражданский брак\n",
       "2                 2    896   63  6.569343         вдовец / вдова\n",
       "3                 3   1110   85  7.112971              в разводе\n",
       "4                 4   2536  274  9.750890  Не женат / не замужем"
      ]
     },
     "metadata": {},
     "output_type": "display_data"
    }
   ],
   "source": [
    "data_f_status = data.pivot_table(index = ['family_status_id'], columns='debt', values='income_type', aggfunc='count')\n",
    "data_f_status['share'] = data_f_status[1]/(data_f_status[0]+data_f_status[1])*100\n",
    "display(data_f_status.merge(family, on='family_status_id', how='left'))"
   ]
  },
  {
   "cell_type": "markdown",
   "id": "9ee1de88",
   "metadata": {},
   "source": [
    "##### Вывод 2:"
   ]
  },
  {
   "cell_type": "markdown",
   "id": "da1a35b7",
   "metadata": {},
   "source": [
    "Самая низкая доля просроченной задолженности по кредитам у 2 категории заемщиков (вдовцы) - 6,6%\n",
    "Доля женатых и в разводе заемщиков имевших просроченные кредиты примерно одинаковая 7,1-7,5%\n",
    "Самая большая доля заемщиков имевших просроченную задолженность по кредитам среди неженатых и живущих в гражданском браке. - больше 9%. Соответственно это самые ненадежные заемщики. Думаю это связано с тем что неженатый человек в случае потери дохода не может оплачивать кредит, в то время как женатый может переложить оплату кредита на супруга на время отсутствия дохода."
   ]
  },
  {
   "cell_type": "markdown",
   "id": "9263f067",
   "metadata": {},
   "source": [
    "##### Вопрос 3: Есть ли зависимость между уровнем дохода и возвратом кредита в срок?"
   ]
  },
  {
   "cell_type": "code",
   "execution_count": 31,
   "id": "77d341a9",
   "metadata": {},
   "outputs": [
    {
     "data": {
      "text/html": [
       "<div>\n",
       "<style scoped>\n",
       "    .dataframe tbody tr th:only-of-type {\n",
       "        vertical-align: middle;\n",
       "    }\n",
       "\n",
       "    .dataframe tbody tr th {\n",
       "        vertical-align: top;\n",
       "    }\n",
       "\n",
       "    .dataframe thead th {\n",
       "        text-align: right;\n",
       "    }\n",
       "</style>\n",
       "<table border=\"1\" class=\"dataframe\">\n",
       "  <thead>\n",
       "    <tr style=\"text-align: right;\">\n",
       "      <th>debt</th>\n",
       "      <th>0</th>\n",
       "      <th>1</th>\n",
       "      <th>share</th>\n",
       "    </tr>\n",
       "    <tr>\n",
       "      <th>total_income_category</th>\n",
       "      <th></th>\n",
       "      <th></th>\n",
       "      <th></th>\n",
       "    </tr>\n",
       "  </thead>\n",
       "  <tbody>\n",
       "    <tr>\n",
       "      <td>A</td>\n",
       "      <td>23</td>\n",
       "      <td>2</td>\n",
       "      <td>8.000000</td>\n",
       "    </tr>\n",
       "    <tr>\n",
       "      <td>B</td>\n",
       "      <td>4685</td>\n",
       "      <td>356</td>\n",
       "      <td>7.062091</td>\n",
       "    </tr>\n",
       "    <tr>\n",
       "      <td>C</td>\n",
       "      <td>14672</td>\n",
       "      <td>1360</td>\n",
       "      <td>8.483034</td>\n",
       "    </tr>\n",
       "    <tr>\n",
       "      <td>D</td>\n",
       "      <td>329</td>\n",
       "      <td>21</td>\n",
       "      <td>6.000000</td>\n",
       "    </tr>\n",
       "    <tr>\n",
       "      <td>E</td>\n",
       "      <td>20</td>\n",
       "      <td>2</td>\n",
       "      <td>9.090909</td>\n",
       "    </tr>\n",
       "  </tbody>\n",
       "</table>\n",
       "</div>"
      ],
      "text/plain": [
       "debt                       0     1     share\n",
       "total_income_category                       \n",
       "A                         23     2  8.000000\n",
       "B                       4685   356  7.062091\n",
       "C                      14672  1360  8.483034\n",
       "D                        329    21  6.000000\n",
       "E                         20     2  9.090909"
      ]
     },
     "metadata": {},
     "output_type": "display_data"
    }
   ],
   "source": [
    "data_income = data.pivot_table(index = ['total_income_category'], columns='debt', values='income_type', aggfunc='count')\n",
    "data_income['share'] = data_income[1]/(data_income[0]+data_income[1])*100\n",
    "display(data_income)"
   ]
  },
  {
   "cell_type": "markdown",
   "id": "3c24abad",
   "metadata": {},
   "source": [
    "##### Вывод 3:"
   ]
  },
  {
   "cell_type": "markdown",
   "id": "cb9052a5",
   "metadata": {},
   "source": [
    "Заемщики с самым низким уровнем дохода имеют самую большую долю просроченной задолженности по кредитам. Самая низкая доля у заемщиков с уровнем дохода от 30 до 50 тыс руб. \n",
    "Доля просроченной задолженности у заемщиков с более высоким уровнем дохода выше. Соответвенно уровень дохода влияет на возврат кредитов, но с повышением уровня дохода надежность заемщиков снижается."
   ]
  },
  {
   "cell_type": "markdown",
   "id": "88c3d129",
   "metadata": {},
   "source": [
    "##### Вопрос 4: Как разные цели кредита влияют на его возврат в срок?"
   ]
  },
  {
   "cell_type": "code",
   "execution_count": 32,
   "id": "015be103",
   "metadata": {},
   "outputs": [
    {
     "data": {
      "text/html": [
       "<div>\n",
       "<style scoped>\n",
       "    .dataframe tbody tr th:only-of-type {\n",
       "        vertical-align: middle;\n",
       "    }\n",
       "\n",
       "    .dataframe tbody tr th {\n",
       "        vertical-align: top;\n",
       "    }\n",
       "\n",
       "    .dataframe thead th {\n",
       "        text-align: right;\n",
       "    }\n",
       "</style>\n",
       "<table border=\"1\" class=\"dataframe\">\n",
       "  <thead>\n",
       "    <tr style=\"text-align: right;\">\n",
       "      <th>debt</th>\n",
       "      <th>0</th>\n",
       "      <th>1</th>\n",
       "      <th>share</th>\n",
       "    </tr>\n",
       "    <tr>\n",
       "      <th>purpose_category</th>\n",
       "      <th></th>\n",
       "      <th></th>\n",
       "      <th></th>\n",
       "    </tr>\n",
       "  </thead>\n",
       "  <tbody>\n",
       "    <tr>\n",
       "      <td>операции с автомобилем</td>\n",
       "      <td>3905</td>\n",
       "      <td>403</td>\n",
       "      <td>9.354689</td>\n",
       "    </tr>\n",
       "    <tr>\n",
       "      <td>операции с недвижимостью</td>\n",
       "      <td>10031</td>\n",
       "      <td>782</td>\n",
       "      <td>7.232036</td>\n",
       "    </tr>\n",
       "    <tr>\n",
       "      <td>получение образования</td>\n",
       "      <td>3644</td>\n",
       "      <td>370</td>\n",
       "      <td>9.217738</td>\n",
       "    </tr>\n",
       "    <tr>\n",
       "      <td>проведение свадьбы</td>\n",
       "      <td>2149</td>\n",
       "      <td>186</td>\n",
       "      <td>7.965739</td>\n",
       "    </tr>\n",
       "  </tbody>\n",
       "</table>\n",
       "</div>"
      ],
      "text/plain": [
       "debt                          0    1     share\n",
       "purpose_category                              \n",
       "операции с автомобилем     3905  403  9.354689\n",
       "операции с недвижимостью  10031  782  7.232036\n",
       "получение образования      3644  370  9.217738\n",
       "проведение свадьбы         2149  186  7.965739"
      ]
     },
     "metadata": {},
     "output_type": "display_data"
    }
   ],
   "source": [
    "data_purpose = data.pivot_table(index = ['purpose_category'], columns='debt', values='income_type', aggfunc='count')\n",
    "data_purpose['share'] = data_purpose[1]/(data_purpose[0]+data_purpose[1])*100\n",
    "display(data_purpose)"
   ]
  },
  {
   "cell_type": "markdown",
   "id": "950e2bae",
   "metadata": {},
   "source": [
    "##### Вывод 4:"
   ]
  },
  {
   "cell_type": "markdown",
   "id": "87b07445",
   "metadata": {},
   "source": [
    "Кредиты на получение образования и покупку автомобиля явяются самыми ненадежными. Доля просроченных кредитов более 9%\n",
    "Кредиты на проведение свадьбы и покупку недвижимости явяются более надежными. Доля просроченных кредитов 7,2-8 %."
   ]
  },
  {
   "cell_type": "markdown",
   "id": "bf1276bd",
   "metadata": {},
   "source": [
    "## Общий вывод:"
   ]
  },
  {
   "cell_type": "markdown",
   "id": "9dd81de4",
   "metadata": {},
   "source": [
    "Проведен анализ влияния семейного положения и количество детей клиента на факт погашения кредита в срок.\n",
    "\n",
    "В исходных данных было 10 % пропущенных значений уровня дохода, которые могли повлиять на результат анализа. Для снижения влияния уровень дохода был приведен к медианному значению.\n",
    "Также в столбце с количеством детей заемщика были допущены ошибки, например отрицательные значения или слишком большое количество. Отрицательные значения изменены на положительные, а количество детей 20 заменено на 2.\n",
    "Исходные данные были очищены от дублируюих записей.\n",
    "\n",
    "Для анализа заемщики были разделены на категории по количеству детей, семейному положению, уровню дохода и цели получения кредита.\n",
    "\n",
    "Меньше всего доля просроченных кредитов среди заемщиков:\n",
    "- не имеющих детей;\n",
    "- вдовцов, женатых или в разводе;\n",
    "- с уровнем дохода 30-50 тыс.;\n",
    "- с целью покупки недвижимости.\n",
    "\n",
    "Больше всего доля просроченных платежей по кредиту среди заемщиков:\n",
    "- имеющих детей;\n",
    "- не женатых, либо живущих в гражданском браке;\n",
    "- с уровнем дохода 50-200 тыс и более 1 млн.;\n",
    "- с целью приобретения автомобиля.\n"
   ]
  },
  {
   "cell_type": "code",
   "execution_count": 33,
   "id": "78efc999",
   "metadata": {},
   "outputs": [
    {
     "data": {
      "text/plain": [
       "'23.02.2022 18:17'"
      ]
     },
     "execution_count": 33,
     "metadata": {},
     "output_type": "execute_result"
    }
   ],
   "source": [
    "import datetime as dt\n",
    "dt.datetime.today().strftime(\"%d.%m.%Y %H:%M\")"
   ]
  }
 ],
 "metadata": {
  "ExecuteTimeLog": [
   {
    "duration": 719,
    "start_time": "2022-02-08T17:01:22.321Z"
   },
   {
    "duration": 1022,
    "start_time": "2022-02-08T17:01:29.249Z"
   },
   {
    "duration": 61,
    "start_time": "2022-02-08T17:01:32.723Z"
   },
   {
    "duration": 64,
    "start_time": "2022-02-08T17:01:45.426Z"
   },
   {
    "duration": 95,
    "start_time": "2022-02-08T17:20:01.784Z"
   },
   {
    "duration": 4,
    "start_time": "2022-02-08T17:21:57.977Z"
   },
   {
    "duration": 53,
    "start_time": "2022-02-08T17:21:58.046Z"
   },
   {
    "duration": 17,
    "start_time": "2022-02-08T17:21:58.102Z"
   },
   {
    "duration": 15,
    "start_time": "2022-02-08T17:22:19.596Z"
   },
   {
    "duration": 720,
    "start_time": "2022-02-09T19:37:39.851Z"
   },
   {
    "duration": 65,
    "start_time": "2022-02-09T19:37:40.574Z"
   },
   {
    "duration": 15,
    "start_time": "2022-02-09T19:37:40.642Z"
   },
   {
    "duration": 27,
    "start_time": "2022-02-09T19:37:40.659Z"
   },
   {
    "duration": 7,
    "start_time": "2022-02-09T19:58:04.739Z"
   },
   {
    "duration": 7,
    "start_time": "2022-02-09T19:58:16.099Z"
   },
   {
    "duration": 8,
    "start_time": "2022-02-09T19:59:18.745Z"
   },
   {
    "duration": 9,
    "start_time": "2022-02-09T19:59:38.653Z"
   },
   {
    "duration": 8,
    "start_time": "2022-02-09T20:21:52.002Z"
   },
   {
    "duration": 8,
    "start_time": "2022-02-09T20:22:11.391Z"
   },
   {
    "duration": 6,
    "start_time": "2022-02-09T20:24:15.887Z"
   },
   {
    "duration": 6,
    "start_time": "2022-02-09T20:25:35.344Z"
   },
   {
    "duration": 6,
    "start_time": "2022-02-09T20:25:40.460Z"
   },
   {
    "duration": 8,
    "start_time": "2022-02-09T20:26:59.238Z"
   },
   {
    "duration": 5,
    "start_time": "2022-02-09T20:27:24.578Z"
   },
   {
    "duration": 7,
    "start_time": "2022-02-09T20:27:53.303Z"
   },
   {
    "duration": 595,
    "start_time": "2022-02-10T05:47:14.793Z"
   },
   {
    "duration": 45,
    "start_time": "2022-02-10T05:47:15.390Z"
   },
   {
    "duration": 11,
    "start_time": "2022-02-10T05:47:15.437Z"
   },
   {
    "duration": 18,
    "start_time": "2022-02-10T05:47:15.450Z"
   },
   {
    "duration": 4,
    "start_time": "2022-02-10T05:47:15.470Z"
   },
   {
    "duration": 4,
    "start_time": "2022-02-10T05:47:15.476Z"
   },
   {
    "duration": 30,
    "start_time": "2022-02-10T05:47:15.482Z"
   },
   {
    "duration": 4,
    "start_time": "2022-02-10T05:47:15.515Z"
   },
   {
    "duration": 18,
    "start_time": "2022-02-10T05:49:58.455Z"
   },
   {
    "duration": 18,
    "start_time": "2022-02-10T05:50:29.206Z"
   },
   {
    "duration": 19,
    "start_time": "2022-02-10T05:51:05.266Z"
   },
   {
    "duration": 21,
    "start_time": "2022-02-10T05:51:57.738Z"
   },
   {
    "duration": 18,
    "start_time": "2022-02-10T05:52:14.863Z"
   },
   {
    "duration": 19,
    "start_time": "2022-02-10T05:52:18.444Z"
   },
   {
    "duration": 18,
    "start_time": "2022-02-10T05:57:35.053Z"
   },
   {
    "duration": 18,
    "start_time": "2022-02-10T05:57:51.752Z"
   },
   {
    "duration": 18,
    "start_time": "2022-02-10T06:02:02.770Z"
   },
   {
    "duration": 18,
    "start_time": "2022-02-10T06:02:52.670Z"
   },
   {
    "duration": 18,
    "start_time": "2022-02-10T06:03:05.508Z"
   },
   {
    "duration": 20,
    "start_time": "2022-02-10T06:04:38.106Z"
   },
   {
    "duration": 18,
    "start_time": "2022-02-10T06:05:12.285Z"
   },
   {
    "duration": 19,
    "start_time": "2022-02-10T06:05:21.369Z"
   },
   {
    "duration": 24,
    "start_time": "2022-02-10T06:07:48.850Z"
   },
   {
    "duration": 27,
    "start_time": "2022-02-10T06:08:03.407Z"
   },
   {
    "duration": 237,
    "start_time": "2022-02-10T06:08:27.596Z"
   },
   {
    "duration": 27,
    "start_time": "2022-02-10T06:08:34.332Z"
   },
   {
    "duration": 24,
    "start_time": "2022-02-10T06:14:30.275Z"
   },
   {
    "duration": 24,
    "start_time": "2022-02-10T06:14:42.400Z"
   },
   {
    "duration": 18,
    "start_time": "2022-02-10T06:15:21.371Z"
   },
   {
    "duration": 585,
    "start_time": "2022-02-14T18:04:23.728Z"
   },
   {
    "duration": 47,
    "start_time": "2022-02-14T18:04:24.315Z"
   },
   {
    "duration": 13,
    "start_time": "2022-02-14T18:04:24.364Z"
   },
   {
    "duration": 34,
    "start_time": "2022-02-14T18:04:24.380Z"
   },
   {
    "duration": 7,
    "start_time": "2022-02-14T18:04:24.417Z"
   },
   {
    "duration": 4,
    "start_time": "2022-02-14T18:04:24.427Z"
   },
   {
    "duration": 5,
    "start_time": "2022-02-14T18:04:24.433Z"
   },
   {
    "duration": 10,
    "start_time": "2022-02-14T18:04:24.440Z"
   },
   {
    "duration": 17,
    "start_time": "2022-02-14T18:04:24.452Z"
   },
   {
    "duration": 4,
    "start_time": "2022-02-14T18:04:24.471Z"
   },
   {
    "duration": 19,
    "start_time": "2022-02-14T18:10:02.900Z"
   },
   {
    "duration": 53,
    "start_time": "2022-02-14T18:10:31.289Z"
   },
   {
    "duration": 16,
    "start_time": "2022-02-14T18:11:09.165Z"
   },
   {
    "duration": 4,
    "start_time": "2022-02-14T18:26:43.058Z"
   },
   {
    "duration": 243,
    "start_time": "2022-02-14T18:30:39.355Z"
   },
   {
    "duration": 5,
    "start_time": "2022-02-14T18:33:13.420Z"
   },
   {
    "duration": 189,
    "start_time": "2022-02-14T18:36:55.312Z"
   },
   {
    "duration": 189,
    "start_time": "2022-02-14T18:45:19.841Z"
   },
   {
    "duration": 12,
    "start_time": "2022-02-14T18:57:44.152Z"
   },
   {
    "duration": 10,
    "start_time": "2022-02-14T18:58:44.807Z"
   },
   {
    "duration": 5,
    "start_time": "2022-02-14T19:02:05.613Z"
   },
   {
    "duration": 9,
    "start_time": "2022-02-14T19:03:42.359Z"
   },
   {
    "duration": 4,
    "start_time": "2022-02-14T19:04:42.175Z"
   },
   {
    "duration": 5,
    "start_time": "2022-02-14T19:05:02.984Z"
   },
   {
    "duration": 7,
    "start_time": "2022-02-14T19:05:38.070Z"
   },
   {
    "duration": 6,
    "start_time": "2022-02-14T19:21:19.012Z"
   },
   {
    "duration": 3,
    "start_time": "2022-02-14T19:21:55.756Z"
   },
   {
    "duration": 8,
    "start_time": "2022-02-14T19:22:50.094Z"
   },
   {
    "duration": 4,
    "start_time": "2022-02-14T19:23:59.778Z"
   },
   {
    "duration": 3,
    "start_time": "2022-02-14T19:30:28.183Z"
   },
   {
    "duration": 16,
    "start_time": "2022-02-14T19:30:57.424Z"
   },
   {
    "duration": 8,
    "start_time": "2022-02-14T19:32:46.807Z"
   },
   {
    "duration": 5,
    "start_time": "2022-02-14T19:33:22.693Z"
   },
   {
    "duration": 2,
    "start_time": "2022-02-14T19:35:15.631Z"
   },
   {
    "duration": 44,
    "start_time": "2022-02-14T19:35:15.639Z"
   },
   {
    "duration": 10,
    "start_time": "2022-02-14T19:35:15.685Z"
   },
   {
    "duration": 11,
    "start_time": "2022-02-14T19:35:15.697Z"
   },
   {
    "duration": 6,
    "start_time": "2022-02-14T19:35:15.709Z"
   },
   {
    "duration": 4,
    "start_time": "2022-02-14T19:35:15.716Z"
   },
   {
    "duration": 5,
    "start_time": "2022-02-14T19:35:15.721Z"
   },
   {
    "duration": 5,
    "start_time": "2022-02-14T19:35:15.727Z"
   },
   {
    "duration": 16,
    "start_time": "2022-02-14T19:35:15.733Z"
   },
   {
    "duration": 3,
    "start_time": "2022-02-14T19:35:15.751Z"
   },
   {
    "duration": 8,
    "start_time": "2022-02-14T19:35:15.755Z"
   },
   {
    "duration": 5,
    "start_time": "2022-02-14T19:35:15.764Z"
   },
   {
    "duration": 50,
    "start_time": "2022-02-14T19:35:15.770Z"
   },
   {
    "duration": 5,
    "start_time": "2022-02-14T19:35:15.821Z"
   },
   {
    "duration": 12,
    "start_time": "2022-02-14T19:35:15.828Z"
   },
   {
    "duration": 7,
    "start_time": "2022-02-14T19:35:15.841Z"
   },
   {
    "duration": 4,
    "start_time": "2022-02-14T19:35:38.362Z"
   },
   {
    "duration": 3,
    "start_time": "2022-02-14T19:35:44.020Z"
   },
   {
    "duration": 41,
    "start_time": "2022-02-14T19:35:44.033Z"
   },
   {
    "duration": 10,
    "start_time": "2022-02-14T19:35:44.075Z"
   },
   {
    "duration": 10,
    "start_time": "2022-02-14T19:35:44.087Z"
   },
   {
    "duration": 13,
    "start_time": "2022-02-14T19:35:44.099Z"
   },
   {
    "duration": 4,
    "start_time": "2022-02-14T19:35:44.114Z"
   },
   {
    "duration": 5,
    "start_time": "2022-02-14T19:35:44.119Z"
   },
   {
    "duration": 4,
    "start_time": "2022-02-14T19:35:44.125Z"
   },
   {
    "duration": 16,
    "start_time": "2022-02-14T19:35:44.130Z"
   },
   {
    "duration": 3,
    "start_time": "2022-02-14T19:35:44.148Z"
   },
   {
    "duration": 9,
    "start_time": "2022-02-14T19:35:44.152Z"
   },
   {
    "duration": 3,
    "start_time": "2022-02-14T19:35:44.162Z"
   },
   {
    "duration": 18,
    "start_time": "2022-02-14T19:35:44.166Z"
   },
   {
    "duration": 28,
    "start_time": "2022-02-14T19:35:44.185Z"
   },
   {
    "duration": 10,
    "start_time": "2022-02-14T19:35:44.214Z"
   },
   {
    "duration": 8,
    "start_time": "2022-02-14T19:35:44.226Z"
   },
   {
    "duration": 5207,
    "start_time": "2022-02-14T19:49:08.093Z"
   },
   {
    "duration": 7,
    "start_time": "2022-02-14T19:49:52.776Z"
   },
   {
    "duration": 11,
    "start_time": "2022-02-14T19:50:12.355Z"
   },
   {
    "duration": 11,
    "start_time": "2022-02-14T19:50:35.438Z"
   },
   {
    "duration": 10,
    "start_time": "2022-02-14T19:52:20.719Z"
   },
   {
    "duration": 5,
    "start_time": "2022-02-14T20:07:29.799Z"
   },
   {
    "duration": 210,
    "start_time": "2022-02-14T20:07:42.531Z"
   },
   {
    "duration": 18,
    "start_time": "2022-02-14T20:08:19.740Z"
   },
   {
    "duration": 193,
    "start_time": "2022-02-14T20:08:44.783Z"
   },
   {
    "duration": 297,
    "start_time": "2022-02-14T20:09:17.711Z"
   },
   {
    "duration": 3,
    "start_time": "2022-02-14T20:09:24.000Z"
   },
   {
    "duration": 42,
    "start_time": "2022-02-14T20:09:24.017Z"
   },
   {
    "duration": 11,
    "start_time": "2022-02-14T20:09:24.061Z"
   },
   {
    "duration": 16,
    "start_time": "2022-02-14T20:09:24.074Z"
   },
   {
    "duration": 6,
    "start_time": "2022-02-14T20:09:24.091Z"
   },
   {
    "duration": 3,
    "start_time": "2022-02-14T20:09:24.099Z"
   },
   {
    "duration": 4,
    "start_time": "2022-02-14T20:09:24.112Z"
   },
   {
    "duration": 4,
    "start_time": "2022-02-14T20:09:24.117Z"
   },
   {
    "duration": 17,
    "start_time": "2022-02-14T20:09:24.123Z"
   },
   {
    "duration": 3,
    "start_time": "2022-02-14T20:09:24.150Z"
   },
   {
    "duration": 6,
    "start_time": "2022-02-14T20:09:24.155Z"
   },
   {
    "duration": 5,
    "start_time": "2022-02-14T20:09:24.163Z"
   },
   {
    "duration": 42,
    "start_time": "2022-02-14T20:09:24.170Z"
   },
   {
    "duration": 5,
    "start_time": "2022-02-14T20:09:24.214Z"
   },
   {
    "duration": 10,
    "start_time": "2022-02-14T20:09:24.221Z"
   },
   {
    "duration": 7,
    "start_time": "2022-02-14T20:09:24.232Z"
   },
   {
    "duration": 10,
    "start_time": "2022-02-14T20:09:24.241Z"
   },
   {
    "duration": 9,
    "start_time": "2022-02-14T20:09:24.253Z"
   },
   {
    "duration": 4,
    "start_time": "2022-02-14T20:09:24.264Z"
   },
   {
    "duration": 12,
    "start_time": "2022-02-14T20:10:04.515Z"
   },
   {
    "duration": 191,
    "start_time": "2022-02-14T20:10:17.419Z"
   },
   {
    "duration": 14,
    "start_time": "2022-02-14T20:10:28.661Z"
   },
   {
    "duration": 2,
    "start_time": "2022-02-14T20:10:36.418Z"
   },
   {
    "duration": 42,
    "start_time": "2022-02-14T20:10:36.433Z"
   },
   {
    "duration": 13,
    "start_time": "2022-02-14T20:10:36.477Z"
   },
   {
    "duration": 21,
    "start_time": "2022-02-14T20:10:36.492Z"
   },
   {
    "duration": 5,
    "start_time": "2022-02-14T20:10:36.515Z"
   },
   {
    "duration": 12,
    "start_time": "2022-02-14T20:10:36.522Z"
   },
   {
    "duration": 8,
    "start_time": "2022-02-14T20:10:36.536Z"
   },
   {
    "duration": 17,
    "start_time": "2022-02-14T20:10:36.545Z"
   },
   {
    "duration": 35,
    "start_time": "2022-02-14T20:10:36.564Z"
   },
   {
    "duration": 3,
    "start_time": "2022-02-14T20:10:36.601Z"
   },
   {
    "duration": 22,
    "start_time": "2022-02-14T20:10:36.606Z"
   },
   {
    "duration": 8,
    "start_time": "2022-02-14T20:10:36.630Z"
   },
   {
    "duration": 30,
    "start_time": "2022-02-14T20:10:36.639Z"
   },
   {
    "duration": 14,
    "start_time": "2022-02-14T20:10:36.670Z"
   },
   {
    "duration": 17,
    "start_time": "2022-02-14T20:10:36.685Z"
   },
   {
    "duration": 22,
    "start_time": "2022-02-14T20:10:36.704Z"
   },
   {
    "duration": 22,
    "start_time": "2022-02-14T20:10:36.727Z"
   },
   {
    "duration": 13,
    "start_time": "2022-02-14T20:10:36.751Z"
   },
   {
    "duration": 14,
    "start_time": "2022-02-14T20:10:36.766Z"
   },
   {
    "duration": 17,
    "start_time": "2022-02-14T20:10:36.781Z"
   },
   {
    "duration": 167,
    "start_time": "2022-02-14T20:11:52.555Z"
   },
   {
    "duration": 2,
    "start_time": "2022-02-14T20:12:03.868Z"
   },
   {
    "duration": 56,
    "start_time": "2022-02-14T20:12:03.875Z"
   },
   {
    "duration": 12,
    "start_time": "2022-02-14T20:12:03.933Z"
   },
   {
    "duration": 13,
    "start_time": "2022-02-14T20:12:03.947Z"
   },
   {
    "duration": 6,
    "start_time": "2022-02-14T20:12:03.962Z"
   },
   {
    "duration": 5,
    "start_time": "2022-02-14T20:12:03.970Z"
   },
   {
    "duration": 37,
    "start_time": "2022-02-14T20:12:03.977Z"
   },
   {
    "duration": 7,
    "start_time": "2022-02-14T20:12:04.016Z"
   },
   {
    "duration": 18,
    "start_time": "2022-02-14T20:12:04.025Z"
   },
   {
    "duration": 3,
    "start_time": "2022-02-14T20:12:04.046Z"
   },
   {
    "duration": 7,
    "start_time": "2022-02-14T20:12:04.051Z"
   },
   {
    "duration": 5,
    "start_time": "2022-02-14T20:12:04.060Z"
   },
   {
    "duration": 58,
    "start_time": "2022-02-14T20:12:04.067Z"
   },
   {
    "duration": 6,
    "start_time": "2022-02-14T20:12:04.127Z"
   },
   {
    "duration": 12,
    "start_time": "2022-02-14T20:12:04.135Z"
   },
   {
    "duration": 8,
    "start_time": "2022-02-14T20:12:04.149Z"
   },
   {
    "duration": 11,
    "start_time": "2022-02-14T20:12:04.159Z"
   },
   {
    "duration": 42,
    "start_time": "2022-02-14T20:12:04.171Z"
   },
   {
    "duration": 8,
    "start_time": "2022-02-14T20:12:04.215Z"
   },
   {
    "duration": 12,
    "start_time": "2022-02-14T20:12:04.225Z"
   },
   {
    "duration": 3,
    "start_time": "2022-02-14T20:20:03.647Z"
   },
   {
    "duration": 3,
    "start_time": "2022-02-14T20:22:02.936Z"
   },
   {
    "duration": 391,
    "start_time": "2022-02-14T20:23:12.525Z"
   },
   {
    "duration": 192,
    "start_time": "2022-02-14T20:23:24.340Z"
   },
   {
    "duration": 181,
    "start_time": "2022-02-14T20:24:59.929Z"
   },
   {
    "duration": 8,
    "start_time": "2022-02-14T20:25:19.344Z"
   },
   {
    "duration": 11,
    "start_time": "2022-02-14T20:25:47.729Z"
   },
   {
    "duration": 442,
    "start_time": "2022-02-15T05:50:29.562Z"
   },
   {
    "duration": 706,
    "start_time": "2022-02-15T05:50:34.865Z"
   },
   {
    "duration": 67,
    "start_time": "2022-02-15T05:50:35.575Z"
   },
   {
    "duration": 17,
    "start_time": "2022-02-15T05:50:35.645Z"
   },
   {
    "duration": 31,
    "start_time": "2022-02-15T05:50:35.665Z"
   },
   {
    "duration": 8,
    "start_time": "2022-02-15T05:50:35.724Z"
   },
   {
    "duration": 8,
    "start_time": "2022-02-15T05:50:35.734Z"
   },
   {
    "duration": 12,
    "start_time": "2022-02-15T05:50:35.745Z"
   },
   {
    "duration": 15,
    "start_time": "2022-02-15T05:50:35.760Z"
   },
   {
    "duration": 51,
    "start_time": "2022-02-15T05:50:35.778Z"
   },
   {
    "duration": 5,
    "start_time": "2022-02-15T05:50:35.831Z"
   },
   {
    "duration": 25,
    "start_time": "2022-02-15T05:50:35.838Z"
   },
   {
    "duration": 12,
    "start_time": "2022-02-15T05:50:35.866Z"
   },
   {
    "duration": 43,
    "start_time": "2022-02-15T05:50:35.880Z"
   },
   {
    "duration": 6,
    "start_time": "2022-02-15T05:50:35.926Z"
   },
   {
    "duration": 16,
    "start_time": "2022-02-15T05:50:35.935Z"
   },
   {
    "duration": 11,
    "start_time": "2022-02-15T05:50:35.953Z"
   },
   {
    "duration": 61,
    "start_time": "2022-02-15T05:50:35.967Z"
   },
   {
    "duration": 15,
    "start_time": "2022-02-15T05:50:36.031Z"
   },
   {
    "duration": 13,
    "start_time": "2022-02-15T05:50:36.049Z"
   },
   {
    "duration": 22,
    "start_time": "2022-02-15T05:50:36.064Z"
   },
   {
    "duration": 7,
    "start_time": "2022-02-15T05:50:36.088Z"
   },
   {
    "duration": 38,
    "start_time": "2022-02-15T05:50:36.098Z"
   },
   {
    "duration": 17,
    "start_time": "2022-02-15T05:50:36.141Z"
   },
   {
    "duration": 11,
    "start_time": "2022-02-15T05:50:36.161Z"
   },
   {
    "duration": 97,
    "start_time": "2022-02-15T05:50:36.175Z"
   },
   {
    "duration": 5,
    "start_time": "2022-02-15T05:59:26.384Z"
   },
   {
    "duration": 11,
    "start_time": "2022-02-15T06:00:44.256Z"
   },
   {
    "duration": 19,
    "start_time": "2022-02-15T06:01:17.740Z"
   },
   {
    "duration": 5,
    "start_time": "2022-02-15T06:01:47.506Z"
   },
   {
    "duration": 16,
    "start_time": "2022-02-15T06:01:49.302Z"
   },
   {
    "duration": 18,
    "start_time": "2022-02-15T06:01:50.924Z"
   },
   {
    "duration": 546,
    "start_time": "2022-02-15T06:02:37.459Z"
   },
   {
    "duration": 157,
    "start_time": "2022-02-15T06:02:41.936Z"
   },
   {
    "duration": 11,
    "start_time": "2022-02-15T06:02:46.462Z"
   },
   {
    "duration": 17,
    "start_time": "2022-02-15T06:02:48.737Z"
   },
   {
    "duration": 141,
    "start_time": "2022-02-15T06:03:43.998Z"
   },
   {
    "duration": 5,
    "start_time": "2022-02-15T06:04:35.183Z"
   },
   {
    "duration": 19,
    "start_time": "2022-02-15T06:04:37.977Z"
   },
   {
    "duration": 18,
    "start_time": "2022-02-15T06:04:40.000Z"
   },
   {
    "duration": 20,
    "start_time": "2022-02-15T06:05:13.910Z"
   },
   {
    "duration": 14,
    "start_time": "2022-02-15T06:06:09.244Z"
   },
   {
    "duration": 11,
    "start_time": "2022-02-15T06:06:11.546Z"
   },
   {
    "duration": 20,
    "start_time": "2022-02-15T06:06:13.202Z"
   },
   {
    "duration": 11,
    "start_time": "2022-02-15T06:50:49.744Z"
   },
   {
    "duration": 20,
    "start_time": "2022-02-15T06:50:53.018Z"
   },
   {
    "duration": 4,
    "start_time": "2022-02-15T06:51:05.939Z"
   },
   {
    "duration": 11,
    "start_time": "2022-02-15T06:51:06.732Z"
   },
   {
    "duration": 19,
    "start_time": "2022-02-15T06:51:07.372Z"
   },
   {
    "duration": 292,
    "start_time": "2022-02-15T06:51:35.966Z"
   },
   {
    "duration": 10,
    "start_time": "2022-02-15T06:51:36.626Z"
   },
   {
    "duration": 5,
    "start_time": "2022-02-15T06:51:53.421Z"
   },
   {
    "duration": 2862,
    "start_time": "2022-02-15T06:51:54.986Z"
   },
   {
    "duration": -90,
    "start_time": "2022-02-15T06:51:57.941Z"
   },
   {
    "duration": 5,
    "start_time": "2022-02-15T06:52:15.028Z"
   },
   {
    "duration": 27,
    "start_time": "2022-02-15T06:52:17.262Z"
   },
   {
    "duration": 37,
    "start_time": "2022-02-15T06:52:18.697Z"
   },
   {
    "duration": 149,
    "start_time": "2022-02-15T06:53:29.308Z"
   },
   {
    "duration": 8,
    "start_time": "2022-02-15T06:53:36.501Z"
   },
   {
    "duration": 29,
    "start_time": "2022-02-15T06:53:37.521Z"
   },
   {
    "duration": 21,
    "start_time": "2022-02-15T06:53:38.474Z"
   },
   {
    "duration": 5,
    "start_time": "2022-02-15T06:53:54.225Z"
   },
   {
    "duration": 18,
    "start_time": "2022-02-15T06:53:56.161Z"
   },
   {
    "duration": 20,
    "start_time": "2022-02-15T06:54:03.760Z"
   },
   {
    "duration": 144,
    "start_time": "2022-02-15T07:04:07.220Z"
   },
   {
    "duration": 5,
    "start_time": "2022-02-15T07:04:14.586Z"
   },
   {
    "duration": 13,
    "start_time": "2022-02-15T07:04:15.644Z"
   },
   {
    "duration": 20,
    "start_time": "2022-02-15T07:04:16.566Z"
   },
   {
    "duration": 697,
    "start_time": "2022-02-15T16:21:31.393Z"
   },
   {
    "duration": 60,
    "start_time": "2022-02-15T16:21:32.092Z"
   },
   {
    "duration": 13,
    "start_time": "2022-02-15T16:21:32.155Z"
   },
   {
    "duration": 26,
    "start_time": "2022-02-15T16:21:32.170Z"
   },
   {
    "duration": 15,
    "start_time": "2022-02-15T16:21:32.198Z"
   },
   {
    "duration": 30,
    "start_time": "2022-02-15T16:21:32.215Z"
   },
   {
    "duration": 61,
    "start_time": "2022-02-15T16:21:32.246Z"
   },
   {
    "duration": 19,
    "start_time": "2022-02-15T16:21:32.310Z"
   },
   {
    "duration": 35,
    "start_time": "2022-02-15T16:21:32.332Z"
   },
   {
    "duration": 4,
    "start_time": "2022-02-15T16:21:32.369Z"
   },
   {
    "duration": 23,
    "start_time": "2022-02-15T16:21:32.375Z"
   },
   {
    "duration": 14,
    "start_time": "2022-02-15T16:21:32.400Z"
   },
   {
    "duration": 41,
    "start_time": "2022-02-15T16:21:32.420Z"
   },
   {
    "duration": 5,
    "start_time": "2022-02-15T16:21:32.463Z"
   },
   {
    "duration": 27,
    "start_time": "2022-02-15T16:21:32.471Z"
   },
   {
    "duration": 16,
    "start_time": "2022-02-15T16:21:32.500Z"
   },
   {
    "duration": 23,
    "start_time": "2022-02-15T16:21:32.519Z"
   },
   {
    "duration": 21,
    "start_time": "2022-02-15T16:21:32.544Z"
   },
   {
    "duration": 18,
    "start_time": "2022-02-15T16:21:32.567Z"
   },
   {
    "duration": 44,
    "start_time": "2022-02-15T16:21:32.587Z"
   },
   {
    "duration": 16,
    "start_time": "2022-02-15T16:21:32.633Z"
   },
   {
    "duration": 29,
    "start_time": "2022-02-15T16:21:32.651Z"
   },
   {
    "duration": 21,
    "start_time": "2022-02-15T16:21:32.683Z"
   },
   {
    "duration": 26,
    "start_time": "2022-02-15T16:21:32.706Z"
   },
   {
    "duration": 14,
    "start_time": "2022-02-15T16:21:32.734Z"
   },
   {
    "duration": 19,
    "start_time": "2022-02-15T16:21:32.750Z"
   },
   {
    "duration": 26,
    "start_time": "2022-02-15T16:21:32.771Z"
   },
   {
    "duration": 319,
    "start_time": "2022-02-15T16:27:23.210Z"
   },
   {
    "duration": 257,
    "start_time": "2022-02-15T16:27:43.125Z"
   },
   {
    "duration": 96,
    "start_time": "2022-02-15T16:29:42.337Z"
   },
   {
    "duration": 20,
    "start_time": "2022-02-15T16:29:52.846Z"
   },
   {
    "duration": 3,
    "start_time": "2022-02-15T16:33:32.443Z"
   },
   {
    "duration": 18,
    "start_time": "2022-02-15T16:35:08.557Z"
   },
   {
    "duration": 4660,
    "start_time": "2022-02-15T16:40:23.475Z"
   },
   {
    "duration": 4757,
    "start_time": "2022-02-15T16:40:44.606Z"
   },
   {
    "duration": 27,
    "start_time": "2022-02-15T16:40:58.330Z"
   },
   {
    "duration": 668,
    "start_time": "2022-02-15T16:45:03.267Z"
   },
   {
    "duration": 711,
    "start_time": "2022-02-15T16:45:46.327Z"
   },
   {
    "duration": 22,
    "start_time": "2022-02-15T16:46:11.860Z"
   },
   {
    "duration": 6221,
    "start_time": "2022-02-15T16:49:36.335Z"
   },
   {
    "duration": 6065,
    "start_time": "2022-02-15T16:50:47.058Z"
   },
   {
    "duration": 6333,
    "start_time": "2022-02-15T16:51:28.737Z"
   },
   {
    "duration": 22,
    "start_time": "2022-02-15T16:52:06.049Z"
   },
   {
    "duration": 121,
    "start_time": "2022-02-15T16:53:52.149Z"
   },
   {
    "duration": 23,
    "start_time": "2022-02-15T16:56:31.191Z"
   },
   {
    "duration": 23,
    "start_time": "2022-02-15T17:01:30.734Z"
   },
   {
    "duration": 3,
    "start_time": "2022-02-15T17:25:41.406Z"
   },
   {
    "duration": 96,
    "start_time": "2022-02-15T17:25:41.415Z"
   },
   {
    "duration": 15,
    "start_time": "2022-02-15T17:25:41.514Z"
   },
   {
    "duration": 45,
    "start_time": "2022-02-15T17:25:41.532Z"
   },
   {
    "duration": 27,
    "start_time": "2022-02-15T17:25:41.580Z"
   },
   {
    "duration": 44,
    "start_time": "2022-02-15T17:25:41.609Z"
   },
   {
    "duration": 23,
    "start_time": "2022-02-15T17:25:41.655Z"
   },
   {
    "duration": 24,
    "start_time": "2022-02-15T17:25:41.680Z"
   },
   {
    "duration": 47,
    "start_time": "2022-02-15T17:25:41.706Z"
   },
   {
    "duration": 7,
    "start_time": "2022-02-15T17:25:41.756Z"
   },
   {
    "duration": 27,
    "start_time": "2022-02-15T17:25:41.765Z"
   },
   {
    "duration": 18,
    "start_time": "2022-02-15T17:25:41.794Z"
   },
   {
    "duration": 49,
    "start_time": "2022-02-15T17:25:41.815Z"
   },
   {
    "duration": 5,
    "start_time": "2022-02-15T17:25:41.866Z"
   },
   {
    "duration": 32,
    "start_time": "2022-02-15T17:25:41.872Z"
   },
   {
    "duration": 33,
    "start_time": "2022-02-15T17:25:41.906Z"
   },
   {
    "duration": 30,
    "start_time": "2022-02-15T17:25:41.941Z"
   },
   {
    "duration": 24,
    "start_time": "2022-02-15T17:25:41.973Z"
   },
   {
    "duration": 30,
    "start_time": "2022-02-15T17:25:41.999Z"
   },
   {
    "duration": 35,
    "start_time": "2022-02-15T17:25:42.032Z"
   },
   {
    "duration": 23,
    "start_time": "2022-02-15T17:25:42.069Z"
   },
   {
    "duration": 37,
    "start_time": "2022-02-15T17:25:42.094Z"
   },
   {
    "duration": 32,
    "start_time": "2022-02-15T17:25:42.134Z"
   },
   {
    "duration": 16,
    "start_time": "2022-02-15T17:25:42.168Z"
   },
   {
    "duration": 35,
    "start_time": "2022-02-15T17:25:42.186Z"
   },
   {
    "duration": 43,
    "start_time": "2022-02-15T17:25:42.224Z"
   },
   {
    "duration": 38,
    "start_time": "2022-02-15T17:25:42.269Z"
   },
   {
    "duration": 30,
    "start_time": "2022-02-15T17:25:42.311Z"
   },
   {
    "duration": 32,
    "start_time": "2022-02-15T17:25:42.344Z"
   },
   {
    "duration": 38,
    "start_time": "2022-02-15T17:25:42.378Z"
   },
   {
    "duration": 66,
    "start_time": "2022-02-15T17:25:42.418Z"
   },
   {
    "duration": 3,
    "start_time": "2022-02-15T17:31:45.236Z"
   },
   {
    "duration": 56,
    "start_time": "2022-02-15T17:31:45.243Z"
   },
   {
    "duration": 15,
    "start_time": "2022-02-15T17:31:45.301Z"
   },
   {
    "duration": 26,
    "start_time": "2022-02-15T17:31:45.318Z"
   },
   {
    "duration": 21,
    "start_time": "2022-02-15T17:31:45.346Z"
   },
   {
    "duration": 19,
    "start_time": "2022-02-15T17:31:45.369Z"
   },
   {
    "duration": 12,
    "start_time": "2022-02-15T17:31:45.391Z"
   },
   {
    "duration": 22,
    "start_time": "2022-02-15T17:31:45.405Z"
   },
   {
    "duration": 29,
    "start_time": "2022-02-15T17:31:45.430Z"
   },
   {
    "duration": 276,
    "start_time": "2022-02-15T17:31:45.464Z"
   },
   {
    "duration": 448,
    "start_time": "2022-02-15T17:31:45.296Z"
   },
   {
    "duration": 445,
    "start_time": "2022-02-15T17:31:45.300Z"
   },
   {
    "duration": 444,
    "start_time": "2022-02-15T17:31:45.303Z"
   },
   {
    "duration": 443,
    "start_time": "2022-02-15T17:31:45.305Z"
   },
   {
    "duration": 443,
    "start_time": "2022-02-15T17:31:45.307Z"
   },
   {
    "duration": 442,
    "start_time": "2022-02-15T17:31:45.309Z"
   },
   {
    "duration": 370,
    "start_time": "2022-02-15T17:31:45.382Z"
   },
   {
    "duration": 366,
    "start_time": "2022-02-15T17:31:45.388Z"
   },
   {
    "duration": 366,
    "start_time": "2022-02-15T17:31:45.390Z"
   },
   {
    "duration": 365,
    "start_time": "2022-02-15T17:31:45.392Z"
   },
   {
    "duration": 364,
    "start_time": "2022-02-15T17:31:45.394Z"
   },
   {
    "duration": 364,
    "start_time": "2022-02-15T17:31:45.396Z"
   },
   {
    "duration": 363,
    "start_time": "2022-02-15T17:31:45.398Z"
   },
   {
    "duration": 364,
    "start_time": "2022-02-15T17:31:45.399Z"
   },
   {
    "duration": 362,
    "start_time": "2022-02-15T17:31:45.402Z"
   },
   {
    "duration": 361,
    "start_time": "2022-02-15T17:31:45.404Z"
   },
   {
    "duration": 362,
    "start_time": "2022-02-15T17:31:45.405Z"
   },
   {
    "duration": 361,
    "start_time": "2022-02-15T17:31:45.407Z"
   },
   {
    "duration": 361,
    "start_time": "2022-02-15T17:31:45.408Z"
   },
   {
    "duration": 361,
    "start_time": "2022-02-15T17:31:45.410Z"
   },
   {
    "duration": 361,
    "start_time": "2022-02-15T17:31:45.411Z"
   },
   {
    "duration": 4,
    "start_time": "2022-02-15T17:32:00.263Z"
   },
   {
    "duration": 66,
    "start_time": "2022-02-15T17:32:00.273Z"
   },
   {
    "duration": 12,
    "start_time": "2022-02-15T17:32:00.342Z"
   },
   {
    "duration": 25,
    "start_time": "2022-02-15T17:32:00.356Z"
   },
   {
    "duration": 17,
    "start_time": "2022-02-15T17:32:00.384Z"
   },
   {
    "duration": 15,
    "start_time": "2022-02-15T17:32:00.408Z"
   },
   {
    "duration": 22,
    "start_time": "2022-02-15T17:32:00.425Z"
   },
   {
    "duration": 26,
    "start_time": "2022-02-15T17:32:00.450Z"
   },
   {
    "duration": 44,
    "start_time": "2022-02-15T17:32:00.478Z"
   },
   {
    "duration": 251,
    "start_time": "2022-02-15T17:32:00.526Z"
   },
   {
    "duration": 432,
    "start_time": "2022-02-15T17:32:00.347Z"
   },
   {
    "duration": 431,
    "start_time": "2022-02-15T17:32:00.349Z"
   },
   {
    "duration": 428,
    "start_time": "2022-02-15T17:32:00.353Z"
   },
   {
    "duration": 428,
    "start_time": "2022-02-15T17:32:00.354Z"
   },
   {
    "duration": 427,
    "start_time": "2022-02-15T17:32:00.356Z"
   },
   {
    "duration": 428,
    "start_time": "2022-02-15T17:32:00.357Z"
   },
   {
    "duration": 427,
    "start_time": "2022-02-15T17:32:00.359Z"
   },
   {
    "duration": 371,
    "start_time": "2022-02-15T17:32:00.416Z"
   },
   {
    "duration": 370,
    "start_time": "2022-02-15T17:32:00.418Z"
   },
   {
    "duration": 367,
    "start_time": "2022-02-15T17:32:00.422Z"
   },
   {
    "duration": 366,
    "start_time": "2022-02-15T17:32:00.424Z"
   },
   {
    "duration": 367,
    "start_time": "2022-02-15T17:32:00.425Z"
   },
   {
    "duration": 366,
    "start_time": "2022-02-15T17:32:00.427Z"
   },
   {
    "duration": 366,
    "start_time": "2022-02-15T17:32:00.428Z"
   },
   {
    "duration": 365,
    "start_time": "2022-02-15T17:32:00.429Z"
   },
   {
    "duration": 366,
    "start_time": "2022-02-15T17:32:00.430Z"
   },
   {
    "duration": 364,
    "start_time": "2022-02-15T17:32:00.432Z"
   },
   {
    "duration": 365,
    "start_time": "2022-02-15T17:32:00.433Z"
   },
   {
    "duration": 364,
    "start_time": "2022-02-15T17:32:00.435Z"
   },
   {
    "duration": 364,
    "start_time": "2022-02-15T17:32:00.436Z"
   },
   {
    "duration": 363,
    "start_time": "2022-02-15T17:32:00.438Z"
   },
   {
    "duration": 8,
    "start_time": "2022-02-15T17:35:16.476Z"
   },
   {
    "duration": 9,
    "start_time": "2022-02-15T17:35:30.554Z"
   },
   {
    "duration": 2,
    "start_time": "2022-02-15T17:35:42.695Z"
   },
   {
    "duration": 55,
    "start_time": "2022-02-15T17:35:42.704Z"
   },
   {
    "duration": 12,
    "start_time": "2022-02-15T17:35:42.761Z"
   },
   {
    "duration": 14,
    "start_time": "2022-02-15T17:35:42.775Z"
   },
   {
    "duration": 19,
    "start_time": "2022-02-15T17:35:42.791Z"
   },
   {
    "duration": 8,
    "start_time": "2022-02-15T17:35:42.816Z"
   },
   {
    "duration": 9,
    "start_time": "2022-02-15T17:35:42.826Z"
   },
   {
    "duration": 10,
    "start_time": "2022-02-15T17:35:42.837Z"
   },
   {
    "duration": 25,
    "start_time": "2022-02-15T17:35:42.849Z"
   },
   {
    "duration": 32,
    "start_time": "2022-02-15T17:35:42.876Z"
   },
   {
    "duration": 7,
    "start_time": "2022-02-15T17:35:42.911Z"
   },
   {
    "duration": 14,
    "start_time": "2022-02-15T17:35:42.921Z"
   },
   {
    "duration": 34,
    "start_time": "2022-02-15T17:35:42.937Z"
   },
   {
    "duration": 5,
    "start_time": "2022-02-15T17:35:42.973Z"
   },
   {
    "duration": 32,
    "start_time": "2022-02-15T17:35:42.981Z"
   },
   {
    "duration": 13,
    "start_time": "2022-02-15T17:35:43.016Z"
   },
   {
    "duration": 23,
    "start_time": "2022-02-15T17:35:43.031Z"
   },
   {
    "duration": 18,
    "start_time": "2022-02-15T17:35:43.056Z"
   },
   {
    "duration": 9,
    "start_time": "2022-02-15T17:35:43.077Z"
   },
   {
    "duration": 46,
    "start_time": "2022-02-15T17:35:43.088Z"
   },
   {
    "duration": 8,
    "start_time": "2022-02-15T17:35:43.137Z"
   },
   {
    "duration": 21,
    "start_time": "2022-02-15T17:35:43.147Z"
   },
   {
    "duration": 27,
    "start_time": "2022-02-15T17:35:43.171Z"
   },
   {
    "duration": 20,
    "start_time": "2022-02-15T17:35:43.200Z"
   },
   {
    "duration": 8,
    "start_time": "2022-02-15T17:35:43.222Z"
   },
   {
    "duration": 17,
    "start_time": "2022-02-15T17:35:43.231Z"
   },
   {
    "duration": 23,
    "start_time": "2022-02-15T17:35:43.251Z"
   },
   {
    "duration": 41,
    "start_time": "2022-02-15T17:35:43.276Z"
   },
   {
    "duration": 32,
    "start_time": "2022-02-15T17:35:43.318Z"
   },
   {
    "duration": 21,
    "start_time": "2022-02-15T17:35:43.354Z"
   },
   {
    "duration": 45,
    "start_time": "2022-02-15T17:35:43.377Z"
   },
   {
    "duration": 84,
    "start_time": "2022-02-15T17:36:39.515Z"
   },
   {
    "duration": 14,
    "start_time": "2022-02-15T17:44:02.035Z"
   },
   {
    "duration": 20,
    "start_time": "2022-02-15T17:47:10.483Z"
   },
   {
    "duration": 26,
    "start_time": "2022-02-15T17:48:11.897Z"
   },
   {
    "duration": 24,
    "start_time": "2022-02-15T17:48:31.219Z"
   },
   {
    "duration": 24,
    "start_time": "2022-02-15T18:00:54.485Z"
   },
   {
    "duration": 26,
    "start_time": "2022-02-15T18:10:51.658Z"
   },
   {
    "duration": 27,
    "start_time": "2022-02-15T18:23:54.703Z"
   },
   {
    "duration": 4,
    "start_time": "2022-02-15T18:29:21.386Z"
   },
   {
    "duration": 63,
    "start_time": "2022-02-15T18:29:21.398Z"
   },
   {
    "duration": 12,
    "start_time": "2022-02-15T18:29:21.463Z"
   },
   {
    "duration": 32,
    "start_time": "2022-02-15T18:29:21.478Z"
   },
   {
    "duration": 31,
    "start_time": "2022-02-15T18:29:21.513Z"
   },
   {
    "duration": 13,
    "start_time": "2022-02-15T18:29:21.546Z"
   },
   {
    "duration": 8,
    "start_time": "2022-02-15T18:29:21.561Z"
   },
   {
    "duration": 9,
    "start_time": "2022-02-15T18:29:21.571Z"
   },
   {
    "duration": 33,
    "start_time": "2022-02-15T18:29:21.582Z"
   },
   {
    "duration": 16,
    "start_time": "2022-02-15T18:29:21.622Z"
   },
   {
    "duration": 18,
    "start_time": "2022-02-15T18:29:21.641Z"
   },
   {
    "duration": 337,
    "start_time": "2022-02-15T18:29:21.661Z"
   },
   {
    "duration": 415,
    "start_time": "2022-02-15T18:29:21.585Z"
   },
   {
    "duration": 411,
    "start_time": "2022-02-15T18:29:21.590Z"
   },
   {
    "duration": 409,
    "start_time": "2022-02-15T18:29:21.593Z"
   },
   {
    "duration": 408,
    "start_time": "2022-02-15T18:29:21.596Z"
   },
   {
    "duration": 407,
    "start_time": "2022-02-15T18:29:21.598Z"
   },
   {
    "duration": 406,
    "start_time": "2022-02-15T18:29:21.600Z"
   },
   {
    "duration": 406,
    "start_time": "2022-02-15T18:29:21.601Z"
   },
   {
    "duration": 405,
    "start_time": "2022-02-15T18:29:21.603Z"
   },
   {
    "duration": 407,
    "start_time": "2022-02-15T18:29:21.604Z"
   },
   {
    "duration": 408,
    "start_time": "2022-02-15T18:29:21.605Z"
   },
   {
    "duration": 408,
    "start_time": "2022-02-15T18:29:21.607Z"
   },
   {
    "duration": 408,
    "start_time": "2022-02-15T18:29:21.609Z"
   },
   {
    "duration": 407,
    "start_time": "2022-02-15T18:29:21.611Z"
   },
   {
    "duration": 408,
    "start_time": "2022-02-15T18:29:21.613Z"
   },
   {
    "duration": 409,
    "start_time": "2022-02-15T18:29:21.615Z"
   },
   {
    "duration": 410,
    "start_time": "2022-02-15T18:29:21.617Z"
   },
   {
    "duration": 410,
    "start_time": "2022-02-15T18:29:21.619Z"
   },
   {
    "duration": 410,
    "start_time": "2022-02-15T18:29:21.620Z"
   },
   {
    "duration": 411,
    "start_time": "2022-02-15T18:29:21.621Z"
   },
   {
    "duration": 3,
    "start_time": "2022-02-15T18:30:05.464Z"
   },
   {
    "duration": 68,
    "start_time": "2022-02-15T18:30:05.473Z"
   },
   {
    "duration": 14,
    "start_time": "2022-02-15T18:30:05.544Z"
   },
   {
    "duration": 48,
    "start_time": "2022-02-15T18:30:05.562Z"
   },
   {
    "duration": 9,
    "start_time": "2022-02-15T18:30:05.617Z"
   },
   {
    "duration": 31,
    "start_time": "2022-02-15T18:30:05.628Z"
   },
   {
    "duration": 9,
    "start_time": "2022-02-15T18:30:05.662Z"
   },
   {
    "duration": 34,
    "start_time": "2022-02-15T18:30:05.673Z"
   },
   {
    "duration": 51,
    "start_time": "2022-02-15T18:30:05.710Z"
   },
   {
    "duration": 8,
    "start_time": "2022-02-15T18:30:05.764Z"
   },
   {
    "duration": 18,
    "start_time": "2022-02-15T18:30:05.774Z"
   },
   {
    "duration": 12,
    "start_time": "2022-02-15T18:30:05.793Z"
   },
   {
    "duration": 62,
    "start_time": "2022-02-15T18:30:05.807Z"
   },
   {
    "duration": 6,
    "start_time": "2022-02-15T18:30:05.871Z"
   },
   {
    "duration": 41,
    "start_time": "2022-02-15T18:30:05.878Z"
   },
   {
    "duration": 30,
    "start_time": "2022-02-15T18:30:05.922Z"
   },
   {
    "duration": 34,
    "start_time": "2022-02-15T18:30:05.954Z"
   },
   {
    "duration": 13,
    "start_time": "2022-02-15T18:30:05.991Z"
   },
   {
    "duration": 11,
    "start_time": "2022-02-15T18:30:06.009Z"
   },
   {
    "duration": 36,
    "start_time": "2022-02-15T18:30:06.023Z"
   },
   {
    "duration": 11,
    "start_time": "2022-02-15T18:30:06.061Z"
   },
   {
    "duration": 54,
    "start_time": "2022-02-15T18:30:06.074Z"
   },
   {
    "duration": 36,
    "start_time": "2022-02-15T18:30:06.131Z"
   },
   {
    "duration": 26,
    "start_time": "2022-02-15T18:30:06.169Z"
   },
   {
    "duration": 14,
    "start_time": "2022-02-15T18:30:06.197Z"
   },
   {
    "duration": 56,
    "start_time": "2022-02-15T18:30:06.214Z"
   },
   {
    "duration": 26,
    "start_time": "2022-02-15T18:30:06.272Z"
   },
   {
    "duration": 63,
    "start_time": "2022-02-15T18:30:06.301Z"
   },
   {
    "duration": 25,
    "start_time": "2022-02-15T18:30:06.367Z"
   },
   {
    "duration": 38,
    "start_time": "2022-02-15T18:30:06.394Z"
   },
   {
    "duration": 31,
    "start_time": "2022-02-15T18:30:06.440Z"
   },
   {
    "duration": 3,
    "start_time": "2022-02-15T18:30:55.200Z"
   },
   {
    "duration": 79,
    "start_time": "2022-02-15T18:30:55.211Z"
   },
   {
    "duration": 13,
    "start_time": "2022-02-15T18:30:55.292Z"
   },
   {
    "duration": 40,
    "start_time": "2022-02-15T18:30:55.307Z"
   },
   {
    "duration": 19,
    "start_time": "2022-02-15T18:30:55.349Z"
   },
   {
    "duration": 12,
    "start_time": "2022-02-15T18:30:55.370Z"
   },
   {
    "duration": 9,
    "start_time": "2022-02-15T18:30:55.384Z"
   },
   {
    "duration": 11,
    "start_time": "2022-02-15T18:30:55.395Z"
   },
   {
    "duration": 53,
    "start_time": "2022-02-15T18:30:55.410Z"
   },
   {
    "duration": 8,
    "start_time": "2022-02-15T18:30:55.465Z"
   },
   {
    "duration": 16,
    "start_time": "2022-02-15T18:30:55.475Z"
   },
   {
    "duration": 6,
    "start_time": "2022-02-15T18:30:55.493Z"
   },
   {
    "duration": 58,
    "start_time": "2022-02-15T18:30:55.501Z"
   },
   {
    "duration": 6,
    "start_time": "2022-02-15T18:30:55.561Z"
   },
   {
    "duration": 20,
    "start_time": "2022-02-15T18:30:55.569Z"
   },
   {
    "duration": 33,
    "start_time": "2022-02-15T18:30:55.591Z"
   },
   {
    "duration": 46,
    "start_time": "2022-02-15T18:30:55.627Z"
   },
   {
    "duration": 13,
    "start_time": "2022-02-15T18:30:55.675Z"
   },
   {
    "duration": 29,
    "start_time": "2022-02-15T18:30:55.690Z"
   },
   {
    "duration": 47,
    "start_time": "2022-02-15T18:30:55.722Z"
   },
   {
    "duration": 28,
    "start_time": "2022-02-15T18:30:55.771Z"
   },
   {
    "duration": 52,
    "start_time": "2022-02-15T18:30:55.802Z"
   },
   {
    "duration": 38,
    "start_time": "2022-02-15T18:30:55.856Z"
   },
   {
    "duration": 63,
    "start_time": "2022-02-15T18:30:55.897Z"
   },
   {
    "duration": 27,
    "start_time": "2022-02-15T18:30:55.962Z"
   },
   {
    "duration": 58,
    "start_time": "2022-02-15T18:30:55.991Z"
   },
   {
    "duration": 35,
    "start_time": "2022-02-15T18:30:56.052Z"
   },
   {
    "duration": 47,
    "start_time": "2022-02-15T18:30:56.089Z"
   },
   {
    "duration": 26,
    "start_time": "2022-02-15T18:30:56.138Z"
   },
   {
    "duration": 23,
    "start_time": "2022-02-15T18:30:56.166Z"
   },
   {
    "duration": 45,
    "start_time": "2022-02-15T18:30:56.192Z"
   },
   {
    "duration": 24,
    "start_time": "2022-02-15T18:35:17.139Z"
   },
   {
    "duration": 38,
    "start_time": "2022-02-15T18:58:19.258Z"
   },
   {
    "duration": 4682,
    "start_time": "2022-02-15T19:00:32.795Z"
   },
   {
    "duration": 4576,
    "start_time": "2022-02-15T19:00:48.518Z"
   },
   {
    "duration": 644,
    "start_time": "2022-02-15T19:01:33.449Z"
   },
   {
    "duration": 657,
    "start_time": "2022-02-23T09:34:53.116Z"
   },
   {
    "duration": 54,
    "start_time": "2022-02-23T09:34:53.775Z"
   },
   {
    "duration": 12,
    "start_time": "2022-02-23T09:34:53.835Z"
   },
   {
    "duration": 39,
    "start_time": "2022-02-23T09:34:53.849Z"
   },
   {
    "duration": 29,
    "start_time": "2022-02-23T09:34:53.889Z"
   },
   {
    "duration": 16,
    "start_time": "2022-02-23T09:34:53.920Z"
   },
   {
    "duration": 17,
    "start_time": "2022-02-23T09:34:53.939Z"
   },
   {
    "duration": 19,
    "start_time": "2022-02-23T09:34:53.959Z"
   },
   {
    "duration": 37,
    "start_time": "2022-02-23T09:34:53.981Z"
   },
   {
    "duration": 7,
    "start_time": "2022-02-23T09:34:54.020Z"
   },
   {
    "duration": 17,
    "start_time": "2022-02-23T09:34:54.028Z"
   },
   {
    "duration": 10,
    "start_time": "2022-02-23T09:34:54.047Z"
   },
   {
    "duration": 29,
    "start_time": "2022-02-23T09:34:54.059Z"
   },
   {
    "duration": 8,
    "start_time": "2022-02-23T09:34:54.090Z"
   },
   {
    "duration": 39,
    "start_time": "2022-02-23T09:34:54.100Z"
   },
   {
    "duration": 24,
    "start_time": "2022-02-23T09:34:54.142Z"
   },
   {
    "duration": 30,
    "start_time": "2022-02-23T09:34:54.169Z"
   },
   {
    "duration": 34,
    "start_time": "2022-02-23T09:34:54.202Z"
   },
   {
    "duration": 11,
    "start_time": "2022-02-23T09:34:54.238Z"
   },
   {
    "duration": 33,
    "start_time": "2022-02-23T09:34:54.252Z"
   },
   {
    "duration": 41,
    "start_time": "2022-02-23T09:34:54.287Z"
   },
   {
    "duration": 40,
    "start_time": "2022-02-23T09:34:54.331Z"
   },
   {
    "duration": 37,
    "start_time": "2022-02-23T09:34:54.373Z"
   },
   {
    "duration": 35,
    "start_time": "2022-02-23T09:34:54.412Z"
   },
   {
    "duration": 15,
    "start_time": "2022-02-23T09:34:54.449Z"
   },
   {
    "duration": 47,
    "start_time": "2022-02-23T09:34:54.466Z"
   },
   {
    "duration": 57,
    "start_time": "2022-02-23T09:34:54.515Z"
   },
   {
    "duration": 47,
    "start_time": "2022-02-23T09:34:54.574Z"
   },
   {
    "duration": 37,
    "start_time": "2022-02-23T09:34:54.623Z"
   },
   {
    "duration": 22,
    "start_time": "2022-02-23T09:34:54.662Z"
   },
   {
    "duration": 50,
    "start_time": "2022-02-23T09:34:54.686Z"
   },
   {
    "duration": 26,
    "start_time": "2022-02-23T09:34:54.738Z"
   },
   {
    "duration": 703,
    "start_time": "2022-02-23T10:03:51.176Z"
   },
   {
    "duration": 57,
    "start_time": "2022-02-23T10:03:51.882Z"
   },
   {
    "duration": 13,
    "start_time": "2022-02-23T10:03:51.941Z"
   },
   {
    "duration": 26,
    "start_time": "2022-02-23T10:03:51.956Z"
   },
   {
    "duration": 13,
    "start_time": "2022-02-23T10:03:51.984Z"
   },
   {
    "duration": 9,
    "start_time": "2022-02-23T10:03:51.999Z"
   },
   {
    "duration": 4,
    "start_time": "2022-02-23T10:03:52.010Z"
   },
   {
    "duration": 7,
    "start_time": "2022-02-23T10:03:52.017Z"
   },
   {
    "duration": 51,
    "start_time": "2022-02-23T10:03:52.026Z"
   },
   {
    "duration": 7,
    "start_time": "2022-02-23T10:03:52.080Z"
   },
   {
    "duration": 16,
    "start_time": "2022-02-23T10:03:52.089Z"
   },
   {
    "duration": 8,
    "start_time": "2022-02-23T10:03:52.107Z"
   },
   {
    "duration": 27,
    "start_time": "2022-02-23T10:03:52.117Z"
   },
   {
    "duration": 6,
    "start_time": "2022-02-23T10:03:52.146Z"
   },
   {
    "duration": 19,
    "start_time": "2022-02-23T10:03:52.170Z"
   },
   {
    "duration": 13,
    "start_time": "2022-02-23T10:03:52.191Z"
   },
   {
    "duration": 14,
    "start_time": "2022-02-23T10:03:52.207Z"
   },
   {
    "duration": 13,
    "start_time": "2022-02-23T10:03:52.224Z"
   },
   {
    "duration": 9,
    "start_time": "2022-02-23T10:03:52.270Z"
   },
   {
    "duration": 20,
    "start_time": "2022-02-23T10:03:52.281Z"
   },
   {
    "duration": 17,
    "start_time": "2022-02-23T10:03:52.303Z"
   },
   {
    "duration": 18,
    "start_time": "2022-02-23T10:03:52.322Z"
   },
   {
    "duration": 29,
    "start_time": "2022-02-23T10:03:52.344Z"
   },
   {
    "duration": 12,
    "start_time": "2022-02-23T10:03:52.375Z"
   },
   {
    "duration": 8,
    "start_time": "2022-02-23T10:03:52.389Z"
   },
   {
    "duration": 30,
    "start_time": "2022-02-23T10:03:52.400Z"
   },
   {
    "duration": 20,
    "start_time": "2022-02-23T10:03:52.432Z"
   },
   {
    "duration": 35,
    "start_time": "2022-02-23T10:03:52.454Z"
   },
   {
    "duration": 34,
    "start_time": "2022-02-23T10:03:52.492Z"
   },
   {
    "duration": 52,
    "start_time": "2022-02-23T10:03:52.528Z"
   },
   {
    "duration": 32,
    "start_time": "2022-02-23T10:03:52.582Z"
   },
   {
    "duration": 4,
    "start_time": "2022-02-23T10:03:52.617Z"
   },
   {
    "duration": 251,
    "start_time": "2022-02-23T16:56:11.869Z"
   },
   {
    "duration": 605,
    "start_time": "2022-02-23T16:56:21.026Z"
   },
   {
    "duration": 46,
    "start_time": "2022-02-23T16:56:21.633Z"
   },
   {
    "duration": 11,
    "start_time": "2022-02-23T16:56:21.681Z"
   },
   {
    "duration": 18,
    "start_time": "2022-02-23T16:56:21.694Z"
   },
   {
    "duration": 10,
    "start_time": "2022-02-23T16:56:21.714Z"
   },
   {
    "duration": 6,
    "start_time": "2022-02-23T16:56:21.726Z"
   },
   {
    "duration": 35,
    "start_time": "2022-02-23T16:56:21.734Z"
   },
   {
    "duration": 199,
    "start_time": "2022-02-23T16:56:21.771Z"
   },
   {
    "duration": -208,
    "start_time": "2022-02-23T16:56:22.181Z"
   },
   {
    "duration": -240,
    "start_time": "2022-02-23T16:56:22.214Z"
   },
   {
    "duration": -276,
    "start_time": "2022-02-23T16:56:22.251Z"
   },
   {
    "duration": -302,
    "start_time": "2022-02-23T16:56:22.278Z"
   },
   {
    "duration": -329,
    "start_time": "2022-02-23T16:56:22.306Z"
   },
   {
    "duration": -434,
    "start_time": "2022-02-23T16:56:22.412Z"
   },
   {
    "duration": -466,
    "start_time": "2022-02-23T16:56:22.445Z"
   },
   {
    "duration": -495,
    "start_time": "2022-02-23T16:56:22.475Z"
   },
   {
    "duration": -518,
    "start_time": "2022-02-23T16:56:22.499Z"
   },
   {
    "duration": -547,
    "start_time": "2022-02-23T16:56:22.529Z"
   },
   {
    "duration": -570,
    "start_time": "2022-02-23T16:56:22.553Z"
   },
   {
    "duration": -589,
    "start_time": "2022-02-23T16:56:22.574Z"
   },
   {
    "duration": -613,
    "start_time": "2022-02-23T16:56:22.599Z"
   },
   {
    "duration": -633,
    "start_time": "2022-02-23T16:56:22.620Z"
   },
   {
    "duration": -682,
    "start_time": "2022-02-23T16:56:22.670Z"
   },
   {
    "duration": -703,
    "start_time": "2022-02-23T16:56:22.692Z"
   },
   {
    "duration": -725,
    "start_time": "2022-02-23T16:56:22.715Z"
   },
   {
    "duration": -749,
    "start_time": "2022-02-23T16:56:22.740Z"
   },
   {
    "duration": -771,
    "start_time": "2022-02-23T16:56:22.763Z"
   },
   {
    "duration": -792,
    "start_time": "2022-02-23T16:56:22.785Z"
   },
   {
    "duration": -815,
    "start_time": "2022-02-23T16:56:22.809Z"
   },
   {
    "duration": -833,
    "start_time": "2022-02-23T16:56:22.827Z"
   },
   {
    "duration": -856,
    "start_time": "2022-02-23T16:56:22.851Z"
   },
   {
    "duration": -876,
    "start_time": "2022-02-23T16:56:22.872Z"
   },
   {
    "duration": 7,
    "start_time": "2022-02-23T16:57:08.630Z"
   },
   {
    "duration": 24,
    "start_time": "2022-02-23T17:00:15.916Z"
   },
   {
    "duration": 5,
    "start_time": "2022-02-23T17:00:33.066Z"
   },
   {
    "duration": 3,
    "start_time": "2022-02-23T17:00:52.184Z"
   },
   {
    "duration": 43,
    "start_time": "2022-02-23T17:00:52.196Z"
   },
   {
    "duration": 11,
    "start_time": "2022-02-23T17:00:52.241Z"
   },
   {
    "duration": 13,
    "start_time": "2022-02-23T17:00:52.254Z"
   },
   {
    "duration": 7,
    "start_time": "2022-02-23T17:00:52.269Z"
   },
   {
    "duration": 5,
    "start_time": "2022-02-23T17:00:52.280Z"
   },
   {
    "duration": 7,
    "start_time": "2022-02-23T17:00:52.298Z"
   },
   {
    "duration": 6,
    "start_time": "2022-02-23T17:00:52.321Z"
   },
   {
    "duration": 20,
    "start_time": "2022-02-23T17:00:52.340Z"
   },
   {
    "duration": 7,
    "start_time": "2022-02-23T17:00:52.364Z"
   },
   {
    "duration": 6,
    "start_time": "2022-02-23T17:00:52.384Z"
   },
   {
    "duration": 4,
    "start_time": "2022-02-23T17:00:52.405Z"
   },
   {
    "duration": 20,
    "start_time": "2022-02-23T17:00:52.428Z"
   },
   {
    "duration": 5,
    "start_time": "2022-02-23T17:00:52.450Z"
   },
   {
    "duration": 13,
    "start_time": "2022-02-23T17:00:52.470Z"
   },
   {
    "duration": 11,
    "start_time": "2022-02-23T17:00:52.485Z"
   },
   {
    "duration": 14,
    "start_time": "2022-02-23T17:00:52.504Z"
   },
   {
    "duration": 14,
    "start_time": "2022-02-23T17:00:52.523Z"
   },
   {
    "duration": 7,
    "start_time": "2022-02-23T17:00:52.539Z"
   },
   {
    "duration": 13,
    "start_time": "2022-02-23T17:00:52.562Z"
   },
   {
    "duration": 4,
    "start_time": "2022-02-23T17:00:52.579Z"
   },
   {
    "duration": 12,
    "start_time": "2022-02-23T17:00:52.597Z"
   },
   {
    "duration": 12,
    "start_time": "2022-02-23T17:00:52.614Z"
   },
   {
    "duration": 8,
    "start_time": "2022-02-23T17:00:52.637Z"
   },
   {
    "duration": 4,
    "start_time": "2022-02-23T17:00:52.659Z"
   },
   {
    "duration": 12,
    "start_time": "2022-02-23T17:00:52.672Z"
   },
   {
    "duration": 14,
    "start_time": "2022-02-23T17:00:52.690Z"
   },
   {
    "duration": 25,
    "start_time": "2022-02-23T17:00:52.716Z"
   },
   {
    "duration": 28,
    "start_time": "2022-02-23T17:00:52.745Z"
   },
   {
    "duration": 19,
    "start_time": "2022-02-23T17:00:52.775Z"
   },
   {
    "duration": 20,
    "start_time": "2022-02-23T17:00:52.796Z"
   },
   {
    "duration": 4,
    "start_time": "2022-02-23T17:00:52.829Z"
   },
   {
    "duration": 192,
    "start_time": "2022-02-23T17:03:14.734Z"
   },
   {
    "duration": 17,
    "start_time": "2022-02-23T17:03:34.559Z"
   },
   {
    "duration": 17,
    "start_time": "2022-02-23T17:06:14.288Z"
   },
   {
    "duration": 23,
    "start_time": "2022-02-23T17:07:00.656Z"
   },
   {
    "duration": 60,
    "start_time": "2022-02-23T17:08:23.761Z"
   },
   {
    "duration": 15,
    "start_time": "2022-02-23T17:10:29.810Z"
   },
   {
    "duration": 2,
    "start_time": "2022-02-23T17:52:36.296Z"
   },
   {
    "duration": 51,
    "start_time": "2022-02-23T17:52:36.301Z"
   },
   {
    "duration": 10,
    "start_time": "2022-02-23T17:52:36.354Z"
   },
   {
    "duration": 15,
    "start_time": "2022-02-23T17:52:36.366Z"
   },
   {
    "duration": 7,
    "start_time": "2022-02-23T17:52:36.382Z"
   },
   {
    "duration": 4,
    "start_time": "2022-02-23T17:52:36.406Z"
   },
   {
    "duration": 9,
    "start_time": "2022-02-23T17:52:36.411Z"
   },
   {
    "duration": 4,
    "start_time": "2022-02-23T17:52:36.425Z"
   },
   {
    "duration": 19,
    "start_time": "2022-02-23T17:52:36.474Z"
   },
   {
    "duration": 6,
    "start_time": "2022-02-23T17:52:36.495Z"
   },
   {
    "duration": 9,
    "start_time": "2022-02-23T17:52:36.502Z"
   },
   {
    "duration": 3,
    "start_time": "2022-02-23T17:52:36.538Z"
   },
   {
    "duration": 18,
    "start_time": "2022-02-23T17:52:36.561Z"
   },
   {
    "duration": 16,
    "start_time": "2022-02-23T17:52:36.580Z"
   },
   {
    "duration": 4,
    "start_time": "2022-02-23T17:52:36.598Z"
   },
   {
    "duration": 14,
    "start_time": "2022-02-23T17:52:36.604Z"
   },
   {
    "duration": 6,
    "start_time": "2022-02-23T17:52:36.623Z"
   },
   {
    "duration": 18,
    "start_time": "2022-02-23T17:52:36.647Z"
   },
   {
    "duration": 9,
    "start_time": "2022-02-23T17:52:36.668Z"
   },
   {
    "duration": 6,
    "start_time": "2022-02-23T17:52:36.685Z"
   },
   {
    "duration": 12,
    "start_time": "2022-02-23T17:52:36.712Z"
   },
   {
    "duration": 3,
    "start_time": "2022-02-23T17:52:36.737Z"
   },
   {
    "duration": 8,
    "start_time": "2022-02-23T17:52:36.755Z"
   },
   {
    "duration": 12,
    "start_time": "2022-02-23T17:52:36.776Z"
   },
   {
    "duration": 5,
    "start_time": "2022-02-23T17:52:36.800Z"
   },
   {
    "duration": 4,
    "start_time": "2022-02-23T17:52:36.819Z"
   },
   {
    "duration": 10,
    "start_time": "2022-02-23T17:52:36.839Z"
   },
   {
    "duration": 11,
    "start_time": "2022-02-23T17:52:36.859Z"
   },
   {
    "duration": 22,
    "start_time": "2022-02-23T17:52:36.889Z"
   },
   {
    "duration": 22,
    "start_time": "2022-02-23T17:52:36.917Z"
   },
   {
    "duration": 19,
    "start_time": "2022-02-23T17:52:36.950Z"
   },
   {
    "duration": 23,
    "start_time": "2022-02-23T17:52:36.978Z"
   },
   {
    "duration": 3,
    "start_time": "2022-02-23T17:52:37.012Z"
   },
   {
    "duration": 13,
    "start_time": "2022-02-23T17:54:08.060Z"
   },
   {
    "duration": 3,
    "start_time": "2022-02-23T17:56:52.447Z"
   },
   {
    "duration": 51,
    "start_time": "2022-02-23T17:56:52.464Z"
   },
   {
    "duration": 12,
    "start_time": "2022-02-23T17:56:52.517Z"
   },
   {
    "duration": 15,
    "start_time": "2022-02-23T17:56:52.531Z"
   },
   {
    "duration": 15,
    "start_time": "2022-02-23T17:56:52.548Z"
   },
   {
    "duration": 6,
    "start_time": "2022-02-23T17:56:52.566Z"
   },
   {
    "duration": 8,
    "start_time": "2022-02-23T17:56:52.574Z"
   },
   {
    "duration": 5,
    "start_time": "2022-02-23T17:56:52.584Z"
   },
   {
    "duration": 20,
    "start_time": "2022-02-23T17:56:52.610Z"
   },
   {
    "duration": 29,
    "start_time": "2022-02-23T17:56:52.633Z"
   },
   {
    "duration": 9,
    "start_time": "2022-02-23T17:56:52.663Z"
   },
   {
    "duration": 5,
    "start_time": "2022-02-23T17:56:52.678Z"
   },
   {
    "duration": 17,
    "start_time": "2022-02-23T17:56:52.704Z"
   },
   {
    "duration": 15,
    "start_time": "2022-02-23T17:56:52.724Z"
   },
   {
    "duration": 4,
    "start_time": "2022-02-23T17:56:52.747Z"
   },
   {
    "duration": 11,
    "start_time": "2022-02-23T17:56:52.765Z"
   },
   {
    "duration": 6,
    "start_time": "2022-02-23T17:56:52.785Z"
   },
   {
    "duration": 13,
    "start_time": "2022-02-23T17:56:52.813Z"
   },
   {
    "duration": 11,
    "start_time": "2022-02-23T17:56:52.834Z"
   },
   {
    "duration": 7,
    "start_time": "2022-02-23T17:56:52.851Z"
   },
   {
    "duration": 12,
    "start_time": "2022-02-23T17:56:52.876Z"
   },
   {
    "duration": 3,
    "start_time": "2022-02-23T17:56:52.900Z"
   },
   {
    "duration": 11,
    "start_time": "2022-02-23T17:56:52.918Z"
   },
   {
    "duration": 12,
    "start_time": "2022-02-23T17:56:52.941Z"
   },
   {
    "duration": 6,
    "start_time": "2022-02-23T17:56:52.965Z"
   },
   {
    "duration": 3,
    "start_time": "2022-02-23T17:56:52.984Z"
   },
   {
    "duration": 10,
    "start_time": "2022-02-23T17:56:53.002Z"
   },
   {
    "duration": 14,
    "start_time": "2022-02-23T17:56:53.026Z"
   },
   {
    "duration": 24,
    "start_time": "2022-02-23T17:56:53.059Z"
   },
   {
    "duration": 25,
    "start_time": "2022-02-23T17:56:53.096Z"
   },
   {
    "duration": 26,
    "start_time": "2022-02-23T17:56:53.132Z"
   },
   {
    "duration": 26,
    "start_time": "2022-02-23T17:56:53.165Z"
   },
   {
    "duration": 5,
    "start_time": "2022-02-23T17:56:53.205Z"
   },
   {
    "duration": 579,
    "start_time": "2022-02-23T18:13:21.817Z"
   },
   {
    "duration": 61,
    "start_time": "2022-02-23T18:13:22.398Z"
   },
   {
    "duration": 11,
    "start_time": "2022-02-23T18:13:22.461Z"
   },
   {
    "duration": 20,
    "start_time": "2022-02-23T18:13:22.474Z"
   },
   {
    "duration": 18,
    "start_time": "2022-02-23T18:13:22.495Z"
   },
   {
    "duration": 16,
    "start_time": "2022-02-23T18:13:22.515Z"
   },
   {
    "duration": 13,
    "start_time": "2022-02-23T18:13:22.533Z"
   },
   {
    "duration": 5,
    "start_time": "2022-02-23T18:13:22.548Z"
   },
   {
    "duration": 21,
    "start_time": "2022-02-23T18:13:22.556Z"
   },
   {
    "duration": 6,
    "start_time": "2022-02-23T18:13:22.579Z"
   },
   {
    "duration": 16,
    "start_time": "2022-02-23T18:13:22.586Z"
   },
   {
    "duration": 7,
    "start_time": "2022-02-23T18:13:22.604Z"
   },
   {
    "duration": 20,
    "start_time": "2022-02-23T18:13:22.612Z"
   },
   {
    "duration": 17,
    "start_time": "2022-02-23T18:13:22.634Z"
   },
   {
    "duration": 20,
    "start_time": "2022-02-23T18:13:22.652Z"
   },
   {
    "duration": 16,
    "start_time": "2022-02-23T18:13:22.674Z"
   },
   {
    "duration": 23,
    "start_time": "2022-02-23T18:13:22.692Z"
   },
   {
    "duration": 15,
    "start_time": "2022-02-23T18:13:22.717Z"
   },
   {
    "duration": 17,
    "start_time": "2022-02-23T18:13:22.734Z"
   },
   {
    "duration": 10,
    "start_time": "2022-02-23T18:13:22.753Z"
   },
   {
    "duration": 22,
    "start_time": "2022-02-23T18:13:22.765Z"
   },
   {
    "duration": 19,
    "start_time": "2022-02-23T18:13:22.789Z"
   },
   {
    "duration": 21,
    "start_time": "2022-02-23T18:13:22.810Z"
   },
   {
    "duration": 22,
    "start_time": "2022-02-23T18:13:22.833Z"
   },
   {
    "duration": 15,
    "start_time": "2022-02-23T18:13:22.857Z"
   },
   {
    "duration": 9,
    "start_time": "2022-02-23T18:13:22.874Z"
   },
   {
    "duration": 17,
    "start_time": "2022-02-23T18:13:22.887Z"
   },
   {
    "duration": 21,
    "start_time": "2022-02-23T18:13:22.906Z"
   },
   {
    "duration": 23,
    "start_time": "2022-02-23T18:13:22.929Z"
   },
   {
    "duration": 29,
    "start_time": "2022-02-23T18:13:22.954Z"
   },
   {
    "duration": 19,
    "start_time": "2022-02-23T18:13:22.985Z"
   },
   {
    "duration": 21,
    "start_time": "2022-02-23T18:13:23.006Z"
   },
   {
    "duration": 3,
    "start_time": "2022-02-23T18:13:23.029Z"
   },
   {
    "duration": 633,
    "start_time": "2022-02-23T18:17:49.277Z"
   },
   {
    "duration": 55,
    "start_time": "2022-02-23T18:17:49.912Z"
   },
   {
    "duration": 13,
    "start_time": "2022-02-23T18:17:49.969Z"
   },
   {
    "duration": 21,
    "start_time": "2022-02-23T18:17:49.984Z"
   },
   {
    "duration": 13,
    "start_time": "2022-02-23T18:17:50.007Z"
   },
   {
    "duration": 7,
    "start_time": "2022-02-23T18:17:50.022Z"
   },
   {
    "duration": 11,
    "start_time": "2022-02-23T18:17:50.031Z"
   },
   {
    "duration": 30,
    "start_time": "2022-02-23T18:17:50.045Z"
   },
   {
    "duration": 21,
    "start_time": "2022-02-23T18:17:50.078Z"
   },
   {
    "duration": 11,
    "start_time": "2022-02-23T18:17:50.101Z"
   },
   {
    "duration": 11,
    "start_time": "2022-02-23T18:17:50.114Z"
   },
   {
    "duration": 5,
    "start_time": "2022-02-23T18:17:50.127Z"
   },
   {
    "duration": 52,
    "start_time": "2022-02-23T18:17:50.134Z"
   },
   {
    "duration": 19,
    "start_time": "2022-02-23T18:17:50.188Z"
   },
   {
    "duration": 6,
    "start_time": "2022-02-23T18:17:50.209Z"
   },
   {
    "duration": 14,
    "start_time": "2022-02-23T18:17:50.216Z"
   },
   {
    "duration": 39,
    "start_time": "2022-02-23T18:17:50.231Z"
   },
   {
    "duration": 17,
    "start_time": "2022-02-23T18:17:50.272Z"
   },
   {
    "duration": 12,
    "start_time": "2022-02-23T18:17:50.291Z"
   },
   {
    "duration": 8,
    "start_time": "2022-02-23T18:17:50.305Z"
   },
   {
    "duration": 25,
    "start_time": "2022-02-23T18:17:50.315Z"
   },
   {
    "duration": 29,
    "start_time": "2022-02-23T18:17:50.342Z"
   },
   {
    "duration": 25,
    "start_time": "2022-02-23T18:17:50.376Z"
   },
   {
    "duration": 21,
    "start_time": "2022-02-23T18:17:50.403Z"
   },
   {
    "duration": 11,
    "start_time": "2022-02-23T18:17:50.426Z"
   },
   {
    "duration": 10,
    "start_time": "2022-02-23T18:17:50.439Z"
   },
   {
    "duration": 18,
    "start_time": "2022-02-23T18:17:50.450Z"
   },
   {
    "duration": 24,
    "start_time": "2022-02-23T18:17:50.470Z"
   },
   {
    "duration": 32,
    "start_time": "2022-02-23T18:17:50.496Z"
   },
   {
    "duration": 46,
    "start_time": "2022-02-23T18:17:50.530Z"
   },
   {
    "duration": 38,
    "start_time": "2022-02-23T18:17:50.596Z"
   },
   {
    "duration": 27,
    "start_time": "2022-02-23T18:17:50.637Z"
   },
   {
    "duration": 11,
    "start_time": "2022-02-23T18:17:50.667Z"
   }
  ],
  "kernelspec": {
   "display_name": "Python 3 (ipykernel)",
   "language": "python",
   "name": "python3"
  },
  "language_info": {
   "codemirror_mode": {
    "name": "ipython",
    "version": 3
   },
   "file_extension": ".py",
   "mimetype": "text/x-python",
   "name": "python",
   "nbconvert_exporter": "python",
   "pygments_lexer": "ipython3",
   "version": "3.8.13"
  },
  "toc": {
   "base_numbering": 1,
   "nav_menu": {},
   "number_sections": true,
   "sideBar": true,
   "skip_h1_title": true,
   "title_cell": "Table of Contents",
   "title_sidebar": "Contents",
   "toc_cell": false,
   "toc_position": {},
   "toc_section_display": true,
   "toc_window_display": true
  }
 },
 "nbformat": 4,
 "nbformat_minor": 5
}
