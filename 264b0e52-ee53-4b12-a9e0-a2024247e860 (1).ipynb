{
 "cells": [
  {
   "cell_type": "markdown",
   "metadata": {},
   "source": [
    "# Определение перспективного тарифа для телеком-компании"
   ]
  },
  {
   "cell_type": "markdown",
   "metadata": {},
   "source": [
    "## Описание проекта"
   ]
  },
  {
   "cell_type": "markdown",
   "metadata": {},
   "source": [
    "Клиентам предлагают два тарифных плана: «Смарт» и «Ультра». Чтобы скорректировать рекламный бюджет, коммерческий департамент хочет понять, какой тариф приносит больше денег.\n",
    "Предстоит сделать предварительный анализ тарифов на небольшой выборке клиентов. В распоряжении данные 500 пользователей «Мегалайна»: кто они, откуда, каким тарифом пользуются, сколько звонков и сообщений каждый отправил за 2018 год. Нужно проанализировать поведение клиентов и сделать вывод — какой тариф лучше."
   ]
  },
  {
   "cell_type": "markdown",
   "metadata": {},
   "source": [
    "## Обзор файла с данными и общая информация"
   ]
  },
  {
   "cell_type": "code",
   "execution_count": 67,
   "metadata": {},
   "outputs": [],
   "source": [
    "import pandas as pd\n",
    "import numpy as np\n",
    "import matplotlib.pyplot as plt\n",
    "from scipy import stats as st"
   ]
  },
  {
   "cell_type": "code",
   "execution_count": 68,
   "metadata": {},
   "outputs": [],
   "source": [
    "import warnings\n",
    "\n",
    "warnings.filterwarnings(\"ignore\")"
   ]
  },
  {
   "cell_type": "code",
   "execution_count": 69,
   "metadata": {},
   "outputs": [],
   "source": [
    "calls = pd.read_csv('/datasets/calls.csv')"
   ]
  },
  {
   "cell_type": "code",
   "execution_count": 70,
   "metadata": {},
   "outputs": [],
   "source": [
    "internet = pd.read_csv('/datasets/internet.csv')"
   ]
  },
  {
   "cell_type": "code",
   "execution_count": 71,
   "metadata": {},
   "outputs": [],
   "source": [
    "messages = pd.read_csv('/datasets/messages.csv')"
   ]
  },
  {
   "cell_type": "code",
   "execution_count": 72,
   "metadata": {},
   "outputs": [],
   "source": [
    "tariffes = pd.read_csv('/datasets/tariffs.csv')"
   ]
  },
  {
   "cell_type": "code",
   "execution_count": 73,
   "metadata": {},
   "outputs": [],
   "source": [
    "users = pd.read_csv('/datasets/users.csv')"
   ]
  },
  {
   "cell_type": "code",
   "execution_count": 74,
   "metadata": {},
   "outputs": [
    {
     "name": "stdout",
     "output_type": "stream",
     "text": [
      "<class 'pandas.core.frame.DataFrame'>\n",
      "RangeIndex: 202607 entries, 0 to 202606\n",
      "Data columns (total 4 columns):\n",
      " #   Column     Non-Null Count   Dtype  \n",
      "---  ------     --------------   -----  \n",
      " 0   id         202607 non-null  object \n",
      " 1   call_date  202607 non-null  object \n",
      " 2   duration   202607 non-null  float64\n",
      " 3   user_id    202607 non-null  int64  \n",
      "dtypes: float64(1), int64(1), object(2)\n",
      "memory usage: 6.2+ MB\n",
      "<class 'pandas.core.frame.DataFrame'>\n",
      "RangeIndex: 149396 entries, 0 to 149395\n",
      "Data columns (total 5 columns):\n",
      " #   Column        Non-Null Count   Dtype  \n",
      "---  ------        --------------   -----  \n",
      " 0   Unnamed: 0    149396 non-null  int64  \n",
      " 1   id            149396 non-null  object \n",
      " 2   mb_used       149396 non-null  float64\n",
      " 3   session_date  149396 non-null  object \n",
      " 4   user_id       149396 non-null  int64  \n",
      "dtypes: float64(1), int64(2), object(2)\n",
      "memory usage: 5.7+ MB\n",
      "<class 'pandas.core.frame.DataFrame'>\n",
      "RangeIndex: 123036 entries, 0 to 123035\n",
      "Data columns (total 3 columns):\n",
      " #   Column        Non-Null Count   Dtype \n",
      "---  ------        --------------   ----- \n",
      " 0   id            123036 non-null  object\n",
      " 1   message_date  123036 non-null  object\n",
      " 2   user_id       123036 non-null  int64 \n",
      "dtypes: int64(1), object(2)\n",
      "memory usage: 2.8+ MB\n",
      "<class 'pandas.core.frame.DataFrame'>\n",
      "RangeIndex: 2 entries, 0 to 1\n",
      "Data columns (total 8 columns):\n",
      " #   Column                 Non-Null Count  Dtype \n",
      "---  ------                 --------------  ----- \n",
      " 0   messages_included      2 non-null      int64 \n",
      " 1   mb_per_month_included  2 non-null      int64 \n",
      " 2   minutes_included       2 non-null      int64 \n",
      " 3   rub_monthly_fee        2 non-null      int64 \n",
      " 4   rub_per_gb             2 non-null      int64 \n",
      " 5   rub_per_message        2 non-null      int64 \n",
      " 6   rub_per_minute         2 non-null      int64 \n",
      " 7   tariff_name            2 non-null      object\n",
      "dtypes: int64(7), object(1)\n",
      "memory usage: 256.0+ bytes\n",
      "<class 'pandas.core.frame.DataFrame'>\n",
      "RangeIndex: 500 entries, 0 to 499\n",
      "Data columns (total 8 columns):\n",
      " #   Column      Non-Null Count  Dtype \n",
      "---  ------      --------------  ----- \n",
      " 0   user_id     500 non-null    int64 \n",
      " 1   age         500 non-null    int64 \n",
      " 2   churn_date  38 non-null     object\n",
      " 3   city        500 non-null    object\n",
      " 4   first_name  500 non-null    object\n",
      " 5   last_name   500 non-null    object\n",
      " 6   reg_date    500 non-null    object\n",
      " 7   tariff      500 non-null    object\n",
      "dtypes: int64(2), object(6)\n",
      "memory usage: 31.4+ KB\n"
     ]
    }
   ],
   "source": [
    "calls.info()\n",
    "internet.info()\n",
    "messages.info()\n",
    "tariffes.info()\n",
    "users.info()"
   ]
  },
  {
   "cell_type": "code",
   "execution_count": 75,
   "metadata": {},
   "outputs": [
    {
     "data": {
      "text/html": [
       "<div>\n",
       "<style scoped>\n",
       "    .dataframe tbody tr th:only-of-type {\n",
       "        vertical-align: middle;\n",
       "    }\n",
       "\n",
       "    .dataframe tbody tr th {\n",
       "        vertical-align: top;\n",
       "    }\n",
       "\n",
       "    .dataframe thead th {\n",
       "        text-align: right;\n",
       "    }\n",
       "</style>\n",
       "<table border=\"1\" class=\"dataframe\">\n",
       "  <thead>\n",
       "    <tr style=\"text-align: right;\">\n",
       "      <th></th>\n",
       "      <th>id</th>\n",
       "      <th>call_date</th>\n",
       "      <th>duration</th>\n",
       "      <th>user_id</th>\n",
       "    </tr>\n",
       "  </thead>\n",
       "  <tbody>\n",
       "    <tr>\n",
       "      <th>0</th>\n",
       "      <td>1000_0</td>\n",
       "      <td>2018-07-25</td>\n",
       "      <td>0.00</td>\n",
       "      <td>1000</td>\n",
       "    </tr>\n",
       "    <tr>\n",
       "      <th>1</th>\n",
       "      <td>1000_1</td>\n",
       "      <td>2018-08-17</td>\n",
       "      <td>0.00</td>\n",
       "      <td>1000</td>\n",
       "    </tr>\n",
       "    <tr>\n",
       "      <th>2</th>\n",
       "      <td>1000_2</td>\n",
       "      <td>2018-06-11</td>\n",
       "      <td>2.85</td>\n",
       "      <td>1000</td>\n",
       "    </tr>\n",
       "    <tr>\n",
       "      <th>3</th>\n",
       "      <td>1000_3</td>\n",
       "      <td>2018-09-21</td>\n",
       "      <td>13.80</td>\n",
       "      <td>1000</td>\n",
       "    </tr>\n",
       "    <tr>\n",
       "      <th>4</th>\n",
       "      <td>1000_4</td>\n",
       "      <td>2018-12-15</td>\n",
       "      <td>5.18</td>\n",
       "      <td>1000</td>\n",
       "    </tr>\n",
       "  </tbody>\n",
       "</table>\n",
       "</div>"
      ],
      "text/plain": [
       "       id   call_date  duration  user_id\n",
       "0  1000_0  2018-07-25      0.00     1000\n",
       "1  1000_1  2018-08-17      0.00     1000\n",
       "2  1000_2  2018-06-11      2.85     1000\n",
       "3  1000_3  2018-09-21     13.80     1000\n",
       "4  1000_4  2018-12-15      5.18     1000"
      ]
     },
     "execution_count": 75,
     "metadata": {},
     "output_type": "execute_result"
    }
   ],
   "source": [
    "calls.head()"
   ]
  },
  {
   "cell_type": "code",
   "execution_count": 76,
   "metadata": {},
   "outputs": [
    {
     "data": {
      "text/html": [
       "<div>\n",
       "<style scoped>\n",
       "    .dataframe tbody tr th:only-of-type {\n",
       "        vertical-align: middle;\n",
       "    }\n",
       "\n",
       "    .dataframe tbody tr th {\n",
       "        vertical-align: top;\n",
       "    }\n",
       "\n",
       "    .dataframe thead th {\n",
       "        text-align: right;\n",
       "    }\n",
       "</style>\n",
       "<table border=\"1\" class=\"dataframe\">\n",
       "  <thead>\n",
       "    <tr style=\"text-align: right;\">\n",
       "      <th></th>\n",
       "      <th>Unnamed: 0</th>\n",
       "      <th>id</th>\n",
       "      <th>mb_used</th>\n",
       "      <th>session_date</th>\n",
       "      <th>user_id</th>\n",
       "    </tr>\n",
       "  </thead>\n",
       "  <tbody>\n",
       "    <tr>\n",
       "      <th>0</th>\n",
       "      <td>0</td>\n",
       "      <td>1000_0</td>\n",
       "      <td>112.95</td>\n",
       "      <td>2018-11-25</td>\n",
       "      <td>1000</td>\n",
       "    </tr>\n",
       "    <tr>\n",
       "      <th>1</th>\n",
       "      <td>1</td>\n",
       "      <td>1000_1</td>\n",
       "      <td>1052.81</td>\n",
       "      <td>2018-09-07</td>\n",
       "      <td>1000</td>\n",
       "    </tr>\n",
       "    <tr>\n",
       "      <th>2</th>\n",
       "      <td>2</td>\n",
       "      <td>1000_2</td>\n",
       "      <td>1197.26</td>\n",
       "      <td>2018-06-25</td>\n",
       "      <td>1000</td>\n",
       "    </tr>\n",
       "    <tr>\n",
       "      <th>3</th>\n",
       "      <td>3</td>\n",
       "      <td>1000_3</td>\n",
       "      <td>550.27</td>\n",
       "      <td>2018-08-22</td>\n",
       "      <td>1000</td>\n",
       "    </tr>\n",
       "    <tr>\n",
       "      <th>4</th>\n",
       "      <td>4</td>\n",
       "      <td>1000_4</td>\n",
       "      <td>302.56</td>\n",
       "      <td>2018-09-24</td>\n",
       "      <td>1000</td>\n",
       "    </tr>\n",
       "  </tbody>\n",
       "</table>\n",
       "</div>"
      ],
      "text/plain": [
       "   Unnamed: 0      id  mb_used session_date  user_id\n",
       "0           0  1000_0   112.95   2018-11-25     1000\n",
       "1           1  1000_1  1052.81   2018-09-07     1000\n",
       "2           2  1000_2  1197.26   2018-06-25     1000\n",
       "3           3  1000_3   550.27   2018-08-22     1000\n",
       "4           4  1000_4   302.56   2018-09-24     1000"
      ]
     },
     "execution_count": 76,
     "metadata": {},
     "output_type": "execute_result"
    }
   ],
   "source": [
    "internet.head()"
   ]
  },
  {
   "cell_type": "code",
   "execution_count": 77,
   "metadata": {},
   "outputs": [
    {
     "data": {
      "text/html": [
       "<div>\n",
       "<style scoped>\n",
       "    .dataframe tbody tr th:only-of-type {\n",
       "        vertical-align: middle;\n",
       "    }\n",
       "\n",
       "    .dataframe tbody tr th {\n",
       "        vertical-align: top;\n",
       "    }\n",
       "\n",
       "    .dataframe thead th {\n",
       "        text-align: right;\n",
       "    }\n",
       "</style>\n",
       "<table border=\"1\" class=\"dataframe\">\n",
       "  <thead>\n",
       "    <tr style=\"text-align: right;\">\n",
       "      <th></th>\n",
       "      <th>id</th>\n",
       "      <th>message_date</th>\n",
       "      <th>user_id</th>\n",
       "    </tr>\n",
       "  </thead>\n",
       "  <tbody>\n",
       "    <tr>\n",
       "      <th>0</th>\n",
       "      <td>1000_0</td>\n",
       "      <td>2018-06-27</td>\n",
       "      <td>1000</td>\n",
       "    </tr>\n",
       "    <tr>\n",
       "      <th>1</th>\n",
       "      <td>1000_1</td>\n",
       "      <td>2018-10-08</td>\n",
       "      <td>1000</td>\n",
       "    </tr>\n",
       "    <tr>\n",
       "      <th>2</th>\n",
       "      <td>1000_2</td>\n",
       "      <td>2018-08-04</td>\n",
       "      <td>1000</td>\n",
       "    </tr>\n",
       "    <tr>\n",
       "      <th>3</th>\n",
       "      <td>1000_3</td>\n",
       "      <td>2018-06-16</td>\n",
       "      <td>1000</td>\n",
       "    </tr>\n",
       "    <tr>\n",
       "      <th>4</th>\n",
       "      <td>1000_4</td>\n",
       "      <td>2018-12-05</td>\n",
       "      <td>1000</td>\n",
       "    </tr>\n",
       "  </tbody>\n",
       "</table>\n",
       "</div>"
      ],
      "text/plain": [
       "       id message_date  user_id\n",
       "0  1000_0   2018-06-27     1000\n",
       "1  1000_1   2018-10-08     1000\n",
       "2  1000_2   2018-08-04     1000\n",
       "3  1000_3   2018-06-16     1000\n",
       "4  1000_4   2018-12-05     1000"
      ]
     },
     "execution_count": 77,
     "metadata": {},
     "output_type": "execute_result"
    }
   ],
   "source": [
    "messages.head()"
   ]
  },
  {
   "cell_type": "code",
   "execution_count": 78,
   "metadata": {},
   "outputs": [
    {
     "data": {
      "text/html": [
       "<div>\n",
       "<style scoped>\n",
       "    .dataframe tbody tr th:only-of-type {\n",
       "        vertical-align: middle;\n",
       "    }\n",
       "\n",
       "    .dataframe tbody tr th {\n",
       "        vertical-align: top;\n",
       "    }\n",
       "\n",
       "    .dataframe thead th {\n",
       "        text-align: right;\n",
       "    }\n",
       "</style>\n",
       "<table border=\"1\" class=\"dataframe\">\n",
       "  <thead>\n",
       "    <tr style=\"text-align: right;\">\n",
       "      <th></th>\n",
       "      <th>messages_included</th>\n",
       "      <th>mb_per_month_included</th>\n",
       "      <th>minutes_included</th>\n",
       "      <th>rub_monthly_fee</th>\n",
       "      <th>rub_per_gb</th>\n",
       "      <th>rub_per_message</th>\n",
       "      <th>rub_per_minute</th>\n",
       "      <th>tariff_name</th>\n",
       "    </tr>\n",
       "  </thead>\n",
       "  <tbody>\n",
       "    <tr>\n",
       "      <th>0</th>\n",
       "      <td>50</td>\n",
       "      <td>15360</td>\n",
       "      <td>500</td>\n",
       "      <td>550</td>\n",
       "      <td>200</td>\n",
       "      <td>3</td>\n",
       "      <td>3</td>\n",
       "      <td>smart</td>\n",
       "    </tr>\n",
       "    <tr>\n",
       "      <th>1</th>\n",
       "      <td>1000</td>\n",
       "      <td>30720</td>\n",
       "      <td>3000</td>\n",
       "      <td>1950</td>\n",
       "      <td>150</td>\n",
       "      <td>1</td>\n",
       "      <td>1</td>\n",
       "      <td>ultra</td>\n",
       "    </tr>\n",
       "  </tbody>\n",
       "</table>\n",
       "</div>"
      ],
      "text/plain": [
       "   messages_included  mb_per_month_included  minutes_included  \\\n",
       "0                 50                  15360               500   \n",
       "1               1000                  30720              3000   \n",
       "\n",
       "   rub_monthly_fee  rub_per_gb  rub_per_message  rub_per_minute tariff_name  \n",
       "0              550         200                3               3       smart  \n",
       "1             1950         150                1               1       ultra  "
      ]
     },
     "execution_count": 78,
     "metadata": {},
     "output_type": "execute_result"
    }
   ],
   "source": [
    "tariffes.head()"
   ]
  },
  {
   "cell_type": "code",
   "execution_count": 79,
   "metadata": {},
   "outputs": [
    {
     "data": {
      "text/html": [
       "<div>\n",
       "<style scoped>\n",
       "    .dataframe tbody tr th:only-of-type {\n",
       "        vertical-align: middle;\n",
       "    }\n",
       "\n",
       "    .dataframe tbody tr th {\n",
       "        vertical-align: top;\n",
       "    }\n",
       "\n",
       "    .dataframe thead th {\n",
       "        text-align: right;\n",
       "    }\n",
       "</style>\n",
       "<table border=\"1\" class=\"dataframe\">\n",
       "  <thead>\n",
       "    <tr style=\"text-align: right;\">\n",
       "      <th></th>\n",
       "      <th>user_id</th>\n",
       "      <th>age</th>\n",
       "      <th>churn_date</th>\n",
       "      <th>city</th>\n",
       "      <th>first_name</th>\n",
       "      <th>last_name</th>\n",
       "      <th>reg_date</th>\n",
       "      <th>tariff</th>\n",
       "    </tr>\n",
       "  </thead>\n",
       "  <tbody>\n",
       "    <tr>\n",
       "      <th>0</th>\n",
       "      <td>1000</td>\n",
       "      <td>52</td>\n",
       "      <td>NaN</td>\n",
       "      <td>Краснодар</td>\n",
       "      <td>Рафаил</td>\n",
       "      <td>Верещагин</td>\n",
       "      <td>2018-05-25</td>\n",
       "      <td>ultra</td>\n",
       "    </tr>\n",
       "    <tr>\n",
       "      <th>1</th>\n",
       "      <td>1001</td>\n",
       "      <td>41</td>\n",
       "      <td>NaN</td>\n",
       "      <td>Москва</td>\n",
       "      <td>Иван</td>\n",
       "      <td>Ежов</td>\n",
       "      <td>2018-11-01</td>\n",
       "      <td>smart</td>\n",
       "    </tr>\n",
       "    <tr>\n",
       "      <th>2</th>\n",
       "      <td>1002</td>\n",
       "      <td>59</td>\n",
       "      <td>NaN</td>\n",
       "      <td>Стерлитамак</td>\n",
       "      <td>Евгений</td>\n",
       "      <td>Абрамович</td>\n",
       "      <td>2018-06-17</td>\n",
       "      <td>smart</td>\n",
       "    </tr>\n",
       "    <tr>\n",
       "      <th>3</th>\n",
       "      <td>1003</td>\n",
       "      <td>23</td>\n",
       "      <td>NaN</td>\n",
       "      <td>Москва</td>\n",
       "      <td>Белла</td>\n",
       "      <td>Белякова</td>\n",
       "      <td>2018-08-17</td>\n",
       "      <td>ultra</td>\n",
       "    </tr>\n",
       "    <tr>\n",
       "      <th>4</th>\n",
       "      <td>1004</td>\n",
       "      <td>68</td>\n",
       "      <td>NaN</td>\n",
       "      <td>Новокузнецк</td>\n",
       "      <td>Татьяна</td>\n",
       "      <td>Авдеенко</td>\n",
       "      <td>2018-05-14</td>\n",
       "      <td>ultra</td>\n",
       "    </tr>\n",
       "  </tbody>\n",
       "</table>\n",
       "</div>"
      ],
      "text/plain": [
       "   user_id  age churn_date         city first_name  last_name    reg_date  \\\n",
       "0     1000   52        NaN    Краснодар     Рафаил  Верещагин  2018-05-25   \n",
       "1     1001   41        NaN       Москва       Иван       Ежов  2018-11-01   \n",
       "2     1002   59        NaN  Стерлитамак    Евгений  Абрамович  2018-06-17   \n",
       "3     1003   23        NaN       Москва      Белла   Белякова  2018-08-17   \n",
       "4     1004   68        NaN  Новокузнецк    Татьяна   Авдеенко  2018-05-14   \n",
       "\n",
       "  tariff  \n",
       "0  ultra  \n",
       "1  smart  \n",
       "2  smart  \n",
       "3  ultra  \n",
       "4  ultra  "
      ]
     },
     "execution_count": 79,
     "metadata": {},
     "output_type": "execute_result"
    }
   ],
   "source": [
    "users.head()"
   ]
  },
  {
   "cell_type": "markdown",
   "metadata": {},
   "source": [
    "В датасетах даты заполнены в неверном формате (object). Заменим на формат даты."
   ]
  },
  {
   "cell_type": "code",
   "execution_count": 80,
   "metadata": {},
   "outputs": [],
   "source": [
    "calls['call_date'] = pd.to_datetime(calls['call_date'], format='%Y-%m-%d')"
   ]
  },
  {
   "cell_type": "code",
   "execution_count": 81,
   "metadata": {},
   "outputs": [],
   "source": [
    "internet['session_date'] = pd.to_datetime(internet['session_date'], format='%Y-%m-%d')"
   ]
  },
  {
   "cell_type": "code",
   "execution_count": 82,
   "metadata": {},
   "outputs": [],
   "source": [
    "messages['message_date'] = pd.to_datetime(messages['message_date'], format='%Y-%m-%d')"
   ]
  },
  {
   "cell_type": "code",
   "execution_count": 83,
   "metadata": {},
   "outputs": [],
   "source": [
    "users['reg_date'] = pd.to_datetime(users['reg_date'], format='%Y-%m-%d')"
   ]
  },
  {
   "cell_type": "code",
   "execution_count": 84,
   "metadata": {},
   "outputs": [],
   "source": [
    "users.columns=['user_id','age','churn_date', 'city', 'first_name', \n",
    "               'last_name', 'reg_date', 'tariff_name'] \n",
    "# заменила название столбца с тарифом для сопоставимости данных"
   ]
  },
  {
   "cell_type": "code",
   "execution_count": 85,
   "metadata": {},
   "outputs": [
    {
     "data": {
      "text/plain": [
       "0"
      ]
     },
     "execution_count": 85,
     "metadata": {},
     "output_type": "execute_result"
    }
   ],
   "source": [
    "calls.duplicated().sum()\n",
    "internet.duplicated().sum()\n",
    "messages.duplicated().sum()\n",
    "tariffes.duplicated().sum()\n",
    "users.duplicated().sum()"
   ]
  },
  {
   "cell_type": "markdown",
   "metadata": {},
   "source": [
    "Дублиикатов в исходных данных нет."
   ]
  },
  {
   "cell_type": "code",
   "execution_count": 86,
   "metadata": {},
   "outputs": [],
   "source": [
    "calls['duration'] = calls['duration'].apply(pd.np.ceil) #округление до целого"
   ]
  },
  {
   "cell_type": "code",
   "execution_count": 87,
   "metadata": {},
   "outputs": [],
   "source": [
    "calls['month'] = pd.DatetimeIndex(calls['call_date']).month\n",
    "internet['month'] = pd.DatetimeIndex(internet['session_date']).month\n",
    "messages['month'] = pd.DatetimeIndex(messages['message_date']).month \n",
    "# Добавление столбцов с месяцем в датафрейм"
   ]
  },
  {
   "cell_type": "code",
   "execution_count": 88,
   "metadata": {},
   "outputs": [
    {
     "name": "stdout",
     "output_type": "stream",
     "text": [
      "<class 'pandas.core.frame.DataFrame'>\n",
      "RangeIndex: 202607 entries, 0 to 202606\n",
      "Data columns (total 5 columns):\n",
      " #   Column     Non-Null Count   Dtype         \n",
      "---  ------     --------------   -----         \n",
      " 0   id         202607 non-null  object        \n",
      " 1   call_date  202607 non-null  datetime64[ns]\n",
      " 2   duration   202607 non-null  float64       \n",
      " 3   user_id    202607 non-null  int64         \n",
      " 4   month      202607 non-null  int64         \n",
      "dtypes: datetime64[ns](1), float64(1), int64(2), object(1)\n",
      "memory usage: 7.7+ MB\n",
      "<class 'pandas.core.frame.DataFrame'>\n",
      "RangeIndex: 149396 entries, 0 to 149395\n",
      "Data columns (total 6 columns):\n",
      " #   Column        Non-Null Count   Dtype         \n",
      "---  ------        --------------   -----         \n",
      " 0   Unnamed: 0    149396 non-null  int64         \n",
      " 1   id            149396 non-null  object        \n",
      " 2   mb_used       149396 non-null  float64       \n",
      " 3   session_date  149396 non-null  datetime64[ns]\n",
      " 4   user_id       149396 non-null  int64         \n",
      " 5   month         149396 non-null  int64         \n",
      "dtypes: datetime64[ns](1), float64(1), int64(3), object(1)\n",
      "memory usage: 6.8+ MB\n",
      "<class 'pandas.core.frame.DataFrame'>\n",
      "RangeIndex: 123036 entries, 0 to 123035\n",
      "Data columns (total 4 columns):\n",
      " #   Column        Non-Null Count   Dtype         \n",
      "---  ------        --------------   -----         \n",
      " 0   id            123036 non-null  object        \n",
      " 1   message_date  123036 non-null  datetime64[ns]\n",
      " 2   user_id       123036 non-null  int64         \n",
      " 3   month         123036 non-null  int64         \n",
      "dtypes: datetime64[ns](1), int64(2), object(1)\n",
      "memory usage: 3.8+ MB\n",
      "<class 'pandas.core.frame.DataFrame'>\n",
      "RangeIndex: 2 entries, 0 to 1\n",
      "Data columns (total 8 columns):\n",
      " #   Column                 Non-Null Count  Dtype \n",
      "---  ------                 --------------  ----- \n",
      " 0   messages_included      2 non-null      int64 \n",
      " 1   mb_per_month_included  2 non-null      int64 \n",
      " 2   minutes_included       2 non-null      int64 \n",
      " 3   rub_monthly_fee        2 non-null      int64 \n",
      " 4   rub_per_gb             2 non-null      int64 \n",
      " 5   rub_per_message        2 non-null      int64 \n",
      " 6   rub_per_minute         2 non-null      int64 \n",
      " 7   tariff_name            2 non-null      object\n",
      "dtypes: int64(7), object(1)\n",
      "memory usage: 256.0+ bytes\n",
      "<class 'pandas.core.frame.DataFrame'>\n",
      "RangeIndex: 500 entries, 0 to 499\n",
      "Data columns (total 8 columns):\n",
      " #   Column       Non-Null Count  Dtype         \n",
      "---  ------       --------------  -----         \n",
      " 0   user_id      500 non-null    int64         \n",
      " 1   age          500 non-null    int64         \n",
      " 2   churn_date   38 non-null     object        \n",
      " 3   city         500 non-null    object        \n",
      " 4   first_name   500 non-null    object        \n",
      " 5   last_name    500 non-null    object        \n",
      " 6   reg_date     500 non-null    datetime64[ns]\n",
      " 7   tariff_name  500 non-null    object        \n",
      "dtypes: datetime64[ns](1), int64(2), object(5)\n",
      "memory usage: 31.4+ KB\n"
     ]
    }
   ],
   "source": [
    "calls.info()\n",
    "internet.info()\n",
    "messages.info()\n",
    "tariffes.info()\n",
    "users.info() #проверка результата"
   ]
  },
  {
   "cell_type": "code",
   "execution_count": 89,
   "metadata": {},
   "outputs": [
    {
     "data": {
      "text/plain": [
       "<AxesSubplot:>"
      ]
     },
     "execution_count": 89,
     "metadata": {},
     "output_type": "execute_result"
    },
    {
     "data": {
      "image/png": "[encoded data removed]",
      "text/plain": [
       "<Figure size 432x288 with 1 Axes>"
      ]
     },
     "metadata": {
      "needs_background": "light"
     },
     "output_type": "display_data"
    }
   ],
   "source": [
    "calls['duration'].hist(bins=30)"
   ]
  },
  {
   "cell_type": "code",
   "execution_count": 90,
   "metadata": {},
   "outputs": [
    {
     "data": {
      "text/html": [
       "<div>\n",
       "<style scoped>\n",
       "    .dataframe tbody tr th:only-of-type {\n",
       "        vertical-align: middle;\n",
       "    }\n",
       "\n",
       "    .dataframe tbody tr th {\n",
       "        vertical-align: top;\n",
       "    }\n",
       "\n",
       "    .dataframe thead th {\n",
       "        text-align: right;\n",
       "    }\n",
       "</style>\n",
       "<table border=\"1\" class=\"dataframe\">\n",
       "  <thead>\n",
       "    <tr style=\"text-align: right;\">\n",
       "      <th></th>\n",
       "      <th>id</th>\n",
       "      <th>call_date</th>\n",
       "      <th>duration</th>\n",
       "      <th>user_id</th>\n",
       "      <th>month</th>\n",
       "    </tr>\n",
       "  </thead>\n",
       "  <tbody>\n",
       "  </tbody>\n",
       "</table>\n",
       "</div>"
      ],
      "text/plain": [
       "Empty DataFrame\n",
       "Columns: [id, call_date, duration, user_id, month]\n",
       "Index: []"
      ]
     },
     "execution_count": 90,
     "metadata": {},
     "output_type": "execute_result"
    }
   ],
   "source": [
    "calls.query('0 < duration < 1')"
   ]
  },
  {
   "cell_type": "code",
   "execution_count": 91,
   "metadata": {},
   "outputs": [
    {
     "data": {
      "text/plain": [
       "<AxesSubplot:>"
      ]
     },
     "execution_count": 91,
     "metadata": {},
     "output_type": "execute_result"
    },
    {
     "data": {
      "image/png": "[encoded data removed]",
      "text/plain": [
       "<Figure size 432x288 with 1 Axes>"
      ]
     },
     "metadata": {
      "needs_background": "light"
     },
     "output_type": "display_data"
    }
   ],
   "source": [
    "internet['mb_used'].hist(bins=30)"
   ]
  },
  {
   "cell_type": "code",
   "execution_count": 92,
   "metadata": {},
   "outputs": [
    {
     "data": {
      "text/html": [
       "<div>\n",
       "<style scoped>\n",
       "    .dataframe tbody tr th:only-of-type {\n",
       "        vertical-align: middle;\n",
       "    }\n",
       "\n",
       "    .dataframe tbody tr th {\n",
       "        vertical-align: top;\n",
       "    }\n",
       "\n",
       "    .dataframe thead th {\n",
       "        text-align: right;\n",
       "    }\n",
       "</style>\n",
       "<table border=\"1\" class=\"dataframe\">\n",
       "  <thead>\n",
       "    <tr style=\"text-align: right;\">\n",
       "      <th></th>\n",
       "      <th>Unnamed: 0</th>\n",
       "      <th>id</th>\n",
       "      <th>mb_used</th>\n",
       "      <th>session_date</th>\n",
       "      <th>user_id</th>\n",
       "      <th>month</th>\n",
       "    </tr>\n",
       "  </thead>\n",
       "  <tbody>\n",
       "  </tbody>\n",
       "</table>\n",
       "</div>"
      ],
      "text/plain": [
       "Empty DataFrame\n",
       "Columns: [Unnamed: 0, id, mb_used, session_date, user_id, month]\n",
       "Index: []"
      ]
     },
     "execution_count": 92,
     "metadata": {},
     "output_type": "execute_result"
    }
   ],
   "source": [
    "internet.query('0 < mb_used < 0.01')"
   ]
  },
  {
   "cell_type": "markdown",
   "metadata": {},
   "source": [
    "**Вывод:** Данные хорошие. пропусков не было, дубликатов не было. Для удобства работы были изменены наименования столбцов и изменены формат столбцов с датой. На гистограммах видно что большинство значений близки к 0, но нулевых значений в данных нет. Аномально  высоких значений в данных нет."
   ]
  },
  {
   "cell_type": "markdown",
   "metadata": {},
   "source": [
    "## Агрегация данных"
   ]
  },
  {
   "cell_type": "markdown",
   "metadata": {},
   "source": [
    "Необходимо посчитать для каждого пользователя:\n",
    "- количество сделанных звонков и израсходованных минут разговора по месяцам;\n",
    "- количество отправленных сообщений по месяцам;\n",
    "- объем израсходованного интернет-трафика по месяцам;\n",
    "- помесячную выручку с каждого пользователя (вычтите бесплатный лимит из суммарного количества звонков, сообщений и интернет-трафика; остаток умножьте на значение из тарифного плана; прибавьте абонентскую плату, соответствующую тарифному плану)."
   ]
  },
  {
   "cell_type": "markdown",
   "metadata": {},
   "source": [
    "Необходимо собрать сводные таблицы по абоненту и месяцу для звонков, сообщений и трафика. Далее объединим в единый датафрейм для дальнейшего анализа."
   ]
  },
  {
   "cell_type": "code",
   "execution_count": 93,
   "metadata": {},
   "outputs": [],
   "source": [
    "df_calls = calls.pivot_table(\n",
    "    index=['user_id', 'month'], \n",
    "    values='duration',\n",
    "    aggfunc=['count', 'sum']).reset_index()"
   ]
  },
  {
   "cell_type": "code",
   "execution_count": 94,
   "metadata": {},
   "outputs": [],
   "source": [
    "df_messages = messages.pivot_table(\n",
    "    index=['user_id', 'month'], \n",
    "    values='id', \n",
    "    aggfunc='count').reset_index()"
   ]
  },
  {
   "cell_type": "code",
   "execution_count": 95,
   "metadata": {},
   "outputs": [],
   "source": [
    "df_internet = internet.pivot_table(\n",
    "    index=['user_id', 'month'], \n",
    "    values='mb_used', \n",
    "    aggfunc='sum').reset_index()"
   ]
  },
  {
   "cell_type": "code",
   "execution_count": 96,
   "metadata": {},
   "outputs": [],
   "source": [
    "df = df_calls.merge(df_messages, \n",
    "                    on=['user_id', 'month'], \n",
    "                    how='outer').merge(df_internet, \n",
    "                                        on=['user_id', 'month'], \n",
    "                                        how='outer')"
   ]
  },
  {
   "cell_type": "code",
   "execution_count": 97,
   "metadata": {},
   "outputs": [],
   "source": [
    "df = df.merge(users, on='user_id', how='left')"
   ]
  },
  {
   "cell_type": "code",
   "execution_count": 98,
   "metadata": {},
   "outputs": [],
   "source": [
    "df = df.drop(columns=['age', 'churn_date', 'first_name', 'last_name'], axis=1) \n",
    "# отбросим лишние столбцы"
   ]
  },
  {
   "cell_type": "code",
   "execution_count": 99,
   "metadata": {},
   "outputs": [
    {
     "data": {
      "text/html": [
       "<div>\n",
       "<style scoped>\n",
       "    .dataframe tbody tr th:only-of-type {\n",
       "        vertical-align: middle;\n",
       "    }\n",
       "\n",
       "    .dataframe tbody tr th {\n",
       "        vertical-align: top;\n",
       "    }\n",
       "\n",
       "    .dataframe thead th {\n",
       "        text-align: right;\n",
       "    }\n",
       "</style>\n",
       "<table border=\"1\" class=\"dataframe\">\n",
       "  <thead>\n",
       "    <tr style=\"text-align: right;\">\n",
       "      <th></th>\n",
       "      <th>user_id</th>\n",
       "      <th>month</th>\n",
       "      <th>(user_id, )</th>\n",
       "      <th>(month, )</th>\n",
       "      <th>(count, duration)</th>\n",
       "      <th>(sum, duration)</th>\n",
       "      <th>id</th>\n",
       "      <th>mb_used</th>\n",
       "      <th>city</th>\n",
       "      <th>reg_date</th>\n",
       "      <th>tariff_name</th>\n",
       "    </tr>\n",
       "  </thead>\n",
       "  <tbody>\n",
       "    <tr>\n",
       "      <th>0</th>\n",
       "      <td>1000</td>\n",
       "      <td>5</td>\n",
       "      <td>1000.0</td>\n",
       "      <td>5.0</td>\n",
       "      <td>22.0</td>\n",
       "      <td>159.0</td>\n",
       "      <td>22.0</td>\n",
       "      <td>2253.49</td>\n",
       "      <td>Краснодар</td>\n",
       "      <td>2018-05-25</td>\n",
       "      <td>ultra</td>\n",
       "    </tr>\n",
       "    <tr>\n",
       "      <th>1</th>\n",
       "      <td>1000</td>\n",
       "      <td>6</td>\n",
       "      <td>1000.0</td>\n",
       "      <td>6.0</td>\n",
       "      <td>43.0</td>\n",
       "      <td>172.0</td>\n",
       "      <td>60.0</td>\n",
       "      <td>23233.77</td>\n",
       "      <td>Краснодар</td>\n",
       "      <td>2018-05-25</td>\n",
       "      <td>ultra</td>\n",
       "    </tr>\n",
       "    <tr>\n",
       "      <th>2</th>\n",
       "      <td>1000</td>\n",
       "      <td>7</td>\n",
       "      <td>1000.0</td>\n",
       "      <td>7.0</td>\n",
       "      <td>47.0</td>\n",
       "      <td>340.0</td>\n",
       "      <td>75.0</td>\n",
       "      <td>14003.64</td>\n",
       "      <td>Краснодар</td>\n",
       "      <td>2018-05-25</td>\n",
       "      <td>ultra</td>\n",
       "    </tr>\n",
       "    <tr>\n",
       "      <th>3</th>\n",
       "      <td>1000</td>\n",
       "      <td>8</td>\n",
       "      <td>1000.0</td>\n",
       "      <td>8.0</td>\n",
       "      <td>52.0</td>\n",
       "      <td>408.0</td>\n",
       "      <td>81.0</td>\n",
       "      <td>14055.93</td>\n",
       "      <td>Краснодар</td>\n",
       "      <td>2018-05-25</td>\n",
       "      <td>ultra</td>\n",
       "    </tr>\n",
       "    <tr>\n",
       "      <th>4</th>\n",
       "      <td>1000</td>\n",
       "      <td>9</td>\n",
       "      <td>1000.0</td>\n",
       "      <td>9.0</td>\n",
       "      <td>58.0</td>\n",
       "      <td>466.0</td>\n",
       "      <td>57.0</td>\n",
       "      <td>14568.91</td>\n",
       "      <td>Краснодар</td>\n",
       "      <td>2018-05-25</td>\n",
       "      <td>ultra</td>\n",
       "    </tr>\n",
       "  </tbody>\n",
       "</table>\n",
       "</div>"
      ],
      "text/plain": [
       "   user_id  month  (user_id, )  (month, )  (count, duration)  (sum, duration)  \\\n",
       "0     1000      5       1000.0        5.0               22.0            159.0   \n",
       "1     1000      6       1000.0        6.0               43.0            172.0   \n",
       "2     1000      7       1000.0        7.0               47.0            340.0   \n",
       "3     1000      8       1000.0        8.0               52.0            408.0   \n",
       "4     1000      9       1000.0        9.0               58.0            466.0   \n",
       "\n",
       "     id   mb_used       city   reg_date tariff_name  \n",
       "0  22.0   2253.49  Краснодар 2018-05-25       ultra  \n",
       "1  60.0  23233.77  Краснодар 2018-05-25       ultra  \n",
       "2  75.0  14003.64  Краснодар 2018-05-25       ultra  \n",
       "3  81.0  14055.93  Краснодар 2018-05-25       ultra  \n",
       "4  57.0  14568.91  Краснодар 2018-05-25       ultra  "
      ]
     },
     "execution_count": 99,
     "metadata": {},
     "output_type": "execute_result"
    }
   ],
   "source": [
    "df.head()"
   ]
  },
  {
   "cell_type": "code",
   "execution_count": 100,
   "metadata": {},
   "outputs": [
    {
     "name": "stdout",
     "output_type": "stream",
     "text": [
      "<class 'pandas.core.frame.DataFrame'>\n",
      "Int64Index: 3214 entries, 0 to 3213\n",
      "Data columns (total 11 columns):\n",
      " #   Column             Non-Null Count  Dtype         \n",
      "---  ------             --------------  -----         \n",
      " 0   user_id            3214 non-null   int64         \n",
      " 1   month              3214 non-null   int64         \n",
      " 2   (user_id, )        3174 non-null   float64       \n",
      " 3   (month, )          3174 non-null   float64       \n",
      " 4   (count, duration)  3174 non-null   float64       \n",
      " 5   (sum, duration)    3174 non-null   float64       \n",
      " 6   id                 2717 non-null   float64       \n",
      " 7   mb_used            3203 non-null   float64       \n",
      " 8   city               3214 non-null   object        \n",
      " 9   reg_date           3214 non-null   datetime64[ns]\n",
      " 10  tariff_name        3214 non-null   object        \n",
      "dtypes: datetime64[ns](1), float64(6), int64(2), object(2)\n",
      "memory usage: 301.3+ KB\n"
     ]
    }
   ],
   "source": [
    "df.info()"
   ]
  },
  {
   "cell_type": "code",
   "execution_count": 101,
   "metadata": {},
   "outputs": [],
   "source": [
    "df = df.merge(tariffes, on='tariff_name', how='left')"
   ]
  },
  {
   "cell_type": "code",
   "execution_count": 102,
   "metadata": {},
   "outputs": [],
   "source": [
    "df.columns = ['user_id', 'month', 'user_id2', 'month2', 'count_calls', 'dur_calls',\n",
    "             'messages', 'mb_used', 'city', 'reg_date', 'tariff_name', 'messages_included',\n",
    "             'mb_per_month_included', 'minutes_included', 'rub_monthly_fee', 'rub_per_gb',\n",
    "             'rub_per_message', 'rub_per_minute'] # переименование столбцов"
   ]
  },
  {
   "cell_type": "code",
   "execution_count": 103,
   "metadata": {},
   "outputs": [],
   "source": [
    "df = df.drop(columns=['user_id2', 'month2'], axis=1)"
   ]
  },
  {
   "cell_type": "markdown",
   "metadata": {},
   "source": [
    "При объединении таблиц в колонках с длительностью звонков, количеством СМС и мегабайт появились пустые значения. это связано с тем, что клиент мог совершать звонки, но е использовать интернет или СМС, или же наоборот. Пустые значения лучше всего заполнить нулями."
   ]
  },
  {
   "cell_type": "code",
   "execution_count": 104,
   "metadata": {},
   "outputs": [],
   "source": [
    "df['dur_calls'] = df['dur_calls'].fillna(0) # fill NA"
   ]
  },
  {
   "cell_type": "code",
   "execution_count": 105,
   "metadata": {},
   "outputs": [],
   "source": [
    "df['messages'] = df['messages'].fillna(0) # fill NA"
   ]
  },
  {
   "cell_type": "code",
   "execution_count": 106,
   "metadata": {},
   "outputs": [],
   "source": [
    "df['mb_used'] = df['mb_used'].fillna(0) # fill NA"
   ]
  },
  {
   "cell_type": "markdown",
   "metadata": {},
   "source": [
    "Далее рассчитываем количество платных звонков, смс и интернет-трафика. Для этого вычитаем из лимитного количества исрасходованное. Если сумма положительная, зачит лимит не был превышен, соответственно в столбце с плантым количеством укаываем \"0\". По отрицательным суммам посчитаем выручку."
   ]
  },
  {
   "cell_type": "code",
   "execution_count": 107,
   "metadata": {},
   "outputs": [],
   "source": [
    "df['pay_calls'] = df['minutes_included'] - df['dur_calls']"
   ]
  },
  {
   "cell_type": "code",
   "execution_count": 108,
   "metadata": {},
   "outputs": [],
   "source": [
    "df['pay_messages'] = df['messages_included'] - df['messages']"
   ]
  },
  {
   "cell_type": "code",
   "execution_count": 109,
   "metadata": {},
   "outputs": [],
   "source": [
    "df['pay_internet'] = df['mb_per_month_included'] - df['mb_used']"
   ]
  },
  {
   "cell_type": "code",
   "execution_count": 110,
   "metadata": {},
   "outputs": [],
   "source": [
    "df.loc[df.pay_calls>0, 'pay_calls'] = 0"
   ]
  },
  {
   "cell_type": "code",
   "execution_count": 111,
   "metadata": {},
   "outputs": [],
   "source": [
    "df.loc[df.pay_messages>0, 'pay_messages'] = 0"
   ]
  },
  {
   "cell_type": "code",
   "execution_count": 112,
   "metadata": {},
   "outputs": [],
   "source": [
    "df.loc[df.pay_internet>0, 'pay_internet'] = 0"
   ]
  },
  {
   "cell_type": "code",
   "execution_count": 113,
   "metadata": {},
   "outputs": [],
   "source": [
    "df['revenue'] = (\n",
    "    (abs(df.pay_calls) * df.rub_per_minute) + \n",
    "    (abs(df.pay_messages) * df.rub_per_message) +\n",
    "    ((abs(df.pay_internet)/1000).apply(pd.np.ceil) * df.rub_per_gb)) + df.rub_monthly_fee"
   ]
  },
  {
   "cell_type": "code",
   "execution_count": 114,
   "metadata": {},
   "outputs": [
    {
     "data": {
      "text/plain": [
       "user_id                   0\n",
       "month                     0\n",
       "count_calls              40\n",
       "dur_calls                 0\n",
       "messages                  0\n",
       "mb_used                   0\n",
       "city                      0\n",
       "reg_date                  0\n",
       "tariff_name               0\n",
       "messages_included         0\n",
       "mb_per_month_included     0\n",
       "minutes_included          0\n",
       "rub_monthly_fee           0\n",
       "rub_per_gb                0\n",
       "rub_per_message           0\n",
       "rub_per_minute            0\n",
       "pay_calls                 0\n",
       "pay_messages              0\n",
       "pay_internet              0\n",
       "revenue                   0\n",
       "dtype: int64"
      ]
     },
     "metadata": {},
     "output_type": "display_data"
    }
   ],
   "source": [
    "display(df.isna().sum())"
   ]
  },
  {
   "cell_type": "markdown",
   "metadata": {},
   "source": [
    "## Анализ данных"
   ]
  },
  {
   "cell_type": "markdown",
   "metadata": {},
   "source": [
    "Необходимо проанализировать сколько минут разговора, сколько сообщений и какой объём интернет-трафика требуется пользователям каждого тарифа в месяц? Посчитайте среднее количество, дисперсию и стандартное отклонение. Постройте гистограммы. Опишите распределения."
   ]
  },
  {
   "cell_type": "code",
   "execution_count": 115,
   "metadata": {
    "scrolled": true
   },
   "outputs": [
    {
     "data": {
      "image/png": "[encoded data removed]",
      "text/plain": [
       "<Figure size 432x288 with 1 Axes>"
      ]
     },
     "metadata": {
      "needs_background": "light"
     },
     "output_type": "display_data"
    }
   ],
   "source": [
    "df.query('tariff_name == \"smart\"')['dur_calls'].hist(bins=30, alpha=.7, label='smart')\n",
    "df.query('tariff_name == \"ultra\"')['dur_calls'].hist(bins=30, alpha=.7, label='ultra')\n",
    "plt.legend()\n",
    "plt.show()"
   ]
  },
  {
   "cell_type": "markdown",
   "metadata": {},
   "source": [
    "Гистограмма длительности звонков на тарифе Смарт имеет нормальное распределение. Среднее в районе 450 мин. Гистограмма тарифа Ультра имеет средее значение в районе 500-550. При этом примерно равное количество абонентов совершают звонки от 250 до 750 мин. Также очень много нулевых значений. Возможно что многие абоненты не используют этот тариф для звонков.  "
   ]
  },
  {
   "cell_type": "code",
   "execution_count": 116,
   "metadata": {
    "scrolled": true
   },
   "outputs": [
    {
     "data": {
      "image/png": "[encoded data removed]",
      "text/plain": [
       "<Figure size 432x288 with 1 Axes>"
      ]
     },
     "metadata": {
      "needs_background": "light"
     },
     "output_type": "display_data"
    }
   ],
   "source": [
    "df.query('tariff_name == \"smart\"')['messages'].hist(bins=10, alpha=.7, label='smart')\n",
    "df.query('tariff_name == \"ultra\"')['messages'].hist(bins=10, alpha=.7, label='ultra')\n",
    "plt.legend()\n",
    "plt.show()"
   ]
  },
  {
   "cell_type": "markdown",
   "metadata": {},
   "source": [
    "На гистограмме отправленных сообщений для обоих тарифов видно что очень много значений около 0. Возможно абоненты редко пользуются этой услугой."
   ]
  },
  {
   "cell_type": "code",
   "execution_count": 117,
   "metadata": {},
   "outputs": [
    {
     "data": {
      "image/png": "[encoded data removed]",
      "text/plain": [
       "<Figure size 432x288 with 1 Axes>"
      ]
     },
     "metadata": {
      "needs_background": "light"
     },
     "output_type": "display_data"
    }
   ],
   "source": [
    "df.query('tariff_name == \"smart\"')['mb_used'].hist(bins=30, alpha=.7, label='smart')\n",
    "df.query('tariff_name == \"ultra\"')['mb_used'].hist(bins=30, alpha=.7, label='ultra')\n",
    "plt.legend()\n",
    "plt.show()"
   ]
  },
  {
   "cell_type": "markdown",
   "metadata": {},
   "source": [
    "Гистограммы использованного интернет-трафика для обоих тарифов имеют нормальное распределение. Среднее значение для тарифа Смарт - 15 тыс mb, для тарифа Ультра - 2 тыс mb. Пользователи тарифа Ультра используют больше интернет-трафика.  "
   ]
  },
  {
   "cell_type": "code",
   "execution_count": 118,
   "metadata": {},
   "outputs": [
    {
     "data": {
      "text/html": [
       "<div>\n",
       "<style scoped>\n",
       "    .dataframe tbody tr th:only-of-type {\n",
       "        vertical-align: middle;\n",
       "    }\n",
       "\n",
       "    .dataframe tbody tr th {\n",
       "        vertical-align: top;\n",
       "    }\n",
       "\n",
       "    .dataframe thead tr th {\n",
       "        text-align: left;\n",
       "    }\n",
       "\n",
       "    .dataframe thead tr:last-of-type th {\n",
       "        text-align: right;\n",
       "    }\n",
       "</style>\n",
       "<table border=\"1\" class=\"dataframe\">\n",
       "  <thead>\n",
       "    <tr>\n",
       "      <th></th>\n",
       "      <th colspan=\"3\" halign=\"left\">mean</th>\n",
       "      <th colspan=\"3\" halign=\"left\">var</th>\n",
       "      <th colspan=\"3\" halign=\"left\">std</th>\n",
       "    </tr>\n",
       "    <tr>\n",
       "      <th></th>\n",
       "      <th>dur_calls</th>\n",
       "      <th>mb_used</th>\n",
       "      <th>messages</th>\n",
       "      <th>dur_calls</th>\n",
       "      <th>mb_used</th>\n",
       "      <th>messages</th>\n",
       "      <th>dur_calls</th>\n",
       "      <th>mb_used</th>\n",
       "      <th>messages</th>\n",
       "    </tr>\n",
       "    <tr>\n",
       "      <th>tariff_name</th>\n",
       "      <th></th>\n",
       "      <th></th>\n",
       "      <th></th>\n",
       "      <th></th>\n",
       "      <th></th>\n",
       "      <th></th>\n",
       "      <th></th>\n",
       "      <th></th>\n",
       "      <th></th>\n",
       "    </tr>\n",
       "  </thead>\n",
       "  <tbody>\n",
       "    <tr>\n",
       "      <th>smart</th>\n",
       "      <td>417.934948</td>\n",
       "      <td>16208.386990</td>\n",
       "      <td>33.384029</td>\n",
       "      <td>36219.315784</td>\n",
       "      <td>3.446250e+07</td>\n",
       "      <td>796.812958</td>\n",
       "      <td>190.313730</td>\n",
       "      <td>5870.476681</td>\n",
       "      <td>28.227876</td>\n",
       "    </tr>\n",
       "    <tr>\n",
       "      <th>ultra</th>\n",
       "      <td>526.623350</td>\n",
       "      <td>19468.805208</td>\n",
       "      <td>49.363452</td>\n",
       "      <td>100873.633397</td>\n",
       "      <td>1.017510e+08</td>\n",
       "      <td>2285.266143</td>\n",
       "      <td>317.606098</td>\n",
       "      <td>10087.170752</td>\n",
       "      <td>47.804457</td>\n",
       "    </tr>\n",
       "  </tbody>\n",
       "</table>\n",
       "</div>"
      ],
      "text/plain": [
       "                   mean                                     var                \\\n",
       "              dur_calls       mb_used   messages      dur_calls       mb_used   \n",
       "tariff_name                                                                     \n",
       "smart        417.934948  16208.386990  33.384029   36219.315784  3.446250e+07   \n",
       "ultra        526.623350  19468.805208  49.363452  100873.633397  1.017510e+08   \n",
       "\n",
       "                                 std                           \n",
       "                messages   dur_calls       mb_used   messages  \n",
       "tariff_name                                                    \n",
       "smart         796.812958  190.313730   5870.476681  28.227876  \n",
       "ultra        2285.266143  317.606098  10087.170752  47.804457  "
      ]
     },
     "execution_count": 118,
     "metadata": {},
     "output_type": "execute_result"
    }
   ],
   "source": [
    "df.pivot_table(\n",
    "index='tariff_name',\n",
    "values=['dur_calls', 'messages', 'mb_used'],\n",
    "aggfunc=['mean', 'var', 'std'])"
   ]
  },
  {
   "cell_type": "markdown",
   "metadata": {},
   "source": [
    "Пользователи на тарифе Ultra в среднем используют больше звонков, смс, и интернет-трафика. При этом на тарифе Smart стандартное отклонение ниже,что говорит о том, что вырчка на тарифе Smart более устойчива."
   ]
  },
  {
   "cell_type": "markdown",
   "metadata": {},
   "source": [
    "## Проверка гиппотезы"
   ]
  },
  {
   "cell_type": "markdown",
   "metadata": {},
   "source": [
    "- средняя выручка пользователей тарифов «Ультра» и «Смарт» различаются;\n",
    "- средняя выручка пользователей из Москвы отличается от выручки пользователей из других регионов."
   ]
  },
  {
   "cell_type": "markdown",
   "metadata": {},
   "source": [
    "Сформируем нулевую гиппотезу как:\n",
    "- средняя выручка пользователей на тарифе Смарт равна выручке на тарифе Ультра\n",
    "- средняя выручка в Москве равна средней выручке в остальных регионах.\n",
    "\n",
    "Альтернативная гиппотеза:\n",
    "- средняя выручка на тарифе Смарт не равна средней выручке на тарифе Ультра\n",
    "- средняя выручка в Москве не равна средней выручке в остальных регионах"
   ]
  },
  {
   "cell_type": "code",
   "execution_count": 119,
   "metadata": {},
   "outputs": [],
   "source": [
    "df_smart = df.query('tariff_name == \"smart\"')"
   ]
  },
  {
   "cell_type": "code",
   "execution_count": 120,
   "metadata": {},
   "outputs": [],
   "source": [
    "df_ultra = df.query('tariff_name == \"ultra\"')"
   ]
  },
  {
   "cell_type": "code",
   "execution_count": 121,
   "metadata": {},
   "outputs": [],
   "source": [
    "df_moscow = df.query('city == \"Москва\"')"
   ]
  },
  {
   "cell_type": "code",
   "execution_count": 122,
   "metadata": {},
   "outputs": [],
   "source": [
    "df_other = df.query('city != \"Москва\"')"
   ]
  },
  {
   "cell_type": "code",
   "execution_count": 123,
   "metadata": {},
   "outputs": [],
   "source": [
    "alpha = 0.05"
   ]
  },
  {
   "cell_type": "code",
   "execution_count": 124,
   "metadata": {
    "scrolled": true
   },
   "outputs": [
    {
     "data": {
      "image/png": "[encoded data removed]",
      "text/plain": [
       "<Figure size 432x288 with 1 Axes>"
      ]
     },
     "metadata": {
      "needs_background": "light"
     },
     "output_type": "display_data"
    }
   ],
   "source": [
    "df_smart['revenue'].hist(bins=15, alpha=0.7, label='smart')\n",
    "df_ultra['revenue'].hist(bins=15, alpha=.7, label='ultra')\n",
    "plt.legend()\n",
    "plt.show()"
   ]
  },
  {
   "cell_type": "markdown",
   "metadata": {},
   "source": [
    "На гистограмме видно что больше всего значений имеет минимальное значене выручки. Например для тарифа Смарт - это 500-1000, для тарифа Ультра - 2000. Абонентская плата тарифа Смарт - 550 руб, Ультра - 1950. Соответственно большинство абонентов укладываются в ежемесячные лимиты и платят только абонентскую плату."
   ]
  },
  {
   "cell_type": "code",
   "execution_count": 125,
   "metadata": {
    "scrolled": true
   },
   "outputs": [
    {
     "data": {
      "image/png": "[encoded data removed]",
      "text/plain": [
       "<Figure size 432x288 with 1 Axes>"
      ]
     },
     "metadata": {
      "needs_background": "light"
     },
     "output_type": "display_data"
    }
   ],
   "source": [
    "df_moscow['revenue'].hist(bins=15, alpha=0.7, label='Москва')\n",
    "df_other['revenue'].hist(bins=15, alpha=0.7, label='Другие регионы')\n",
    "plt.legend()\n",
    "plt.show()"
   ]
  },
  {
   "cell_type": "markdown",
   "metadata": {},
   "source": [
    "Гистограмма выручки абонентов Москвы и других регионов не отличаются между собой. Мы видим пики на значениях 550-1000 и 2000, что такж соответсвует сумме абонентской платы для обоих тарифов. Различия только в количестве абонентов. "
   ]
  },
  {
   "cell_type": "code",
   "execution_count": 126,
   "metadata": {},
   "outputs": [],
   "source": [
    "h0_tariff = st.ttest_ind(df_smart.revenue, df_ultra.revenue)"
   ]
  },
  {
   "cell_type": "code",
   "execution_count": 127,
   "metadata": {},
   "outputs": [],
   "source": [
    "h0_region = st.ttest_ind(df_moscow.revenue, df_other.revenue)"
   ]
  },
  {
   "cell_type": "code",
   "execution_count": 128,
   "metadata": {},
   "outputs": [
    {
     "data": {
      "text/plain": [
       "Ttest_indResult(statistic=-27.690529741074982, pvalue=1.553031575858775e-151)"
      ]
     },
     "metadata": {},
     "output_type": "display_data"
    }
   ],
   "source": [
    "display(h0_tariff)"
   ]
  },
  {
   "cell_type": "code",
   "execution_count": 129,
   "metadata": {},
   "outputs": [
    {
     "data": {
      "text/plain": [
       "Ttest_indResult(statistic=0.5352966851453295, pvalue=0.5924817760011163)"
      ]
     },
     "metadata": {},
     "output_type": "display_data"
    }
   ],
   "source": [
    "display(h0_region)"
   ]
  },
  {
   "cell_type": "code",
   "execution_count": 130,
   "metadata": {},
   "outputs": [
    {
     "data": {
      "text/html": [
       "<div>\n",
       "<style scoped>\n",
       "    .dataframe tbody tr th:only-of-type {\n",
       "        vertical-align: middle;\n",
       "    }\n",
       "\n",
       "    .dataframe tbody tr th {\n",
       "        vertical-align: top;\n",
       "    }\n",
       "\n",
       "    .dataframe thead tr th {\n",
       "        text-align: left;\n",
       "    }\n",
       "\n",
       "    .dataframe thead tr:last-of-type th {\n",
       "        text-align: right;\n",
       "    }\n",
       "</style>\n",
       "<table border=\"1\" class=\"dataframe\">\n",
       "  <thead>\n",
       "    <tr>\n",
       "      <th></th>\n",
       "      <th>mean</th>\n",
       "      <th>var</th>\n",
       "      <th>std</th>\n",
       "    </tr>\n",
       "    <tr>\n",
       "      <th></th>\n",
       "      <th>revenue</th>\n",
       "      <th>revenue</th>\n",
       "      <th>revenue</th>\n",
       "    </tr>\n",
       "    <tr>\n",
       "      <th>tariff_name</th>\n",
       "      <th></th>\n",
       "      <th></th>\n",
       "      <th></th>\n",
       "    </tr>\n",
       "  </thead>\n",
       "  <tbody>\n",
       "    <tr>\n",
       "      <th>smart</th>\n",
       "      <td>1303.253028</td>\n",
       "      <td>694546.611891</td>\n",
       "      <td>833.394632</td>\n",
       "    </tr>\n",
       "    <tr>\n",
       "      <th>ultra</th>\n",
       "      <td>2072.436548</td>\n",
       "      <td>147981.862078</td>\n",
       "      <td>384.684107</td>\n",
       "    </tr>\n",
       "  </tbody>\n",
       "</table>\n",
       "</div>"
      ],
      "text/plain": [
       "                    mean            var         std\n",
       "                 revenue        revenue     revenue\n",
       "tariff_name                                        \n",
       "smart        1303.253028  694546.611891  833.394632\n",
       "ultra        2072.436548  147981.862078  384.684107"
      ]
     },
     "execution_count": 130,
     "metadata": {},
     "output_type": "execute_result"
    }
   ],
   "source": [
    "df.pivot_table(index='tariff_name', values='revenue', aggfunc=['mean', 'var', 'std'])"
   ]
  },
  {
   "cell_type": "markdown",
   "metadata": {},
   "source": [
    "Гиппотеза о том что выручка на тарифе Смарт и Ультра одинаковая не подтвердилась. p-value 1.55е-151. Значение близко к 0. Это значит что вероятность получить значение равной выручки близко к 0. Гистограмма также подтвержает что средняя выручка на обоих тарифах отличается.\n",
    "Гиппотеза о том что выручка в г. Москва равна выручке в других регионах подтверждается на 59%. P-value - 0.59. На гистограмме также видны пики и спады на одинаковых значениях выручки. Это также подтверждается гистограммами длительости звонков, количества сообщений и испльзованного интернет-трафика.   "
   ]
  },
  {
   "cell_type": "markdown",
   "metadata": {},
   "source": [
    "## Выводы"
   ]
  },
  {
   "cell_type": "markdown",
   "metadata": {},
   "source": [
    "Проведен анализ тарифов Smart и Ultra для компании  ООО\"Мегалайн\" с целью определения более выгоднного тарифа. Анализ проведен на основе данных за 2018 год: длительность звонков, количество СМС и использованных мегабайт. \n",
    "При первичной проверке не было выявлено выбросов данных. Для анализа все датафреймы были сгруппированы по абоненту и месяцу. Длительность звонков была округлена до целого числа по праилам тарификации. Мегабайты переведены в гигабайты. После этого данные были объединены в общий датафрейм и рассчитана ежемесячная выручка по каждому абоненту.\n",
    "Для анализа рассчитаны среднее, дисперся и стандартное отклонение длительности звонков, количества СМС и мегабайт интернет-трафика. Анализ показал, что в среднем пользователи тарифа Ultra используют больше минут звонков, количества СМС и мегабайт трафика. Но при этом у пользователей тарифа Smart страндартное отклонение ниже. Это означает что показатели более стабильны.\n",
    "Далее выдвинули 2 гиппотезы. \n",
    "\n",
    "Нулевая иппотеза:\n",
    "- средняя выручка пользователей на тарифе Смарт равна выручке на тарифе Ультра\n",
    "- средняя выручка в Москве равна средней выручке в остальных регионах.\n",
    "\n",
    "Альтернативная гиппотеза:\n",
    "- средняя выручка на тарифе Смарт не равна средней выручке на тарифе Ультра\n",
    "- средняя выручка в Москве не равна средней выручке в остальных регионах\n",
    "\n",
    "Для проверки гиппотез были построены гистограммы выручки в разрезе тарифных планов и городов, а также проведен расчет p-value и statistic методом t-test. Анализ показл что гиппотза о том что средняя выручка пользователей на тарифе Smart и Ultra равны не подтвердилась. Вероятность получить одинаковые значения выручки на обоих тарифах близка к 0. Вторая гиппотеза о том что выручка абонентов из Москвы и дргих городов одинаковая подтвердилась. Обе гистограммы похожи друг на друга, отличия только в количестве абонентов.\n",
    "На основе проведенного анализа можно сделать вывод что средняя выручка у абонентов тарифа Ultra выше чем у абонентов трифа Smart. Стандартное отклонение ниже почти в 3 раза. Тариф Ultra более выгоден для компании."
   ]
  },
  {
   "cell_type": "code",
   "execution_count": null,
   "metadata": {},
   "outputs": [],
   "source": []
  }
 ],
 "metadata": {
  "ExecuteTimeLog": [
   {
    "duration": 185,
    "start_time": "2022-03-27T19:16:34.549Z"
   },
   {
    "duration": 426,
    "start_time": "2022-03-27T19:17:51.143Z"
   },
   {
    "duration": 132,
    "start_time": "2022-03-27T19:19:57.071Z"
   },
   {
    "duration": 153,
    "start_time": "2022-03-27T19:21:56.753Z"
   },
   {
    "duration": 179,
    "start_time": "2022-03-27T19:22:36.747Z"
   },
   {
    "duration": 85,
    "start_time": "2022-03-27T19:23:27.737Z"
   },
   {
    "duration": 12,
    "start_time": "2022-03-27T19:24:10.477Z"
   },
   {
    "duration": 21,
    "start_time": "2022-03-27T19:24:51.535Z"
   },
   {
    "duration": 18,
    "start_time": "2022-03-27T19:26:16.063Z"
   },
   {
    "duration": 26,
    "start_time": "2022-03-27T19:26:46.875Z"
   },
   {
    "duration": 35,
    "start_time": "2022-03-27T19:28:59.879Z"
   },
   {
    "duration": 67,
    "start_time": "2022-03-27T19:30:25.312Z"
   },
   {
    "duration": 51,
    "start_time": "2022-03-28T10:22:21.330Z"
   },
   {
    "duration": 367,
    "start_time": "2022-03-28T10:22:25.637Z"
   },
   {
    "duration": 163,
    "start_time": "2022-03-28T10:22:26.006Z"
   },
   {
    "duration": 131,
    "start_time": "2022-03-28T10:22:26.171Z"
   },
   {
    "duration": 85,
    "start_time": "2022-03-28T10:22:26.304Z"
   },
   {
    "duration": 16,
    "start_time": "2022-03-28T10:22:26.391Z"
   },
   {
    "duration": 47,
    "start_time": "2022-03-28T10:22:26.409Z"
   },
   {
    "duration": 26,
    "start_time": "2022-03-28T10:22:26.458Z"
   },
   {
    "duration": 35,
    "start_time": "2022-03-28T10:22:51.946Z"
   },
   {
    "duration": 33,
    "start_time": "2022-03-28T10:28:07.579Z"
   },
   {
    "duration": 17,
    "start_time": "2022-03-28T10:28:21.764Z"
   },
   {
    "duration": 37,
    "start_time": "2022-03-28T10:32:26.394Z"
   },
   {
    "duration": 26,
    "start_time": "2022-03-28T10:32:44.719Z"
   },
   {
    "duration": 24,
    "start_time": "2022-03-28T10:34:04.434Z"
   },
   {
    "duration": 22,
    "start_time": "2022-03-28T10:36:24.662Z"
   },
   {
    "duration": 3,
    "start_time": "2022-03-28T10:38:29.602Z"
   },
   {
    "duration": 153,
    "start_time": "2022-03-28T10:38:29.609Z"
   },
   {
    "duration": 126,
    "start_time": "2022-03-28T10:38:29.764Z"
   },
   {
    "duration": 85,
    "start_time": "2022-03-28T10:38:29.892Z"
   },
   {
    "duration": 16,
    "start_time": "2022-03-28T10:38:29.979Z"
   },
   {
    "duration": 50,
    "start_time": "2022-03-28T10:38:29.998Z"
   },
   {
    "duration": 71,
    "start_time": "2022-03-28T10:38:30.050Z"
   },
   {
    "duration": 37,
    "start_time": "2022-03-28T10:38:30.123Z"
   },
   {
    "duration": 22,
    "start_time": "2022-03-28T10:38:30.162Z"
   },
   {
    "duration": 24,
    "start_time": "2022-03-28T10:38:30.201Z"
   },
   {
    "duration": 23,
    "start_time": "2022-03-28T10:38:30.227Z"
   },
   {
    "duration": 19,
    "start_time": "2022-03-28T10:41:37.353Z"
   },
   {
    "duration": 45,
    "start_time": "2022-03-28T10:41:41.473Z"
   },
   {
    "duration": 10,
    "start_time": "2022-03-28T10:43:21.064Z"
   },
   {
    "duration": 1979,
    "start_time": "2022-03-28T10:44:07.880Z"
   },
   {
    "duration": 52,
    "start_time": "2022-03-28T10:44:21.708Z"
   },
   {
    "duration": 13,
    "start_time": "2022-03-28T10:44:31.725Z"
   },
   {
    "duration": 13,
    "start_time": "2022-03-28T10:46:19.374Z"
   },
   {
    "duration": 14,
    "start_time": "2022-03-28T10:46:38.258Z"
   },
   {
    "duration": 4,
    "start_time": "2022-03-28T10:47:39.440Z"
   },
   {
    "duration": 4,
    "start_time": "2022-03-28T10:47:48.150Z"
   },
   {
    "duration": 94,
    "start_time": "2022-03-28T10:52:36.558Z"
   },
   {
    "duration": 101,
    "start_time": "2022-03-28T10:52:48.187Z"
   },
   {
    "duration": 94,
    "start_time": "2022-03-28T10:52:55.550Z"
   },
   {
    "duration": 74,
    "start_time": "2022-03-28T10:53:06.688Z"
   },
   {
    "duration": 43,
    "start_time": "2022-03-28T10:53:13.511Z"
   },
   {
    "duration": 204,
    "start_time": "2022-03-28T10:53:58.507Z"
   },
   {
    "duration": 214,
    "start_time": "2022-03-28T10:54:16.812Z"
   },
   {
    "duration": 54,
    "start_time": "2022-03-28T11:02:45.805Z"
   },
   {
    "duration": 12,
    "start_time": "2022-03-28T11:34:08.767Z"
   },
   {
    "duration": 10,
    "start_time": "2022-03-28T11:34:43.947Z"
   },
   {
    "duration": 9,
    "start_time": "2022-03-28T11:34:50.494Z"
   },
   {
    "duration": 10,
    "start_time": "2022-03-28T11:35:13.496Z"
   },
   {
    "duration": 9,
    "start_time": "2022-03-28T11:35:26.549Z"
   },
   {
    "duration": 4,
    "start_time": "2022-03-28T11:40:59.964Z"
   },
   {
    "duration": 5,
    "start_time": "2022-03-28T11:41:17.724Z"
   },
   {
    "duration": 13,
    "start_time": "2022-03-28T11:41:26.644Z"
   },
   {
    "duration": 11,
    "start_time": "2022-03-28T11:41:43.753Z"
   },
   {
    "duration": 32,
    "start_time": "2022-03-28T11:41:56.206Z"
   },
   {
    "duration": 13,
    "start_time": "2022-03-28T11:42:04.900Z"
   },
   {
    "duration": 31,
    "start_time": "2022-03-28T11:42:13.230Z"
   },
   {
    "duration": 9,
    "start_time": "2022-03-28T11:43:06.153Z"
   },
   {
    "duration": 24,
    "start_time": "2022-03-28T11:44:43.235Z"
   },
   {
    "duration": 22,
    "start_time": "2022-03-28T11:44:54.329Z"
   },
   {
    "duration": 22,
    "start_time": "2022-03-28T11:52:28.323Z"
   },
   {
    "duration": 20,
    "start_time": "2022-03-28T11:53:35.209Z"
   },
   {
    "duration": 8,
    "start_time": "2022-03-28T11:55:20.012Z"
   },
   {
    "duration": 19,
    "start_time": "2022-03-28T11:55:52.567Z"
   },
   {
    "duration": 79,
    "start_time": "2022-03-28T11:57:50.186Z"
   },
   {
    "duration": 67,
    "start_time": "2022-03-28T11:58:15.951Z"
   },
   {
    "duration": 10,
    "start_time": "2022-03-28T11:59:14.175Z"
   },
   {
    "duration": 60,
    "start_time": "2022-03-28T11:59:27.227Z"
   },
   {
    "duration": 5,
    "start_time": "2022-03-28T11:59:30.131Z"
   },
   {
    "duration": 8,
    "start_time": "2022-03-28T11:59:38.420Z"
   },
   {
    "duration": 9,
    "start_time": "2022-03-28T11:59:45.712Z"
   },
   {
    "duration": 9,
    "start_time": "2022-03-28T11:59:54.290Z"
   },
   {
    "duration": 3,
    "start_time": "2022-03-28T12:00:00.031Z"
   },
   {
    "duration": 178,
    "start_time": "2022-03-28T12:00:00.037Z"
   },
   {
    "duration": 133,
    "start_time": "2022-03-28T12:00:00.218Z"
   },
   {
    "duration": 90,
    "start_time": "2022-03-28T12:00:00.353Z"
   },
   {
    "duration": 16,
    "start_time": "2022-03-28T12:00:00.444Z"
   },
   {
    "duration": 74,
    "start_time": "2022-03-28T12:00:00.463Z"
   },
   {
    "duration": 68,
    "start_time": "2022-03-28T12:00:00.539Z"
   },
   {
    "duration": 37,
    "start_time": "2022-03-28T12:00:00.609Z"
   },
   {
    "duration": 46,
    "start_time": "2022-03-28T12:00:00.648Z"
   },
   {
    "duration": 41,
    "start_time": "2022-03-28T12:00:00.696Z"
   },
   {
    "duration": 33,
    "start_time": "2022-03-28T12:00:00.739Z"
   },
   {
    "duration": 198,
    "start_time": "2022-03-28T12:00:00.774Z"
   },
   {
    "duration": 63,
    "start_time": "2022-03-28T12:00:00.974Z"
   },
   {
    "duration": 23,
    "start_time": "2022-03-28T12:00:01.039Z"
   },
   {
    "duration": 82,
    "start_time": "2022-03-28T12:00:01.065Z"
   },
   {
    "duration": 15,
    "start_time": "2022-03-28T12:00:01.149Z"
   },
   {
    "duration": 29,
    "start_time": "2022-03-28T12:00:01.166Z"
   },
   {
    "duration": 4048,
    "start_time": "2022-03-28T12:02:50.468Z"
   },
   {
    "duration": 46,
    "start_time": "2022-03-28T14:15:55.142Z"
   },
   {
    "duration": 389,
    "start_time": "2022-03-28T14:16:00.959Z"
   },
   {
    "duration": 150,
    "start_time": "2022-03-28T14:16:01.350Z"
   },
   {
    "duration": 144,
    "start_time": "2022-03-28T14:16:01.501Z"
   },
   {
    "duration": 87,
    "start_time": "2022-03-28T14:16:01.647Z"
   },
   {
    "duration": 10,
    "start_time": "2022-03-28T14:16:01.735Z"
   },
   {
    "duration": 21,
    "start_time": "2022-03-28T14:16:01.747Z"
   },
   {
    "duration": 76,
    "start_time": "2022-03-28T14:16:01.769Z"
   },
   {
    "duration": 34,
    "start_time": "2022-03-28T14:16:01.847Z"
   },
   {
    "duration": 26,
    "start_time": "2022-03-28T14:16:01.883Z"
   },
   {
    "duration": 36,
    "start_time": "2022-03-28T14:16:01.912Z"
   },
   {
    "duration": 4,
    "start_time": "2022-03-28T14:16:01.950Z"
   },
   {
    "duration": 302,
    "start_time": "2022-03-28T14:16:01.956Z"
   },
   {
    "duration": 51,
    "start_time": "2022-03-28T14:16:02.259Z"
   },
   {
    "duration": 37,
    "start_time": "2022-03-28T14:16:02.312Z"
   },
   {
    "duration": 60,
    "start_time": "2022-03-28T14:16:02.351Z"
   },
   {
    "duration": 23,
    "start_time": "2022-03-28T14:16:02.413Z"
   },
   {
    "duration": 18,
    "start_time": "2022-03-28T14:16:02.438Z"
   },
   {
    "duration": 12,
    "start_time": "2022-03-28T14:16:23.453Z"
   },
   {
    "duration": 36,
    "start_time": "2022-03-28T14:17:43.673Z"
   },
   {
    "duration": 12,
    "start_time": "2022-03-28T14:19:05.215Z"
   },
   {
    "duration": 11,
    "start_time": "2022-03-28T14:25:14.592Z"
   },
   {
    "duration": 4,
    "start_time": "2022-03-28T14:28:05.473Z"
   },
   {
    "duration": 57,
    "start_time": "2022-03-28T14:28:07.539Z"
   },
   {
    "duration": 53,
    "start_time": "2022-03-28T14:28:19.741Z"
   },
   {
    "duration": 16,
    "start_time": "2022-03-28T14:28:25.146Z"
   },
   {
    "duration": 46,
    "start_time": "2022-03-28T14:39:14.325Z"
   },
   {
    "duration": 379,
    "start_time": "2022-03-28T14:39:18.974Z"
   },
   {
    "duration": 149,
    "start_time": "2022-03-28T14:39:19.355Z"
   },
   {
    "duration": 127,
    "start_time": "2022-03-28T14:39:19.506Z"
   },
   {
    "duration": 77,
    "start_time": "2022-03-28T14:39:19.635Z"
   },
   {
    "duration": 9,
    "start_time": "2022-03-28T14:39:19.714Z"
   },
   {
    "duration": 20,
    "start_time": "2022-03-28T14:39:19.725Z"
   },
   {
    "duration": 66,
    "start_time": "2022-03-28T14:39:19.746Z"
   },
   {
    "duration": 43,
    "start_time": "2022-03-28T14:39:19.813Z"
   },
   {
    "duration": 23,
    "start_time": "2022-03-28T14:39:19.858Z"
   },
   {
    "duration": 20,
    "start_time": "2022-03-28T14:39:19.883Z"
   },
   {
    "duration": 4,
    "start_time": "2022-03-28T14:39:19.904Z"
   },
   {
    "duration": 215,
    "start_time": "2022-03-28T14:39:19.932Z"
   },
   {
    "duration": 55,
    "start_time": "2022-03-28T14:39:20.148Z"
   },
   {
    "duration": 37,
    "start_time": "2022-03-28T14:39:20.205Z"
   },
   {
    "duration": 4,
    "start_time": "2022-03-28T14:39:20.243Z"
   },
   {
    "duration": 65,
    "start_time": "2022-03-28T14:39:20.248Z"
   },
   {
    "duration": 67,
    "start_time": "2022-03-28T14:39:20.315Z"
   },
   {
    "duration": 2312,
    "start_time": "2022-03-28T14:39:20.383Z"
   },
   {
    "duration": 0,
    "start_time": "2022-03-28T14:39:22.697Z"
   },
   {
    "duration": 0,
    "start_time": "2022-03-28T14:39:22.698Z"
   },
   {
    "duration": 2047,
    "start_time": "2022-03-28T14:39:36.260Z"
   },
   {
    "duration": 4148,
    "start_time": "2022-03-28T14:40:07.704Z"
   },
   {
    "duration": 59,
    "start_time": "2022-03-28T14:40:18.573Z"
   },
   {
    "duration": 11,
    "start_time": "2022-03-28T14:40:23.650Z"
   },
   {
    "duration": 12,
    "start_time": "2022-03-28T14:44:16.197Z"
   },
   {
    "duration": 138,
    "start_time": "2022-03-28T14:44:42.817Z"
   },
   {
    "duration": 17,
    "start_time": "2022-03-28T14:44:47.466Z"
   },
   {
    "duration": 13,
    "start_time": "2022-03-28T14:44:56.133Z"
   },
   {
    "duration": 15,
    "start_time": "2022-03-28T14:45:01.468Z"
   },
   {
    "duration": 44,
    "start_time": "2022-03-28T14:46:56.123Z"
   },
   {
    "duration": 46,
    "start_time": "2022-03-28T14:55:56.438Z"
   },
   {
    "duration": 41,
    "start_time": "2022-03-28T14:56:09.330Z"
   },
   {
    "duration": 34,
    "start_time": "2022-03-28T15:06:49.931Z"
   },
   {
    "duration": 8,
    "start_time": "2022-03-28T15:07:04.433Z"
   },
   {
    "duration": 75,
    "start_time": "2022-03-28T17:53:50.640Z"
   },
   {
    "duration": 526,
    "start_time": "2022-03-28T17:54:01.657Z"
   },
   {
    "duration": 197,
    "start_time": "2022-03-28T17:54:02.185Z"
   },
   {
    "duration": 166,
    "start_time": "2022-03-28T17:54:02.385Z"
   },
   {
    "duration": 115,
    "start_time": "2022-03-28T17:54:02.553Z"
   },
   {
    "duration": 12,
    "start_time": "2022-03-28T17:54:02.671Z"
   },
   {
    "duration": 18,
    "start_time": "2022-03-28T17:54:02.685Z"
   },
   {
    "duration": 111,
    "start_time": "2022-03-28T17:54:02.705Z"
   },
   {
    "duration": 76,
    "start_time": "2022-03-28T17:54:02.819Z"
   },
   {
    "duration": 35,
    "start_time": "2022-03-28T17:54:02.898Z"
   },
   {
    "duration": 49,
    "start_time": "2022-03-28T17:54:02.935Z"
   },
   {
    "duration": 6,
    "start_time": "2022-03-28T17:54:02.986Z"
   },
   {
    "duration": 310,
    "start_time": "2022-03-28T17:54:02.994Z"
   },
   {
    "duration": 100,
    "start_time": "2022-03-28T17:54:03.307Z"
   },
   {
    "duration": 86,
    "start_time": "2022-03-28T17:54:03.412Z"
   },
   {
    "duration": 74,
    "start_time": "2022-03-28T17:54:03.500Z"
   },
   {
    "duration": 34,
    "start_time": "2022-03-28T17:54:03.576Z"
   },
   {
    "duration": 65,
    "start_time": "2022-03-28T17:54:03.612Z"
   },
   {
    "duration": 4,
    "start_time": "2022-03-28T17:55:41.267Z"
   },
   {
    "duration": 220,
    "start_time": "2022-03-28T17:55:41.279Z"
   },
   {
    "duration": 177,
    "start_time": "2022-03-28T17:55:41.501Z"
   },
   {
    "duration": 118,
    "start_time": "2022-03-28T17:55:41.680Z"
   },
   {
    "duration": 12,
    "start_time": "2022-03-28T17:55:41.800Z"
   },
   {
    "duration": 19,
    "start_time": "2022-03-28T17:55:41.814Z"
   },
   {
    "duration": 114,
    "start_time": "2022-03-28T17:55:41.835Z"
   },
   {
    "duration": 69,
    "start_time": "2022-03-28T17:55:41.952Z"
   },
   {
    "duration": 65,
    "start_time": "2022-03-28T17:55:42.023Z"
   },
   {
    "duration": 33,
    "start_time": "2022-03-28T17:55:42.091Z"
   },
   {
    "duration": 6,
    "start_time": "2022-03-28T17:55:42.128Z"
   },
   {
    "duration": 327,
    "start_time": "2022-03-28T17:55:42.136Z"
   },
   {
    "duration": 80,
    "start_time": "2022-03-28T17:55:42.465Z"
   },
   {
    "duration": 89,
    "start_time": "2022-03-28T17:55:42.548Z"
   },
   {
    "duration": 86,
    "start_time": "2022-03-28T17:55:42.639Z"
   },
   {
    "duration": 52,
    "start_time": "2022-03-28T17:55:42.727Z"
   },
   {
    "duration": 9,
    "start_time": "2022-03-28T17:55:42.782Z"
   },
   {
    "duration": 26,
    "start_time": "2022-03-28T17:58:56.152Z"
   },
   {
    "duration": 28,
    "start_time": "2022-03-28T18:01:01.411Z"
   },
   {
    "duration": 11,
    "start_time": "2022-03-28T18:02:19.140Z"
   },
   {
    "duration": 19,
    "start_time": "2022-03-28T18:06:14.744Z"
   },
   {
    "duration": 8,
    "start_time": "2022-03-28T18:07:26.497Z"
   },
   {
    "duration": 14,
    "start_time": "2022-03-28T18:07:42.102Z"
   },
   {
    "duration": 54,
    "start_time": "2022-03-28T18:14:30.397Z"
   },
   {
    "duration": 4,
    "start_time": "2022-03-28T18:15:54.878Z"
   },
   {
    "duration": 4,
    "start_time": "2022-03-28T18:15:59.972Z"
   },
   {
    "duration": 201,
    "start_time": "2022-03-28T18:15:59.988Z"
   },
   {
    "duration": 161,
    "start_time": "2022-03-28T18:16:00.192Z"
   },
   {
    "duration": 120,
    "start_time": "2022-03-28T18:16:00.355Z"
   },
   {
    "duration": 13,
    "start_time": "2022-03-28T18:16:00.478Z"
   },
   {
    "duration": 30,
    "start_time": "2022-03-28T18:16:00.493Z"
   },
   {
    "duration": 102,
    "start_time": "2022-03-28T18:16:00.526Z"
   },
   {
    "duration": 61,
    "start_time": "2022-03-28T18:16:00.630Z"
   },
   {
    "duration": 36,
    "start_time": "2022-03-28T18:16:00.693Z"
   },
   {
    "duration": 49,
    "start_time": "2022-03-28T18:16:00.731Z"
   },
   {
    "duration": 5,
    "start_time": "2022-03-28T18:16:00.784Z"
   },
   {
    "duration": 19,
    "start_time": "2022-03-28T18:16:00.791Z"
   },
   {
    "duration": 305,
    "start_time": "2022-03-28T18:16:00.812Z"
   },
   {
    "duration": 93,
    "start_time": "2022-03-28T18:16:01.119Z"
   },
   {
    "duration": 86,
    "start_time": "2022-03-28T18:16:01.214Z"
   },
   {
    "duration": 71,
    "start_time": "2022-03-28T18:16:01.302Z"
   },
   {
    "duration": 32,
    "start_time": "2022-03-28T18:16:01.376Z"
   },
   {
    "duration": 29,
    "start_time": "2022-03-28T18:16:01.410Z"
   },
   {
    "duration": 36,
    "start_time": "2022-03-28T18:16:01.441Z"
   },
   {
    "duration": 18,
    "start_time": "2022-03-28T18:16:01.480Z"
   },
   {
    "duration": 18,
    "start_time": "2022-03-28T18:16:01.501Z"
   },
   {
    "duration": 49,
    "start_time": "2022-03-28T19:20:11.655Z"
   },
   {
    "duration": 429,
    "start_time": "2022-03-28T19:20:18.097Z"
   },
   {
    "duration": 160,
    "start_time": "2022-03-28T19:20:18.528Z"
   },
   {
    "duration": 129,
    "start_time": "2022-03-28T19:20:18.690Z"
   },
   {
    "duration": 109,
    "start_time": "2022-03-28T19:20:18.821Z"
   },
   {
    "duration": 16,
    "start_time": "2022-03-28T19:20:18.933Z"
   },
   {
    "duration": 39,
    "start_time": "2022-03-28T19:20:18.952Z"
   },
   {
    "duration": 88,
    "start_time": "2022-03-28T19:20:18.993Z"
   },
   {
    "duration": 45,
    "start_time": "2022-03-28T19:20:19.082Z"
   },
   {
    "duration": 26,
    "start_time": "2022-03-28T19:20:19.129Z"
   },
   {
    "duration": 22,
    "start_time": "2022-03-28T19:20:19.158Z"
   },
   {
    "duration": 20,
    "start_time": "2022-03-28T19:20:19.182Z"
   },
   {
    "duration": 4,
    "start_time": "2022-03-28T19:20:19.204Z"
   },
   {
    "duration": 212,
    "start_time": "2022-03-28T19:20:19.210Z"
   },
   {
    "duration": 54,
    "start_time": "2022-03-28T19:20:19.424Z"
   },
   {
    "duration": 65,
    "start_time": "2022-03-28T19:20:19.480Z"
   },
   {
    "duration": 64,
    "start_time": "2022-03-28T19:20:19.547Z"
   },
   {
    "duration": 25,
    "start_time": "2022-03-28T19:20:19.614Z"
   },
   {
    "duration": 22,
    "start_time": "2022-03-28T19:20:19.640Z"
   },
   {
    "duration": 6,
    "start_time": "2022-03-28T19:20:19.664Z"
   },
   {
    "duration": 32,
    "start_time": "2022-03-28T19:20:19.672Z"
   },
   {
    "duration": 4431,
    "start_time": "2022-03-28T19:20:19.705Z"
   },
   {
    "duration": 0,
    "start_time": "2022-03-28T19:20:24.138Z"
   },
   {
    "duration": 2,
    "start_time": "2022-03-28T19:23:30.733Z"
   },
   {
    "duration": 247,
    "start_time": "2022-03-28T19:23:30.738Z"
   },
   {
    "duration": 136,
    "start_time": "2022-03-28T19:23:30.987Z"
   },
   {
    "duration": 88,
    "start_time": "2022-03-28T19:23:31.125Z"
   },
   {
    "duration": 15,
    "start_time": "2022-03-28T19:23:31.215Z"
   },
   {
    "duration": 37,
    "start_time": "2022-03-28T19:23:31.232Z"
   },
   {
    "duration": 68,
    "start_time": "2022-03-28T19:23:31.271Z"
   },
   {
    "duration": 30,
    "start_time": "2022-03-28T19:23:31.341Z"
   },
   {
    "duration": 40,
    "start_time": "2022-03-28T19:23:31.374Z"
   },
   {
    "duration": 20,
    "start_time": "2022-03-28T19:23:31.415Z"
   },
   {
    "duration": 3,
    "start_time": "2022-03-28T19:23:31.437Z"
   },
   {
    "duration": 8,
    "start_time": "2022-03-28T19:23:31.442Z"
   },
   {
    "duration": 166,
    "start_time": "2022-03-28T19:23:31.452Z"
   },
   {
    "duration": 48,
    "start_time": "2022-03-28T19:23:31.619Z"
   },
   {
    "duration": 68,
    "start_time": "2022-03-28T19:23:31.669Z"
   },
   {
    "duration": 34,
    "start_time": "2022-03-28T19:23:31.738Z"
   },
   {
    "duration": 38,
    "start_time": "2022-03-28T19:23:31.773Z"
   },
   {
    "duration": 17,
    "start_time": "2022-03-28T19:23:31.812Z"
   },
   {
    "duration": 5,
    "start_time": "2022-03-28T19:23:31.830Z"
   },
   {
    "duration": 7,
    "start_time": "2022-03-28T19:23:31.837Z"
   },
   {
    "duration": 3125,
    "start_time": "2022-03-28T19:23:31.845Z"
   },
   {
    "duration": 0,
    "start_time": "2022-03-28T19:23:34.972Z"
   },
   {
    "duration": 7,
    "start_time": "2022-03-28T19:23:54.580Z"
   },
   {
    "duration": 11,
    "start_time": "2022-03-28T19:23:59.406Z"
   },
   {
    "duration": 11,
    "start_time": "2022-03-28T19:25:20.047Z"
   },
   {
    "duration": 11,
    "start_time": "2022-03-28T19:25:57.825Z"
   },
   {
    "duration": 14,
    "start_time": "2022-03-28T19:26:29.905Z"
   },
   {
    "duration": 13,
    "start_time": "2022-03-28T19:27:07.673Z"
   },
   {
    "duration": 10,
    "start_time": "2022-03-28T19:29:28.842Z"
   },
   {
    "duration": 19,
    "start_time": "2022-03-28T19:29:31.458Z"
   },
   {
    "duration": 9,
    "start_time": "2022-03-28T19:29:53.608Z"
   },
   {
    "duration": 5,
    "start_time": "2022-03-28T19:29:55.777Z"
   },
   {
    "duration": 7,
    "start_time": "2022-03-28T19:30:32.993Z"
   },
   {
    "duration": 9,
    "start_time": "2022-03-28T19:30:51.258Z"
   },
   {
    "duration": 8,
    "start_time": "2022-03-28T19:31:02.652Z"
   },
   {
    "duration": 8,
    "start_time": "2022-03-28T19:36:33.756Z"
   },
   {
    "duration": 8,
    "start_time": "2022-03-28T19:36:42.550Z"
   },
   {
    "duration": 2,
    "start_time": "2022-03-28T19:36:51.072Z"
   },
   {
    "duration": 158,
    "start_time": "2022-03-28T19:36:51.124Z"
   },
   {
    "duration": 134,
    "start_time": "2022-03-28T19:36:51.284Z"
   },
   {
    "duration": 87,
    "start_time": "2022-03-28T19:36:51.420Z"
   },
   {
    "duration": 15,
    "start_time": "2022-03-28T19:36:51.509Z"
   },
   {
    "duration": 57,
    "start_time": "2022-03-28T19:36:51.526Z"
   },
   {
    "duration": 68,
    "start_time": "2022-03-28T19:36:51.585Z"
   },
   {
    "duration": 30,
    "start_time": "2022-03-28T19:36:51.655Z"
   },
   {
    "duration": 30,
    "start_time": "2022-03-28T19:36:51.687Z"
   },
   {
    "duration": 20,
    "start_time": "2022-03-28T19:36:51.719Z"
   },
   {
    "duration": 5,
    "start_time": "2022-03-28T19:36:51.742Z"
   },
   {
    "duration": 7,
    "start_time": "2022-03-28T19:36:51.748Z"
   },
   {
    "duration": 196,
    "start_time": "2022-03-28T19:36:51.756Z"
   },
   {
    "duration": 56,
    "start_time": "2022-03-28T19:36:51.954Z"
   },
   {
    "duration": 47,
    "start_time": "2022-03-28T19:36:52.012Z"
   },
   {
    "duration": 62,
    "start_time": "2022-03-28T19:36:52.061Z"
   },
   {
    "duration": 22,
    "start_time": "2022-03-28T19:36:52.125Z"
   },
   {
    "duration": 18,
    "start_time": "2022-03-28T19:36:52.149Z"
   },
   {
    "duration": 6,
    "start_time": "2022-03-28T19:36:52.169Z"
   },
   {
    "duration": 29,
    "start_time": "2022-03-28T19:36:52.176Z"
   },
   {
    "duration": 13,
    "start_time": "2022-03-28T19:36:52.206Z"
   },
   {
    "duration": 23,
    "start_time": "2022-03-28T19:36:52.220Z"
   },
   {
    "duration": 10,
    "start_time": "2022-03-28T19:37:23.078Z"
   },
   {
    "duration": 15,
    "start_time": "2022-03-28T19:38:04.439Z"
   },
   {
    "duration": 13,
    "start_time": "2022-03-28T19:38:52.294Z"
   },
   {
    "duration": 14,
    "start_time": "2022-03-28T19:39:13.643Z"
   },
   {
    "duration": 11,
    "start_time": "2022-03-28T19:39:53.110Z"
   },
   {
    "duration": 15,
    "start_time": "2022-03-28T19:40:08.391Z"
   },
   {
    "duration": 3,
    "start_time": "2022-03-28T19:40:29.322Z"
   },
   {
    "duration": 149,
    "start_time": "2022-03-28T19:40:29.333Z"
   },
   {
    "duration": 128,
    "start_time": "2022-03-28T19:40:29.484Z"
   },
   {
    "duration": 86,
    "start_time": "2022-03-28T19:40:29.614Z"
   },
   {
    "duration": 15,
    "start_time": "2022-03-28T19:40:29.702Z"
   },
   {
    "duration": 38,
    "start_time": "2022-03-28T19:40:29.719Z"
   },
   {
    "duration": 65,
    "start_time": "2022-03-28T19:40:29.758Z"
   },
   {
    "duration": 29,
    "start_time": "2022-03-28T19:40:29.825Z"
   },
   {
    "duration": 23,
    "start_time": "2022-03-28T19:40:29.856Z"
   },
   {
    "duration": 35,
    "start_time": "2022-03-28T19:40:29.881Z"
   },
   {
    "duration": 3,
    "start_time": "2022-03-28T19:40:29.919Z"
   },
   {
    "duration": 5,
    "start_time": "2022-03-28T19:40:29.924Z"
   },
   {
    "duration": 194,
    "start_time": "2022-03-28T19:40:29.930Z"
   },
   {
    "duration": 52,
    "start_time": "2022-03-28T19:40:30.126Z"
   },
   {
    "duration": 67,
    "start_time": "2022-03-28T19:40:30.180Z"
   },
   {
    "duration": 56,
    "start_time": "2022-03-28T19:40:30.249Z"
   },
   {
    "duration": 22,
    "start_time": "2022-03-28T19:40:30.307Z"
   },
   {
    "duration": 20,
    "start_time": "2022-03-28T19:40:30.331Z"
   },
   {
    "duration": 6,
    "start_time": "2022-03-28T19:40:30.353Z"
   },
   {
    "duration": 12,
    "start_time": "2022-03-28T19:40:30.360Z"
   },
   {
    "duration": 36,
    "start_time": "2022-03-28T19:40:30.374Z"
   },
   {
    "duration": 540,
    "start_time": "2022-03-29T05:35:22.006Z"
   },
   {
    "duration": 210,
    "start_time": "2022-03-29T05:35:22.549Z"
   },
   {
    "duration": 178,
    "start_time": "2022-03-29T05:35:22.762Z"
   },
   {
    "duration": 113,
    "start_time": "2022-03-29T05:35:22.943Z"
   },
   {
    "duration": 12,
    "start_time": "2022-03-29T05:35:23.058Z"
   },
   {
    "duration": 19,
    "start_time": "2022-03-29T05:35:23.072Z"
   },
   {
    "duration": 111,
    "start_time": "2022-03-29T05:35:23.093Z"
   },
   {
    "duration": 55,
    "start_time": "2022-03-29T05:35:23.206Z"
   },
   {
    "duration": 65,
    "start_time": "2022-03-29T05:35:23.264Z"
   },
   {
    "duration": 55,
    "start_time": "2022-03-29T05:35:23.332Z"
   },
   {
    "duration": 5,
    "start_time": "2022-03-29T05:35:23.389Z"
   },
   {
    "duration": 8,
    "start_time": "2022-03-29T05:35:23.396Z"
   },
   {
    "duration": 346,
    "start_time": "2022-03-29T05:35:23.406Z"
   },
   {
    "duration": 91,
    "start_time": "2022-03-29T05:35:23.754Z"
   },
   {
    "duration": 81,
    "start_time": "2022-03-29T05:35:23.848Z"
   },
   {
    "duration": 81,
    "start_time": "2022-03-29T05:35:23.932Z"
   },
   {
    "duration": 35,
    "start_time": "2022-03-29T05:35:24.015Z"
   },
   {
    "duration": 53,
    "start_time": "2022-03-29T05:35:24.052Z"
   },
   {
    "duration": 10,
    "start_time": "2022-03-29T05:35:24.107Z"
   },
   {
    "duration": 8,
    "start_time": "2022-03-29T05:35:24.119Z"
   },
   {
    "duration": 26,
    "start_time": "2022-03-29T05:35:24.129Z"
   },
   {
    "duration": 9,
    "start_time": "2022-03-29T05:42:04.230Z"
   },
   {
    "duration": 23,
    "start_time": "2022-03-29T05:42:06.833Z"
   },
   {
    "duration": 55,
    "start_time": "2022-03-29T05:51:27.502Z"
   },
   {
    "duration": 32,
    "start_time": "2022-03-29T05:51:30.012Z"
   },
   {
    "duration": 26,
    "start_time": "2022-03-29T05:51:30.764Z"
   },
   {
    "duration": 16,
    "start_time": "2022-03-29T05:51:31.478Z"
   },
   {
    "duration": 108,
    "start_time": "2022-03-29T05:51:32.272Z"
   },
   {
    "duration": 25,
    "start_time": "2022-03-29T05:51:51.815Z"
   },
   {
    "duration": 21,
    "start_time": "2022-03-29T05:51:55.682Z"
   },
   {
    "duration": 34,
    "start_time": "2022-03-29T05:53:33.323Z"
   },
   {
    "duration": 25,
    "start_time": "2022-03-29T05:53:43.999Z"
   },
   {
    "duration": 18,
    "start_time": "2022-03-29T05:53:51.598Z"
   },
   {
    "duration": 10,
    "start_time": "2022-03-29T05:54:43.375Z"
   },
   {
    "duration": 9,
    "start_time": "2022-03-29T05:57:46.706Z"
   },
   {
    "duration": 23,
    "start_time": "2022-03-29T05:57:57.473Z"
   },
   {
    "duration": 26,
    "start_time": "2022-03-29T05:58:09.102Z"
   },
   {
    "duration": 12,
    "start_time": "2022-03-29T06:04:32.410Z"
   },
   {
    "duration": 12,
    "start_time": "2022-03-29T06:07:57.750Z"
   },
   {
    "duration": 6,
    "start_time": "2022-03-29T06:10:43.124Z"
   },
   {
    "duration": 18,
    "start_time": "2022-03-29T06:11:55.062Z"
   },
   {
    "duration": 3,
    "start_time": "2022-03-29T06:12:22.526Z"
   },
   {
    "duration": 216,
    "start_time": "2022-03-29T06:12:22.533Z"
   },
   {
    "duration": 178,
    "start_time": "2022-03-29T06:12:22.751Z"
   },
   {
    "duration": 120,
    "start_time": "2022-03-29T06:12:22.933Z"
   },
   {
    "duration": 12,
    "start_time": "2022-03-29T06:12:23.055Z"
   },
   {
    "duration": 26,
    "start_time": "2022-03-29T06:12:23.070Z"
   },
   {
    "duration": 109,
    "start_time": "2022-03-29T06:12:23.098Z"
   },
   {
    "duration": 49,
    "start_time": "2022-03-29T06:12:23.209Z"
   },
   {
    "duration": 55,
    "start_time": "2022-03-29T06:12:23.260Z"
   },
   {
    "duration": 31,
    "start_time": "2022-03-29T06:12:23.320Z"
   },
   {
    "duration": 6,
    "start_time": "2022-03-29T06:12:23.353Z"
   },
   {
    "duration": 25,
    "start_time": "2022-03-29T06:12:23.361Z"
   },
   {
    "duration": 324,
    "start_time": "2022-03-29T06:12:23.388Z"
   },
   {
    "duration": 6,
    "start_time": "2022-03-29T06:12:23.715Z"
   },
   {
    "duration": 104,
    "start_time": "2022-03-29T06:12:23.723Z"
   },
   {
    "duration": 86,
    "start_time": "2022-03-29T06:12:23.829Z"
   },
   {
    "duration": 77,
    "start_time": "2022-03-29T06:12:23.917Z"
   },
   {
    "duration": 36,
    "start_time": "2022-03-29T06:12:23.996Z"
   },
   {
    "duration": 30,
    "start_time": "2022-03-29T06:12:24.034Z"
   },
   {
    "duration": 36,
    "start_time": "2022-03-29T06:12:24.066Z"
   },
   {
    "duration": 21,
    "start_time": "2022-03-29T06:12:24.104Z"
   },
   {
    "duration": 0,
    "start_time": "2022-03-29T06:12:24.128Z"
   },
   {
    "duration": 0,
    "start_time": "2022-03-29T06:12:24.130Z"
   },
   {
    "duration": 21,
    "start_time": "2022-03-29T06:12:39.903Z"
   },
   {
    "duration": 53,
    "start_time": "2022-03-29T06:25:48.883Z"
   },
   {
    "duration": 31,
    "start_time": "2022-03-29T06:25:52.175Z"
   },
   {
    "duration": 24,
    "start_time": "2022-03-29T06:25:57.492Z"
   },
   {
    "duration": 15,
    "start_time": "2022-03-29T06:25:59.150Z"
   },
   {
    "duration": 15,
    "start_time": "2022-03-29T06:26:07.192Z"
   },
   {
    "duration": 9,
    "start_time": "2022-03-29T06:26:25.314Z"
   },
   {
    "duration": 15,
    "start_time": "2022-03-29T06:26:29.492Z"
   },
   {
    "duration": 24,
    "start_time": "2022-03-29T06:27:19.349Z"
   },
   {
    "duration": 8,
    "start_time": "2022-03-29T06:27:50.688Z"
   },
   {
    "duration": 45,
    "start_time": "2022-03-29T06:27:53.680Z"
   },
   {
    "duration": 20,
    "start_time": "2022-03-29T06:28:10.355Z"
   },
   {
    "duration": 21,
    "start_time": "2022-03-29T06:28:22.399Z"
   },
   {
    "duration": 40,
    "start_time": "2022-03-29T06:28:40.520Z"
   },
   {
    "duration": 22,
    "start_time": "2022-03-29T06:28:56.442Z"
   },
   {
    "duration": 20,
    "start_time": "2022-03-29T06:29:09.007Z"
   },
   {
    "duration": 38,
    "start_time": "2022-03-29T06:29:14.726Z"
   },
   {
    "duration": 4,
    "start_time": "2022-03-29T06:30:36.817Z"
   },
   {
    "duration": 202,
    "start_time": "2022-03-29T06:30:36.826Z"
   },
   {
    "duration": 167,
    "start_time": "2022-03-29T06:30:37.030Z"
   },
   {
    "duration": 113,
    "start_time": "2022-03-29T06:30:37.199Z"
   },
   {
    "duration": 12,
    "start_time": "2022-03-29T06:30:37.314Z"
   },
   {
    "duration": 19,
    "start_time": "2022-03-29T06:30:37.329Z"
   },
   {
    "duration": 105,
    "start_time": "2022-03-29T06:30:37.351Z"
   },
   {
    "duration": 56,
    "start_time": "2022-03-29T06:30:37.458Z"
   },
   {
    "duration": 34,
    "start_time": "2022-03-29T06:30:37.517Z"
   },
   {
    "duration": 46,
    "start_time": "2022-03-29T06:30:37.553Z"
   },
   {
    "duration": 6,
    "start_time": "2022-03-29T06:30:37.601Z"
   },
   {
    "duration": 7,
    "start_time": "2022-03-29T06:30:37.609Z"
   },
   {
    "duration": 316,
    "start_time": "2022-03-29T06:30:37.618Z"
   },
   {
    "duration": 6,
    "start_time": "2022-03-29T06:30:37.936Z"
   },
   {
    "duration": 97,
    "start_time": "2022-03-29T06:30:37.946Z"
   },
   {
    "duration": 85,
    "start_time": "2022-03-29T06:30:38.045Z"
   },
   {
    "duration": 72,
    "start_time": "2022-03-29T06:30:38.132Z"
   },
   {
    "duration": 32,
    "start_time": "2022-03-29T06:30:38.206Z"
   },
   {
    "duration": 49,
    "start_time": "2022-03-29T06:30:38.241Z"
   },
   {
    "duration": 14,
    "start_time": "2022-03-29T06:30:38.293Z"
   },
   {
    "duration": 8,
    "start_time": "2022-03-29T06:30:38.309Z"
   },
   {
    "duration": 8,
    "start_time": "2022-03-29T06:30:38.319Z"
   },
   {
    "duration": 71,
    "start_time": "2022-03-29T06:30:38.330Z"
   },
   {
    "duration": 12,
    "start_time": "2022-03-29T06:31:19.530Z"
   },
   {
    "duration": 16,
    "start_time": "2022-03-29T06:31:48.646Z"
   },
   {
    "duration": 22,
    "start_time": "2022-03-29T06:40:49.304Z"
   },
   {
    "duration": 17,
    "start_time": "2022-03-29T06:43:00.370Z"
   },
   {
    "duration": 3,
    "start_time": "2022-03-29T06:43:12.203Z"
   },
   {
    "duration": 295,
    "start_time": "2022-03-29T06:43:12.218Z"
   },
   {
    "duration": 180,
    "start_time": "2022-03-29T06:43:12.516Z"
   },
   {
    "duration": 118,
    "start_time": "2022-03-29T06:43:12.698Z"
   },
   {
    "duration": 12,
    "start_time": "2022-03-29T06:43:12.818Z"
   },
   {
    "duration": 19,
    "start_time": "2022-03-29T06:43:12.834Z"
   },
   {
    "duration": 109,
    "start_time": "2022-03-29T06:43:12.855Z"
   },
   {
    "duration": 58,
    "start_time": "2022-03-29T06:43:12.966Z"
   },
   {
    "duration": 58,
    "start_time": "2022-03-29T06:43:13.026Z"
   },
   {
    "duration": 34,
    "start_time": "2022-03-29T06:43:13.086Z"
   },
   {
    "duration": 5,
    "start_time": "2022-03-29T06:43:13.123Z"
   },
   {
    "duration": 9,
    "start_time": "2022-03-29T06:43:13.130Z"
   },
   {
    "duration": 331,
    "start_time": "2022-03-29T06:43:13.141Z"
   },
   {
    "duration": 5,
    "start_time": "2022-03-29T06:43:13.483Z"
   },
   {
    "duration": 96,
    "start_time": "2022-03-29T06:43:13.491Z"
   },
   {
    "duration": 71,
    "start_time": "2022-03-29T06:43:13.590Z"
   },
   {
    "duration": 78,
    "start_time": "2022-03-29T06:43:13.664Z"
   },
   {
    "duration": 46,
    "start_time": "2022-03-29T06:43:13.745Z"
   },
   {
    "duration": 27,
    "start_time": "2022-03-29T06:43:13.794Z"
   },
   {
    "duration": 13,
    "start_time": "2022-03-29T06:43:13.823Z"
   },
   {
    "duration": 7,
    "start_time": "2022-03-29T06:43:13.839Z"
   },
   {
    "duration": 44,
    "start_time": "2022-03-29T06:43:13.849Z"
   },
   {
    "duration": 22,
    "start_time": "2022-03-29T06:43:13.896Z"
   },
   {
    "duration": 34,
    "start_time": "2022-03-29T06:43:24.169Z"
   },
   {
    "duration": 33,
    "start_time": "2022-03-29T06:44:17.781Z"
   },
   {
    "duration": 2112,
    "start_time": "2022-03-29T06:45:41.721Z"
   },
   {
    "duration": 13,
    "start_time": "2022-03-29T06:47:32.174Z"
   },
   {
    "duration": 12,
    "start_time": "2022-03-29T06:47:46.363Z"
   },
   {
    "duration": 19,
    "start_time": "2022-03-29T06:48:10.308Z"
   },
   {
    "duration": 35,
    "start_time": "2022-03-29T06:48:30.988Z"
   },
   {
    "duration": 108,
    "start_time": "2022-03-29T06:50:03.908Z"
   },
   {
    "duration": 140,
    "start_time": "2022-03-29T06:50:47.170Z"
   },
   {
    "duration": 16,
    "start_time": "2022-03-29T06:51:10.763Z"
   },
   {
    "duration": 7,
    "start_time": "2022-03-29T06:51:28.942Z"
   },
   {
    "duration": 17,
    "start_time": "2022-03-29T06:52:15.982Z"
   },
   {
    "duration": 7,
    "start_time": "2022-03-29T06:52:33.689Z"
   },
   {
    "duration": 25,
    "start_time": "2022-03-29T06:52:37.897Z"
   },
   {
    "duration": 4,
    "start_time": "2022-03-29T07:01:14.175Z"
   },
   {
    "duration": 3,
    "start_time": "2022-03-29T07:03:05.179Z"
   },
   {
    "duration": 242,
    "start_time": "2022-03-29T07:03:05.185Z"
   },
   {
    "duration": 166,
    "start_time": "2022-03-29T07:03:05.429Z"
   },
   {
    "duration": 119,
    "start_time": "2022-03-29T07:03:05.598Z"
   },
   {
    "duration": 12,
    "start_time": "2022-03-29T07:03:05.720Z"
   },
   {
    "duration": 57,
    "start_time": "2022-03-29T07:03:05.734Z"
   },
   {
    "duration": 191,
    "start_time": "2022-03-29T07:03:05.793Z"
   },
   {
    "duration": 54,
    "start_time": "2022-03-29T07:03:05.986Z"
   },
   {
    "duration": 57,
    "start_time": "2022-03-29T07:03:06.042Z"
   },
   {
    "duration": 46,
    "start_time": "2022-03-29T07:03:06.104Z"
   },
   {
    "duration": 22,
    "start_time": "2022-03-29T07:03:06.152Z"
   },
   {
    "duration": 57,
    "start_time": "2022-03-29T07:03:06.176Z"
   },
   {
    "duration": 349,
    "start_time": "2022-03-29T07:03:06.236Z"
   },
   {
    "duration": 6,
    "start_time": "2022-03-29T07:03:06.588Z"
   },
   {
    "duration": 99,
    "start_time": "2022-03-29T07:03:06.596Z"
   },
   {
    "duration": 90,
    "start_time": "2022-03-29T07:03:06.697Z"
   },
   {
    "duration": 67,
    "start_time": "2022-03-29T07:03:06.789Z"
   },
   {
    "duration": 49,
    "start_time": "2022-03-29T07:03:06.858Z"
   },
   {
    "duration": 37,
    "start_time": "2022-03-29T07:03:06.909Z"
   },
   {
    "duration": 19,
    "start_time": "2022-03-29T07:03:06.949Z"
   },
   {
    "duration": 7,
    "start_time": "2022-03-29T07:03:06.984Z"
   },
   {
    "duration": 33,
    "start_time": "2022-03-29T07:03:06.994Z"
   },
   {
    "duration": 30,
    "start_time": "2022-03-29T07:03:07.029Z"
   },
   {
    "duration": 48,
    "start_time": "2022-03-29T07:03:07.062Z"
   },
   {
    "duration": 22,
    "start_time": "2022-03-29T07:12:02.435Z"
   },
   {
    "duration": 4,
    "start_time": "2022-03-29T07:12:18.173Z"
   },
   {
    "duration": 297,
    "start_time": "2022-03-29T07:12:18.181Z"
   },
   {
    "duration": 208,
    "start_time": "2022-03-29T07:12:18.484Z"
   },
   {
    "duration": 159,
    "start_time": "2022-03-29T07:12:18.694Z"
   },
   {
    "duration": 12,
    "start_time": "2022-03-29T07:12:18.856Z"
   },
   {
    "duration": 22,
    "start_time": "2022-03-29T07:12:18.872Z"
   },
   {
    "duration": 114,
    "start_time": "2022-03-29T07:12:18.897Z"
   },
   {
    "duration": 49,
    "start_time": "2022-03-29T07:12:19.013Z"
   },
   {
    "duration": 51,
    "start_time": "2022-03-29T07:12:19.064Z"
   },
   {
    "duration": 31,
    "start_time": "2022-03-29T07:12:19.118Z"
   },
   {
    "duration": 6,
    "start_time": "2022-03-29T07:12:19.152Z"
   },
   {
    "duration": 15,
    "start_time": "2022-03-29T07:12:19.183Z"
   },
   {
    "duration": 310,
    "start_time": "2022-03-29T07:12:19.200Z"
   },
   {
    "duration": 6,
    "start_time": "2022-03-29T07:12:19.512Z"
   },
   {
    "duration": 95,
    "start_time": "2022-03-29T07:12:19.524Z"
   },
   {
    "duration": 95,
    "start_time": "2022-03-29T07:12:19.622Z"
   },
   {
    "duration": 64,
    "start_time": "2022-03-29T07:12:19.720Z"
   },
   {
    "duration": 33,
    "start_time": "2022-03-29T07:12:19.787Z"
   },
   {
    "duration": 24,
    "start_time": "2022-03-29T07:12:19.823Z"
   },
   {
    "duration": 42,
    "start_time": "2022-03-29T07:12:19.849Z"
   },
   {
    "duration": 8,
    "start_time": "2022-03-29T07:12:19.894Z"
   },
   {
    "duration": 14,
    "start_time": "2022-03-29T07:12:19.904Z"
   },
   {
    "duration": 9,
    "start_time": "2022-03-29T07:12:19.921Z"
   },
   {
    "duration": 57,
    "start_time": "2022-03-29T07:12:19.932Z"
   },
   {
    "duration": 478,
    "start_time": "2022-03-29T10:22:27.527Z"
   },
   {
    "duration": 204,
    "start_time": "2022-03-29T10:22:28.007Z"
   },
   {
    "duration": 159,
    "start_time": "2022-03-29T10:22:28.215Z"
   },
   {
    "duration": 118,
    "start_time": "2022-03-29T10:22:28.377Z"
   },
   {
    "duration": 16,
    "start_time": "2022-03-29T10:22:28.497Z"
   },
   {
    "duration": 17,
    "start_time": "2022-03-29T10:22:28.515Z"
   },
   {
    "duration": 118,
    "start_time": "2022-03-29T10:22:28.534Z"
   },
   {
    "duration": 66,
    "start_time": "2022-03-29T10:22:28.655Z"
   },
   {
    "duration": 61,
    "start_time": "2022-03-29T10:22:28.726Z"
   },
   {
    "duration": 44,
    "start_time": "2022-03-29T10:22:28.797Z"
   },
   {
    "duration": 7,
    "start_time": "2022-03-29T10:22:28.844Z"
   },
   {
    "duration": 19,
    "start_time": "2022-03-29T10:22:28.853Z"
   },
   {
    "duration": 310,
    "start_time": "2022-03-29T10:22:28.887Z"
   },
   {
    "duration": 8,
    "start_time": "2022-03-29T10:22:29.201Z"
   },
   {
    "duration": 94,
    "start_time": "2022-03-29T10:22:29.211Z"
   },
   {
    "duration": 99,
    "start_time": "2022-03-29T10:22:29.308Z"
   },
   {
    "duration": 79,
    "start_time": "2022-03-29T10:22:29.410Z"
   },
   {
    "duration": 34,
    "start_time": "2022-03-29T10:22:29.492Z"
   },
   {
    "duration": 29,
    "start_time": "2022-03-29T10:22:29.529Z"
   },
   {
    "duration": 41,
    "start_time": "2022-03-29T10:22:29.561Z"
   },
   {
    "duration": 11,
    "start_time": "2022-03-29T10:22:29.605Z"
   },
   {
    "duration": 24,
    "start_time": "2022-03-29T10:22:29.619Z"
   },
   {
    "duration": 8,
    "start_time": "2022-03-29T10:22:29.646Z"
   },
   {
    "duration": 70,
    "start_time": "2022-03-29T10:22:29.658Z"
   },
   {
    "duration": 10,
    "start_time": "2022-03-29T10:24:56.599Z"
   },
   {
    "duration": 33,
    "start_time": "2022-03-29T10:24:57.671Z"
   },
   {
    "duration": 3,
    "start_time": "2022-03-29T10:27:59.228Z"
   },
   {
    "duration": 211,
    "start_time": "2022-03-29T10:27:59.255Z"
   },
   {
    "duration": 182,
    "start_time": "2022-03-29T10:27:59.481Z"
   },
   {
    "duration": 121,
    "start_time": "2022-03-29T10:27:59.665Z"
   },
   {
    "duration": 17,
    "start_time": "2022-03-29T10:27:59.789Z"
   },
   {
    "duration": 25,
    "start_time": "2022-03-29T10:27:59.811Z"
   },
   {
    "duration": 106,
    "start_time": "2022-03-29T10:27:59.838Z"
   },
   {
    "duration": 77,
    "start_time": "2022-03-29T10:27:59.947Z"
   },
   {
    "duration": 62,
    "start_time": "2022-03-29T10:28:00.027Z"
   },
   {
    "duration": 49,
    "start_time": "2022-03-29T10:28:00.092Z"
   },
   {
    "duration": 6,
    "start_time": "2022-03-29T10:28:00.144Z"
   },
   {
    "duration": 31,
    "start_time": "2022-03-29T10:28:00.153Z"
   },
   {
    "duration": 283,
    "start_time": "2022-03-29T10:28:00.188Z"
   },
   {
    "duration": 15,
    "start_time": "2022-03-29T10:28:00.474Z"
   },
   {
    "duration": 102,
    "start_time": "2022-03-29T10:28:00.494Z"
   },
   {
    "duration": 88,
    "start_time": "2022-03-29T10:28:00.599Z"
   },
   {
    "duration": 64,
    "start_time": "2022-03-29T10:28:00.690Z"
   },
   {
    "duration": 58,
    "start_time": "2022-03-29T10:28:00.756Z"
   },
   {
    "duration": 39,
    "start_time": "2022-03-29T10:28:00.817Z"
   },
   {
    "duration": 41,
    "start_time": "2022-03-29T10:28:00.859Z"
   },
   {
    "duration": 17,
    "start_time": "2022-03-29T10:28:00.904Z"
   },
   {
    "duration": 59,
    "start_time": "2022-03-29T10:28:00.924Z"
   },
   {
    "duration": 64,
    "start_time": "2022-03-29T10:28:00.985Z"
   },
   {
    "duration": 25,
    "start_time": "2022-03-29T10:28:01.052Z"
   },
   {
    "duration": 54,
    "start_time": "2022-03-29T10:28:01.080Z"
   },
   {
    "duration": 4,
    "start_time": "2022-03-29T10:28:10.112Z"
   },
   {
    "duration": 267,
    "start_time": "2022-03-29T10:28:10.139Z"
   },
   {
    "duration": 167,
    "start_time": "2022-03-29T10:28:10.409Z"
   },
   {
    "duration": 124,
    "start_time": "2022-03-29T10:28:10.579Z"
   },
   {
    "duration": 13,
    "start_time": "2022-03-29T10:28:10.706Z"
   },
   {
    "duration": 19,
    "start_time": "2022-03-29T10:28:10.724Z"
   },
   {
    "duration": 113,
    "start_time": "2022-03-29T10:28:10.745Z"
   },
   {
    "duration": 70,
    "start_time": "2022-03-29T10:28:10.860Z"
   },
   {
    "duration": 35,
    "start_time": "2022-03-29T10:28:10.933Z"
   },
   {
    "duration": 38,
    "start_time": "2022-03-29T10:28:10.982Z"
   },
   {
    "duration": 6,
    "start_time": "2022-03-29T10:28:11.023Z"
   },
   {
    "duration": 8,
    "start_time": "2022-03-29T10:28:11.031Z"
   },
   {
    "duration": 316,
    "start_time": "2022-03-29T10:28:11.043Z"
   },
   {
    "duration": 20,
    "start_time": "2022-03-29T10:28:11.362Z"
   },
   {
    "duration": 73,
    "start_time": "2022-03-29T10:28:11.387Z"
   },
   {
    "duration": 106,
    "start_time": "2022-03-29T10:28:11.462Z"
   },
   {
    "duration": 75,
    "start_time": "2022-03-29T10:28:11.581Z"
   },
   {
    "duration": 50,
    "start_time": "2022-03-29T10:28:11.658Z"
   },
   {
    "duration": 30,
    "start_time": "2022-03-29T10:28:11.711Z"
   },
   {
    "duration": 40,
    "start_time": "2022-03-29T10:28:11.743Z"
   },
   {
    "duration": 9,
    "start_time": "2022-03-29T10:28:11.792Z"
   },
   {
    "duration": 17,
    "start_time": "2022-03-29T10:28:11.804Z"
   },
   {
    "duration": 3,
    "start_time": "2022-03-29T10:28:11.824Z"
   },
   {
    "duration": 6,
    "start_time": "2022-03-29T10:28:11.829Z"
   },
   {
    "duration": 79,
    "start_time": "2022-03-29T10:28:11.837Z"
   },
   {
    "duration": 440,
    "start_time": "2022-03-29T13:05:27.030Z"
   },
   {
    "duration": 162,
    "start_time": "2022-03-29T13:05:27.472Z"
   },
   {
    "duration": 144,
    "start_time": "2022-03-29T13:05:27.636Z"
   },
   {
    "duration": 85,
    "start_time": "2022-03-29T13:05:27.782Z"
   },
   {
    "duration": 12,
    "start_time": "2022-03-29T13:05:27.869Z"
   },
   {
    "duration": 37,
    "start_time": "2022-03-29T13:05:27.882Z"
   },
   {
    "duration": 88,
    "start_time": "2022-03-29T13:05:27.921Z"
   },
   {
    "duration": 41,
    "start_time": "2022-03-29T13:05:28.011Z"
   },
   {
    "duration": 25,
    "start_time": "2022-03-29T13:05:28.053Z"
   },
   {
    "duration": 32,
    "start_time": "2022-03-29T13:05:28.080Z"
   },
   {
    "duration": 22,
    "start_time": "2022-03-29T13:05:28.114Z"
   },
   {
    "duration": 27,
    "start_time": "2022-03-29T13:05:28.137Z"
   },
   {
    "duration": 244,
    "start_time": "2022-03-29T13:05:28.166Z"
   },
   {
    "duration": 6,
    "start_time": "2022-03-29T13:05:28.411Z"
   },
   {
    "duration": 66,
    "start_time": "2022-03-29T13:05:28.419Z"
   },
   {
    "duration": 63,
    "start_time": "2022-03-29T13:05:28.487Z"
   },
   {
    "duration": 51,
    "start_time": "2022-03-29T13:05:28.552Z"
   },
   {
    "duration": 41,
    "start_time": "2022-03-29T13:05:28.605Z"
   },
   {
    "duration": 23,
    "start_time": "2022-03-29T13:05:28.648Z"
   },
   {
    "duration": 15,
    "start_time": "2022-03-29T13:05:28.673Z"
   },
   {
    "duration": 23,
    "start_time": "2022-03-29T13:05:28.689Z"
   },
   {
    "duration": 25,
    "start_time": "2022-03-29T13:05:28.714Z"
   },
   {
    "duration": 19,
    "start_time": "2022-03-29T13:05:28.741Z"
   },
   {
    "duration": 18,
    "start_time": "2022-03-29T13:05:28.762Z"
   },
   {
    "duration": 52,
    "start_time": "2022-03-29T13:05:28.782Z"
   },
   {
    "duration": 460,
    "start_time": "2022-04-01T09:35:39.628Z"
   },
   {
    "duration": 177,
    "start_time": "2022-04-01T09:35:40.091Z"
   },
   {
    "duration": 158,
    "start_time": "2022-04-01T09:35:40.270Z"
   },
   {
    "duration": 99,
    "start_time": "2022-04-01T09:35:40.431Z"
   },
   {
    "duration": 11,
    "start_time": "2022-04-01T09:35:40.532Z"
   },
   {
    "duration": 17,
    "start_time": "2022-04-01T09:35:40.545Z"
   },
   {
    "duration": 97,
    "start_time": "2022-04-01T09:35:40.563Z"
   },
   {
    "duration": 67,
    "start_time": "2022-04-01T09:35:40.662Z"
   },
   {
    "duration": 33,
    "start_time": "2022-04-01T09:35:40.731Z"
   },
   {
    "duration": 48,
    "start_time": "2022-04-01T09:35:40.767Z"
   },
   {
    "duration": 5,
    "start_time": "2022-04-01T09:35:40.818Z"
   },
   {
    "duration": 8,
    "start_time": "2022-04-01T09:35:40.825Z"
   },
   {
    "duration": 286,
    "start_time": "2022-04-01T09:35:40.835Z"
   },
   {
    "duration": 5,
    "start_time": "2022-04-01T09:35:41.124Z"
   },
   {
    "duration": 88,
    "start_time": "2022-04-01T09:35:41.132Z"
   },
   {
    "duration": 83,
    "start_time": "2022-04-01T09:35:41.223Z"
   },
   {
    "duration": 77,
    "start_time": "2022-04-01T09:35:41.308Z"
   },
   {
    "duration": 33,
    "start_time": "2022-04-01T09:35:41.387Z"
   },
   {
    "duration": 28,
    "start_time": "2022-04-01T09:35:41.423Z"
   },
   {
    "duration": 45,
    "start_time": "2022-04-01T09:35:41.453Z"
   },
   {
    "duration": 8,
    "start_time": "2022-04-01T09:35:41.500Z"
   },
   {
    "duration": 13,
    "start_time": "2022-04-01T09:35:41.510Z"
   },
   {
    "duration": 7,
    "start_time": "2022-04-01T09:35:41.526Z"
   },
   {
    "duration": 5,
    "start_time": "2022-04-01T09:35:41.536Z"
   },
   {
    "duration": 66,
    "start_time": "2022-04-01T09:35:41.544Z"
   },
   {
    "duration": 4,
    "start_time": "2022-04-01T13:01:49.898Z"
   },
   {
    "duration": 190,
    "start_time": "2022-04-01T13:01:49.904Z"
   },
   {
    "duration": 160,
    "start_time": "2022-04-01T13:01:50.097Z"
   },
   {
    "duration": 105,
    "start_time": "2022-04-01T13:01:50.259Z"
   },
   {
    "duration": 16,
    "start_time": "2022-04-01T13:01:50.368Z"
   },
   {
    "duration": 22,
    "start_time": "2022-04-01T13:01:50.391Z"
   },
   {
    "duration": 90,
    "start_time": "2022-04-01T13:01:50.415Z"
   },
   {
    "duration": 42,
    "start_time": "2022-04-01T13:01:50.507Z"
   },
   {
    "duration": 56,
    "start_time": "2022-04-01T13:01:50.551Z"
   },
   {
    "duration": 28,
    "start_time": "2022-04-01T13:01:50.609Z"
   },
   {
    "duration": 5,
    "start_time": "2022-04-01T13:01:50.640Z"
   },
   {
    "duration": 7,
    "start_time": "2022-04-01T13:01:50.647Z"
   },
   {
    "duration": 273,
    "start_time": "2022-04-01T13:01:50.656Z"
   },
   {
    "duration": 5,
    "start_time": "2022-04-01T13:01:50.933Z"
   },
   {
    "duration": 82,
    "start_time": "2022-04-01T13:01:50.940Z"
   },
   {
    "duration": 83,
    "start_time": "2022-04-01T13:01:51.024Z"
   },
   {
    "duration": 46,
    "start_time": "2022-04-01T13:01:51.109Z"
   },
   {
    "duration": 56,
    "start_time": "2022-04-01T13:01:51.157Z"
   },
   {
    "duration": 27,
    "start_time": "2022-04-01T13:01:51.215Z"
   },
   {
    "duration": 12,
    "start_time": "2022-04-01T13:01:51.244Z"
   },
   {
    "duration": 8,
    "start_time": "2022-04-01T13:01:51.289Z"
   },
   {
    "duration": 13,
    "start_time": "2022-04-01T13:01:51.299Z"
   },
   {
    "duration": 4,
    "start_time": "2022-04-01T13:01:51.314Z"
   },
   {
    "duration": 8,
    "start_time": "2022-04-01T13:01:51.321Z"
   },
   {
    "duration": 62,
    "start_time": "2022-04-01T13:01:51.331Z"
   },
   {
    "duration": 463,
    "start_time": "2022-04-01T19:30:03.207Z"
   },
   {
    "duration": 142,
    "start_time": "2022-04-01T19:30:03.671Z"
   },
   {
    "duration": 130,
    "start_time": "2022-04-01T19:30:03.814Z"
   },
   {
    "duration": 85,
    "start_time": "2022-04-01T19:30:03.946Z"
   },
   {
    "duration": 15,
    "start_time": "2022-04-01T19:30:04.033Z"
   },
   {
    "duration": 27,
    "start_time": "2022-04-01T19:30:04.050Z"
   },
   {
    "duration": 66,
    "start_time": "2022-04-01T19:30:04.078Z"
   },
   {
    "duration": 41,
    "start_time": "2022-04-01T19:30:04.146Z"
   },
   {
    "duration": 24,
    "start_time": "2022-04-01T19:30:04.189Z"
   },
   {
    "duration": 25,
    "start_time": "2022-04-01T19:30:04.215Z"
   },
   {
    "duration": 3,
    "start_time": "2022-04-01T19:30:04.242Z"
   },
   {
    "duration": 5,
    "start_time": "2022-04-01T19:30:04.247Z"
   },
   {
    "duration": 211,
    "start_time": "2022-04-01T19:30:04.253Z"
   },
   {
    "duration": 4,
    "start_time": "2022-04-01T19:30:04.468Z"
   },
   {
    "duration": 45,
    "start_time": "2022-04-01T19:30:04.481Z"
   },
   {
    "duration": 68,
    "start_time": "2022-04-01T19:30:04.528Z"
   },
   {
    "duration": 55,
    "start_time": "2022-04-01T19:30:04.597Z"
   },
   {
    "duration": 31,
    "start_time": "2022-04-01T19:30:04.653Z"
   },
   {
    "duration": 22,
    "start_time": "2022-04-01T19:30:04.686Z"
   },
   {
    "duration": 9,
    "start_time": "2022-04-01T19:30:04.710Z"
   },
   {
    "duration": 5,
    "start_time": "2022-04-01T19:30:04.721Z"
   },
   {
    "duration": 11,
    "start_time": "2022-04-01T19:30:04.727Z"
   },
   {
    "duration": 3,
    "start_time": "2022-04-01T19:30:04.740Z"
   },
   {
    "duration": 7,
    "start_time": "2022-04-01T19:30:04.745Z"
   },
   {
    "duration": 43,
    "start_time": "2022-04-01T19:30:04.754Z"
   },
   {
    "duration": 12,
    "start_time": "2022-04-01T20:06:47.496Z"
   },
   {
    "duration": 3,
    "start_time": "2022-04-01T20:07:41.256Z"
   },
   {
    "duration": 70,
    "start_time": "2022-04-01T20:08:00.980Z"
   },
   {
    "duration": 3,
    "start_time": "2022-04-01T20:09:13.883Z"
   },
   {
    "duration": 140,
    "start_time": "2022-04-01T20:09:13.887Z"
   },
   {
    "duration": 120,
    "start_time": "2022-04-01T20:09:14.029Z"
   },
   {
    "duration": 78,
    "start_time": "2022-04-01T20:09:14.151Z"
   },
   {
    "duration": 15,
    "start_time": "2022-04-01T20:09:14.231Z"
   },
   {
    "duration": 38,
    "start_time": "2022-04-01T20:09:14.247Z"
   },
   {
    "duration": 63,
    "start_time": "2022-04-01T20:09:14.287Z"
   },
   {
    "duration": 39,
    "start_time": "2022-04-01T20:09:14.351Z"
   },
   {
    "duration": 22,
    "start_time": "2022-04-01T20:09:14.393Z"
   },
   {
    "duration": 18,
    "start_time": "2022-04-01T20:09:14.417Z"
   },
   {
    "duration": 4,
    "start_time": "2022-04-01T20:09:14.436Z"
   },
   {
    "duration": 5,
    "start_time": "2022-04-01T20:09:14.441Z"
   },
   {
    "duration": 183,
    "start_time": "2022-04-01T20:09:14.447Z"
   },
   {
    "duration": 3,
    "start_time": "2022-04-01T20:09:14.632Z"
   },
   {
    "duration": 55,
    "start_time": "2022-04-01T20:09:14.637Z"
   },
   {
    "duration": 53,
    "start_time": "2022-04-01T20:09:14.693Z"
   },
   {
    "duration": 9,
    "start_time": "2022-04-01T20:09:14.747Z"
   },
   {
    "duration": 0,
    "start_time": "2022-04-01T20:09:14.757Z"
   },
   {
    "duration": 0,
    "start_time": "2022-04-01T20:09:14.759Z"
   },
   {
    "duration": 0,
    "start_time": "2022-04-01T20:09:14.759Z"
   },
   {
    "duration": 0,
    "start_time": "2022-04-01T20:09:14.760Z"
   },
   {
    "duration": 0,
    "start_time": "2022-04-01T20:09:14.781Z"
   },
   {
    "duration": 0,
    "start_time": "2022-04-01T20:09:14.782Z"
   },
   {
    "duration": 0,
    "start_time": "2022-04-01T20:09:14.782Z"
   },
   {
    "duration": 0,
    "start_time": "2022-04-01T20:09:14.784Z"
   },
   {
    "duration": 0,
    "start_time": "2022-04-01T20:09:14.784Z"
   },
   {
    "duration": 11,
    "start_time": "2022-04-01T20:09:48.584Z"
   },
   {
    "duration": 7,
    "start_time": "2022-04-01T20:09:50.799Z"
   },
   {
    "duration": 9,
    "start_time": "2022-04-01T20:17:59.244Z"
   },
   {
    "duration": 43,
    "start_time": "2022-04-01T20:20:51.792Z"
   },
   {
    "duration": 14,
    "start_time": "2022-04-01T20:20:53.277Z"
   },
   {
    "duration": 44,
    "start_time": "2022-04-01T20:22:57.522Z"
   },
   {
    "duration": 12,
    "start_time": "2022-04-01T20:22:59.437Z"
   },
   {
    "duration": 23,
    "start_time": "2022-04-01T20:23:22.470Z"
   },
   {
    "duration": 19,
    "start_time": "2022-04-01T20:23:42.866Z"
   },
   {
    "duration": 2,
    "start_time": "2022-04-01T20:24:05.715Z"
   },
   {
    "duration": 146,
    "start_time": "2022-04-01T20:24:05.726Z"
   },
   {
    "duration": 131,
    "start_time": "2022-04-01T20:24:05.874Z"
   },
   {
    "duration": 86,
    "start_time": "2022-04-01T20:24:06.006Z"
   },
   {
    "duration": 16,
    "start_time": "2022-04-01T20:24:06.094Z"
   },
   {
    "duration": 44,
    "start_time": "2022-04-01T20:24:06.111Z"
   },
   {
    "duration": 65,
    "start_time": "2022-04-01T20:24:06.157Z"
   },
   {
    "duration": 29,
    "start_time": "2022-04-01T20:24:06.224Z"
   },
   {
    "duration": 26,
    "start_time": "2022-04-01T20:24:06.255Z"
   },
   {
    "duration": 27,
    "start_time": "2022-04-01T20:24:06.282Z"
   },
   {
    "duration": 19,
    "start_time": "2022-04-01T20:24:06.312Z"
   },
   {
    "duration": 28,
    "start_time": "2022-04-01T20:24:06.332Z"
   },
   {
    "duration": 191,
    "start_time": "2022-04-01T20:24:06.361Z"
   },
   {
    "duration": 5,
    "start_time": "2022-04-01T20:24:06.554Z"
   },
   {
    "duration": 86,
    "start_time": "2022-04-01T20:24:06.560Z"
   },
   {
    "duration": 49,
    "start_time": "2022-04-01T20:24:06.647Z"
   },
   {
    "duration": 48,
    "start_time": "2022-04-01T20:24:06.698Z"
   },
   {
    "duration": 44,
    "start_time": "2022-04-01T20:24:06.747Z"
   },
   {
    "duration": 21,
    "start_time": "2022-04-01T20:24:06.793Z"
   },
   {
    "duration": 17,
    "start_time": "2022-04-01T20:24:06.815Z"
   },
   {
    "duration": 22,
    "start_time": "2022-04-01T20:24:06.834Z"
   },
   {
    "duration": 0,
    "start_time": "2022-04-01T20:24:06.858Z"
   },
   {
    "duration": 0,
    "start_time": "2022-04-01T20:24:06.859Z"
   },
   {
    "duration": 0,
    "start_time": "2022-04-01T20:24:06.861Z"
   },
   {
    "duration": 0,
    "start_time": "2022-04-01T20:24:06.862Z"
   },
   {
    "duration": 15,
    "start_time": "2022-04-01T20:24:45.634Z"
   },
   {
    "duration": 9,
    "start_time": "2022-04-01T20:27:34.934Z"
   },
   {
    "duration": 186,
    "start_time": "2022-04-01T20:30:45.813Z"
   },
   {
    "duration": 199,
    "start_time": "2022-04-01T20:32:20.311Z"
   },
   {
    "duration": 196,
    "start_time": "2022-04-01T20:32:42.335Z"
   },
   {
    "duration": 14,
    "start_time": "2022-04-01T20:33:07.789Z"
   },
   {
    "duration": 15,
    "start_time": "2022-04-01T20:33:23.227Z"
   },
   {
    "duration": 3,
    "start_time": "2022-04-01T20:36:06.958Z"
   },
   {
    "duration": 3,
    "start_time": "2022-04-01T20:36:35.792Z"
   },
   {
    "duration": 133,
    "start_time": "2022-04-01T20:36:35.805Z"
   },
   {
    "duration": 112,
    "start_time": "2022-04-01T20:36:35.940Z"
   },
   {
    "duration": 78,
    "start_time": "2022-04-01T20:36:36.054Z"
   },
   {
    "duration": 16,
    "start_time": "2022-04-01T20:36:36.135Z"
   },
   {
    "duration": 27,
    "start_time": "2022-04-01T20:36:36.152Z"
   },
   {
    "duration": 63,
    "start_time": "2022-04-01T20:36:36.180Z"
   },
   {
    "duration": 41,
    "start_time": "2022-04-01T20:36:36.245Z"
   },
   {
    "duration": 20,
    "start_time": "2022-04-01T20:36:36.288Z"
   },
   {
    "duration": 17,
    "start_time": "2022-04-01T20:36:36.310Z"
   },
   {
    "duration": 3,
    "start_time": "2022-04-01T20:36:36.330Z"
   },
   {
    "duration": 5,
    "start_time": "2022-04-01T20:36:36.334Z"
   },
   {
    "duration": 173,
    "start_time": "2022-04-01T20:36:36.340Z"
   },
   {
    "duration": 4,
    "start_time": "2022-04-01T20:36:36.514Z"
   },
   {
    "duration": 49,
    "start_time": "2022-04-01T20:36:36.519Z"
   },
   {
    "duration": 55,
    "start_time": "2022-04-01T20:36:36.569Z"
   },
   {
    "duration": 39,
    "start_time": "2022-04-01T20:36:36.625Z"
   },
   {
    "duration": 33,
    "start_time": "2022-04-01T20:36:36.666Z"
   },
   {
    "duration": 18,
    "start_time": "2022-04-01T20:36:36.700Z"
   },
   {
    "duration": 4,
    "start_time": "2022-04-01T20:36:36.720Z"
   },
   {
    "duration": 15,
    "start_time": "2022-04-01T20:36:36.725Z"
   },
   {
    "duration": 40,
    "start_time": "2022-04-01T20:36:36.741Z"
   },
   {
    "duration": 9,
    "start_time": "2022-04-01T20:36:36.783Z"
   },
   {
    "duration": 0,
    "start_time": "2022-04-01T20:36:36.794Z"
   },
   {
    "duration": 0,
    "start_time": "2022-04-01T20:36:36.795Z"
   },
   {
    "duration": 0,
    "start_time": "2022-04-01T20:36:36.795Z"
   },
   {
    "duration": 0,
    "start_time": "2022-04-01T20:36:36.796Z"
   },
   {
    "duration": 2,
    "start_time": "2022-04-01T20:37:23.144Z"
   },
   {
    "duration": 142,
    "start_time": "2022-04-01T20:37:23.150Z"
   },
   {
    "duration": 115,
    "start_time": "2022-04-01T20:37:23.293Z"
   },
   {
    "duration": 77,
    "start_time": "2022-04-01T20:37:23.409Z"
   },
   {
    "duration": 15,
    "start_time": "2022-04-01T20:37:23.489Z"
   },
   {
    "duration": 30,
    "start_time": "2022-04-01T20:37:23.506Z"
   },
   {
    "duration": 62,
    "start_time": "2022-04-01T20:37:23.537Z"
   },
   {
    "duration": 29,
    "start_time": "2022-04-01T20:37:23.600Z"
   },
   {
    "duration": 21,
    "start_time": "2022-04-01T20:37:23.630Z"
   },
   {
    "duration": 30,
    "start_time": "2022-04-01T20:37:23.653Z"
   },
   {
    "duration": 4,
    "start_time": "2022-04-01T20:37:23.685Z"
   },
   {
    "duration": 6,
    "start_time": "2022-04-01T20:37:23.690Z"
   },
   {
    "duration": 170,
    "start_time": "2022-04-01T20:37:23.697Z"
   },
   {
    "duration": 4,
    "start_time": "2022-04-01T20:37:23.868Z"
   },
   {
    "duration": 44,
    "start_time": "2022-04-01T20:37:23.881Z"
   },
   {
    "duration": 55,
    "start_time": "2022-04-01T20:37:23.926Z"
   },
   {
    "duration": 46,
    "start_time": "2022-04-01T20:37:23.982Z"
   },
   {
    "duration": 22,
    "start_time": "2022-04-01T20:37:24.030Z"
   },
   {
    "duration": 36,
    "start_time": "2022-04-01T20:37:24.053Z"
   },
   {
    "duration": 3,
    "start_time": "2022-04-01T20:37:24.091Z"
   },
   {
    "duration": 18,
    "start_time": "2022-04-01T20:37:24.095Z"
   },
   {
    "duration": 15,
    "start_time": "2022-04-01T20:37:24.114Z"
   },
   {
    "duration": 6,
    "start_time": "2022-04-01T20:37:24.130Z"
   },
   {
    "duration": 2,
    "start_time": "2022-04-01T20:37:24.138Z"
   },
   {
    "duration": 5,
    "start_time": "2022-04-01T20:37:24.141Z"
   },
   {
    "duration": 50,
    "start_time": "2022-04-01T20:37:24.147Z"
   },
   {
    "duration": 17,
    "start_time": "2022-04-01T20:38:22.474Z"
   },
   {
    "duration": 2,
    "start_time": "2022-04-01T20:38:30.493Z"
   },
   {
    "duration": 150,
    "start_time": "2022-04-01T20:38:30.504Z"
   },
   {
    "duration": 133,
    "start_time": "2022-04-01T20:38:30.656Z"
   },
   {
    "duration": 87,
    "start_time": "2022-04-01T20:38:30.791Z"
   },
   {
    "duration": 16,
    "start_time": "2022-04-01T20:38:30.880Z"
   },
   {
    "duration": 28,
    "start_time": "2022-04-01T20:38:30.897Z"
   },
   {
    "duration": 62,
    "start_time": "2022-04-01T20:38:30.927Z"
   },
   {
    "duration": 30,
    "start_time": "2022-04-01T20:38:30.991Z"
   },
   {
    "duration": 23,
    "start_time": "2022-04-01T20:38:31.023Z"
   },
   {
    "duration": 36,
    "start_time": "2022-04-01T20:38:31.047Z"
   },
   {
    "duration": 4,
    "start_time": "2022-04-01T20:38:31.086Z"
   },
   {
    "duration": 9,
    "start_time": "2022-04-01T20:38:31.091Z"
   },
   {
    "duration": 178,
    "start_time": "2022-04-01T20:38:31.101Z"
   },
   {
    "duration": 4,
    "start_time": "2022-04-01T20:38:31.281Z"
   },
   {
    "duration": 45,
    "start_time": "2022-04-01T20:38:31.287Z"
   },
   {
    "duration": 71,
    "start_time": "2022-04-01T20:38:31.334Z"
   },
   {
    "duration": 43,
    "start_time": "2022-04-01T20:38:31.406Z"
   },
   {
    "duration": 39,
    "start_time": "2022-04-01T20:38:31.450Z"
   },
   {
    "duration": 18,
    "start_time": "2022-04-01T20:38:31.491Z"
   },
   {
    "duration": 4,
    "start_time": "2022-04-01T20:38:31.510Z"
   },
   {
    "duration": 19,
    "start_time": "2022-04-01T20:38:31.515Z"
   },
   {
    "duration": 15,
    "start_time": "2022-04-01T20:38:31.535Z"
   },
   {
    "duration": 6,
    "start_time": "2022-04-01T20:38:31.552Z"
   },
   {
    "duration": 11,
    "start_time": "2022-04-01T20:38:31.580Z"
   },
   {
    "duration": 0,
    "start_time": "2022-04-01T20:38:31.593Z"
   },
   {
    "duration": 0,
    "start_time": "2022-04-01T20:38:31.594Z"
   },
   {
    "duration": 10,
    "start_time": "2022-04-01T20:39:02.986Z"
   },
   {
    "duration": 5,
    "start_time": "2022-04-01T20:39:38.784Z"
   },
   {
    "duration": 17,
    "start_time": "2022-04-01T20:39:47.809Z"
   },
   {
    "duration": 6,
    "start_time": "2022-04-01T20:40:11.860Z"
   },
   {
    "duration": 20,
    "start_time": "2022-04-01T20:40:13.518Z"
   },
   {
    "duration": 3,
    "start_time": "2022-04-01T20:48:22.436Z"
   },
   {
    "duration": 3,
    "start_time": "2022-04-01T20:48:48.883Z"
   },
   {
    "duration": 20,
    "start_time": "2022-04-01T20:48:50.202Z"
   },
   {
    "duration": 4,
    "start_time": "2022-04-01T20:50:17.163Z"
   },
   {
    "duration": 16,
    "start_time": "2022-04-01T20:50:18.580Z"
   },
   {
    "duration": 4,
    "start_time": "2022-04-01T20:52:29.627Z"
   },
   {
    "duration": 20,
    "start_time": "2022-04-01T20:52:30.726Z"
   },
   {
    "duration": 3025,
    "start_time": "2022-04-01T20:54:32.007Z"
   },
   {
    "duration": 749,
    "start_time": "2022-04-01T20:54:53.626Z"
   },
   {
    "duration": 2,
    "start_time": "2022-04-01T20:55:09.435Z"
   },
   {
    "duration": 158,
    "start_time": "2022-04-01T20:55:09.442Z"
   },
   {
    "duration": 125,
    "start_time": "2022-04-01T20:55:09.601Z"
   },
   {
    "duration": 81,
    "start_time": "2022-04-01T20:55:09.727Z"
   },
   {
    "duration": 16,
    "start_time": "2022-04-01T20:55:09.810Z"
   },
   {
    "duration": 28,
    "start_time": "2022-04-01T20:55:09.828Z"
   },
   {
    "duration": 63,
    "start_time": "2022-04-01T20:55:09.857Z"
   },
   {
    "duration": 30,
    "start_time": "2022-04-01T20:55:09.922Z"
   },
   {
    "duration": 32,
    "start_time": "2022-04-01T20:55:09.954Z"
   },
   {
    "duration": 20,
    "start_time": "2022-04-01T20:55:09.988Z"
   },
   {
    "duration": 4,
    "start_time": "2022-04-01T20:55:10.011Z"
   },
   {
    "duration": 7,
    "start_time": "2022-04-01T20:55:10.017Z"
   },
   {
    "duration": 173,
    "start_time": "2022-04-01T20:55:10.026Z"
   },
   {
    "duration": 5,
    "start_time": "2022-04-01T20:55:10.201Z"
   },
   {
    "duration": 45,
    "start_time": "2022-04-01T20:55:10.208Z"
   },
   {
    "duration": 64,
    "start_time": "2022-04-01T20:55:10.254Z"
   },
   {
    "duration": 41,
    "start_time": "2022-04-01T20:55:10.320Z"
   },
   {
    "duration": 39,
    "start_time": "2022-04-01T20:55:10.363Z"
   },
   {
    "duration": 20,
    "start_time": "2022-04-01T20:55:10.404Z"
   },
   {
    "duration": 4,
    "start_time": "2022-04-01T20:55:10.426Z"
   },
   {
    "duration": 16,
    "start_time": "2022-04-01T20:55:10.432Z"
   },
   {
    "duration": 31,
    "start_time": "2022-04-01T20:55:10.450Z"
   },
   {
    "duration": 5,
    "start_time": "2022-04-01T20:55:10.483Z"
   },
   {
    "duration": 7,
    "start_time": "2022-04-01T20:55:10.489Z"
   },
   {
    "duration": 6,
    "start_time": "2022-04-01T20:55:10.498Z"
   },
   {
    "duration": 6,
    "start_time": "2022-04-01T20:55:10.506Z"
   },
   {
    "duration": 5,
    "start_time": "2022-04-01T20:55:10.513Z"
   },
   {
    "duration": 6,
    "start_time": "2022-04-01T20:55:10.519Z"
   },
   {
    "duration": 22,
    "start_time": "2022-04-01T20:55:10.528Z"
   },
   {
    "duration": 3,
    "start_time": "2022-04-01T20:57:16.907Z"
   },
   {
    "duration": 23,
    "start_time": "2022-04-01T20:57:18.624Z"
   },
   {
    "duration": 7,
    "start_time": "2022-04-01T20:58:43.609Z"
   },
   {
    "duration": 3,
    "start_time": "2022-04-01T20:59:24.212Z"
   },
   {
    "duration": 2,
    "start_time": "2022-04-01T20:59:28.369Z"
   },
   {
    "duration": 133,
    "start_time": "2022-04-01T20:59:28.379Z"
   },
   {
    "duration": 115,
    "start_time": "2022-04-01T20:59:28.514Z"
   },
   {
    "duration": 78,
    "start_time": "2022-04-01T20:59:28.630Z"
   },
   {
    "duration": 16,
    "start_time": "2022-04-01T20:59:28.710Z"
   },
   {
    "duration": 27,
    "start_time": "2022-04-01T20:59:28.727Z"
   },
   {
    "duration": 62,
    "start_time": "2022-04-01T20:59:28.756Z"
   },
   {
    "duration": 28,
    "start_time": "2022-04-01T20:59:28.820Z"
   },
   {
    "duration": 21,
    "start_time": "2022-04-01T20:59:28.850Z"
   },
   {
    "duration": 24,
    "start_time": "2022-04-01T20:59:28.872Z"
   },
   {
    "duration": 13,
    "start_time": "2022-04-01T20:59:28.898Z"
   },
   {
    "duration": 6,
    "start_time": "2022-04-01T20:59:28.912Z"
   },
   {
    "duration": 155,
    "start_time": "2022-04-01T20:59:28.919Z"
   },
   {
    "duration": 7,
    "start_time": "2022-04-01T20:59:29.075Z"
   },
   {
    "duration": 46,
    "start_time": "2022-04-01T20:59:29.084Z"
   },
   {
    "duration": 62,
    "start_time": "2022-04-01T20:59:29.131Z"
   },
   {
    "duration": 30,
    "start_time": "2022-04-01T20:59:29.195Z"
   },
   {
    "duration": 21,
    "start_time": "2022-04-01T20:59:29.227Z"
   },
   {
    "duration": 37,
    "start_time": "2022-04-01T20:59:29.249Z"
   },
   {
    "duration": 3,
    "start_time": "2022-04-01T20:59:29.288Z"
   },
   {
    "duration": 16,
    "start_time": "2022-04-01T20:59:29.293Z"
   },
   {
    "duration": 7,
    "start_time": "2022-04-01T20:59:29.310Z"
   },
   {
    "duration": 5,
    "start_time": "2022-04-01T20:59:29.318Z"
   },
   {
    "duration": 7,
    "start_time": "2022-04-01T20:59:29.324Z"
   },
   {
    "duration": 3,
    "start_time": "2022-04-01T20:59:29.333Z"
   },
   {
    "duration": 6,
    "start_time": "2022-04-01T20:59:29.338Z"
   },
   {
    "duration": 6,
    "start_time": "2022-04-01T20:59:29.345Z"
   },
   {
    "duration": 30,
    "start_time": "2022-04-01T20:59:29.352Z"
   },
   {
    "duration": 4,
    "start_time": "2022-04-01T20:59:29.384Z"
   },
   {
    "duration": 6,
    "start_time": "2022-04-01T20:59:29.389Z"
   },
   {
    "duration": 22,
    "start_time": "2022-04-01T20:59:29.397Z"
   },
   {
    "duration": 4,
    "start_time": "2022-04-01T21:00:26.592Z"
   },
   {
    "duration": 3,
    "start_time": "2022-04-01T21:01:15.706Z"
   },
   {
    "duration": 143,
    "start_time": "2022-04-01T21:01:15.714Z"
   },
   {
    "duration": 132,
    "start_time": "2022-04-01T21:01:15.858Z"
   },
   {
    "duration": 84,
    "start_time": "2022-04-01T21:01:15.992Z"
   },
   {
    "duration": 17,
    "start_time": "2022-04-01T21:01:16.078Z"
   },
   {
    "duration": 29,
    "start_time": "2022-04-01T21:01:16.096Z"
   },
   {
    "duration": 65,
    "start_time": "2022-04-01T21:01:16.126Z"
   },
   {
    "duration": 30,
    "start_time": "2022-04-01T21:01:16.193Z"
   },
   {
    "duration": 22,
    "start_time": "2022-04-01T21:01:16.225Z"
   },
   {
    "duration": 32,
    "start_time": "2022-04-01T21:01:16.249Z"
   },
   {
    "duration": 39,
    "start_time": "2022-04-01T21:01:16.284Z"
   },
   {
    "duration": 5,
    "start_time": "2022-04-01T21:01:16.325Z"
   },
   {
    "duration": 168,
    "start_time": "2022-04-01T21:01:16.331Z"
   },
   {
    "duration": 4,
    "start_time": "2022-04-01T21:01:16.500Z"
   },
   {
    "duration": 46,
    "start_time": "2022-04-01T21:01:16.506Z"
   },
   {
    "duration": 61,
    "start_time": "2022-04-01T21:01:16.554Z"
   },
   {
    "duration": 31,
    "start_time": "2022-04-01T21:01:16.616Z"
   },
   {
    "duration": 38,
    "start_time": "2022-04-01T21:01:16.649Z"
   },
   {
    "duration": 16,
    "start_time": "2022-04-01T21:01:16.688Z"
   },
   {
    "duration": 4,
    "start_time": "2022-04-01T21:01:16.705Z"
   },
   {
    "duration": 17,
    "start_time": "2022-04-01T21:01:16.710Z"
   },
   {
    "duration": 6,
    "start_time": "2022-04-01T21:01:16.728Z"
   },
   {
    "duration": 6,
    "start_time": "2022-04-01T21:01:16.735Z"
   },
   {
    "duration": 11,
    "start_time": "2022-04-01T21:01:16.742Z"
   },
   {
    "duration": 3,
    "start_time": "2022-04-01T21:01:16.754Z"
   },
   {
    "duration": 5,
    "start_time": "2022-04-01T21:01:16.781Z"
   },
   {
    "duration": 5,
    "start_time": "2022-04-01T21:01:16.787Z"
   },
   {
    "duration": 5,
    "start_time": "2022-04-01T21:01:16.794Z"
   },
   {
    "duration": 11,
    "start_time": "2022-04-01T21:01:16.801Z"
   },
   {
    "duration": 10,
    "start_time": "2022-04-01T21:01:16.813Z"
   },
   {
    "duration": 6,
    "start_time": "2022-04-01T21:01:16.825Z"
   },
   {
    "duration": 20,
    "start_time": "2022-04-01T21:01:16.833Z"
   },
   {
    "duration": 3065,
    "start_time": "2022-04-01T21:08:57.997Z"
   },
   {
    "duration": 7,
    "start_time": "2022-04-01T21:09:38.161Z"
   },
   {
    "duration": 7,
    "start_time": "2022-04-01T21:09:56.891Z"
   },
   {
    "duration": 3,
    "start_time": "2022-04-01T21:16:34.907Z"
   },
   {
    "duration": 146,
    "start_time": "2022-04-01T21:16:34.919Z"
   },
   {
    "duration": 125,
    "start_time": "2022-04-01T21:16:35.067Z"
   },
   {
    "duration": 87,
    "start_time": "2022-04-01T21:16:35.194Z"
   },
   {
    "duration": 15,
    "start_time": "2022-04-01T21:16:35.283Z"
   },
   {
    "duration": 28,
    "start_time": "2022-04-01T21:16:35.299Z"
   },
   {
    "duration": 68,
    "start_time": "2022-04-01T21:16:35.329Z"
   },
   {
    "duration": 32,
    "start_time": "2022-04-01T21:16:35.399Z"
   },
   {
    "duration": 23,
    "start_time": "2022-04-01T21:16:35.432Z"
   },
   {
    "duration": 33,
    "start_time": "2022-04-01T21:16:35.456Z"
   },
   {
    "duration": 4,
    "start_time": "2022-04-01T21:16:35.493Z"
   },
   {
    "duration": 6,
    "start_time": "2022-04-01T21:16:35.498Z"
   },
   {
    "duration": 171,
    "start_time": "2022-04-01T21:16:35.505Z"
   },
   {
    "duration": 5,
    "start_time": "2022-04-01T21:16:35.677Z"
   },
   {
    "duration": 51,
    "start_time": "2022-04-01T21:16:35.684Z"
   },
   {
    "duration": 59,
    "start_time": "2022-04-01T21:16:35.737Z"
   },
   {
    "duration": 31,
    "start_time": "2022-04-01T21:16:35.797Z"
   },
   {
    "duration": 21,
    "start_time": "2022-04-01T21:16:35.830Z"
   },
   {
    "duration": 43,
    "start_time": "2022-04-01T21:16:35.852Z"
   },
   {
    "duration": 5,
    "start_time": "2022-04-01T21:16:35.896Z"
   },
   {
    "duration": 17,
    "start_time": "2022-04-01T21:16:35.902Z"
   },
   {
    "duration": 7,
    "start_time": "2022-04-01T21:16:35.921Z"
   },
   {
    "duration": 5,
    "start_time": "2022-04-01T21:16:35.929Z"
   },
   {
    "duration": 6,
    "start_time": "2022-04-01T21:16:35.935Z"
   },
   {
    "duration": 6,
    "start_time": "2022-04-01T21:16:35.943Z"
   },
   {
    "duration": 31,
    "start_time": "2022-04-01T21:16:35.950Z"
   },
   {
    "duration": 3,
    "start_time": "2022-04-01T21:16:35.983Z"
   },
   {
    "duration": 5,
    "start_time": "2022-04-01T21:16:35.987Z"
   },
   {
    "duration": 4,
    "start_time": "2022-04-01T21:16:35.995Z"
   },
   {
    "duration": 5,
    "start_time": "2022-04-01T21:16:36.001Z"
   },
   {
    "duration": 5,
    "start_time": "2022-04-01T21:16:36.007Z"
   },
   {
    "duration": 3146,
    "start_time": "2022-04-01T21:16:36.013Z"
   },
   {
    "duration": 0,
    "start_time": "2022-04-01T21:16:39.160Z"
   },
   {
    "duration": 7,
    "start_time": "2022-04-01T21:18:15.621Z"
   },
   {
    "duration": 208,
    "start_time": "2022-04-01T21:19:02.617Z"
   },
   {
    "duration": 4,
    "start_time": "2022-04-01T21:19:30.061Z"
   },
   {
    "duration": 23,
    "start_time": "2022-04-01T21:19:34.556Z"
   },
   {
    "duration": 4,
    "start_time": "2022-04-01T21:20:52.242Z"
   },
   {
    "duration": 21,
    "start_time": "2022-04-01T21:20:54.629Z"
   },
   {
    "duration": 4,
    "start_time": "2022-04-01T21:21:55.344Z"
   },
   {
    "duration": 22,
    "start_time": "2022-04-01T21:21:56.611Z"
   },
   {
    "duration": 745,
    "start_time": "2022-04-01T21:22:24.199Z"
   },
   {
    "duration": 753,
    "start_time": "2022-04-01T21:22:56.669Z"
   },
   {
    "duration": 755,
    "start_time": "2022-04-01T21:23:10.733Z"
   },
   {
    "duration": 884,
    "start_time": "2022-04-01T21:25:08.078Z"
   },
   {
    "duration": 780,
    "start_time": "2022-04-01T21:25:29.336Z"
   },
   {
    "duration": 824,
    "start_time": "2022-04-01T21:34:58.239Z"
   },
   {
    "duration": 2748,
    "start_time": "2022-04-01T21:35:06.461Z"
   },
   {
    "duration": 3183,
    "start_time": "2022-04-01T21:35:12.030Z"
   },
   {
    "duration": 1519,
    "start_time": "2022-04-01T21:35:28.091Z"
   },
   {
    "duration": 3,
    "start_time": "2022-04-01T21:37:50.548Z"
   },
   {
    "duration": 23,
    "start_time": "2022-04-01T21:37:57.979Z"
   },
   {
    "duration": 828,
    "start_time": "2022-04-01T21:39:09.298Z"
   },
   {
    "duration": 2,
    "start_time": "2022-04-01T21:39:21.970Z"
   },
   {
    "duration": 139,
    "start_time": "2022-04-01T21:39:21.984Z"
   },
   {
    "duration": 126,
    "start_time": "2022-04-01T21:39:22.126Z"
   },
   {
    "duration": 85,
    "start_time": "2022-04-01T21:39:22.254Z"
   },
   {
    "duration": 16,
    "start_time": "2022-04-01T21:39:22.342Z"
   },
   {
    "duration": 28,
    "start_time": "2022-04-01T21:39:22.359Z"
   },
   {
    "duration": 63,
    "start_time": "2022-04-01T21:39:22.388Z"
   },
   {
    "duration": 36,
    "start_time": "2022-04-01T21:39:22.453Z"
   },
   {
    "duration": 21,
    "start_time": "2022-04-01T21:39:22.491Z"
   },
   {
    "duration": 18,
    "start_time": "2022-04-01T21:39:22.514Z"
   },
   {
    "duration": 4,
    "start_time": "2022-04-01T21:39:22.534Z"
   },
   {
    "duration": 5,
    "start_time": "2022-04-01T21:39:22.539Z"
   },
   {
    "duration": 162,
    "start_time": "2022-04-01T21:39:22.545Z"
   },
   {
    "duration": 4,
    "start_time": "2022-04-01T21:39:22.708Z"
   },
   {
    "duration": 47,
    "start_time": "2022-04-01T21:39:22.713Z"
   },
   {
    "duration": 59,
    "start_time": "2022-04-01T21:39:22.761Z"
   },
   {
    "duration": 30,
    "start_time": "2022-04-01T21:39:22.822Z"
   },
   {
    "duration": 37,
    "start_time": "2022-04-01T21:39:22.854Z"
   },
   {
    "duration": 17,
    "start_time": "2022-04-01T21:39:22.893Z"
   },
   {
    "duration": 4,
    "start_time": "2022-04-01T21:39:22.911Z"
   },
   {
    "duration": 20,
    "start_time": "2022-04-01T21:39:22.917Z"
   },
   {
    "duration": 8,
    "start_time": "2022-04-01T21:39:22.938Z"
   },
   {
    "duration": 8,
    "start_time": "2022-04-01T21:39:22.947Z"
   },
   {
    "duration": 26,
    "start_time": "2022-04-01T21:39:22.957Z"
   },
   {
    "duration": 3,
    "start_time": "2022-04-01T21:39:22.985Z"
   },
   {
    "duration": 5,
    "start_time": "2022-04-01T21:39:22.990Z"
   },
   {
    "duration": 5,
    "start_time": "2022-04-01T21:39:22.996Z"
   },
   {
    "duration": 6,
    "start_time": "2022-04-01T21:39:23.002Z"
   },
   {
    "duration": 7,
    "start_time": "2022-04-01T21:39:23.011Z"
   },
   {
    "duration": 10,
    "start_time": "2022-04-01T21:39:23.019Z"
   },
   {
    "duration": 7,
    "start_time": "2022-04-01T21:39:23.030Z"
   },
   {
    "duration": 6,
    "start_time": "2022-04-01T21:39:23.038Z"
   },
   {
    "duration": 5,
    "start_time": "2022-04-01T21:39:23.045Z"
   },
   {
    "duration": 4,
    "start_time": "2022-04-01T21:39:23.052Z"
   },
   {
    "duration": 41,
    "start_time": "2022-04-01T21:39:23.058Z"
   },
   {
    "duration": 6,
    "start_time": "2022-04-01T21:40:16.124Z"
   },
   {
    "duration": 4,
    "start_time": "2022-04-01T21:40:56.131Z"
   },
   {
    "duration": 17,
    "start_time": "2022-04-01T21:40:57.965Z"
   },
   {
    "duration": 3,
    "start_time": "2022-04-01T21:41:14.267Z"
   },
   {
    "duration": 135,
    "start_time": "2022-04-01T21:41:14.280Z"
   },
   {
    "duration": 125,
    "start_time": "2022-04-01T21:41:14.417Z"
   },
   {
    "duration": 86,
    "start_time": "2022-04-01T21:41:14.544Z"
   },
   {
    "duration": 16,
    "start_time": "2022-04-01T21:41:14.633Z"
   },
   {
    "duration": 29,
    "start_time": "2022-04-01T21:41:14.650Z"
   },
   {
    "duration": 63,
    "start_time": "2022-04-01T21:41:14.680Z"
   },
   {
    "duration": 52,
    "start_time": "2022-04-01T21:41:14.744Z"
   },
   {
    "duration": 49,
    "start_time": "2022-04-01T21:41:14.797Z"
   },
   {
    "duration": 20,
    "start_time": "2022-04-01T21:41:14.848Z"
   },
   {
    "duration": 3,
    "start_time": "2022-04-01T21:41:14.872Z"
   },
   {
    "duration": 2,
    "start_time": "2022-04-01T21:41:14.881Z"
   },
   {
    "duration": 152,
    "start_time": "2022-04-01T21:41:14.885Z"
   },
   {
    "duration": 5,
    "start_time": "2022-04-01T21:41:15.039Z"
   },
   {
    "duration": 62,
    "start_time": "2022-04-01T21:41:15.046Z"
   },
   {
    "duration": 49,
    "start_time": "2022-04-01T21:41:15.110Z"
   },
   {
    "duration": 46,
    "start_time": "2022-04-01T21:41:15.160Z"
   },
   {
    "duration": 23,
    "start_time": "2022-04-01T21:41:15.207Z"
   },
   {
    "duration": 17,
    "start_time": "2022-04-01T21:41:15.231Z"
   },
   {
    "duration": 4,
    "start_time": "2022-04-01T21:41:15.250Z"
   },
   {
    "duration": 15,
    "start_time": "2022-04-01T21:41:15.280Z"
   },
   {
    "duration": 7,
    "start_time": "2022-04-01T21:41:15.296Z"
   },
   {
    "duration": 5,
    "start_time": "2022-04-01T21:41:15.305Z"
   },
   {
    "duration": 6,
    "start_time": "2022-04-01T21:41:15.311Z"
   },
   {
    "duration": 3,
    "start_time": "2022-04-01T21:41:15.319Z"
   },
   {
    "duration": 7,
    "start_time": "2022-04-01T21:41:15.324Z"
   },
   {
    "duration": 4,
    "start_time": "2022-04-01T21:41:15.333Z"
   },
   {
    "duration": 7,
    "start_time": "2022-04-01T21:41:15.338Z"
   },
   {
    "duration": 4,
    "start_time": "2022-04-01T21:41:15.381Z"
   },
   {
    "duration": 6,
    "start_time": "2022-04-01T21:41:15.386Z"
   },
   {
    "duration": 5,
    "start_time": "2022-04-01T21:41:15.394Z"
   },
   {
    "duration": 9,
    "start_time": "2022-04-01T21:41:15.400Z"
   },
   {
    "duration": 5,
    "start_time": "2022-04-01T21:41:15.411Z"
   },
   {
    "duration": 5,
    "start_time": "2022-04-01T21:41:15.418Z"
   },
   {
    "duration": 22,
    "start_time": "2022-04-01T21:41:15.424Z"
   },
   {
    "duration": 535,
    "start_time": "2022-04-02T05:47:25.170Z"
   },
   {
    "duration": 216,
    "start_time": "2022-04-02T05:47:25.708Z"
   },
   {
    "duration": 176,
    "start_time": "2022-04-02T05:47:25.926Z"
   },
   {
    "duration": 115,
    "start_time": "2022-04-02T05:47:26.104Z"
   },
   {
    "duration": 12,
    "start_time": "2022-04-02T05:47:26.224Z"
   },
   {
    "duration": 19,
    "start_time": "2022-04-02T05:47:26.238Z"
   },
   {
    "duration": 105,
    "start_time": "2022-04-02T05:47:26.259Z"
   },
   {
    "duration": 53,
    "start_time": "2022-04-02T05:47:26.374Z"
   },
   {
    "duration": 52,
    "start_time": "2022-04-02T05:47:26.429Z"
   },
   {
    "duration": 30,
    "start_time": "2022-04-02T05:47:26.483Z"
   },
   {
    "duration": 5,
    "start_time": "2022-04-02T05:47:26.516Z"
   },
   {
    "duration": 6,
    "start_time": "2022-04-02T05:47:26.523Z"
   },
   {
    "duration": 338,
    "start_time": "2022-04-02T05:47:26.531Z"
   },
   {
    "duration": 6,
    "start_time": "2022-04-02T05:47:26.880Z"
   },
   {
    "duration": 98,
    "start_time": "2022-04-02T05:47:26.889Z"
   },
   {
    "duration": 96,
    "start_time": "2022-04-02T05:47:26.989Z"
   },
   {
    "duration": 89,
    "start_time": "2022-04-02T05:47:27.087Z"
   },
   {
    "duration": 37,
    "start_time": "2022-04-02T05:47:27.178Z"
   },
   {
    "duration": 57,
    "start_time": "2022-04-02T05:47:27.217Z"
   },
   {
    "duration": 7,
    "start_time": "2022-04-02T05:47:27.276Z"
   },
   {
    "duration": 29,
    "start_time": "2022-04-02T05:47:27.285Z"
   },
   {
    "duration": 12,
    "start_time": "2022-04-02T05:47:27.316Z"
   },
   {
    "duration": 6,
    "start_time": "2022-04-02T05:47:27.331Z"
   },
   {
    "duration": 43,
    "start_time": "2022-04-02T05:47:27.339Z"
   },
   {
    "duration": 15,
    "start_time": "2022-04-02T05:47:27.384Z"
   },
   {
    "duration": 21,
    "start_time": "2022-04-02T05:47:27.402Z"
   },
   {
    "duration": 17,
    "start_time": "2022-04-02T05:47:27.425Z"
   },
   {
    "duration": 32,
    "start_time": "2022-04-02T05:47:27.444Z"
   },
   {
    "duration": 16,
    "start_time": "2022-04-02T05:47:27.478Z"
   },
   {
    "duration": 23,
    "start_time": "2022-04-02T05:47:27.496Z"
   },
   {
    "duration": 28,
    "start_time": "2022-04-02T05:47:27.521Z"
   },
   {
    "duration": 20,
    "start_time": "2022-04-02T05:47:27.551Z"
   },
   {
    "duration": 18,
    "start_time": "2022-04-02T05:47:27.573Z"
   },
   {
    "duration": 17,
    "start_time": "2022-04-02T05:47:27.593Z"
   },
   {
    "duration": 45,
    "start_time": "2022-04-02T05:47:27.613Z"
   },
   {
    "duration": 4,
    "start_time": "2022-04-02T05:49:05.285Z"
   },
   {
    "duration": 34,
    "start_time": "2022-04-02T05:49:06.574Z"
   },
   {
    "duration": 4,
    "start_time": "2022-04-02T05:49:44.890Z"
   },
   {
    "duration": 4,
    "start_time": "2022-04-02T05:50:02.315Z"
   },
   {
    "duration": 4,
    "start_time": "2022-04-02T05:50:03.516Z"
   },
   {
    "duration": 5,
    "start_time": "2022-04-02T05:50:04.456Z"
   },
   {
    "duration": 49,
    "start_time": "2022-04-02T05:50:05.863Z"
   },
   {
    "duration": 4,
    "start_time": "2022-04-02T05:50:16.495Z"
   },
   {
    "duration": 328,
    "start_time": "2022-04-02T05:50:16.503Z"
   },
   {
    "duration": 279,
    "start_time": "2022-04-02T05:50:16.835Z"
   },
   {
    "duration": 177,
    "start_time": "2022-04-02T05:50:17.118Z"
   },
   {
    "duration": 15,
    "start_time": "2022-04-02T05:50:17.299Z"
   },
   {
    "duration": 21,
    "start_time": "2022-04-02T05:50:17.316Z"
   },
   {
    "duration": 180,
    "start_time": "2022-04-02T05:50:17.340Z"
   },
   {
    "duration": 91,
    "start_time": "2022-04-02T05:50:17.522Z"
   },
   {
    "duration": 63,
    "start_time": "2022-04-02T05:50:17.616Z"
   },
   {
    "duration": 45,
    "start_time": "2022-04-02T05:50:17.682Z"
   },
   {
    "duration": 7,
    "start_time": "2022-04-02T05:50:17.734Z"
   },
   {
    "duration": 6,
    "start_time": "2022-04-02T05:50:17.744Z"
   },
   {
    "duration": 403,
    "start_time": "2022-04-02T05:50:17.775Z"
   },
   {
    "duration": 7,
    "start_time": "2022-04-02T05:50:18.182Z"
   },
   {
    "duration": 107,
    "start_time": "2022-04-02T05:50:18.192Z"
   },
   {
    "duration": 148,
    "start_time": "2022-04-02T05:50:18.302Z"
   },
   {
    "duration": 102,
    "start_time": "2022-04-02T05:50:18.453Z"
   },
   {
    "duration": 61,
    "start_time": "2022-04-02T05:50:18.558Z"
   },
   {
    "duration": 53,
    "start_time": "2022-04-02T05:50:18.622Z"
   },
   {
    "duration": 8,
    "start_time": "2022-04-02T05:50:18.678Z"
   },
   {
    "duration": 28,
    "start_time": "2022-04-02T05:50:18.689Z"
   },
   {
    "duration": 11,
    "start_time": "2022-04-02T05:50:18.720Z"
   },
   {
    "duration": 44,
    "start_time": "2022-04-02T05:50:18.734Z"
   },
   {
    "duration": 10,
    "start_time": "2022-04-02T05:50:18.780Z"
   },
   {
    "duration": 9,
    "start_time": "2022-04-02T05:50:18.792Z"
   },
   {
    "duration": 8,
    "start_time": "2022-04-02T05:50:18.803Z"
   },
   {
    "duration": 7,
    "start_time": "2022-04-02T05:50:18.813Z"
   },
   {
    "duration": 8,
    "start_time": "2022-04-02T05:50:18.822Z"
   },
   {
    "duration": 39,
    "start_time": "2022-04-02T05:50:18.835Z"
   },
   {
    "duration": 5,
    "start_time": "2022-04-02T05:50:18.876Z"
   },
   {
    "duration": 9,
    "start_time": "2022-04-02T05:50:18.883Z"
   },
   {
    "duration": 6,
    "start_time": "2022-04-02T05:50:18.894Z"
   },
   {
    "duration": 6,
    "start_time": "2022-04-02T05:50:18.902Z"
   },
   {
    "duration": 5,
    "start_time": "2022-04-02T05:50:18.910Z"
   },
   {
    "duration": 69,
    "start_time": "2022-04-02T05:50:18.917Z"
   },
   {
    "duration": 5,
    "start_time": "2022-04-02T05:51:12.110Z"
   },
   {
    "duration": 37,
    "start_time": "2022-04-02T05:51:13.475Z"
   },
   {
    "duration": 3,
    "start_time": "2022-04-02T05:52:01.198Z"
   },
   {
    "duration": 213,
    "start_time": "2022-04-02T05:52:01.207Z"
   },
   {
    "duration": 194,
    "start_time": "2022-04-02T05:52:01.423Z"
   },
   {
    "duration": 117,
    "start_time": "2022-04-02T05:52:01.619Z"
   },
   {
    "duration": 11,
    "start_time": "2022-04-02T05:52:01.739Z"
   },
   {
    "duration": 20,
    "start_time": "2022-04-02T05:52:01.753Z"
   },
   {
    "duration": 105,
    "start_time": "2022-04-02T05:52:01.776Z"
   },
   {
    "duration": 49,
    "start_time": "2022-04-02T05:52:01.883Z"
   },
   {
    "duration": 59,
    "start_time": "2022-04-02T05:52:01.935Z"
   },
   {
    "duration": 32,
    "start_time": "2022-04-02T05:52:01.997Z"
   },
   {
    "duration": 6,
    "start_time": "2022-04-02T05:52:02.035Z"
   },
   {
    "duration": 5,
    "start_time": "2022-04-02T05:52:02.074Z"
   },
   {
    "duration": 317,
    "start_time": "2022-04-02T05:52:02.082Z"
   },
   {
    "duration": 6,
    "start_time": "2022-04-02T05:52:02.401Z"
   },
   {
    "duration": 98,
    "start_time": "2022-04-02T05:52:02.410Z"
   },
   {
    "duration": 102,
    "start_time": "2022-04-02T05:52:02.511Z"
   },
   {
    "duration": 78,
    "start_time": "2022-04-02T05:52:02.616Z"
   },
   {
    "duration": 37,
    "start_time": "2022-04-02T05:52:02.696Z"
   },
   {
    "duration": 56,
    "start_time": "2022-04-02T05:52:02.736Z"
   },
   {
    "duration": 7,
    "start_time": "2022-04-02T05:52:02.794Z"
   },
   {
    "duration": 26,
    "start_time": "2022-04-02T05:52:02.803Z"
   },
   {
    "duration": 42,
    "start_time": "2022-04-02T05:52:02.832Z"
   },
   {
    "duration": 8,
    "start_time": "2022-04-02T05:52:02.876Z"
   },
   {
    "duration": 11,
    "start_time": "2022-04-02T05:52:02.887Z"
   },
   {
    "duration": 5,
    "start_time": "2022-04-02T05:52:02.901Z"
   },
   {
    "duration": 7,
    "start_time": "2022-04-02T05:52:02.909Z"
   },
   {
    "duration": 55,
    "start_time": "2022-04-02T05:52:02.919Z"
   },
   {
    "duration": 4,
    "start_time": "2022-04-02T05:52:02.977Z"
   },
   {
    "duration": 9,
    "start_time": "2022-04-02T05:52:02.985Z"
   },
   {
    "duration": 11,
    "start_time": "2022-04-02T05:52:02.997Z"
   },
   {
    "duration": 11,
    "start_time": "2022-04-02T05:52:03.010Z"
   },
   {
    "duration": 6,
    "start_time": "2022-04-02T05:52:03.023Z"
   },
   {
    "duration": 9,
    "start_time": "2022-04-02T05:52:03.031Z"
   },
   {
    "duration": 32,
    "start_time": "2022-04-02T05:52:03.042Z"
   },
   {
    "duration": 41,
    "start_time": "2022-04-02T05:52:03.077Z"
   },
   {
    "duration": 4,
    "start_time": "2022-04-02T13:31:19.456Z"
   },
   {
    "duration": 20,
    "start_time": "2022-04-02T13:31:20.562Z"
   },
   {
    "duration": 3,
    "start_time": "2022-04-02T13:31:29.641Z"
   },
   {
    "duration": 134,
    "start_time": "2022-04-02T13:31:29.656Z"
   },
   {
    "duration": 112,
    "start_time": "2022-04-02T13:31:29.792Z"
   },
   {
    "duration": 79,
    "start_time": "2022-04-02T13:31:29.905Z"
   },
   {
    "duration": 16,
    "start_time": "2022-04-02T13:31:29.986Z"
   },
   {
    "duration": 28,
    "start_time": "2022-04-02T13:31:30.003Z"
   },
   {
    "duration": 62,
    "start_time": "2022-04-02T13:31:30.032Z"
   },
   {
    "duration": 28,
    "start_time": "2022-04-02T13:31:30.096Z"
   },
   {
    "duration": 21,
    "start_time": "2022-04-02T13:31:30.126Z"
   },
   {
    "duration": 32,
    "start_time": "2022-04-02T13:31:30.149Z"
   },
   {
    "duration": 4,
    "start_time": "2022-04-02T13:31:30.183Z"
   },
   {
    "duration": 13,
    "start_time": "2022-04-02T13:31:30.188Z"
   },
   {
    "duration": 154,
    "start_time": "2022-04-02T13:31:30.202Z"
   },
   {
    "duration": 4,
    "start_time": "2022-04-02T13:31:30.358Z"
   },
   {
    "duration": 67,
    "start_time": "2022-04-02T13:31:30.363Z"
   },
   {
    "duration": 50,
    "start_time": "2022-04-02T13:31:30.432Z"
   },
   {
    "duration": 34,
    "start_time": "2022-04-02T13:31:30.484Z"
   },
   {
    "duration": 22,
    "start_time": "2022-04-02T13:31:30.520Z"
   },
   {
    "duration": 16,
    "start_time": "2022-04-02T13:31:30.544Z"
   },
   {
    "duration": 4,
    "start_time": "2022-04-02T13:31:30.580Z"
   },
   {
    "duration": 25,
    "start_time": "2022-04-02T13:31:30.586Z"
   },
   {
    "duration": 15,
    "start_time": "2022-04-02T13:31:30.612Z"
   },
   {
    "duration": 18,
    "start_time": "2022-04-02T13:31:30.629Z"
   },
   {
    "duration": 37,
    "start_time": "2022-04-02T13:31:30.649Z"
   },
   {
    "duration": 26,
    "start_time": "2022-04-02T13:31:30.688Z"
   },
   {
    "duration": 14,
    "start_time": "2022-04-02T13:31:30.716Z"
   },
   {
    "duration": 18,
    "start_time": "2022-04-02T13:31:30.732Z"
   },
   {
    "duration": 12,
    "start_time": "2022-04-02T13:31:30.751Z"
   },
   {
    "duration": 20,
    "start_time": "2022-04-02T13:31:30.766Z"
   },
   {
    "duration": 12,
    "start_time": "2022-04-02T13:31:30.787Z"
   },
   {
    "duration": 13,
    "start_time": "2022-04-02T13:31:30.800Z"
   },
   {
    "duration": 12,
    "start_time": "2022-04-02T13:31:30.815Z"
   },
   {
    "duration": 12,
    "start_time": "2022-04-02T13:31:30.828Z"
   },
   {
    "duration": 9,
    "start_time": "2022-04-02T13:31:30.841Z"
   },
   {
    "duration": 37,
    "start_time": "2022-04-02T13:31:30.851Z"
   },
   {
    "duration": 2,
    "start_time": "2022-04-02T13:31:33.296Z"
   },
   {
    "duration": 138,
    "start_time": "2022-04-02T13:31:33.300Z"
   },
   {
    "duration": 114,
    "start_time": "2022-04-02T13:31:33.440Z"
   },
   {
    "duration": 79,
    "start_time": "2022-04-02T13:31:33.556Z"
   },
   {
    "duration": 16,
    "start_time": "2022-04-02T13:31:33.637Z"
   },
   {
    "duration": 27,
    "start_time": "2022-04-02T13:31:33.655Z"
   },
   {
    "duration": 63,
    "start_time": "2022-04-02T13:31:33.683Z"
   },
   {
    "duration": 38,
    "start_time": "2022-04-02T13:31:33.748Z"
   },
   {
    "duration": 24,
    "start_time": "2022-04-02T13:31:33.788Z"
   },
   {
    "duration": 19,
    "start_time": "2022-04-02T13:31:33.814Z"
   },
   {
    "duration": 4,
    "start_time": "2022-04-02T13:31:33.836Z"
   },
   {
    "duration": 4,
    "start_time": "2022-04-02T13:31:33.842Z"
   },
   {
    "duration": 168,
    "start_time": "2022-04-02T13:31:33.848Z"
   },
   {
    "duration": 4,
    "start_time": "2022-04-02T13:31:34.018Z"
   },
   {
    "duration": 58,
    "start_time": "2022-04-02T13:31:34.025Z"
   },
   {
    "duration": 49,
    "start_time": "2022-04-02T13:31:34.085Z"
   },
   {
    "duration": 50,
    "start_time": "2022-04-02T13:31:34.135Z"
   },
   {
    "duration": 21,
    "start_time": "2022-04-02T13:31:34.187Z"
   },
   {
    "duration": 17,
    "start_time": "2022-04-02T13:31:34.210Z"
   },
   {
    "duration": 4,
    "start_time": "2022-04-02T13:31:34.229Z"
   },
   {
    "duration": 16,
    "start_time": "2022-04-02T13:31:34.235Z"
   },
   {
    "duration": 7,
    "start_time": "2022-04-02T13:31:34.280Z"
   },
   {
    "duration": 4,
    "start_time": "2022-04-02T13:31:34.289Z"
   },
   {
    "duration": 6,
    "start_time": "2022-04-02T13:31:34.295Z"
   },
   {
    "duration": 4,
    "start_time": "2022-04-02T13:31:34.302Z"
   },
   {
    "duration": 11,
    "start_time": "2022-04-02T13:31:34.307Z"
   },
   {
    "duration": 5,
    "start_time": "2022-04-02T13:31:34.319Z"
   },
   {
    "duration": 6,
    "start_time": "2022-04-02T13:31:34.325Z"
   },
   {
    "duration": 4,
    "start_time": "2022-04-02T13:31:34.334Z"
   },
   {
    "duration": 5,
    "start_time": "2022-04-02T13:31:34.340Z"
   },
   {
    "duration": 36,
    "start_time": "2022-04-02T13:31:34.346Z"
   },
   {
    "duration": 3,
    "start_time": "2022-04-02T13:31:34.383Z"
   },
   {
    "duration": 6,
    "start_time": "2022-04-02T13:31:34.388Z"
   },
   {
    "duration": 5,
    "start_time": "2022-04-02T13:31:34.396Z"
   },
   {
    "duration": 22,
    "start_time": "2022-04-02T13:31:34.403Z"
   },
   {
    "duration": 2,
    "start_time": "2022-04-02T13:32:14.538Z"
   },
   {
    "duration": 142,
    "start_time": "2022-04-02T13:32:14.542Z"
   },
   {
    "duration": 112,
    "start_time": "2022-04-02T13:32:14.686Z"
   },
   {
    "duration": 77,
    "start_time": "2022-04-02T13:32:14.799Z"
   },
   {
    "duration": 15,
    "start_time": "2022-04-02T13:32:14.878Z"
   },
   {
    "duration": 27,
    "start_time": "2022-04-02T13:32:14.894Z"
   },
   {
    "duration": 60,
    "start_time": "2022-04-02T13:32:14.923Z"
   },
   {
    "duration": 33,
    "start_time": "2022-04-02T13:32:14.984Z"
   },
   {
    "duration": 22,
    "start_time": "2022-04-02T13:32:15.019Z"
   },
   {
    "duration": 18,
    "start_time": "2022-04-02T13:32:15.042Z"
   },
   {
    "duration": 19,
    "start_time": "2022-04-02T13:32:15.062Z"
   },
   {
    "duration": 5,
    "start_time": "2022-04-02T13:32:15.083Z"
   },
   {
    "duration": 147,
    "start_time": "2022-04-02T13:32:15.090Z"
   },
   {
    "duration": 4,
    "start_time": "2022-04-02T13:32:15.238Z"
   },
   {
    "duration": 54,
    "start_time": "2022-04-02T13:32:15.244Z"
   },
   {
    "duration": 46,
    "start_time": "2022-04-02T13:32:15.300Z"
   },
   {
    "duration": 43,
    "start_time": "2022-04-02T13:32:15.348Z"
   },
   {
    "duration": 20,
    "start_time": "2022-04-02T13:32:15.393Z"
   },
   {
    "duration": 16,
    "start_time": "2022-04-02T13:32:15.414Z"
   },
   {
    "duration": 4,
    "start_time": "2022-04-02T13:32:15.431Z"
   },
   {
    "duration": 18,
    "start_time": "2022-04-02T13:32:15.436Z"
   },
   {
    "duration": 27,
    "start_time": "2022-04-02T13:32:15.455Z"
   },
   {
    "duration": 4,
    "start_time": "2022-04-02T13:32:15.484Z"
   },
   {
    "duration": 8,
    "start_time": "2022-04-02T13:32:15.489Z"
   },
   {
    "duration": 4,
    "start_time": "2022-04-02T13:32:15.499Z"
   },
   {
    "duration": 7,
    "start_time": "2022-04-02T13:32:15.504Z"
   },
   {
    "duration": 4,
    "start_time": "2022-04-02T13:32:15.513Z"
   },
   {
    "duration": 5,
    "start_time": "2022-04-02T13:32:15.518Z"
   },
   {
    "duration": 5,
    "start_time": "2022-04-02T13:32:15.524Z"
   },
   {
    "duration": 7,
    "start_time": "2022-04-02T13:32:15.530Z"
   },
   {
    "duration": 8,
    "start_time": "2022-04-02T13:32:15.539Z"
   },
   {
    "duration": 4,
    "start_time": "2022-04-02T13:32:15.548Z"
   },
   {
    "duration": 27,
    "start_time": "2022-04-02T13:32:15.554Z"
   },
   {
    "duration": 3,
    "start_time": "2022-04-02T13:32:15.582Z"
   },
   {
    "duration": 24,
    "start_time": "2022-04-02T13:32:15.586Z"
   },
   {
    "duration": 4,
    "start_time": "2022-04-02T13:32:59.497Z"
   },
   {
    "duration": 21,
    "start_time": "2022-04-02T13:33:00.632Z"
   },
   {
    "duration": 2,
    "start_time": "2022-04-02T13:34:07.343Z"
   },
   {
    "duration": 135,
    "start_time": "2022-04-02T13:34:07.347Z"
   },
   {
    "duration": 111,
    "start_time": "2022-04-02T13:34:07.484Z"
   },
   {
    "duration": 76,
    "start_time": "2022-04-02T13:34:07.597Z"
   },
   {
    "duration": 15,
    "start_time": "2022-04-02T13:34:07.675Z"
   },
   {
    "duration": 27,
    "start_time": "2022-04-02T13:34:07.692Z"
   },
   {
    "duration": 61,
    "start_time": "2022-04-02T13:34:07.721Z"
   },
   {
    "duration": 27,
    "start_time": "2022-04-02T13:34:07.784Z"
   },
   {
    "duration": 21,
    "start_time": "2022-04-02T13:34:07.813Z"
   },
   {
    "duration": 18,
    "start_time": "2022-04-02T13:34:07.835Z"
   },
   {
    "duration": 3,
    "start_time": "2022-04-02T13:34:07.855Z"
   },
   {
    "duration": 23,
    "start_time": "2022-04-02T13:34:07.859Z"
   },
   {
    "duration": 137,
    "start_time": "2022-04-02T13:34:07.883Z"
   },
   {
    "duration": 4,
    "start_time": "2022-04-02T13:34:08.021Z"
   },
   {
    "duration": 57,
    "start_time": "2022-04-02T13:34:08.027Z"
   },
   {
    "duration": 46,
    "start_time": "2022-04-02T13:34:08.085Z"
   },
   {
    "duration": 31,
    "start_time": "2022-04-02T13:34:08.132Z"
   },
   {
    "duration": 20,
    "start_time": "2022-04-02T13:34:08.180Z"
   },
   {
    "duration": 15,
    "start_time": "2022-04-02T13:34:08.202Z"
   },
   {
    "duration": 3,
    "start_time": "2022-04-02T13:34:08.219Z"
   },
   {
    "duration": 15,
    "start_time": "2022-04-02T13:34:08.223Z"
   },
   {
    "duration": 6,
    "start_time": "2022-04-02T13:34:08.240Z"
   },
   {
    "duration": 4,
    "start_time": "2022-04-02T13:34:08.247Z"
   },
   {
    "duration": 5,
    "start_time": "2022-04-02T13:34:08.280Z"
   },
   {
    "duration": 4,
    "start_time": "2022-04-02T13:34:08.287Z"
   },
   {
    "duration": 9,
    "start_time": "2022-04-02T13:34:08.293Z"
   },
   {
    "duration": 4,
    "start_time": "2022-04-02T13:34:08.303Z"
   },
   {
    "duration": 5,
    "start_time": "2022-04-02T13:34:08.308Z"
   },
   {
    "duration": 5,
    "start_time": "2022-04-02T13:34:08.314Z"
   },
   {
    "duration": 7,
    "start_time": "2022-04-02T13:34:08.320Z"
   },
   {
    "duration": 7,
    "start_time": "2022-04-02T13:34:08.328Z"
   },
   {
    "duration": 6,
    "start_time": "2022-04-02T13:34:08.336Z"
   },
   {
    "duration": 6,
    "start_time": "2022-04-02T13:34:08.343Z"
   },
   {
    "duration": 5,
    "start_time": "2022-04-02T13:34:08.350Z"
   },
   {
    "duration": 34,
    "start_time": "2022-04-02T13:34:08.356Z"
   },
   {
    "duration": 4,
    "start_time": "2022-04-02T13:40:45.947Z"
   },
   {
    "duration": 23,
    "start_time": "2022-04-02T13:40:55.768Z"
   },
   {
    "duration": 4,
    "start_time": "2022-04-02T13:44:03.999Z"
   },
   {
    "duration": 22,
    "start_time": "2022-04-02T13:44:05.787Z"
   },
   {
    "duration": 5,
    "start_time": "2022-04-02T13:45:06.734Z"
   },
   {
    "duration": 22,
    "start_time": "2022-04-02T13:45:07.823Z"
   },
   {
    "duration": 7,
    "start_time": "2022-04-02T13:51:33.174Z"
   },
   {
    "duration": 23,
    "start_time": "2022-04-02T13:51:35.663Z"
   },
   {
    "duration": 2,
    "start_time": "2022-04-02T13:52:07.469Z"
   },
   {
    "duration": 141,
    "start_time": "2022-04-02T13:52:07.473Z"
   },
   {
    "duration": 123,
    "start_time": "2022-04-02T13:52:07.616Z"
   },
   {
    "duration": 82,
    "start_time": "2022-04-02T13:52:07.741Z"
   },
   {
    "duration": 16,
    "start_time": "2022-04-02T13:52:07.824Z"
   },
   {
    "duration": 27,
    "start_time": "2022-04-02T13:52:07.842Z"
   },
   {
    "duration": 60,
    "start_time": "2022-04-02T13:52:07.871Z"
   },
   {
    "duration": 28,
    "start_time": "2022-04-02T13:52:07.933Z"
   },
   {
    "duration": 35,
    "start_time": "2022-04-02T13:52:07.964Z"
   },
   {
    "duration": 19,
    "start_time": "2022-04-02T13:52:08.001Z"
   },
   {
    "duration": 4,
    "start_time": "2022-04-02T13:52:08.021Z"
   },
   {
    "duration": 4,
    "start_time": "2022-04-02T13:52:08.027Z"
   },
   {
    "duration": 172,
    "start_time": "2022-04-02T13:52:08.033Z"
   },
   {
    "duration": 5,
    "start_time": "2022-04-02T13:52:08.206Z"
   },
   {
    "duration": 44,
    "start_time": "2022-04-02T13:52:08.213Z"
   },
   {
    "duration": 68,
    "start_time": "2022-04-02T13:52:08.258Z"
   },
   {
    "duration": 35,
    "start_time": "2022-04-02T13:52:08.328Z"
   },
   {
    "duration": 35,
    "start_time": "2022-04-02T13:52:08.365Z"
   },
   {
    "duration": 17,
    "start_time": "2022-04-02T13:52:08.401Z"
   },
   {
    "duration": 15,
    "start_time": "2022-04-02T13:52:08.420Z"
   },
   {
    "duration": 7,
    "start_time": "2022-04-02T13:52:08.437Z"
   },
   {
    "duration": 35,
    "start_time": "2022-04-02T13:52:08.446Z"
   },
   {
    "duration": 7,
    "start_time": "2022-04-02T13:52:08.482Z"
   },
   {
    "duration": 2,
    "start_time": "2022-04-02T13:52:08.493Z"
   },
   {
    "duration": 7,
    "start_time": "2022-04-02T13:52:08.497Z"
   },
   {
    "duration": 5,
    "start_time": "2022-04-02T13:52:08.505Z"
   },
   {
    "duration": 4,
    "start_time": "2022-04-02T13:52:08.512Z"
   },
   {
    "duration": 6,
    "start_time": "2022-04-02T13:52:08.518Z"
   },
   {
    "duration": 6,
    "start_time": "2022-04-02T13:52:08.526Z"
   },
   {
    "duration": 8,
    "start_time": "2022-04-02T13:52:08.534Z"
   },
   {
    "duration": 5,
    "start_time": "2022-04-02T13:52:08.543Z"
   },
   {
    "duration": 32,
    "start_time": "2022-04-02T13:52:08.549Z"
   },
   {
    "duration": 4,
    "start_time": "2022-04-02T13:52:08.582Z"
   },
   {
    "duration": 7,
    "start_time": "2022-04-02T13:52:08.588Z"
   },
   {
    "duration": 21,
    "start_time": "2022-04-02T13:52:08.597Z"
   },
   {
    "duration": 3,
    "start_time": "2022-04-02T14:13:22.716Z"
   },
   {
    "duration": 2,
    "start_time": "2022-04-02T14:13:22.729Z"
   },
   {
    "duration": 140,
    "start_time": "2022-04-02T14:13:22.741Z"
   },
   {
    "duration": 114,
    "start_time": "2022-04-02T14:13:22.883Z"
   },
   {
    "duration": 82,
    "start_time": "2022-04-02T14:13:22.999Z"
   },
   {
    "duration": 16,
    "start_time": "2022-04-02T14:13:23.083Z"
   },
   {
    "duration": 26,
    "start_time": "2022-04-02T14:13:23.100Z"
   },
   {
    "duration": 61,
    "start_time": "2022-04-02T14:13:23.128Z"
   },
   {
    "duration": 28,
    "start_time": "2022-04-02T14:13:23.190Z"
   },
   {
    "duration": 21,
    "start_time": "2022-04-02T14:13:23.219Z"
   },
   {
    "duration": 17,
    "start_time": "2022-04-02T14:13:23.242Z"
   },
   {
    "duration": 43,
    "start_time": "2022-04-02T14:13:23.261Z"
   },
   {
    "duration": 4,
    "start_time": "2022-04-02T14:13:23.306Z"
   },
   {
    "duration": 154,
    "start_time": "2022-04-02T14:13:23.312Z"
   },
   {
    "duration": 4,
    "start_time": "2022-04-02T14:13:23.467Z"
   },
   {
    "duration": 44,
    "start_time": "2022-04-02T14:13:23.480Z"
   },
   {
    "duration": 61,
    "start_time": "2022-04-02T14:13:23.526Z"
   },
   {
    "duration": 32,
    "start_time": "2022-04-02T14:13:23.589Z"
   },
   {
    "duration": 21,
    "start_time": "2022-04-02T14:13:23.623Z"
   },
   {
    "duration": 15,
    "start_time": "2022-04-02T14:13:23.645Z"
   },
   {
    "duration": 13,
    "start_time": "2022-04-02T14:13:23.680Z"
   },
   {
    "duration": 6,
    "start_time": "2022-04-02T14:13:23.695Z"
   },
   {
    "duration": 4,
    "start_time": "2022-04-02T14:13:23.702Z"
   },
   {
    "duration": 6,
    "start_time": "2022-04-02T14:13:23.707Z"
   },
   {
    "duration": 4,
    "start_time": "2022-04-02T14:13:23.714Z"
   },
   {
    "duration": 5,
    "start_time": "2022-04-02T14:13:23.720Z"
   },
   {
    "duration": 5,
    "start_time": "2022-04-02T14:13:23.726Z"
   },
   {
    "duration": 5,
    "start_time": "2022-04-02T14:13:23.732Z"
   },
   {
    "duration": 6,
    "start_time": "2022-04-02T14:13:23.738Z"
   },
   {
    "duration": 4,
    "start_time": "2022-04-02T14:13:23.747Z"
   },
   {
    "duration": 3,
    "start_time": "2022-04-02T14:13:23.781Z"
   },
   {
    "duration": 6,
    "start_time": "2022-04-02T14:13:23.785Z"
   },
   {
    "duration": 4,
    "start_time": "2022-04-02T14:13:23.793Z"
   },
   {
    "duration": 6,
    "start_time": "2022-04-02T14:13:23.798Z"
   },
   {
    "duration": 7,
    "start_time": "2022-04-02T14:13:23.805Z"
   },
   {
    "duration": 24,
    "start_time": "2022-04-02T14:13:23.813Z"
   },
   {
    "duration": 57,
    "start_time": "2022-04-02T14:45:41.345Z"
   },
   {
    "duration": 188,
    "start_time": "2022-04-02T14:46:21.739Z"
   },
   {
    "duration": 10,
    "start_time": "2022-04-02T14:46:38.944Z"
   },
   {
    "duration": 189,
    "start_time": "2022-04-02T14:47:11.436Z"
   },
   {
    "duration": 7,
    "start_time": "2022-04-02T14:47:28.572Z"
   },
   {
    "duration": 10,
    "start_time": "2022-04-02T14:49:28.223Z"
   },
   {
    "duration": 14,
    "start_time": "2022-04-02T14:51:42.859Z"
   },
   {
    "duration": 14,
    "start_time": "2022-04-02T14:52:11.231Z"
   },
   {
    "duration": 9,
    "start_time": "2022-04-02T14:52:40.215Z"
   },
   {
    "duration": 10,
    "start_time": "2022-04-02T14:52:58.790Z"
   },
   {
    "duration": 9,
    "start_time": "2022-04-02T14:53:11.427Z"
   },
   {
    "duration": 22,
    "start_time": "2022-04-02T16:14:25.919Z"
   },
   {
    "duration": 28,
    "start_time": "2022-04-02T16:18:20.302Z"
   },
   {
    "duration": 523,
    "start_time": "2022-04-02T18:01:49.717Z"
   },
   {
    "duration": 112,
    "start_time": "2022-04-02T18:02:20.713Z"
   },
   {
    "duration": 21,
    "start_time": "2022-04-02T18:02:36.979Z"
   },
   {
    "duration": 180,
    "start_time": "2022-04-02T18:02:48.704Z"
   },
   {
    "duration": 306,
    "start_time": "2022-04-02T18:03:42.402Z"
   },
   {
    "duration": 302,
    "start_time": "2022-04-02T18:04:25.081Z"
   },
   {
    "duration": 186,
    "start_time": "2022-04-02T18:05:13.523Z"
   },
   {
    "duration": 220,
    "start_time": "2022-04-02T18:05:47.566Z"
   },
   {
    "duration": 212,
    "start_time": "2022-04-02T18:06:22.710Z"
   },
   {
    "duration": 570,
    "start_time": "2022-04-02T18:06:34.779Z"
   },
   {
    "duration": 818,
    "start_time": "2022-04-02T18:07:02.893Z"
   },
   {
    "duration": 534,
    "start_time": "2022-04-02T18:07:38.378Z"
   },
   {
    "duration": 161,
    "start_time": "2022-04-02T18:16:43.741Z"
   },
   {
    "duration": 10,
    "start_time": "2022-04-02T18:22:40.453Z"
   },
   {
    "duration": 127,
    "start_time": "2022-04-02T18:23:12.485Z"
   },
   {
    "duration": 153,
    "start_time": "2022-04-02T18:24:23.217Z"
   },
   {
    "duration": 247,
    "start_time": "2022-04-02T18:25:35.550Z"
   },
   {
    "duration": 154,
    "start_time": "2022-04-02T18:28:51.568Z"
   },
   {
    "duration": 2,
    "start_time": "2022-04-02T18:29:41.415Z"
   },
   {
    "duration": 156,
    "start_time": "2022-04-02T18:29:59.199Z"
   },
   {
    "duration": 163,
    "start_time": "2022-04-02T18:30:21.721Z"
   },
   {
    "duration": 169,
    "start_time": "2022-04-02T18:31:51.782Z"
   },
   {
    "duration": 152,
    "start_time": "2022-04-02T18:32:08.644Z"
   },
   {
    "duration": 180,
    "start_time": "2022-04-02T18:33:11.423Z"
   },
   {
    "duration": 158,
    "start_time": "2022-04-02T18:35:49.016Z"
   },
   {
    "duration": 273,
    "start_time": "2022-04-02T18:36:54.362Z"
   },
   {
    "duration": 2,
    "start_time": "2022-04-02T18:37:49.978Z"
   },
   {
    "duration": 238,
    "start_time": "2022-04-02T18:37:56.766Z"
   },
   {
    "duration": 183,
    "start_time": "2022-04-02T18:39:19.972Z"
   },
   {
    "duration": 169,
    "start_time": "2022-04-02T18:45:49.841Z"
   },
   {
    "duration": 21,
    "start_time": "2022-04-02T18:46:41.484Z"
   },
   {
    "duration": 26,
    "start_time": "2022-04-02T18:46:52.693Z"
   },
   {
    "duration": 136,
    "start_time": "2022-04-02T18:50:12.610Z"
   },
   {
    "duration": 3,
    "start_time": "2022-04-02T18:53:39.304Z"
   },
   {
    "duration": 3,
    "start_time": "2022-04-02T18:53:39.321Z"
   },
   {
    "duration": 147,
    "start_time": "2022-04-02T18:53:39.335Z"
   },
   {
    "duration": 125,
    "start_time": "2022-04-02T18:53:39.484Z"
   },
   {
    "duration": 88,
    "start_time": "2022-04-02T18:53:39.611Z"
   },
   {
    "duration": 16,
    "start_time": "2022-04-02T18:53:39.701Z"
   },
   {
    "duration": 37,
    "start_time": "2022-04-02T18:53:39.718Z"
   },
   {
    "duration": 60,
    "start_time": "2022-04-02T18:53:39.757Z"
   },
   {
    "duration": 28,
    "start_time": "2022-04-02T18:53:39.818Z"
   },
   {
    "duration": 34,
    "start_time": "2022-04-02T18:53:39.847Z"
   },
   {
    "duration": 18,
    "start_time": "2022-04-02T18:53:39.882Z"
   },
   {
    "duration": 3,
    "start_time": "2022-04-02T18:53:39.902Z"
   },
   {
    "duration": 5,
    "start_time": "2022-04-02T18:53:39.907Z"
   },
   {
    "duration": 155,
    "start_time": "2022-04-02T18:53:39.914Z"
   },
   {
    "duration": 4,
    "start_time": "2022-04-02T18:53:40.070Z"
   },
   {
    "duration": 43,
    "start_time": "2022-04-02T18:53:40.081Z"
   },
   {
    "duration": 60,
    "start_time": "2022-04-02T18:53:40.125Z"
   },
   {
    "duration": 31,
    "start_time": "2022-04-02T18:53:40.187Z"
   },
   {
    "duration": 20,
    "start_time": "2022-04-02T18:53:40.220Z"
   },
   {
    "duration": 18,
    "start_time": "2022-04-02T18:53:40.241Z"
   },
   {
    "duration": 32,
    "start_time": "2022-04-02T18:53:40.261Z"
   },
   {
    "duration": 7,
    "start_time": "2022-04-02T18:53:40.294Z"
   },
   {
    "duration": 4,
    "start_time": "2022-04-02T18:53:40.302Z"
   },
   {
    "duration": 7,
    "start_time": "2022-04-02T18:53:40.307Z"
   },
   {
    "duration": 1213,
    "start_time": "2022-04-02T18:53:40.315Z"
   },
   {
    "duration": 0,
    "start_time": "2022-04-02T18:53:41.530Z"
   },
   {
    "duration": 0,
    "start_time": "2022-04-02T18:53:41.531Z"
   },
   {
    "duration": 0,
    "start_time": "2022-04-02T18:53:41.532Z"
   },
   {
    "duration": 0,
    "start_time": "2022-04-02T18:53:41.533Z"
   },
   {
    "duration": 0,
    "start_time": "2022-04-02T18:53:41.534Z"
   },
   {
    "duration": 0,
    "start_time": "2022-04-02T18:53:41.535Z"
   },
   {
    "duration": 0,
    "start_time": "2022-04-02T18:53:41.536Z"
   },
   {
    "duration": 0,
    "start_time": "2022-04-02T18:53:41.537Z"
   },
   {
    "duration": 0,
    "start_time": "2022-04-02T18:53:41.538Z"
   },
   {
    "duration": 0,
    "start_time": "2022-04-02T18:53:41.539Z"
   },
   {
    "duration": 0,
    "start_time": "2022-04-02T18:53:41.539Z"
   },
   {
    "duration": 0,
    "start_time": "2022-04-02T18:53:41.540Z"
   },
   {
    "duration": 0,
    "start_time": "2022-04-02T18:53:41.541Z"
   },
   {
    "duration": 0,
    "start_time": "2022-04-02T18:53:41.542Z"
   },
   {
    "duration": 0,
    "start_time": "2022-04-02T18:53:41.543Z"
   },
   {
    "duration": 0,
    "start_time": "2022-04-02T18:53:41.544Z"
   },
   {
    "duration": 22,
    "start_time": "2022-04-02T18:54:44.033Z"
   },
   {
    "duration": 3,
    "start_time": "2022-04-02T18:55:06.932Z"
   },
   {
    "duration": 2,
    "start_time": "2022-04-02T18:55:29.786Z"
   },
   {
    "duration": 6,
    "start_time": "2022-04-02T18:55:29.790Z"
   },
   {
    "duration": 149,
    "start_time": "2022-04-02T18:55:29.797Z"
   },
   {
    "duration": 125,
    "start_time": "2022-04-02T18:55:29.948Z"
   },
   {
    "duration": 86,
    "start_time": "2022-04-02T18:55:30.075Z"
   },
   {
    "duration": 16,
    "start_time": "2022-04-02T18:55:30.163Z"
   },
   {
    "duration": 28,
    "start_time": "2022-04-02T18:55:30.181Z"
   },
   {
    "duration": 66,
    "start_time": "2022-04-02T18:55:30.211Z"
   },
   {
    "duration": 29,
    "start_time": "2022-04-02T18:55:30.279Z"
   },
   {
    "duration": 22,
    "start_time": "2022-04-02T18:55:30.311Z"
   },
   {
    "duration": 26,
    "start_time": "2022-04-02T18:55:30.335Z"
   },
   {
    "duration": 5,
    "start_time": "2022-04-02T18:55:30.381Z"
   },
   {
    "duration": 19,
    "start_time": "2022-04-02T18:55:30.387Z"
   },
   {
    "duration": 199,
    "start_time": "2022-04-02T18:55:30.408Z"
   },
   {
    "duration": 4,
    "start_time": "2022-04-02T18:55:30.609Z"
   },
   {
    "duration": 58,
    "start_time": "2022-04-02T18:55:30.614Z"
   },
   {
    "duration": 67,
    "start_time": "2022-04-02T18:55:30.674Z"
   },
   {
    "duration": 75,
    "start_time": "2022-04-02T18:55:30.742Z"
   },
   {
    "duration": 24,
    "start_time": "2022-04-02T18:55:30.818Z"
   },
   {
    "duration": 20,
    "start_time": "2022-04-02T18:55:30.844Z"
   },
   {
    "duration": 31,
    "start_time": "2022-04-02T18:55:30.866Z"
   },
   {
    "duration": 10,
    "start_time": "2022-04-02T18:55:30.899Z"
   },
   {
    "duration": 40,
    "start_time": "2022-04-02T18:55:30.910Z"
   },
   {
    "duration": 16,
    "start_time": "2022-04-02T18:55:30.952Z"
   },
   {
    "duration": 20,
    "start_time": "2022-04-02T18:55:30.970Z"
   },
   {
    "duration": 27,
    "start_time": "2022-04-02T18:55:30.991Z"
   },
   {
    "duration": 27,
    "start_time": "2022-04-02T18:55:31.019Z"
   },
   {
    "duration": 23,
    "start_time": "2022-04-02T18:55:31.049Z"
   },
   {
    "duration": 15,
    "start_time": "2022-04-02T18:55:31.074Z"
   },
   {
    "duration": 32,
    "start_time": "2022-04-02T18:55:31.090Z"
   },
   {
    "duration": 26,
    "start_time": "2022-04-02T18:55:31.124Z"
   },
   {
    "duration": 26,
    "start_time": "2022-04-02T18:55:31.152Z"
   },
   {
    "duration": 21,
    "start_time": "2022-04-02T18:55:31.180Z"
   },
   {
    "duration": 23,
    "start_time": "2022-04-02T18:55:31.203Z"
   },
   {
    "duration": 19,
    "start_time": "2022-04-02T18:55:31.228Z"
   },
   {
    "duration": 35,
    "start_time": "2022-04-02T18:55:31.248Z"
   },
   {
    "duration": 204,
    "start_time": "2022-04-02T18:55:31.284Z"
   },
   {
    "duration": 144,
    "start_time": "2022-04-02T18:55:31.489Z"
   },
   {
    "duration": 207,
    "start_time": "2022-04-02T18:55:31.635Z"
   },
   {
    "duration": 37,
    "start_time": "2022-04-02T18:55:31.844Z"
   },
   {
    "duration": 26,
    "start_time": "2022-04-02T18:55:31.883Z"
   },
   {
    "duration": 331,
    "start_time": "2022-04-02T19:24:27.678Z"
   },
   {
    "duration": 23,
    "start_time": "2022-04-02T19:25:09.312Z"
   },
   {
    "duration": 2,
    "start_time": "2022-04-03T11:22:17.703Z"
   },
   {
    "duration": 3,
    "start_time": "2022-04-03T11:22:17.736Z"
   },
   {
    "duration": 177,
    "start_time": "2022-04-03T11:22:17.755Z"
   },
   {
    "duration": 144,
    "start_time": "2022-04-03T11:22:17.935Z"
   },
   {
    "duration": 99,
    "start_time": "2022-04-03T11:22:18.081Z"
   },
   {
    "duration": 16,
    "start_time": "2022-04-03T11:22:18.182Z"
   },
   {
    "duration": 37,
    "start_time": "2022-04-03T11:22:18.200Z"
   },
   {
    "duration": 77,
    "start_time": "2022-04-03T11:22:18.239Z"
   },
   {
    "duration": 45,
    "start_time": "2022-04-03T11:22:18.317Z"
   },
   {
    "duration": 26,
    "start_time": "2022-04-03T11:22:18.364Z"
   },
   {
    "duration": 40,
    "start_time": "2022-04-03T11:22:18.392Z"
   },
   {
    "duration": 5,
    "start_time": "2022-04-03T11:22:18.435Z"
   },
   {
    "duration": 13,
    "start_time": "2022-04-03T11:22:18.441Z"
   },
   {
    "duration": 219,
    "start_time": "2022-04-03T11:22:18.456Z"
   },
   {
    "duration": 4,
    "start_time": "2022-04-03T11:22:18.677Z"
   },
   {
    "duration": 118,
    "start_time": "2022-04-03T11:22:18.683Z"
   },
   {
    "duration": 59,
    "start_time": "2022-04-03T11:22:18.803Z"
   },
   {
    "duration": 55,
    "start_time": "2022-04-03T11:22:18.864Z"
   },
   {
    "duration": 34,
    "start_time": "2022-04-03T11:22:18.921Z"
   },
   {
    "duration": 24,
    "start_time": "2022-04-03T11:22:18.957Z"
   },
   {
    "duration": 19,
    "start_time": "2022-04-03T11:22:18.983Z"
   },
   {
    "duration": 10,
    "start_time": "2022-04-03T11:22:19.033Z"
   },
   {
    "duration": 12,
    "start_time": "2022-04-03T11:22:19.045Z"
   },
   {
    "duration": 33,
    "start_time": "2022-04-03T11:22:19.058Z"
   },
   {
    "duration": 6,
    "start_time": "2022-04-03T11:22:19.093Z"
   },
   {
    "duration": 8,
    "start_time": "2022-04-03T11:22:19.101Z"
   },
   {
    "duration": 9,
    "start_time": "2022-04-03T11:22:19.111Z"
   },
   {
    "duration": 8,
    "start_time": "2022-04-03T11:22:19.122Z"
   },
   {
    "duration": 21,
    "start_time": "2022-04-03T11:22:19.132Z"
   },
   {
    "duration": 20,
    "start_time": "2022-04-03T11:22:19.157Z"
   },
   {
    "duration": 36,
    "start_time": "2022-04-03T11:22:19.179Z"
   },
   {
    "duration": 23,
    "start_time": "2022-04-03T11:22:19.217Z"
   },
   {
    "duration": 23,
    "start_time": "2022-04-03T11:22:19.242Z"
   },
   {
    "duration": 22,
    "start_time": "2022-04-03T11:22:19.266Z"
   },
   {
    "duration": 24,
    "start_time": "2022-04-03T11:22:19.290Z"
   },
   {
    "duration": 36,
    "start_time": "2022-04-03T11:22:19.316Z"
   },
   {
    "duration": 233,
    "start_time": "2022-04-03T11:22:19.354Z"
   },
   {
    "duration": 182,
    "start_time": "2022-04-03T11:22:19.588Z"
   },
   {
    "duration": 245,
    "start_time": "2022-04-03T11:22:19.772Z"
   },
   {
    "duration": 38,
    "start_time": "2022-04-03T11:22:20.019Z"
   },
   {
    "duration": 26,
    "start_time": "2022-04-03T11:22:20.059Z"
   },
   {
    "duration": 6,
    "start_time": "2022-04-03T11:24:31.268Z"
   },
   {
    "duration": 6,
    "start_time": "2022-04-03T11:25:06.795Z"
   },
   {
    "duration": 6,
    "start_time": "2022-04-03T11:25:54.143Z"
   },
   {
    "duration": 6,
    "start_time": "2022-04-03T11:26:23.923Z"
   },
   {
    "duration": 2,
    "start_time": "2022-04-03T11:27:27.661Z"
   },
   {
    "duration": 73,
    "start_time": "2022-04-03T11:29:53.746Z"
   },
   {
    "duration": 480,
    "start_time": "2022-04-03T11:30:47.745Z"
   },
   {
    "duration": 4,
    "start_time": "2022-04-03T11:30:55.467Z"
   },
   {
    "duration": 4,
    "start_time": "2022-04-03T11:31:16.668Z"
   },
   {
    "duration": 4,
    "start_time": "2022-04-03T11:32:07.034Z"
   },
   {
    "duration": 39,
    "start_time": "2022-04-03T11:32:40.767Z"
   },
   {
    "duration": 3,
    "start_time": "2022-04-03T11:33:11.192Z"
   },
   {
    "duration": 4,
    "start_time": "2022-04-03T11:33:12.207Z"
   },
   {
    "duration": 4,
    "start_time": "2022-04-03T11:33:13.217Z"
   },
   {
    "duration": 4,
    "start_time": "2022-04-03T11:33:43.090Z"
   },
   {
    "duration": 29,
    "start_time": "2022-04-03T11:35:16.499Z"
   },
   {
    "duration": 16,
    "start_time": "2022-04-03T11:35:55.801Z"
   },
   {
    "duration": 13,
    "start_time": "2022-04-03T11:36:17.281Z"
   },
   {
    "duration": 9,
    "start_time": "2022-04-03T11:36:37.273Z"
   },
   {
    "duration": 30,
    "start_time": "2022-04-03T11:37:33.709Z"
   },
   {
    "duration": 31,
    "start_time": "2022-04-03T11:38:31.789Z"
   },
   {
    "duration": 63,
    "start_time": "2022-04-03T11:39:22.639Z"
   },
   {
    "duration": 7,
    "start_time": "2022-04-03T11:40:27.656Z"
   },
   {
    "duration": 3,
    "start_time": "2022-04-03T11:40:33.144Z"
   },
   {
    "duration": 3,
    "start_time": "2022-04-03T11:40:33.160Z"
   },
   {
    "duration": 166,
    "start_time": "2022-04-03T11:40:33.175Z"
   },
   {
    "duration": 149,
    "start_time": "2022-04-03T11:40:33.343Z"
   },
   {
    "duration": 106,
    "start_time": "2022-04-03T11:40:33.493Z"
   },
   {
    "duration": 16,
    "start_time": "2022-04-03T11:40:33.601Z"
   },
   {
    "duration": 40,
    "start_time": "2022-04-03T11:40:33.618Z"
   },
   {
    "duration": 77,
    "start_time": "2022-04-03T11:40:33.660Z"
   },
   {
    "duration": 36,
    "start_time": "2022-04-03T11:40:33.739Z"
   },
   {
    "duration": 27,
    "start_time": "2022-04-03T11:40:33.777Z"
   },
   {
    "duration": 22,
    "start_time": "2022-04-03T11:40:33.831Z"
   },
   {
    "duration": 4,
    "start_time": "2022-04-03T11:40:33.856Z"
   },
   {
    "duration": 7,
    "start_time": "2022-04-03T11:40:33.861Z"
   },
   {
    "duration": 226,
    "start_time": "2022-04-03T11:40:33.870Z"
   },
   {
    "duration": 4,
    "start_time": "2022-04-03T11:40:34.098Z"
   },
   {
    "duration": 60,
    "start_time": "2022-04-03T11:40:34.104Z"
   },
   {
    "duration": 65,
    "start_time": "2022-04-03T11:40:34.166Z"
   },
   {
    "duration": 56,
    "start_time": "2022-04-03T11:40:34.234Z"
   },
   {
    "duration": 42,
    "start_time": "2022-04-03T11:40:34.291Z"
   },
   {
    "duration": 24,
    "start_time": "2022-04-03T11:40:34.334Z"
   },
   {
    "duration": 17,
    "start_time": "2022-04-03T11:40:34.360Z"
   },
   {
    "duration": 8,
    "start_time": "2022-04-03T11:40:34.378Z"
   },
   {
    "duration": 7,
    "start_time": "2022-04-03T11:40:34.387Z"
   },
   {
    "duration": 37,
    "start_time": "2022-04-03T11:40:34.396Z"
   },
   {
    "duration": 3,
    "start_time": "2022-04-03T11:40:34.435Z"
   },
   {
    "duration": 10,
    "start_time": "2022-04-03T11:40:34.440Z"
   },
   {
    "duration": 4,
    "start_time": "2022-04-03T11:40:34.452Z"
   },
   {
    "duration": 6,
    "start_time": "2022-04-03T11:40:34.458Z"
   },
   {
    "duration": 9,
    "start_time": "2022-04-03T11:40:34.465Z"
   },
   {
    "duration": 5,
    "start_time": "2022-04-03T11:40:34.478Z"
   },
   {
    "duration": 13,
    "start_time": "2022-04-03T11:40:34.485Z"
   },
   {
    "duration": 8,
    "start_time": "2022-04-03T11:40:34.499Z"
   },
   {
    "duration": 24,
    "start_time": "2022-04-03T11:40:34.509Z"
   },
   {
    "duration": 4,
    "start_time": "2022-04-03T11:40:34.535Z"
   },
   {
    "duration": 12,
    "start_time": "2022-04-03T11:40:34.541Z"
   },
   {
    "duration": 33,
    "start_time": "2022-04-03T11:40:34.555Z"
   },
   {
    "duration": 258,
    "start_time": "2022-04-03T11:40:34.590Z"
   },
   {
    "duration": 185,
    "start_time": "2022-04-03T11:40:34.850Z"
   },
   {
    "duration": 246,
    "start_time": "2022-04-03T11:40:35.037Z"
   },
   {
    "duration": 32,
    "start_time": "2022-04-03T11:40:35.285Z"
   },
   {
    "duration": 35,
    "start_time": "2022-04-03T11:40:35.319Z"
   },
   {
    "duration": 6,
    "start_time": "2022-04-03T11:40:35.355Z"
   },
   {
    "duration": 13,
    "start_time": "2022-04-03T11:40:35.363Z"
   },
   {
    "duration": 8,
    "start_time": "2022-04-03T11:40:35.378Z"
   },
   {
    "duration": 8,
    "start_time": "2022-04-03T11:40:35.387Z"
   },
   {
    "duration": 4,
    "start_time": "2022-04-03T11:40:35.397Z"
   },
   {
    "duration": 29,
    "start_time": "2022-04-03T11:40:35.403Z"
   },
   {
    "duration": 4,
    "start_time": "2022-04-03T11:40:35.434Z"
   },
   {
    "duration": 7,
    "start_time": "2022-04-03T11:40:35.440Z"
   },
   {
    "duration": 9,
    "start_time": "2022-04-03T11:40:35.448Z"
   },
   {
    "duration": 12,
    "start_time": "2022-04-03T11:40:35.459Z"
   },
   {
    "duration": 81,
    "start_time": "2022-04-03T11:40:35.473Z"
   },
   {
    "duration": 4212,
    "start_time": "2022-04-03T11:46:33.336Z"
   },
   {
    "duration": 209,
    "start_time": "2022-04-03T11:47:25.412Z"
   },
   {
    "duration": 184,
    "start_time": "2022-04-03T11:47:46.134Z"
   },
   {
    "duration": 154,
    "start_time": "2022-04-03T11:47:59.611Z"
   },
   {
    "duration": 149,
    "start_time": "2022-04-03T11:49:18.557Z"
   },
   {
    "duration": 343,
    "start_time": "2022-04-03T11:50:33.327Z"
   },
   {
    "duration": 170,
    "start_time": "2022-04-03T11:52:58.692Z"
   },
   {
    "duration": 183,
    "start_time": "2022-04-03T11:53:24.226Z"
   },
   {
    "duration": 168,
    "start_time": "2022-04-03T11:54:00.119Z"
   },
   {
    "duration": 251,
    "start_time": "2022-04-03T11:54:39.560Z"
   },
   {
    "duration": 243,
    "start_time": "2022-04-03T11:54:59.768Z"
   },
   {
    "duration": 185,
    "start_time": "2022-04-03T11:55:16.360Z"
   },
   {
    "duration": 189,
    "start_time": "2022-04-03T11:55:30.689Z"
   },
   {
    "duration": 9,
    "start_time": "2022-04-03T11:58:15.118Z"
   },
   {
    "duration": 4,
    "start_time": "2022-04-03T11:58:24.435Z"
   },
   {
    "duration": 4,
    "start_time": "2022-04-03T11:58:28.664Z"
   },
   {
    "duration": 4,
    "start_time": "2022-04-03T12:02:03.809Z"
   },
   {
    "duration": 17,
    "start_time": "2022-04-03T12:02:03.818Z"
   },
   {
    "duration": 168,
    "start_time": "2022-04-03T12:02:03.837Z"
   },
   {
    "duration": 150,
    "start_time": "2022-04-03T12:02:04.007Z"
   },
   {
    "duration": 98,
    "start_time": "2022-04-03T12:02:04.159Z"
   },
   {
    "duration": 15,
    "start_time": "2022-04-03T12:02:04.259Z"
   },
   {
    "duration": 47,
    "start_time": "2022-04-03T12:02:04.276Z"
   },
   {
    "duration": 77,
    "start_time": "2022-04-03T12:02:04.325Z"
   },
   {
    "duration": 49,
    "start_time": "2022-04-03T12:02:04.404Z"
   },
   {
    "duration": 28,
    "start_time": "2022-04-03T12:02:04.455Z"
   },
   {
    "duration": 47,
    "start_time": "2022-04-03T12:02:04.485Z"
   },
   {
    "duration": 4,
    "start_time": "2022-04-03T12:02:04.536Z"
   },
   {
    "duration": 32,
    "start_time": "2022-04-03T12:02:04.542Z"
   },
   {
    "duration": 196,
    "start_time": "2022-04-03T12:02:04.576Z"
   },
   {
    "duration": 4,
    "start_time": "2022-04-03T12:02:04.774Z"
   },
   {
    "duration": 62,
    "start_time": "2022-04-03T12:02:04.780Z"
   },
   {
    "duration": 61,
    "start_time": "2022-04-03T12:02:04.844Z"
   },
   {
    "duration": 63,
    "start_time": "2022-04-03T12:02:04.907Z"
   },
   {
    "duration": 27,
    "start_time": "2022-04-03T12:02:04.972Z"
   },
   {
    "duration": 45,
    "start_time": "2022-04-03T12:02:05.001Z"
   },
   {
    "duration": 17,
    "start_time": "2022-04-03T12:02:05.048Z"
   },
   {
    "duration": 13,
    "start_time": "2022-04-03T12:02:05.067Z"
   },
   {
    "duration": 28,
    "start_time": "2022-04-03T12:02:05.082Z"
   },
   {
    "duration": 34,
    "start_time": "2022-04-03T12:02:05.111Z"
   },
   {
    "duration": 15,
    "start_time": "2022-04-03T12:02:05.146Z"
   },
   {
    "duration": 17,
    "start_time": "2022-04-03T12:02:05.163Z"
   },
   {
    "duration": 13,
    "start_time": "2022-04-03T12:02:05.182Z"
   },
   {
    "duration": 23,
    "start_time": "2022-04-03T12:02:05.197Z"
   },
   {
    "duration": 21,
    "start_time": "2022-04-03T12:02:05.222Z"
   },
   {
    "duration": 9,
    "start_time": "2022-04-03T12:02:05.247Z"
   },
   {
    "duration": 10,
    "start_time": "2022-04-03T12:02:05.258Z"
   },
   {
    "duration": 16,
    "start_time": "2022-04-03T12:02:05.270Z"
   },
   {
    "duration": 8,
    "start_time": "2022-04-03T12:02:05.287Z"
   },
   {
    "duration": 9,
    "start_time": "2022-04-03T12:02:05.296Z"
   },
   {
    "duration": 10,
    "start_time": "2022-04-03T12:02:05.307Z"
   },
   {
    "duration": 30,
    "start_time": "2022-04-03T12:02:05.318Z"
   },
   {
    "duration": 256,
    "start_time": "2022-04-03T12:02:05.349Z"
   },
   {
    "duration": 334,
    "start_time": "2022-04-03T12:02:05.607Z"
   },
   {
    "duration": 256,
    "start_time": "2022-04-03T12:02:05.943Z"
   },
   {
    "duration": 43,
    "start_time": "2022-04-03T12:02:06.201Z"
   },
   {
    "duration": 27,
    "start_time": "2022-04-03T12:02:06.246Z"
   },
   {
    "duration": 6,
    "start_time": "2022-04-03T12:02:06.275Z"
   },
   {
    "duration": 12,
    "start_time": "2022-04-03T12:02:06.283Z"
   },
   {
    "duration": 9,
    "start_time": "2022-04-03T12:02:06.297Z"
   },
   {
    "duration": 27,
    "start_time": "2022-04-03T12:02:06.308Z"
   },
   {
    "duration": 3,
    "start_time": "2022-04-03T12:02:06.337Z"
   },
   {
    "duration": 212,
    "start_time": "2022-04-03T12:02:06.342Z"
   },
   {
    "duration": 201,
    "start_time": "2022-04-03T12:02:06.556Z"
   },
   {
    "duration": 4,
    "start_time": "2022-04-03T12:02:06.759Z"
   },
   {
    "duration": 16,
    "start_time": "2022-04-03T12:02:06.765Z"
   },
   {
    "duration": 8,
    "start_time": "2022-04-03T12:02:06.783Z"
   },
   {
    "duration": 7,
    "start_time": "2022-04-03T12:02:06.792Z"
   },
   {
    "duration": 3,
    "start_time": "2022-04-03T12:05:19.773Z"
   },
   {
    "duration": 4,
    "start_time": "2022-04-03T12:05:22.491Z"
   },
   {
    "duration": 4,
    "start_time": "2022-04-03T12:05:33.015Z"
   },
   {
    "duration": 4,
    "start_time": "2022-04-03T12:05:36.411Z"
   },
   {
    "duration": 669,
    "start_time": "2022-04-03T12:28:07.562Z"
   },
   {
    "duration": 3,
    "start_time": "2022-04-03T12:28:22.737Z"
   },
   {
    "duration": 3,
    "start_time": "2022-04-03T12:28:22.752Z"
   },
   {
    "duration": 158,
    "start_time": "2022-04-03T12:28:22.767Z"
   },
   {
    "duration": 139,
    "start_time": "2022-04-03T12:28:22.927Z"
   },
   {
    "duration": 96,
    "start_time": "2022-04-03T12:28:23.068Z"
   },
   {
    "duration": 16,
    "start_time": "2022-04-03T12:28:23.166Z"
   },
   {
    "duration": 28,
    "start_time": "2022-04-03T12:28:23.183Z"
   },
   {
    "duration": 75,
    "start_time": "2022-04-03T12:28:23.213Z"
   },
   {
    "duration": 51,
    "start_time": "2022-04-03T12:28:23.290Z"
   },
   {
    "duration": 26,
    "start_time": "2022-04-03T12:28:23.342Z"
   },
   {
    "duration": 29,
    "start_time": "2022-04-03T12:28:23.370Z"
   },
   {
    "duration": 4,
    "start_time": "2022-04-03T12:28:23.402Z"
   },
   {
    "duration": 16,
    "start_time": "2022-04-03T12:28:23.408Z"
   },
   {
    "duration": 196,
    "start_time": "2022-04-03T12:28:23.432Z"
   },
   {
    "duration": 5,
    "start_time": "2022-04-03T12:28:23.629Z"
   },
   {
    "duration": 57,
    "start_time": "2022-04-03T12:28:23.635Z"
   },
   {
    "duration": 72,
    "start_time": "2022-04-03T12:28:23.694Z"
   },
   {
    "duration": 39,
    "start_time": "2022-04-03T12:28:23.768Z"
   },
   {
    "duration": 44,
    "start_time": "2022-04-03T12:28:23.809Z"
   },
   {
    "duration": 20,
    "start_time": "2022-04-03T12:28:23.855Z"
   },
   {
    "duration": 17,
    "start_time": "2022-04-03T12:28:23.877Z"
   },
   {
    "duration": 7,
    "start_time": "2022-04-03T12:28:23.896Z"
   },
   {
    "duration": 27,
    "start_time": "2022-04-03T12:28:23.905Z"
   },
   {
    "duration": 11,
    "start_time": "2022-04-03T12:28:23.934Z"
   },
   {
    "duration": 6,
    "start_time": "2022-04-03T12:28:23.947Z"
   },
   {
    "duration": 7,
    "start_time": "2022-04-03T12:28:23.955Z"
   },
   {
    "duration": 8,
    "start_time": "2022-04-03T12:28:23.964Z"
   },
   {
    "duration": 6,
    "start_time": "2022-04-03T12:28:23.974Z"
   },
   {
    "duration": 7,
    "start_time": "2022-04-03T12:28:23.982Z"
   },
   {
    "duration": 5,
    "start_time": "2022-04-03T12:28:23.992Z"
   },
   {
    "duration": 6,
    "start_time": "2022-04-03T12:28:23.999Z"
   },
   {
    "duration": 26,
    "start_time": "2022-04-03T12:28:24.007Z"
   },
   {
    "duration": 4,
    "start_time": "2022-04-03T12:28:24.035Z"
   },
   {
    "duration": 7,
    "start_time": "2022-04-03T12:28:24.041Z"
   },
   {
    "duration": 11,
    "start_time": "2022-04-03T12:28:24.050Z"
   },
   {
    "duration": 28,
    "start_time": "2022-04-03T12:28:24.063Z"
   },
   {
    "duration": 261,
    "start_time": "2022-04-03T12:28:24.093Z"
   },
   {
    "duration": 186,
    "start_time": "2022-04-03T12:28:24.356Z"
   },
   {
    "duration": 242,
    "start_time": "2022-04-03T12:28:24.543Z"
   },
   {
    "duration": 31,
    "start_time": "2022-04-03T12:28:24.787Z"
   },
   {
    "duration": 26,
    "start_time": "2022-04-03T12:28:24.831Z"
   },
   {
    "duration": 6,
    "start_time": "2022-04-03T12:28:24.860Z"
   },
   {
    "duration": 13,
    "start_time": "2022-04-03T12:28:24.867Z"
   },
   {
    "duration": 8,
    "start_time": "2022-04-03T12:28:24.882Z"
   },
   {
    "duration": 9,
    "start_time": "2022-04-03T12:28:24.892Z"
   },
   {
    "duration": 6,
    "start_time": "2022-04-03T12:28:24.902Z"
   },
   {
    "duration": 199,
    "start_time": "2022-04-03T12:28:24.932Z"
   },
   {
    "duration": 191,
    "start_time": "2022-04-03T12:28:25.133Z"
   },
   {
    "duration": 7,
    "start_time": "2022-04-03T12:28:25.326Z"
   },
   {
    "duration": 8,
    "start_time": "2022-04-03T12:28:25.334Z"
   },
   {
    "duration": 7,
    "start_time": "2022-04-03T12:28:25.343Z"
   },
   {
    "duration": 6,
    "start_time": "2022-04-03T12:28:25.352Z"
   },
   {
    "duration": 187,
    "start_time": "2022-04-03T16:30:59.189Z"
   },
   {
    "duration": 8,
    "start_time": "2022-04-03T16:32:55.071Z"
   },
   {
    "duration": 3,
    "start_time": "2022-04-03T16:33:03.365Z"
   },
   {
    "duration": 7,
    "start_time": "2022-04-03T16:33:03.370Z"
   },
   {
    "duration": 156,
    "start_time": "2022-04-03T16:33:03.379Z"
   },
   {
    "duration": 137,
    "start_time": "2022-04-03T16:33:03.537Z"
   },
   {
    "duration": 88,
    "start_time": "2022-04-03T16:33:03.676Z"
   },
   {
    "duration": 15,
    "start_time": "2022-04-03T16:33:03.766Z"
   },
   {
    "duration": 32,
    "start_time": "2022-04-03T16:33:03.783Z"
   },
   {
    "duration": 73,
    "start_time": "2022-04-03T16:33:03.817Z"
   },
   {
    "duration": 45,
    "start_time": "2022-04-03T16:33:03.892Z"
   },
   {
    "duration": 26,
    "start_time": "2022-04-03T16:33:03.939Z"
   },
   {
    "duration": 21,
    "start_time": "2022-04-03T16:33:03.967Z"
   },
   {
    "duration": 12,
    "start_time": "2022-04-03T16:33:03.991Z"
   },
   {
    "duration": 28,
    "start_time": "2022-04-03T16:33:04.004Z"
   },
   {
    "duration": 214,
    "start_time": "2022-04-03T16:33:04.033Z"
   },
   {
    "duration": 4,
    "start_time": "2022-04-03T16:33:04.249Z"
   },
   {
    "duration": 56,
    "start_time": "2022-04-03T16:33:04.255Z"
   },
   {
    "duration": 71,
    "start_time": "2022-04-03T16:33:04.312Z"
   },
   {
    "duration": 59,
    "start_time": "2022-04-03T16:33:04.385Z"
   },
   {
    "duration": 27,
    "start_time": "2022-04-03T16:33:04.446Z"
   },
   {
    "duration": 22,
    "start_time": "2022-04-03T16:33:04.475Z"
   },
   {
    "duration": 39,
    "start_time": "2022-04-03T16:33:04.499Z"
   },
   {
    "duration": 8,
    "start_time": "2022-04-03T16:33:04.539Z"
   },
   {
    "duration": 5,
    "start_time": "2022-04-03T16:33:04.549Z"
   },
   {
    "duration": 8,
    "start_time": "2022-04-03T16:33:04.555Z"
   },
   {
    "duration": 3,
    "start_time": "2022-04-03T16:33:04.565Z"
   },
   {
    "duration": 8,
    "start_time": "2022-04-03T16:33:04.569Z"
   },
   {
    "duration": 5,
    "start_time": "2022-04-03T16:33:04.579Z"
   },
   {
    "duration": 6,
    "start_time": "2022-04-03T16:33:04.585Z"
   },
   {
    "duration": 6,
    "start_time": "2022-04-03T16:33:04.593Z"
   },
   {
    "duration": 4,
    "start_time": "2022-04-03T16:33:04.632Z"
   },
   {
    "duration": 11,
    "start_time": "2022-04-03T16:33:04.638Z"
   },
   {
    "duration": 7,
    "start_time": "2022-04-03T16:33:04.651Z"
   },
   {
    "duration": 5,
    "start_time": "2022-04-03T16:33:04.660Z"
   },
   {
    "duration": 7,
    "start_time": "2022-04-03T16:33:04.666Z"
   },
   {
    "duration": 9,
    "start_time": "2022-04-03T16:33:04.674Z"
   },
   {
    "duration": 48,
    "start_time": "2022-04-03T16:33:04.685Z"
   },
   {
    "duration": 246,
    "start_time": "2022-04-03T16:33:04.735Z"
   },
   {
    "duration": 188,
    "start_time": "2022-04-03T16:33:04.983Z"
   },
   {
    "duration": 235,
    "start_time": "2022-04-03T16:33:05.173Z"
   },
   {
    "duration": 40,
    "start_time": "2022-04-03T16:33:05.409Z"
   },
   {
    "duration": 6,
    "start_time": "2022-04-03T16:33:05.451Z"
   },
   {
    "duration": 8,
    "start_time": "2022-04-03T16:33:05.458Z"
   },
   {
    "duration": 7,
    "start_time": "2022-04-03T16:33:05.468Z"
   },
   {
    "duration": 8,
    "start_time": "2022-04-03T16:33:05.477Z"
   },
   {
    "duration": 4,
    "start_time": "2022-04-03T16:33:05.487Z"
   },
   {
    "duration": 203,
    "start_time": "2022-04-03T16:33:05.493Z"
   },
   {
    "duration": 198,
    "start_time": "2022-04-03T16:33:05.698Z"
   },
   {
    "duration": 3,
    "start_time": "2022-04-03T16:33:05.898Z"
   },
   {
    "duration": 6,
    "start_time": "2022-04-03T16:33:05.903Z"
   },
   {
    "duration": 6,
    "start_time": "2022-04-03T16:33:05.911Z"
   },
   {
    "duration": 4,
    "start_time": "2022-04-03T16:33:05.932Z"
   },
   {
    "duration": 58,
    "start_time": "2022-04-03T16:33:05.938Z"
   },
   {
    "duration": 9,
    "start_time": "2022-04-03T16:33:05.998Z"
   },
   {
    "duration": 12,
    "start_time": "2022-04-03T16:36:13.297Z"
   },
   {
    "duration": 25,
    "start_time": "2022-04-03T16:36:34.829Z"
   },
   {
    "duration": 10,
    "start_time": "2022-04-03T16:36:55.432Z"
   },
   {
    "duration": 7,
    "start_time": "2022-04-03T16:37:06.446Z"
   },
   {
    "duration": 4,
    "start_time": "2022-04-03T16:38:24.332Z"
   },
   {
    "duration": 3,
    "start_time": "2022-04-03T16:38:27.615Z"
   },
   {
    "duration": 9,
    "start_time": "2022-04-03T16:38:27.620Z"
   },
   {
    "duration": 176,
    "start_time": "2022-04-03T16:38:27.631Z"
   },
   {
    "duration": 145,
    "start_time": "2022-04-03T16:38:27.809Z"
   },
   {
    "duration": 102,
    "start_time": "2022-04-03T16:38:27.956Z"
   },
   {
    "duration": 16,
    "start_time": "2022-04-03T16:38:28.061Z"
   },
   {
    "duration": 38,
    "start_time": "2022-04-03T16:38:28.079Z"
   },
   {
    "duration": 76,
    "start_time": "2022-04-03T16:38:28.119Z"
   },
   {
    "duration": 53,
    "start_time": "2022-04-03T16:38:28.197Z"
   },
   {
    "duration": 27,
    "start_time": "2022-04-03T16:38:28.252Z"
   },
   {
    "duration": 24,
    "start_time": "2022-04-03T16:38:28.281Z"
   },
   {
    "duration": 27,
    "start_time": "2022-04-03T16:38:28.308Z"
   },
   {
    "duration": 16,
    "start_time": "2022-04-03T16:38:28.337Z"
   },
   {
    "duration": 204,
    "start_time": "2022-04-03T16:38:28.355Z"
   },
   {
    "duration": 5,
    "start_time": "2022-04-03T16:38:28.561Z"
   },
   {
    "duration": 67,
    "start_time": "2022-04-03T16:38:28.568Z"
   },
   {
    "duration": 60,
    "start_time": "2022-04-03T16:38:28.637Z"
   },
   {
    "duration": 65,
    "start_time": "2022-04-03T16:38:28.699Z"
   },
   {
    "duration": 26,
    "start_time": "2022-04-03T16:38:28.766Z"
   },
   {
    "duration": 41,
    "start_time": "2022-04-03T16:38:28.794Z"
   },
   {
    "duration": 18,
    "start_time": "2022-04-03T16:38:28.837Z"
   },
   {
    "duration": 9,
    "start_time": "2022-04-03T16:38:28.857Z"
   },
   {
    "duration": 8,
    "start_time": "2022-04-03T16:38:28.867Z"
   },
   {
    "duration": 11,
    "start_time": "2022-04-03T16:38:28.877Z"
   },
   {
    "duration": 3,
    "start_time": "2022-04-03T16:38:28.890Z"
   },
   {
    "duration": 37,
    "start_time": "2022-04-03T16:38:28.895Z"
   },
   {
    "duration": 3,
    "start_time": "2022-04-03T16:38:28.934Z"
   },
   {
    "duration": 13,
    "start_time": "2022-04-03T16:38:28.939Z"
   },
   {
    "duration": 5,
    "start_time": "2022-04-03T16:38:28.954Z"
   },
   {
    "duration": 6,
    "start_time": "2022-04-03T16:38:28.963Z"
   },
   {
    "duration": 8,
    "start_time": "2022-04-03T16:38:28.971Z"
   },
   {
    "duration": 6,
    "start_time": "2022-04-03T16:38:28.981Z"
   },
   {
    "duration": 10,
    "start_time": "2022-04-03T16:38:28.988Z"
   },
   {
    "duration": 8,
    "start_time": "2022-04-03T16:38:29.000Z"
   },
   {
    "duration": 23,
    "start_time": "2022-04-03T16:38:29.010Z"
   },
   {
    "duration": 7,
    "start_time": "2022-04-03T16:38:29.035Z"
   },
   {
    "duration": 14,
    "start_time": "2022-04-03T16:38:29.044Z"
   },
   {
    "duration": 251,
    "start_time": "2022-04-03T16:38:29.059Z"
   },
   {
    "duration": 182,
    "start_time": "2022-04-03T16:38:29.312Z"
   },
   {
    "duration": 246,
    "start_time": "2022-04-03T16:38:29.496Z"
   },
   {
    "duration": 32,
    "start_time": "2022-04-03T16:38:29.744Z"
   },
   {
    "duration": 6,
    "start_time": "2022-04-03T16:38:29.777Z"
   },
   {
    "duration": 13,
    "start_time": "2022-04-03T16:38:29.784Z"
   },
   {
    "duration": 11,
    "start_time": "2022-04-03T16:38:29.798Z"
   },
   {
    "duration": 25,
    "start_time": "2022-04-03T16:38:29.811Z"
   },
   {
    "duration": 6,
    "start_time": "2022-04-03T16:38:29.837Z"
   },
   {
    "duration": 372,
    "start_time": "2022-04-03T16:38:29.845Z"
   },
   {
    "duration": 187,
    "start_time": "2022-04-03T16:38:30.218Z"
   },
   {
    "duration": 4,
    "start_time": "2022-04-03T16:38:30.407Z"
   },
   {
    "duration": 43,
    "start_time": "2022-04-03T16:38:30.413Z"
   },
   {
    "duration": 26,
    "start_time": "2022-04-03T16:38:30.457Z"
   },
   {
    "duration": 25,
    "start_time": "2022-04-03T16:38:30.485Z"
   },
   {
    "duration": 100,
    "start_time": "2022-04-03T16:38:30.512Z"
   },
   {
    "duration": 9,
    "start_time": "2022-04-03T16:38:30.614Z"
   },
   {
    "duration": 10,
    "start_time": "2022-04-03T17:05:29.129Z"
   },
   {
    "duration": 26,
    "start_time": "2022-04-03T17:05:39.603Z"
   },
   {
    "duration": 10,
    "start_time": "2022-04-03T17:21:24.175Z"
   },
   {
    "duration": 11,
    "start_time": "2022-04-03T17:22:12.077Z"
   },
   {
    "duration": 6,
    "start_time": "2022-04-03T17:24:08.608Z"
   },
   {
    "duration": 1645,
    "start_time": "2022-04-14T09:01:35.864Z"
   },
   {
    "duration": 3,
    "start_time": "2022-04-14T09:01:37.512Z"
   },
   {
    "duration": 210,
    "start_time": "2022-04-14T09:01:37.518Z"
   },
   {
    "duration": 167,
    "start_time": "2022-04-14T09:01:37.731Z"
   },
   {
    "duration": 112,
    "start_time": "2022-04-14T09:01:37.900Z"
   },
   {
    "duration": 11,
    "start_time": "2022-04-14T09:01:38.014Z"
   },
   {
    "duration": 19,
    "start_time": "2022-04-14T09:01:38.027Z"
   },
   {
    "duration": 109,
    "start_time": "2022-04-14T09:01:38.049Z"
   },
   {
    "duration": 52,
    "start_time": "2022-04-14T09:01:38.161Z"
   },
   {
    "duration": 60,
    "start_time": "2022-04-14T09:01:38.217Z"
   },
   {
    "duration": 33,
    "start_time": "2022-04-14T09:01:38.279Z"
   },
   {
    "duration": 6,
    "start_time": "2022-04-14T09:01:38.314Z"
   },
   {
    "duration": 31,
    "start_time": "2022-04-14T09:01:38.323Z"
   },
   {
    "duration": 282,
    "start_time": "2022-04-14T09:01:38.356Z"
   },
   {
    "duration": 13,
    "start_time": "2022-04-14T09:01:38.640Z"
   },
   {
    "duration": 72,
    "start_time": "2022-04-14T09:01:38.656Z"
   },
   {
    "duration": 101,
    "start_time": "2022-04-14T09:01:38.731Z"
   },
   {
    "duration": 92,
    "start_time": "2022-04-14T09:01:38.834Z"
   },
   {
    "duration": 57,
    "start_time": "2022-04-14T09:01:38.928Z"
   },
   {
    "duration": 29,
    "start_time": "2022-04-14T09:01:38.987Z"
   },
   {
    "duration": 47,
    "start_time": "2022-04-14T09:01:39.018Z"
   },
   {
    "duration": 14,
    "start_time": "2022-04-14T09:01:39.067Z"
   },
   {
    "duration": 8,
    "start_time": "2022-04-14T09:01:39.083Z"
   },
   {
    "duration": 11,
    "start_time": "2022-04-14T09:01:39.094Z"
   },
   {
    "duration": 5,
    "start_time": "2022-04-14T09:01:39.107Z"
   },
   {
    "duration": 9,
    "start_time": "2022-04-14T09:01:39.157Z"
   },
   {
    "duration": 6,
    "start_time": "2022-04-14T09:01:39.169Z"
   },
   {
    "duration": 5,
    "start_time": "2022-04-14T09:01:39.181Z"
   },
   {
    "duration": 6,
    "start_time": "2022-04-14T09:01:39.188Z"
   },
   {
    "duration": 8,
    "start_time": "2022-04-14T09:01:39.195Z"
   },
   {
    "duration": 8,
    "start_time": "2022-04-14T09:01:39.204Z"
   },
   {
    "duration": 48,
    "start_time": "2022-04-14T09:01:39.214Z"
   },
   {
    "duration": 15,
    "start_time": "2022-04-14T09:01:39.265Z"
   },
   {
    "duration": 6,
    "start_time": "2022-04-14T09:01:39.282Z"
   },
   {
    "duration": 6,
    "start_time": "2022-04-14T09:01:39.290Z"
   },
   {
    "duration": 10,
    "start_time": "2022-04-14T09:01:39.298Z"
   },
   {
    "duration": 12,
    "start_time": "2022-04-14T09:01:39.310Z"
   },
   {
    "duration": 375,
    "start_time": "2022-04-14T09:01:39.356Z"
   },
   {
    "duration": 282,
    "start_time": "2022-04-14T09:01:39.734Z"
   },
   {
    "duration": 376,
    "start_time": "2022-04-14T09:01:40.018Z"
   },
   {
    "duration": 65,
    "start_time": "2022-04-14T09:01:40.396Z"
   },
   {
    "duration": 9,
    "start_time": "2022-04-14T09:01:40.464Z"
   },
   {
    "duration": 13,
    "start_time": "2022-04-14T09:01:40.475Z"
   },
   {
    "duration": 10,
    "start_time": "2022-04-14T09:01:40.490Z"
   },
   {
    "duration": 10,
    "start_time": "2022-04-14T09:01:40.502Z"
   },
   {
    "duration": 6,
    "start_time": "2022-04-14T09:01:40.514Z"
   },
   {
    "duration": 302,
    "start_time": "2022-04-14T09:01:40.522Z"
   },
   {
    "duration": 299,
    "start_time": "2022-04-14T09:01:40.827Z"
   },
   {
    "duration": 5,
    "start_time": "2022-04-14T09:01:41.128Z"
   },
   {
    "duration": 6,
    "start_time": "2022-04-14T09:01:41.151Z"
   },
   {
    "duration": 16,
    "start_time": "2022-04-14T09:01:41.160Z"
   },
   {
    "duration": 7,
    "start_time": "2022-04-14T09:01:41.178Z"
   },
   {
    "duration": 35,
    "start_time": "2022-04-14T09:01:41.187Z"
   },
   {
    "duration": 17,
    "start_time": "2022-04-14T09:02:52.177Z"
   },
   {
    "duration": 24,
    "start_time": "2022-04-14T09:04:20.963Z"
   },
   {
    "duration": 1271,
    "start_time": "2022-04-15T06:37:10.007Z"
   },
   {
    "duration": 3,
    "start_time": "2022-04-15T06:37:11.279Z"
   },
   {
    "duration": 424,
    "start_time": "2022-04-15T06:37:11.284Z"
   },
   {
    "duration": 187,
    "start_time": "2022-04-15T06:37:11.711Z"
   },
   {
    "duration": 224,
    "start_time": "2022-04-15T06:37:11.900Z"
   },
   {
    "duration": 10,
    "start_time": "2022-04-15T06:37:12.126Z"
   },
   {
    "duration": 26,
    "start_time": "2022-04-15T06:37:12.137Z"
   },
   {
    "duration": 80,
    "start_time": "2022-04-15T06:37:12.165Z"
   },
   {
    "duration": 38,
    "start_time": "2022-04-15T06:37:12.247Z"
   },
   {
    "duration": 41,
    "start_time": "2022-04-15T06:37:12.287Z"
   },
   {
    "duration": 20,
    "start_time": "2022-04-15T06:37:12.330Z"
   },
   {
    "duration": 3,
    "start_time": "2022-04-15T06:37:12.352Z"
   },
   {
    "duration": 4,
    "start_time": "2022-04-15T06:37:12.357Z"
   },
   {
    "duration": 216,
    "start_time": "2022-04-15T06:37:12.362Z"
   },
   {
    "duration": 4,
    "start_time": "2022-04-15T06:37:12.580Z"
   },
   {
    "duration": 66,
    "start_time": "2022-04-15T06:37:12.585Z"
   },
   {
    "duration": 66,
    "start_time": "2022-04-15T06:37:12.653Z"
   },
   {
    "duration": 55,
    "start_time": "2022-04-15T06:37:12.722Z"
   },
   {
    "duration": 46,
    "start_time": "2022-04-15T06:37:12.778Z"
   },
   {
    "duration": 25,
    "start_time": "2022-04-15T06:37:12.826Z"
   },
   {
    "duration": 17,
    "start_time": "2022-04-15T06:37:12.852Z"
   },
   {
    "duration": 8,
    "start_time": "2022-04-15T06:37:12.871Z"
   },
   {
    "duration": 28,
    "start_time": "2022-04-15T06:37:12.881Z"
   },
   {
    "duration": 7,
    "start_time": "2022-04-15T06:37:12.911Z"
   },
   {
    "duration": 4,
    "start_time": "2022-04-15T06:37:12.920Z"
   },
   {
    "duration": 5,
    "start_time": "2022-04-15T06:37:12.926Z"
   },
   {
    "duration": 4,
    "start_time": "2022-04-15T06:37:12.933Z"
   },
   {
    "duration": 4,
    "start_time": "2022-04-15T06:37:12.941Z"
   },
   {
    "duration": 5,
    "start_time": "2022-04-15T06:37:12.946Z"
   },
   {
    "duration": 8,
    "start_time": "2022-04-15T06:37:12.953Z"
   },
   {
    "duration": 44,
    "start_time": "2022-04-15T06:37:12.963Z"
   },
   {
    "duration": 4,
    "start_time": "2022-04-15T06:37:13.009Z"
   },
   {
    "duration": 8,
    "start_time": "2022-04-15T06:37:13.014Z"
   },
   {
    "duration": 6,
    "start_time": "2022-04-15T06:37:13.024Z"
   },
   {
    "duration": 6,
    "start_time": "2022-04-15T06:37:13.032Z"
   },
   {
    "duration": 9,
    "start_time": "2022-04-15T06:37:13.039Z"
   },
   {
    "duration": 10,
    "start_time": "2022-04-15T06:37:13.049Z"
   },
   {
    "duration": 271,
    "start_time": "2022-04-15T06:37:13.060Z"
   },
   {
    "duration": 187,
    "start_time": "2022-04-15T06:37:13.333Z"
   },
   {
    "duration": 236,
    "start_time": "2022-04-15T06:37:13.522Z"
   },
   {
    "duration": 33,
    "start_time": "2022-04-15T06:37:13.759Z"
   },
   {
    "duration": 25,
    "start_time": "2022-04-15T06:37:13.793Z"
   },
   {
    "duration": 37,
    "start_time": "2022-04-15T06:37:13.819Z"
   },
   {
    "duration": 29,
    "start_time": "2022-04-15T06:37:13.857Z"
   },
   {
    "duration": 26,
    "start_time": "2022-04-15T06:37:13.888Z"
   },
   {
    "duration": 39,
    "start_time": "2022-04-15T06:37:13.916Z"
   },
   {
    "duration": 215,
    "start_time": "2022-04-15T06:37:13.957Z"
   },
   {
    "duration": 195,
    "start_time": "2022-04-15T06:37:14.174Z"
   },
   {
    "duration": 3,
    "start_time": "2022-04-15T06:37:14.371Z"
   },
   {
    "duration": 7,
    "start_time": "2022-04-15T06:37:14.376Z"
   },
   {
    "duration": 4,
    "start_time": "2022-04-15T06:37:14.385Z"
   },
   {
    "duration": 20,
    "start_time": "2022-04-15T06:37:14.391Z"
   },
   {
    "duration": 27,
    "start_time": "2022-04-15T06:37:14.412Z"
   },
   {
    "duration": 12,
    "start_time": "2022-04-15T06:38:09.267Z"
   },
   {
    "duration": 12,
    "start_time": "2022-04-15T06:38:20.941Z"
   },
   {
    "duration": 9,
    "start_time": "2022-04-15T06:38:40.432Z"
   },
   {
    "duration": 9,
    "start_time": "2022-04-15T06:38:42.050Z"
   },
   {
    "duration": 8,
    "start_time": "2022-04-15T06:38:55.464Z"
   },
   {
    "duration": 8,
    "start_time": "2022-04-15T06:39:09.534Z"
   },
   {
    "duration": 9,
    "start_time": "2022-04-15T06:39:21.117Z"
   },
   {
    "duration": 11,
    "start_time": "2022-04-15T06:39:29.584Z"
   },
   {
    "duration": 17,
    "start_time": "2022-04-15T07:23:40.247Z"
   },
   {
    "duration": 102,
    "start_time": "2022-04-15T07:26:14.601Z"
   },
   {
    "duration": 18,
    "start_time": "2022-04-15T07:26:27.606Z"
   },
   {
    "duration": 11,
    "start_time": "2022-04-15T07:27:38.552Z"
   },
   {
    "duration": 12,
    "start_time": "2022-04-15T07:28:05.717Z"
   },
   {
    "duration": 3,
    "start_time": "2022-04-15T07:28:08.108Z"
   },
   {
    "duration": 2,
    "start_time": "2022-04-15T07:28:08.119Z"
   },
   {
    "duration": 154,
    "start_time": "2022-04-15T07:28:08.123Z"
   },
   {
    "duration": 146,
    "start_time": "2022-04-15T07:28:08.278Z"
   },
   {
    "duration": 86,
    "start_time": "2022-04-15T07:28:08.425Z"
   },
   {
    "duration": 10,
    "start_time": "2022-04-15T07:28:08.513Z"
   },
   {
    "duration": 15,
    "start_time": "2022-04-15T07:28:08.525Z"
   },
   {
    "duration": 70,
    "start_time": "2022-04-15T07:28:08.541Z"
   },
   {
    "duration": 9,
    "start_time": "2022-04-15T07:28:08.612Z"
   },
   {
    "duration": 11,
    "start_time": "2022-04-15T07:28:08.622Z"
   },
   {
    "duration": 8,
    "start_time": "2022-04-15T07:28:08.635Z"
   },
   {
    "duration": 9,
    "start_time": "2022-04-15T07:28:08.645Z"
   },
   {
    "duration": 11,
    "start_time": "2022-04-15T07:28:08.656Z"
   },
   {
    "duration": 66,
    "start_time": "2022-04-15T07:28:08.670Z"
   },
   {
    "duration": 24,
    "start_time": "2022-04-15T07:28:08.738Z"
   },
   {
    "duration": 20,
    "start_time": "2022-04-15T07:28:08.764Z"
   },
   {
    "duration": 22,
    "start_time": "2022-04-15T07:28:08.785Z"
   },
   {
    "duration": 3,
    "start_time": "2022-04-15T07:28:08.809Z"
   },
   {
    "duration": 200,
    "start_time": "2022-04-15T07:28:08.814Z"
   },
   {
    "duration": 6,
    "start_time": "2022-04-15T07:28:09.015Z"
   },
   {
    "duration": 50,
    "start_time": "2022-04-15T07:28:09.022Z"
   },
   {
    "duration": 78,
    "start_time": "2022-04-15T07:28:09.074Z"
   },
   {
    "duration": 66,
    "start_time": "2022-04-15T07:28:09.154Z"
   },
   {
    "duration": 26,
    "start_time": "2022-04-15T07:28:09.222Z"
   },
   {
    "duration": 24,
    "start_time": "2022-04-15T07:28:09.250Z"
   },
   {
    "duration": 37,
    "start_time": "2022-04-15T07:28:09.276Z"
   },
   {
    "duration": 9,
    "start_time": "2022-04-15T07:28:09.315Z"
   },
   {
    "duration": 5,
    "start_time": "2022-04-15T07:28:09.326Z"
   },
   {
    "duration": 15,
    "start_time": "2022-04-15T07:28:09.333Z"
   },
   {
    "duration": 13,
    "start_time": "2022-04-15T07:28:09.350Z"
   },
   {
    "duration": 44,
    "start_time": "2022-04-15T07:28:09.365Z"
   },
   {
    "duration": 4,
    "start_time": "2022-04-15T07:28:09.411Z"
   },
   {
    "duration": 7,
    "start_time": "2022-04-15T07:28:09.417Z"
   },
   {
    "duration": 4,
    "start_time": "2022-04-15T07:28:09.426Z"
   },
   {
    "duration": 4,
    "start_time": "2022-04-15T07:28:09.432Z"
   },
   {
    "duration": 4,
    "start_time": "2022-04-15T07:28:09.438Z"
   },
   {
    "duration": 7,
    "start_time": "2022-04-15T07:28:09.443Z"
   },
   {
    "duration": 6,
    "start_time": "2022-04-15T07:28:09.454Z"
   },
   {
    "duration": 11,
    "start_time": "2022-04-15T07:28:09.461Z"
   },
   {
    "duration": 6,
    "start_time": "2022-04-15T07:28:09.474Z"
   },
   {
    "duration": 28,
    "start_time": "2022-04-15T07:28:09.481Z"
   },
   {
    "duration": 7,
    "start_time": "2022-04-15T07:28:09.511Z"
   },
   {
    "duration": 8,
    "start_time": "2022-04-15T07:28:09.520Z"
   },
   {
    "duration": 7,
    "start_time": "2022-04-15T07:28:09.529Z"
   },
   {
    "duration": 242,
    "start_time": "2022-04-15T07:28:09.537Z"
   },
   {
    "duration": 177,
    "start_time": "2022-04-15T07:28:09.781Z"
   },
   {
    "duration": 295,
    "start_time": "2022-04-15T07:28:09.960Z"
   },
   {
    "duration": 30,
    "start_time": "2022-04-15T07:28:10.257Z"
   },
   {
    "duration": 20,
    "start_time": "2022-04-15T07:28:10.289Z"
   },
   {
    "duration": 7,
    "start_time": "2022-04-15T07:28:10.311Z"
   },
   {
    "duration": 10,
    "start_time": "2022-04-15T07:28:10.320Z"
   },
   {
    "duration": 8,
    "start_time": "2022-04-15T07:28:10.331Z"
   },
   {
    "duration": 6,
    "start_time": "2022-04-15T07:28:10.340Z"
   },
   {
    "duration": 186,
    "start_time": "2022-04-15T07:28:10.347Z"
   },
   {
    "duration": 176,
    "start_time": "2022-04-15T07:28:10.534Z"
   },
   {
    "duration": 3,
    "start_time": "2022-04-15T07:28:10.712Z"
   },
   {
    "duration": 6,
    "start_time": "2022-04-15T07:28:10.716Z"
   },
   {
    "duration": 5,
    "start_time": "2022-04-15T07:28:10.723Z"
   },
   {
    "duration": 5,
    "start_time": "2022-04-15T07:28:10.729Z"
   },
   {
    "duration": 23,
    "start_time": "2022-04-15T07:28:10.735Z"
   },
   {
    "duration": 1821,
    "start_time": "2022-04-17T14:02:18.442Z"
   },
   {
    "duration": 4,
    "start_time": "2022-04-17T14:02:20.265Z"
   },
   {
    "duration": 218,
    "start_time": "2022-04-17T14:02:20.272Z"
   },
   {
    "duration": 166,
    "start_time": "2022-04-17T14:02:20.493Z"
   },
   {
    "duration": 119,
    "start_time": "2022-04-17T14:02:20.662Z"
   },
   {
    "duration": 11,
    "start_time": "2022-04-17T14:02:20.784Z"
   },
   {
    "duration": 19,
    "start_time": "2022-04-17T14:02:20.798Z"
   },
   {
    "duration": 117,
    "start_time": "2022-04-17T14:02:20.825Z"
   },
   {
    "duration": 19,
    "start_time": "2022-04-17T14:02:20.946Z"
   },
   {
    "duration": 13,
    "start_time": "2022-04-17T14:02:20.970Z"
   },
   {
    "duration": 42,
    "start_time": "2022-04-17T14:02:20.986Z"
   },
   {
    "duration": 18,
    "start_time": "2022-04-17T14:02:21.031Z"
   },
   {
    "duration": 28,
    "start_time": "2022-04-17T14:02:21.053Z"
   },
   {
    "duration": 73,
    "start_time": "2022-04-17T14:02:21.084Z"
   },
   {
    "duration": 34,
    "start_time": "2022-04-17T14:02:21.160Z"
   },
   {
    "duration": 48,
    "start_time": "2022-04-17T14:02:21.197Z"
   },
   {
    "duration": 6,
    "start_time": "2022-04-17T14:02:21.247Z"
   },
   {
    "duration": 7,
    "start_time": "2022-04-17T14:02:21.255Z"
   },
   {
    "duration": 419,
    "start_time": "2022-04-17T14:02:21.265Z"
   },
   {
    "duration": 6,
    "start_time": "2022-04-17T14:02:21.686Z"
   },
   {
    "duration": 115,
    "start_time": "2022-04-17T14:02:21.695Z"
   },
   {
    "duration": 97,
    "start_time": "2022-04-17T14:02:21.813Z"
   },
   {
    "duration": 122,
    "start_time": "2022-04-17T14:02:21.913Z"
   },
   {
    "duration": 40,
    "start_time": "2022-04-17T14:02:22.037Z"
   },
   {
    "duration": 52,
    "start_time": "2022-04-17T14:02:22.083Z"
   },
   {
    "duration": 34,
    "start_time": "2022-04-17T14:02:22.137Z"
   },
   {
    "duration": 16,
    "start_time": "2022-04-17T14:02:22.174Z"
   },
   {
    "duration": 29,
    "start_time": "2022-04-17T14:02:22.199Z"
   },
   {
    "duration": 26,
    "start_time": "2022-04-17T14:02:22.231Z"
   },
   {
    "duration": 34,
    "start_time": "2022-04-17T14:02:22.261Z"
   },
   {
    "duration": 28,
    "start_time": "2022-04-17T14:02:22.298Z"
   },
   {
    "duration": 21,
    "start_time": "2022-04-17T14:02:22.329Z"
   },
   {
    "duration": 24,
    "start_time": "2022-04-17T14:02:22.353Z"
   },
   {
    "duration": 6,
    "start_time": "2022-04-17T14:02:22.380Z"
   },
   {
    "duration": 18,
    "start_time": "2022-04-17T14:02:22.389Z"
   },
   {
    "duration": 7,
    "start_time": "2022-04-17T14:02:22.410Z"
   },
   {
    "duration": 6,
    "start_time": "2022-04-17T14:02:22.425Z"
   },
   {
    "duration": 11,
    "start_time": "2022-04-17T14:02:22.434Z"
   },
   {
    "duration": 8,
    "start_time": "2022-04-17T14:02:22.447Z"
   },
   {
    "duration": 11,
    "start_time": "2022-04-17T14:02:22.457Z"
   },
   {
    "duration": 12,
    "start_time": "2022-04-17T14:02:22.471Z"
   },
   {
    "duration": 8,
    "start_time": "2022-04-17T14:02:22.486Z"
   },
   {
    "duration": 37,
    "start_time": "2022-04-17T14:02:22.496Z"
   },
   {
    "duration": 25,
    "start_time": "2022-04-17T14:02:22.535Z"
   },
   {
    "duration": 398,
    "start_time": "2022-04-17T14:02:22.563Z"
   },
   {
    "duration": 284,
    "start_time": "2022-04-17T14:02:22.964Z"
   },
   {
    "duration": 383,
    "start_time": "2022-04-17T14:02:23.251Z"
   },
   {
    "duration": 64,
    "start_time": "2022-04-17T14:02:23.636Z"
   },
   {
    "duration": 27,
    "start_time": "2022-04-17T14:02:23.703Z"
   },
   {
    "duration": 17,
    "start_time": "2022-04-17T14:02:23.733Z"
   },
   {
    "duration": 16,
    "start_time": "2022-04-17T14:02:23.753Z"
   },
   {
    "duration": 15,
    "start_time": "2022-04-17T14:02:23.772Z"
   },
   {
    "duration": 17,
    "start_time": "2022-04-17T14:02:23.789Z"
   },
   {
    "duration": 433,
    "start_time": "2022-04-17T14:02:23.825Z"
   },
   {
    "duration": 436,
    "start_time": "2022-04-17T14:02:24.261Z"
   },
   {
    "duration": 5,
    "start_time": "2022-04-17T14:02:24.702Z"
   },
   {
    "duration": 32,
    "start_time": "2022-04-17T14:02:24.709Z"
   },
   {
    "duration": 24,
    "start_time": "2022-04-17T14:02:24.743Z"
   },
   {
    "duration": 36,
    "start_time": "2022-04-17T14:02:24.770Z"
   },
   {
    "duration": 67,
    "start_time": "2022-04-17T14:02:24.810Z"
   },
   {
    "duration": 253,
    "start_time": "2022-04-17T14:05:39.708Z"
   },
   {
    "duration": 257,
    "start_time": "2022-04-17T14:07:04.716Z"
   },
   {
    "duration": 143,
    "start_time": "2022-04-17T14:08:53.154Z"
   },
   {
    "duration": 185098,
    "start_time": "2022-04-17T14:09:06.547Z"
   },
   {
    "duration": 0,
    "start_time": "2022-04-17T14:12:11.947Z"
   },
   {
    "duration": 0,
    "start_time": "2022-04-17T14:12:11.948Z"
   },
   {
    "duration": 0,
    "start_time": "2022-04-17T14:12:11.949Z"
   },
   {
    "duration": 0,
    "start_time": "2022-04-17T14:12:11.951Z"
   },
   {
    "duration": 0,
    "start_time": "2022-04-17T14:12:11.952Z"
   },
   {
    "duration": 0,
    "start_time": "2022-04-17T14:12:11.953Z"
   },
   {
    "duration": 0,
    "start_time": "2022-04-17T14:12:11.954Z"
   },
   {
    "duration": 0,
    "start_time": "2022-04-17T14:12:11.955Z"
   },
   {
    "duration": 0,
    "start_time": "2022-04-17T14:12:11.958Z"
   },
   {
    "duration": 0,
    "start_time": "2022-04-17T14:12:11.959Z"
   },
   {
    "duration": 0,
    "start_time": "2022-04-17T14:12:11.961Z"
   },
   {
    "duration": 0,
    "start_time": "2022-04-17T14:12:11.963Z"
   },
   {
    "duration": 0,
    "start_time": "2022-04-17T14:12:11.965Z"
   },
   {
    "duration": 0,
    "start_time": "2022-04-17T14:12:11.967Z"
   },
   {
    "duration": 0,
    "start_time": "2022-04-17T14:12:11.968Z"
   },
   {
    "duration": 0,
    "start_time": "2022-04-17T14:12:11.969Z"
   },
   {
    "duration": 0,
    "start_time": "2022-04-17T14:12:12.034Z"
   },
   {
    "duration": 0,
    "start_time": "2022-04-17T14:12:12.035Z"
   },
   {
    "duration": 0,
    "start_time": "2022-04-17T14:12:12.036Z"
   },
   {
    "duration": 0,
    "start_time": "2022-04-17T14:12:12.037Z"
   },
   {
    "duration": 0,
    "start_time": "2022-04-17T14:12:12.038Z"
   },
   {
    "duration": 0,
    "start_time": "2022-04-17T14:12:12.039Z"
   },
   {
    "duration": 0,
    "start_time": "2022-04-17T14:12:12.041Z"
   },
   {
    "duration": 0,
    "start_time": "2022-04-17T14:12:12.044Z"
   },
   {
    "duration": 0,
    "start_time": "2022-04-17T14:12:12.046Z"
   },
   {
    "duration": 0,
    "start_time": "2022-04-17T14:12:12.048Z"
   },
   {
    "duration": 0,
    "start_time": "2022-04-17T14:12:12.050Z"
   },
   {
    "duration": 0,
    "start_time": "2022-04-17T14:12:12.052Z"
   },
   {
    "duration": 0,
    "start_time": "2022-04-17T14:12:12.054Z"
   },
   {
    "duration": 0,
    "start_time": "2022-04-17T14:12:12.056Z"
   },
   {
    "duration": 0,
    "start_time": "2022-04-17T14:12:12.058Z"
   },
   {
    "duration": 0,
    "start_time": "2022-04-17T14:12:12.059Z"
   },
   {
    "duration": 0,
    "start_time": "2022-04-17T14:12:12.060Z"
   },
   {
    "duration": 0,
    "start_time": "2022-04-17T14:12:12.062Z"
   },
   {
    "duration": 0,
    "start_time": "2022-04-17T14:12:12.063Z"
   },
   {
    "duration": 0,
    "start_time": "2022-04-17T14:12:12.065Z"
   },
   {
    "duration": 0,
    "start_time": "2022-04-17T14:12:12.066Z"
   },
   {
    "duration": 0,
    "start_time": "2022-04-17T14:12:12.067Z"
   },
   {
    "duration": 0,
    "start_time": "2022-04-17T14:12:12.129Z"
   },
   {
    "duration": 0,
    "start_time": "2022-04-17T14:12:12.130Z"
   },
   {
    "duration": 0,
    "start_time": "2022-04-17T14:12:12.131Z"
   },
   {
    "duration": 0,
    "start_time": "2022-04-17T14:12:12.133Z"
   },
   {
    "duration": 0,
    "start_time": "2022-04-17T14:12:12.142Z"
   },
   {
    "duration": 0,
    "start_time": "2022-04-17T14:12:12.145Z"
   },
   {
    "duration": 0,
    "start_time": "2022-04-17T14:12:12.147Z"
   },
   {
    "duration": 0,
    "start_time": "2022-04-17T14:12:12.149Z"
   },
   {
    "duration": 0,
    "start_time": "2022-04-17T14:12:12.151Z"
   },
   {
    "duration": 0,
    "start_time": "2022-04-17T14:12:12.152Z"
   },
   {
    "duration": 0,
    "start_time": "2022-04-17T14:12:12.154Z"
   },
   {
    "duration": 0,
    "start_time": "2022-04-17T14:12:12.156Z"
   },
   {
    "duration": 0,
    "start_time": "2022-04-17T14:12:12.158Z"
   },
   {
    "duration": 0,
    "start_time": "2022-04-17T14:12:12.159Z"
   },
   {
    "duration": 0,
    "start_time": "2022-04-17T14:12:12.161Z"
   },
   {
    "duration": 0,
    "start_time": "2022-04-17T14:12:12.163Z"
   },
   {
    "duration": 0,
    "start_time": "2022-04-17T14:12:12.165Z"
   },
   {
    "duration": 0,
    "start_time": "2022-04-17T14:12:12.167Z"
   },
   {
    "duration": 0,
    "start_time": "2022-04-17T14:12:12.232Z"
   },
   {
    "duration": 0,
    "start_time": "2022-04-17T14:12:12.234Z"
   },
   {
    "duration": 0,
    "start_time": "2022-04-17T14:12:12.240Z"
   },
   {
    "duration": 0,
    "start_time": "2022-04-17T14:12:12.241Z"
   },
   {
    "duration": 0,
    "start_time": "2022-04-17T14:12:12.241Z"
   },
   {
    "duration": 0,
    "start_time": "2022-04-17T14:12:12.242Z"
   },
   {
    "duration": 0,
    "start_time": "2022-04-17T14:12:12.243Z"
   },
   {
    "duration": 5,
    "start_time": "2022-04-17T14:12:41.582Z"
   },
   {
    "duration": 4,
    "start_time": "2022-04-17T14:12:41.597Z"
   },
   {
    "duration": 222,
    "start_time": "2022-04-17T14:12:41.611Z"
   },
   {
    "duration": 178,
    "start_time": "2022-04-17T14:12:41.836Z"
   },
   {
    "duration": 134,
    "start_time": "2022-04-17T14:12:42.016Z"
   },
   {
    "duration": 11,
    "start_time": "2022-04-17T14:12:42.153Z"
   },
   {
    "duration": 23,
    "start_time": "2022-04-17T14:12:42.166Z"
   },
   {
    "duration": 110,
    "start_time": "2022-04-17T14:12:42.191Z"
   },
   {
    "duration": 32,
    "start_time": "2022-04-17T14:12:42.303Z"
   },
   {
    "duration": 12,
    "start_time": "2022-04-17T14:12:42.346Z"
   },
   {
    "duration": 11,
    "start_time": "2022-04-17T14:12:42.361Z"
   },
   {
    "duration": 13,
    "start_time": "2022-04-17T14:12:42.376Z"
   },
   {
    "duration": 22,
    "start_time": "2022-04-17T14:12:42.424Z"
   },
   {
    "duration": 48,
    "start_time": "2022-04-17T14:12:42.448Z"
   },
   {
    "duration": 60,
    "start_time": "2022-04-17T14:12:42.498Z"
   },
   {
    "duration": 26,
    "start_time": "2022-04-17T14:12:42.560Z"
   },
   {
    "duration": 5,
    "start_time": "2022-04-17T14:12:42.589Z"
   },
   {
    "duration": 28,
    "start_time": "2022-04-17T14:12:42.597Z"
   },
   {
    "duration": 298,
    "start_time": "2022-04-17T14:12:42.627Z"
   },
   {
    "duration": 10,
    "start_time": "2022-04-17T14:12:42.928Z"
   },
   {
    "duration": 69,
    "start_time": "2022-04-17T14:12:42.943Z"
   },
   {
    "duration": 84,
    "start_time": "2022-04-17T14:12:43.027Z"
   },
   {
    "duration": 264,
    "start_time": "2022-04-17T14:12:43.125Z"
   },
   {
    "duration": 36,
    "start_time": "2022-04-17T14:12:43.391Z"
   },
   {
    "duration": 0,
    "start_time": "2022-04-17T14:12:43.431Z"
   },
   {
    "duration": 0,
    "start_time": "2022-04-17T14:12:43.433Z"
   },
   {
    "duration": 0,
    "start_time": "2022-04-17T14:12:43.435Z"
   },
   {
    "duration": 0,
    "start_time": "2022-04-17T14:12:43.437Z"
   },
   {
    "duration": 0,
    "start_time": "2022-04-17T14:12:43.441Z"
   },
   {
    "duration": 0,
    "start_time": "2022-04-17T14:12:43.443Z"
   },
   {
    "duration": 0,
    "start_time": "2022-04-17T14:12:43.446Z"
   },
   {
    "duration": 0,
    "start_time": "2022-04-17T14:12:43.449Z"
   },
   {
    "duration": 0,
    "start_time": "2022-04-17T14:12:43.451Z"
   },
   {
    "duration": 0,
    "start_time": "2022-04-17T14:12:43.453Z"
   },
   {
    "duration": 0,
    "start_time": "2022-04-17T14:12:43.455Z"
   },
   {
    "duration": 0,
    "start_time": "2022-04-17T14:12:43.457Z"
   },
   {
    "duration": 0,
    "start_time": "2022-04-17T14:12:43.458Z"
   },
   {
    "duration": 0,
    "start_time": "2022-04-17T14:12:43.460Z"
   },
   {
    "duration": 0,
    "start_time": "2022-04-17T14:12:43.462Z"
   },
   {
    "duration": 0,
    "start_time": "2022-04-17T14:12:43.463Z"
   },
   {
    "duration": 0,
    "start_time": "2022-04-17T14:12:43.465Z"
   },
   {
    "duration": 0,
    "start_time": "2022-04-17T14:12:43.467Z"
   },
   {
    "duration": 0,
    "start_time": "2022-04-17T14:12:43.469Z"
   },
   {
    "duration": 0,
    "start_time": "2022-04-17T14:12:43.470Z"
   },
   {
    "duration": 0,
    "start_time": "2022-04-17T14:12:43.525Z"
   },
   {
    "duration": 0,
    "start_time": "2022-04-17T14:12:43.527Z"
   },
   {
    "duration": 0,
    "start_time": "2022-04-17T14:12:43.529Z"
   },
   {
    "duration": 0,
    "start_time": "2022-04-17T14:12:43.531Z"
   },
   {
    "duration": 0,
    "start_time": "2022-04-17T14:12:43.532Z"
   },
   {
    "duration": 0,
    "start_time": "2022-04-17T14:12:43.533Z"
   },
   {
    "duration": 0,
    "start_time": "2022-04-17T14:12:43.535Z"
   },
   {
    "duration": 0,
    "start_time": "2022-04-17T14:12:43.537Z"
   },
   {
    "duration": 0,
    "start_time": "2022-04-17T14:12:43.548Z"
   },
   {
    "duration": 0,
    "start_time": "2022-04-17T14:12:43.549Z"
   },
   {
    "duration": 0,
    "start_time": "2022-04-17T14:12:43.551Z"
   },
   {
    "duration": 0,
    "start_time": "2022-04-17T14:12:43.553Z"
   },
   {
    "duration": 0,
    "start_time": "2022-04-17T14:12:43.555Z"
   },
   {
    "duration": 0,
    "start_time": "2022-04-17T14:12:43.558Z"
   },
   {
    "duration": 0,
    "start_time": "2022-04-17T14:12:43.560Z"
   },
   {
    "duration": 0,
    "start_time": "2022-04-17T14:12:43.562Z"
   },
   {
    "duration": 0,
    "start_time": "2022-04-17T14:12:43.564Z"
   },
   {
    "duration": 0,
    "start_time": "2022-04-17T14:12:43.566Z"
   },
   {
    "duration": 0,
    "start_time": "2022-04-17T14:12:43.567Z"
   },
   {
    "duration": 30,
    "start_time": "2022-04-17T14:13:33.949Z"
   },
   {
    "duration": 253,
    "start_time": "2022-04-17T14:13:59.078Z"
   },
   {
    "duration": 29,
    "start_time": "2022-04-17T14:14:48.044Z"
   },
   {
    "duration": 15,
    "start_time": "2022-04-17T14:15:27.650Z"
   },
   {
    "duration": 31,
    "start_time": "2022-04-17T14:17:49.213Z"
   },
   {
    "duration": 25,
    "start_time": "2022-04-17T14:18:03.319Z"
   },
   {
    "duration": 100,
    "start_time": "2022-04-17T14:21:51.329Z"
   },
   {
    "duration": 13,
    "start_time": "2022-04-17T14:22:47.377Z"
   },
   {
    "duration": 72,
    "start_time": "2022-04-17T14:29:23.192Z"
   },
   {
    "duration": 36,
    "start_time": "2022-04-17T14:29:27.330Z"
   },
   {
    "duration": 31,
    "start_time": "2022-04-17T14:29:28.766Z"
   },
   {
    "duration": 23,
    "start_time": "2022-04-17T14:29:33.404Z"
   },
   {
    "duration": 12,
    "start_time": "2022-04-17T14:29:35.671Z"
   },
   {
    "duration": 7,
    "start_time": "2022-04-17T14:29:38.440Z"
   },
   {
    "duration": 1768,
    "start_time": "2022-04-17T14:33:12.796Z"
   },
   {
    "duration": 1677,
    "start_time": "2022-04-17T14:34:03.891Z"
   },
   {
    "duration": 2007,
    "start_time": "2022-04-17T14:35:15.941Z"
   },
   {
    "duration": 17,
    "start_time": "2022-04-17T14:35:38.742Z"
   },
   {
    "duration": 1214,
    "start_time": "2022-04-17T16:29:44.555Z"
   },
   {
    "duration": 2,
    "start_time": "2022-04-17T16:29:45.771Z"
   },
   {
    "duration": 151,
    "start_time": "2022-04-17T16:29:45.775Z"
   },
   {
    "duration": 114,
    "start_time": "2022-04-17T16:29:45.929Z"
   },
   {
    "duration": 72,
    "start_time": "2022-04-17T16:29:46.045Z"
   },
   {
    "duration": 19,
    "start_time": "2022-04-17T16:29:46.119Z"
   },
   {
    "duration": 20,
    "start_time": "2022-04-17T16:29:46.140Z"
   },
   {
    "duration": 57,
    "start_time": "2022-04-17T16:29:46.162Z"
   },
   {
    "duration": 12,
    "start_time": "2022-04-17T16:29:46.221Z"
   },
   {
    "duration": 15,
    "start_time": "2022-04-17T16:29:46.236Z"
   },
   {
    "duration": 14,
    "start_time": "2022-04-17T16:29:46.252Z"
   },
   {
    "duration": 20,
    "start_time": "2022-04-17T16:29:46.267Z"
   },
   {
    "duration": 21,
    "start_time": "2022-04-17T16:29:46.288Z"
   },
   {
    "duration": 37,
    "start_time": "2022-04-17T16:29:46.311Z"
   },
   {
    "duration": 21,
    "start_time": "2022-04-17T16:29:46.350Z"
   },
   {
    "duration": 16,
    "start_time": "2022-04-17T16:29:46.373Z"
   },
   {
    "duration": 4,
    "start_time": "2022-04-17T16:29:46.391Z"
   },
   {
    "duration": 11,
    "start_time": "2022-04-17T16:29:46.396Z"
   },
   {
    "duration": 198,
    "start_time": "2022-04-17T16:29:46.408Z"
   },
   {
    "duration": 4,
    "start_time": "2022-04-17T16:29:46.607Z"
   },
   {
    "duration": 57,
    "start_time": "2022-04-17T16:29:46.612Z"
   },
   {
    "duration": 54,
    "start_time": "2022-04-17T16:29:46.671Z"
   },
   {
    "duration": 161,
    "start_time": "2022-04-17T16:29:46.727Z"
   },
   {
    "duration": 14,
    "start_time": "2022-04-17T16:29:46.889Z"
   },
   {
    "duration": 153,
    "start_time": "2022-04-17T16:29:46.905Z"
   },
   {
    "duration": 14,
    "start_time": "2022-04-17T16:29:47.060Z"
   },
   {
    "duration": 61,
    "start_time": "2022-04-17T16:29:47.075Z"
   },
   {
    "duration": 22,
    "start_time": "2022-04-17T16:29:47.139Z"
   },
   {
    "duration": 18,
    "start_time": "2022-04-17T16:29:47.162Z"
   },
   {
    "duration": 15,
    "start_time": "2022-04-17T16:29:47.181Z"
   },
   {
    "duration": 7,
    "start_time": "2022-04-17T16:29:47.197Z"
   },
   {
    "duration": 20,
    "start_time": "2022-04-17T16:29:47.205Z"
   },
   {
    "duration": 19,
    "start_time": "2022-04-17T16:29:47.229Z"
   },
   {
    "duration": 16,
    "start_time": "2022-04-17T16:29:47.249Z"
   },
   {
    "duration": 6,
    "start_time": "2022-04-17T16:29:47.266Z"
   },
   {
    "duration": 5,
    "start_time": "2022-04-17T16:29:47.273Z"
   },
   {
    "duration": 6,
    "start_time": "2022-04-17T16:29:47.279Z"
   },
   {
    "duration": 5,
    "start_time": "2022-04-17T16:29:47.287Z"
   },
   {
    "duration": 5,
    "start_time": "2022-04-17T16:29:47.293Z"
   },
   {
    "duration": 6,
    "start_time": "2022-04-17T16:29:47.300Z"
   },
   {
    "duration": 5,
    "start_time": "2022-04-17T16:29:47.307Z"
   },
   {
    "duration": 10,
    "start_time": "2022-04-17T16:29:47.323Z"
   },
   {
    "duration": 9,
    "start_time": "2022-04-17T16:29:47.334Z"
   },
   {
    "duration": 5,
    "start_time": "2022-04-17T16:29:47.344Z"
   },
   {
    "duration": 5,
    "start_time": "2022-04-17T16:29:47.350Z"
   },
   {
    "duration": 5,
    "start_time": "2022-04-17T16:29:47.356Z"
   },
   {
    "duration": 8,
    "start_time": "2022-04-17T16:29:47.362Z"
   },
   {
    "duration": 10,
    "start_time": "2022-04-17T16:29:47.371Z"
   },
   {
    "duration": 199,
    "start_time": "2022-04-17T16:29:47.382Z"
   },
   {
    "duration": 154,
    "start_time": "2022-04-17T16:29:47.583Z"
   },
   {
    "duration": 176,
    "start_time": "2022-04-17T16:29:47.739Z"
   },
   {
    "duration": 32,
    "start_time": "2022-04-17T16:29:47.917Z"
   },
   {
    "duration": 4,
    "start_time": "2022-04-17T16:29:47.951Z"
   },
   {
    "duration": 7,
    "start_time": "2022-04-17T16:29:47.957Z"
   },
   {
    "duration": 6,
    "start_time": "2022-04-17T16:29:47.965Z"
   },
   {
    "duration": 7,
    "start_time": "2022-04-17T16:29:47.972Z"
   },
   {
    "duration": 7,
    "start_time": "2022-04-17T16:29:47.980Z"
   },
   {
    "duration": 179,
    "start_time": "2022-04-17T16:29:47.989Z"
   },
   {
    "duration": 178,
    "start_time": "2022-04-17T16:29:48.169Z"
   },
   {
    "duration": 4,
    "start_time": "2022-04-17T16:29:48.349Z"
   },
   {
    "duration": 6,
    "start_time": "2022-04-17T16:29:48.354Z"
   },
   {
    "duration": 7,
    "start_time": "2022-04-17T16:29:48.361Z"
   },
   {
    "duration": 5,
    "start_time": "2022-04-17T16:29:48.369Z"
   },
   {
    "duration": 24,
    "start_time": "2022-04-17T16:29:48.375Z"
   },
   {
    "duration": 86,
    "start_time": "2022-04-17T16:51:12.096Z"
   },
   {
    "duration": 12,
    "start_time": "2022-04-17T16:51:42.490Z"
   },
   {
    "duration": 3,
    "start_time": "2022-04-17T18:24:31.023Z"
   },
   {
    "duration": 2,
    "start_time": "2022-04-17T18:24:31.045Z"
   },
   {
    "duration": 137,
    "start_time": "2022-04-17T18:24:31.063Z"
   },
   {
    "duration": 123,
    "start_time": "2022-04-17T18:24:31.202Z"
   },
   {
    "duration": 74,
    "start_time": "2022-04-17T18:24:31.327Z"
   },
   {
    "duration": 10,
    "start_time": "2022-04-17T18:24:31.403Z"
   },
   {
    "duration": 17,
    "start_time": "2022-04-17T18:24:31.423Z"
   },
   {
    "duration": 142,
    "start_time": "2022-04-17T18:24:31.441Z"
   },
   {
    "duration": 8,
    "start_time": "2022-04-17T18:24:31.585Z"
   },
   {
    "duration": 29,
    "start_time": "2022-04-17T18:24:31.595Z"
   },
   {
    "duration": 6,
    "start_time": "2022-04-17T18:24:31.627Z"
   },
   {
    "duration": 7,
    "start_time": "2022-04-17T18:24:31.636Z"
   },
   {
    "duration": 10,
    "start_time": "2022-04-17T18:24:31.645Z"
   },
   {
    "duration": 29,
    "start_time": "2022-04-17T18:24:31.657Z"
   },
   {
    "duration": 49,
    "start_time": "2022-04-17T18:24:31.688Z"
   },
   {
    "duration": 19,
    "start_time": "2022-04-17T18:24:31.739Z"
   },
   {
    "duration": 5,
    "start_time": "2022-04-17T18:24:31.760Z"
   },
   {
    "duration": 4,
    "start_time": "2022-04-17T18:24:31.767Z"
   },
   {
    "duration": 222,
    "start_time": "2022-04-17T18:24:31.773Z"
   },
   {
    "duration": 4,
    "start_time": "2022-04-17T18:24:31.997Z"
   },
   {
    "duration": 63,
    "start_time": "2022-04-17T18:24:32.002Z"
   },
   {
    "duration": 72,
    "start_time": "2022-04-17T18:24:32.068Z"
   },
   {
    "duration": 149,
    "start_time": "2022-04-17T18:24:32.142Z"
   },
   {
    "duration": 13,
    "start_time": "2022-04-17T18:24:32.292Z"
   },
   {
    "duration": 152,
    "start_time": "2022-04-17T18:24:32.307Z"
   },
   {
    "duration": 15,
    "start_time": "2022-04-17T18:24:32.460Z"
   },
   {
    "duration": 57,
    "start_time": "2022-04-17T18:24:32.477Z"
   },
   {
    "duration": 21,
    "start_time": "2022-04-17T18:24:32.536Z"
   },
   {
    "duration": 19,
    "start_time": "2022-04-17T18:24:32.558Z"
   },
   {
    "duration": 14,
    "start_time": "2022-04-17T18:24:32.581Z"
   },
   {
    "duration": 28,
    "start_time": "2022-04-17T18:24:32.596Z"
   },
   {
    "duration": 6,
    "start_time": "2022-04-17T18:24:32.626Z"
   },
   {
    "duration": 15,
    "start_time": "2022-04-17T18:24:32.633Z"
   },
   {
    "duration": 15,
    "start_time": "2022-04-17T18:24:32.650Z"
   },
   {
    "duration": 9,
    "start_time": "2022-04-17T18:24:32.667Z"
   },
   {
    "duration": 4,
    "start_time": "2022-04-17T18:24:32.678Z"
   },
   {
    "duration": 9,
    "start_time": "2022-04-17T18:24:32.683Z"
   },
   {
    "duration": 33,
    "start_time": "2022-04-17T18:24:32.694Z"
   },
   {
    "duration": 6,
    "start_time": "2022-04-17T18:24:32.728Z"
   },
   {
    "duration": 7,
    "start_time": "2022-04-17T18:24:32.736Z"
   },
   {
    "duration": 5,
    "start_time": "2022-04-17T18:24:32.744Z"
   },
   {
    "duration": 5,
    "start_time": "2022-04-17T18:24:32.751Z"
   },
   {
    "duration": 6,
    "start_time": "2022-04-17T18:24:32.757Z"
   },
   {
    "duration": 6,
    "start_time": "2022-04-17T18:24:32.764Z"
   },
   {
    "duration": 7,
    "start_time": "2022-04-17T18:24:32.771Z"
   },
   {
    "duration": 6,
    "start_time": "2022-04-17T18:24:32.779Z"
   },
   {
    "duration": 7,
    "start_time": "2022-04-17T18:24:32.786Z"
   },
   {
    "duration": 31,
    "start_time": "2022-04-17T18:24:32.795Z"
   },
   {
    "duration": 209,
    "start_time": "2022-04-17T18:24:32.828Z"
   },
   {
    "duration": 158,
    "start_time": "2022-04-17T18:24:33.038Z"
   },
   {
    "duration": 197,
    "start_time": "2022-04-17T18:24:33.198Z"
   },
   {
    "duration": 38,
    "start_time": "2022-04-17T18:24:33.396Z"
   },
   {
    "duration": 6,
    "start_time": "2022-04-17T18:24:33.436Z"
   },
   {
    "duration": 11,
    "start_time": "2022-04-17T18:24:33.444Z"
   },
   {
    "duration": 14,
    "start_time": "2022-04-17T18:24:33.457Z"
   },
   {
    "duration": 10,
    "start_time": "2022-04-17T18:24:33.472Z"
   },
   {
    "duration": 7,
    "start_time": "2022-04-17T18:24:33.484Z"
   },
   {
    "duration": 255,
    "start_time": "2022-04-17T18:24:33.493Z"
   },
   {
    "duration": 246,
    "start_time": "2022-04-17T18:24:33.750Z"
   },
   {
    "duration": 3,
    "start_time": "2022-04-17T18:24:33.997Z"
   },
   {
    "duration": 5,
    "start_time": "2022-04-17T18:24:34.002Z"
   },
   {
    "duration": 16,
    "start_time": "2022-04-17T18:24:34.009Z"
   },
   {
    "duration": 5,
    "start_time": "2022-04-17T18:24:34.027Z"
   },
   {
    "duration": 24,
    "start_time": "2022-04-17T18:24:34.033Z"
   }
  ],
  "kernelspec": {
   "display_name": "Python 3 (ipykernel)",
   "language": "python",
   "name": "python3"
  },
  "language_info": {
   "codemirror_mode": {
    "name": "ipython",
    "version": 3
   },
   "file_extension": ".py",
   "mimetype": "text/x-python",
   "name": "python",
   "nbconvert_exporter": "python",
   "pygments_lexer": "ipython3",
   "version": "3.8.13"
  },
  "toc": {
   "base_numbering": 1,
   "nav_menu": {},
   "number_sections": false,
   "sideBar": true,
   "skip_h1_title": false,
   "title_cell": "Table of Contents",
   "title_sidebar": "Contents",
   "toc_cell": false,
   "toc_position": {},
   "toc_section_display": true,
   "toc_window_display": true
  }
 },
 "nbformat": 4,
 "nbformat_minor": 2
}
