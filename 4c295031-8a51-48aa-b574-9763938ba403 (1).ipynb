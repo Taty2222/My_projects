{
 "cells": [
  {
   "cell_type": "markdown",
   "metadata": {
    "id": "yi0dJejj9MMb"
   },
   "source": [
    "# Принятие решений в бизнесе "
   ]
  },
  {
   "cell_type": "markdown",
   "metadata": {
    "id": "d68S956g9Xg_"
   },
   "source": [
    "Анализ проводится для интернет-магазинаю Необходимо проверить список гипотез для увеличения выручки. Необходимо приоритизировать гипотезы, запустить A/B-тест и проанализировать результаты."
   ]
  },
  {
   "cell_type": "markdown",
   "metadata": {
    "toc": true
   },
   "source": [
    "<h1>Table of Contents<span class=\"tocSkip\"></span></h1>\n",
    "<div class=\"toc\"><ul class=\"toc-item\"><li><span><a href=\"#Подготовка-данных\" data-toc-modified-id=\"Подготовка-данных-1\"><span class=\"toc-item-num\">1&nbsp;&nbsp;</span>Подготовка данных</a></span></li><li><span><a href=\"#Приоритизация-гипотез.\" data-toc-modified-id=\"Приоритизация-гипотез.-2\"><span class=\"toc-item-num\">2&nbsp;&nbsp;</span>Приоритизация гипотез.</a></span></li><li><span><a href=\"#Анализ-A/B-теста\" data-toc-modified-id=\"Анализ-A/B-теста-3\"><span class=\"toc-item-num\">3&nbsp;&nbsp;</span>Анализ A/B-теста</a></span><ul class=\"toc-item\"><li><span><a href=\"#Расчет-кумулятивных-метрик\" data-toc-modified-id=\"Расчет-кумулятивных-метрик-3.1\"><span class=\"toc-item-num\">3.1&nbsp;&nbsp;</span>Расчет кумулятивных метрик</a></span></li><li><span><a href=\"#Расчет-статистической-значимости-различий\" data-toc-modified-id=\"Расчет-статистической-значимости-различий-3.2\"><span class=\"toc-item-num\">3.2&nbsp;&nbsp;</span>Расчет статистической значимости различий</a></span></li></ul></li><li><span><a href=\"#Вывод\" data-toc-modified-id=\"Вывод-4\"><span class=\"toc-item-num\">4&nbsp;&nbsp;</span>Вывод</a></span></li></ul></div>"
   ]
  },
  {
   "cell_type": "markdown",
   "metadata": {
    "id": "8uEkBp0z-5Qv"
   },
   "source": [
    "## Подготовка данных"
   ]
  },
  {
   "cell_type": "code",
   "execution_count": 105,
   "metadata": {
    "executionInfo": {
     "elapsed": 101,
     "status": "ok",
     "timestamp": 1654629004102,
     "user": {
      "displayName": "Таня Яковлева",
      "userId": "13485763811818083048"
     },
     "user_tz": -180
    },
    "id": "IxtfqeZK9UOd"
   },
   "outputs": [],
   "source": [
    "import pandas as pd\n",
    "import scipy.stats as stats\n",
    "import datetime as dt\n",
    "import numpy as np\n",
    "import matplotlib.pyplot as plt\n"
   ]
  },
  {
   "cell_type": "code",
   "execution_count": 106,
   "metadata": {
    "executionInfo": {
     "elapsed": 101,
     "status": "ok",
     "timestamp": 1654629004109,
     "user": {
      "displayName": "Таня Яковлева",
      "userId": "13485763811818083048"
     },
     "user_tz": -180
    },
    "id": "0MIUTwbg_I2x"
   },
   "outputs": [],
   "source": [
    "try:\n",
    "    hypothesis = pd.read_csv('/datasets/hypothesis.csv')\n",
    "    orders = pd.read_csv('/datasets/orders.csv')\n",
    "    visitors = pd.read_csv('/datasets/visitors.csv')\n",
    "except:\n",
    "    hypothesis = pd.read_csv('/content/drive/MyDrive/Data/hypothesis.csv')\n",
    "    orders = pd.read_csv('/content/drive/MyDrive/Data/orders.csv')\n",
    "    visitors = pd.read_csv('/content/drive/MyDrive/Data/visitors.csv')"
   ]
  },
  {
   "cell_type": "code",
   "execution_count": 107,
   "metadata": {
    "colab": {
     "base_uri": "https://localhost:8080/",
     "height": 584
    },
    "executionInfo": {
     "elapsed": 103,
     "status": "ok",
     "timestamp": 1654629004115,
     "user": {
      "displayName": "Таня Яковлева",
      "userId": "13485763811818083048"
     },
     "user_tz": -180
    },
    "id": "a04eHFzqBcku",
    "outputId": "92244d71-043f-427f-d1b0-d80c153e5b53"
   },
   "outputs": [
    {
     "data": {
      "text/html": [
       "<div>\n",
       "<style scoped>\n",
       "    .dataframe tbody tr th:only-of-type {\n",
       "        vertical-align: middle;\n",
       "    }\n",
       "\n",
       "    .dataframe tbody tr th {\n",
       "        vertical-align: top;\n",
       "    }\n",
       "\n",
       "    .dataframe thead th {\n",
       "        text-align: right;\n",
       "    }\n",
       "</style>\n",
       "<table border=\"1\" class=\"dataframe\">\n",
       "  <thead>\n",
       "    <tr style=\"text-align: right;\">\n",
       "      <th></th>\n",
       "      <th>Hypothesis</th>\n",
       "      <th>Reach</th>\n",
       "      <th>Impact</th>\n",
       "      <th>Confidence</th>\n",
       "      <th>Efforts</th>\n",
       "    </tr>\n",
       "  </thead>\n",
       "  <tbody>\n",
       "    <tr>\n",
       "      <th>0</th>\n",
       "      <td>Добавить два новых канала привлечения трафика,...</td>\n",
       "      <td>3</td>\n",
       "      <td>10</td>\n",
       "      <td>8</td>\n",
       "      <td>6</td>\n",
       "    </tr>\n",
       "    <tr>\n",
       "      <th>1</th>\n",
       "      <td>Запустить собственную службу доставки, что сок...</td>\n",
       "      <td>2</td>\n",
       "      <td>5</td>\n",
       "      <td>4</td>\n",
       "      <td>10</td>\n",
       "    </tr>\n",
       "    <tr>\n",
       "      <th>2</th>\n",
       "      <td>Добавить блоки рекомендаций товаров на сайт ин...</td>\n",
       "      <td>8</td>\n",
       "      <td>3</td>\n",
       "      <td>7</td>\n",
       "      <td>3</td>\n",
       "    </tr>\n",
       "    <tr>\n",
       "      <th>3</th>\n",
       "      <td>Изменить структура категорий, что увеличит кон...</td>\n",
       "      <td>8</td>\n",
       "      <td>3</td>\n",
       "      <td>3</td>\n",
       "      <td>8</td>\n",
       "    </tr>\n",
       "    <tr>\n",
       "      <th>4</th>\n",
       "      <td>Изменить цвет фона главной страницы, чтобы уве...</td>\n",
       "      <td>3</td>\n",
       "      <td>1</td>\n",
       "      <td>1</td>\n",
       "      <td>1</td>\n",
       "    </tr>\n",
       "  </tbody>\n",
       "</table>\n",
       "</div>"
      ],
      "text/plain": [
       "                                          Hypothesis  Reach  Impact  \\\n",
       "0  Добавить два новых канала привлечения трафика,...      3      10   \n",
       "1  Запустить собственную службу доставки, что сок...      2       5   \n",
       "2  Добавить блоки рекомендаций товаров на сайт ин...      8       3   \n",
       "3  Изменить структура категорий, что увеличит кон...      8       3   \n",
       "4  Изменить цвет фона главной страницы, чтобы уве...      3       1   \n",
       "\n",
       "   Confidence  Efforts  \n",
       "0           8        6  \n",
       "1           4       10  \n",
       "2           7        3  \n",
       "3           3        8  \n",
       "4           1        1  "
      ]
     },
     "metadata": {},
     "output_type": "display_data"
    },
    {
     "data": {
      "text/html": [
       "<div>\n",
       "<style scoped>\n",
       "    .dataframe tbody tr th:only-of-type {\n",
       "        vertical-align: middle;\n",
       "    }\n",
       "\n",
       "    .dataframe tbody tr th {\n",
       "        vertical-align: top;\n",
       "    }\n",
       "\n",
       "    .dataframe thead th {\n",
       "        text-align: right;\n",
       "    }\n",
       "</style>\n",
       "<table border=\"1\" class=\"dataframe\">\n",
       "  <thead>\n",
       "    <tr style=\"text-align: right;\">\n",
       "      <th></th>\n",
       "      <th>transactionId</th>\n",
       "      <th>visitorId</th>\n",
       "      <th>date</th>\n",
       "      <th>revenue</th>\n",
       "      <th>group</th>\n",
       "    </tr>\n",
       "  </thead>\n",
       "  <tbody>\n",
       "    <tr>\n",
       "      <th>0</th>\n",
       "      <td>3667963787</td>\n",
       "      <td>3312258926</td>\n",
       "      <td>2019-08-15</td>\n",
       "      <td>1650</td>\n",
       "      <td>B</td>\n",
       "    </tr>\n",
       "    <tr>\n",
       "      <th>1</th>\n",
       "      <td>2804400009</td>\n",
       "      <td>3642806036</td>\n",
       "      <td>2019-08-15</td>\n",
       "      <td>730</td>\n",
       "      <td>B</td>\n",
       "    </tr>\n",
       "    <tr>\n",
       "      <th>2</th>\n",
       "      <td>2961555356</td>\n",
       "      <td>4069496402</td>\n",
       "      <td>2019-08-15</td>\n",
       "      <td>400</td>\n",
       "      <td>A</td>\n",
       "    </tr>\n",
       "    <tr>\n",
       "      <th>3</th>\n",
       "      <td>3797467345</td>\n",
       "      <td>1196621759</td>\n",
       "      <td>2019-08-15</td>\n",
       "      <td>9759</td>\n",
       "      <td>B</td>\n",
       "    </tr>\n",
       "    <tr>\n",
       "      <th>4</th>\n",
       "      <td>2282983706</td>\n",
       "      <td>2322279887</td>\n",
       "      <td>2019-08-15</td>\n",
       "      <td>2308</td>\n",
       "      <td>B</td>\n",
       "    </tr>\n",
       "  </tbody>\n",
       "</table>\n",
       "</div>"
      ],
      "text/plain": [
       "   transactionId   visitorId        date  revenue group\n",
       "0     3667963787  3312258926  2019-08-15     1650     B\n",
       "1     2804400009  3642806036  2019-08-15      730     B\n",
       "2     2961555356  4069496402  2019-08-15      400     A\n",
       "3     3797467345  1196621759  2019-08-15     9759     B\n",
       "4     2282983706  2322279887  2019-08-15     2308     B"
      ]
     },
     "metadata": {},
     "output_type": "display_data"
    },
    {
     "data": {
      "text/html": [
       "<div>\n",
       "<style scoped>\n",
       "    .dataframe tbody tr th:only-of-type {\n",
       "        vertical-align: middle;\n",
       "    }\n",
       "\n",
       "    .dataframe tbody tr th {\n",
       "        vertical-align: top;\n",
       "    }\n",
       "\n",
       "    .dataframe thead th {\n",
       "        text-align: right;\n",
       "    }\n",
       "</style>\n",
       "<table border=\"1\" class=\"dataframe\">\n",
       "  <thead>\n",
       "    <tr style=\"text-align: right;\">\n",
       "      <th></th>\n",
       "      <th>date</th>\n",
       "      <th>group</th>\n",
       "      <th>visitors</th>\n",
       "    </tr>\n",
       "  </thead>\n",
       "  <tbody>\n",
       "    <tr>\n",
       "      <th>0</th>\n",
       "      <td>2019-08-01</td>\n",
       "      <td>A</td>\n",
       "      <td>719</td>\n",
       "    </tr>\n",
       "    <tr>\n",
       "      <th>1</th>\n",
       "      <td>2019-08-02</td>\n",
       "      <td>A</td>\n",
       "      <td>619</td>\n",
       "    </tr>\n",
       "    <tr>\n",
       "      <th>2</th>\n",
       "      <td>2019-08-03</td>\n",
       "      <td>A</td>\n",
       "      <td>507</td>\n",
       "    </tr>\n",
       "    <tr>\n",
       "      <th>3</th>\n",
       "      <td>2019-08-04</td>\n",
       "      <td>A</td>\n",
       "      <td>717</td>\n",
       "    </tr>\n",
       "    <tr>\n",
       "      <th>4</th>\n",
       "      <td>2019-08-05</td>\n",
       "      <td>A</td>\n",
       "      <td>756</td>\n",
       "    </tr>\n",
       "  </tbody>\n",
       "</table>\n",
       "</div>"
      ],
      "text/plain": [
       "         date group  visitors\n",
       "0  2019-08-01     A       719\n",
       "1  2019-08-02     A       619\n",
       "2  2019-08-03     A       507\n",
       "3  2019-08-04     A       717\n",
       "4  2019-08-05     A       756"
      ]
     },
     "metadata": {},
     "output_type": "display_data"
    }
   ],
   "source": [
    "display(hypothesis.head(), \n",
    "        orders.head(), \n",
    "        visitors.head())"
   ]
  },
  {
   "cell_type": "code",
   "execution_count": 108,
   "metadata": {
    "colab": {
     "base_uri": "https://localhost:8080/"
    },
    "executionInfo": {
     "elapsed": 94,
     "status": "ok",
     "timestamp": 1654629004120,
     "user": {
      "displayName": "Таня Яковлева",
      "userId": "13485763811818083048"
     },
     "user_tz": -180
    },
    "id": "mP6XVL96x3nD",
    "outputId": "ab52aa0e-163b-4f5d-9582-b4d16a8b85f4"
   },
   "outputs": [
    {
     "name": "stdout",
     "output_type": "stream",
     "text": [
      "<class 'pandas.core.frame.DataFrame'>\n",
      "RangeIndex: 1197 entries, 0 to 1196\n",
      "Data columns (total 5 columns):\n",
      " #   Column         Non-Null Count  Dtype \n",
      "---  ------         --------------  ----- \n",
      " 0   transactionId  1197 non-null   int64 \n",
      " 1   visitorId      1197 non-null   int64 \n",
      " 2   date           1197 non-null   object\n",
      " 3   revenue        1197 non-null   int64 \n",
      " 4   group          1197 non-null   object\n",
      "dtypes: int64(3), object(2)\n",
      "memory usage: 46.9+ KB\n",
      "<class 'pandas.core.frame.DataFrame'>\n",
      "RangeIndex: 62 entries, 0 to 61\n",
      "Data columns (total 3 columns):\n",
      " #   Column    Non-Null Count  Dtype \n",
      "---  ------    --------------  ----- \n",
      " 0   date      62 non-null     object\n",
      " 1   group     62 non-null     object\n",
      " 2   visitors  62 non-null     int64 \n",
      "dtypes: int64(1), object(2)\n",
      "memory usage: 1.6+ KB\n"
     ]
    }
   ],
   "source": [
    "orders.info()\n",
    "visitors.info()"
   ]
  },
  {
   "cell_type": "markdown",
   "metadata": {
    "id": "gCPLlsiWyMGR"
   },
   "source": [
    "В колонках \"date\" некорректный формат, необходимо скорректировать для дальнейшей работы."
   ]
  },
  {
   "cell_type": "code",
   "execution_count": 109,
   "metadata": {
    "executionInfo": {
     "elapsed": 80,
     "status": "ok",
     "timestamp": 1654629004126,
     "user": {
      "displayName": "Таня Яковлева",
      "userId": "13485763811818083048"
     },
     "user_tz": -180
    },
    "id": "zNjWJqk4ygs-"
   },
   "outputs": [],
   "source": [
    "orders['date'] = orders['date'].map(\n",
    "    lambda x: dt.datetime.strptime(x, '%Y-%m-%d')\n",
    ")\n",
    "\n",
    "visitors['date'] = visitors['date'].map(\n",
    "    lambda x: dt.datetime.strptime(x, '%Y-%m-%d')\n",
    ")"
   ]
  },
  {
   "cell_type": "code",
   "execution_count": 110,
   "metadata": {
    "colab": {
     "base_uri": "https://localhost:8080/"
    },
    "executionInfo": {
     "elapsed": 83,
     "status": "ok",
     "timestamp": 1654629004132,
     "user": {
      "displayName": "Таня Яковлева",
      "userId": "13485763811818083048"
     },
     "user_tz": -180
    },
    "id": "VLZoI59RzQ2u",
    "outputId": "ec1fd949-d9be-4c9b-952d-a2b12cdd66a5"
   },
   "outputs": [
    {
     "name": "stdout",
     "output_type": "stream",
     "text": [
      "<class 'pandas.core.frame.DataFrame'>\n",
      "RangeIndex: 1197 entries, 0 to 1196\n",
      "Data columns (total 5 columns):\n",
      " #   Column         Non-Null Count  Dtype         \n",
      "---  ------         --------------  -----         \n",
      " 0   transactionId  1197 non-null   int64         \n",
      " 1   visitorId      1197 non-null   int64         \n",
      " 2   date           1197 non-null   datetime64[ns]\n",
      " 3   revenue        1197 non-null   int64         \n",
      " 4   group          1197 non-null   object        \n",
      "dtypes: datetime64[ns](1), int64(3), object(1)\n",
      "memory usage: 46.9+ KB\n",
      "<class 'pandas.core.frame.DataFrame'>\n",
      "RangeIndex: 62 entries, 0 to 61\n",
      "Data columns (total 3 columns):\n",
      " #   Column    Non-Null Count  Dtype         \n",
      "---  ------    --------------  -----         \n",
      " 0   date      62 non-null     datetime64[ns]\n",
      " 1   group     62 non-null     object        \n",
      " 2   visitors  62 non-null     int64         \n",
      "dtypes: datetime64[ns](1), int64(1), object(1)\n",
      "memory usage: 1.6+ KB\n"
     ]
    }
   ],
   "source": [
    "orders.info()\n",
    "visitors.info()"
   ]
  },
  {
   "cell_type": "markdown",
   "metadata": {},
   "source": [
    "Проверим данные на дубликаты."
   ]
  },
  {
   "cell_type": "code",
   "execution_count": 111,
   "metadata": {},
   "outputs": [
    {
     "data": {
      "text/plain": [
       "0"
      ]
     },
     "metadata": {},
     "output_type": "display_data"
    },
    {
     "data": {
      "text/plain": [
       "0"
      ]
     },
     "metadata": {},
     "output_type": "display_data"
    }
   ],
   "source": [
    "display(orders.duplicated().sum(), \n",
    "        visitors.duplicated().sum())"
   ]
  },
  {
   "cell_type": "markdown",
   "metadata": {},
   "source": [
    "Дубликаты не обнаружены."
   ]
  },
  {
   "cell_type": "markdown",
   "metadata": {
    "id": "E2Llo9r1C1MY"
   },
   "source": [
    "## Приоритизация гипотез.\n",
    "\n",
    "В файле hypothesis.csv 9 гипотез по увеличению выручки интернет-магазина с указанными параметрами Reach, Impact, Confidence, Effort. Оценим приоретизцию гипотез методами ICE и RICE."
   ]
  },
  {
   "cell_type": "code",
   "execution_count": 112,
   "metadata": {
    "colab": {
     "base_uri": "https://localhost:8080/",
     "height": 332
    },
    "executionInfo": {
     "elapsed": 408,
     "status": "ok",
     "timestamp": 1654629004473,
     "user": {
      "displayName": "Таня Яковлева",
      "userId": "13485763811818083048"
     },
     "user_tz": -180
    },
    "id": "xgY427RzBkpe",
    "outputId": "8ce2a29f-ca3a-4f0f-f0ca-bd27727e6ada"
   },
   "outputs": [
    {
     "data": {
      "text/html": [
       "<div>\n",
       "<style scoped>\n",
       "    .dataframe tbody tr th:only-of-type {\n",
       "        vertical-align: middle;\n",
       "    }\n",
       "\n",
       "    .dataframe tbody tr th {\n",
       "        vertical-align: top;\n",
       "    }\n",
       "\n",
       "    .dataframe thead th {\n",
       "        text-align: right;\n",
       "    }\n",
       "</style>\n",
       "<table border=\"1\" class=\"dataframe\">\n",
       "  <thead>\n",
       "    <tr style=\"text-align: right;\">\n",
       "      <th></th>\n",
       "      <th>Hypothesis</th>\n",
       "      <th>Reach</th>\n",
       "      <th>Impact</th>\n",
       "      <th>Confidence</th>\n",
       "      <th>Efforts</th>\n",
       "      <th>ICE</th>\n",
       "      <th>RICE</th>\n",
       "    </tr>\n",
       "  </thead>\n",
       "  <tbody>\n",
       "    <tr>\n",
       "      <th>0</th>\n",
       "      <td>Добавить два новых канала привлечения трафика,...</td>\n",
       "      <td>3</td>\n",
       "      <td>10</td>\n",
       "      <td>8</td>\n",
       "      <td>6</td>\n",
       "      <td>13.33</td>\n",
       "      <td>40.0</td>\n",
       "    </tr>\n",
       "    <tr>\n",
       "      <th>1</th>\n",
       "      <td>Запустить собственную службу доставки, что сок...</td>\n",
       "      <td>2</td>\n",
       "      <td>5</td>\n",
       "      <td>4</td>\n",
       "      <td>10</td>\n",
       "      <td>2.00</td>\n",
       "      <td>4.0</td>\n",
       "    </tr>\n",
       "    <tr>\n",
       "      <th>2</th>\n",
       "      <td>Добавить блоки рекомендаций товаров на сайт ин...</td>\n",
       "      <td>8</td>\n",
       "      <td>3</td>\n",
       "      <td>7</td>\n",
       "      <td>3</td>\n",
       "      <td>7.00</td>\n",
       "      <td>56.0</td>\n",
       "    </tr>\n",
       "    <tr>\n",
       "      <th>3</th>\n",
       "      <td>Изменить структура категорий, что увеличит кон...</td>\n",
       "      <td>8</td>\n",
       "      <td>3</td>\n",
       "      <td>3</td>\n",
       "      <td>8</td>\n",
       "      <td>1.12</td>\n",
       "      <td>9.0</td>\n",
       "    </tr>\n",
       "    <tr>\n",
       "      <th>4</th>\n",
       "      <td>Изменить цвет фона главной страницы, чтобы уве...</td>\n",
       "      <td>3</td>\n",
       "      <td>1</td>\n",
       "      <td>1</td>\n",
       "      <td>1</td>\n",
       "      <td>1.00</td>\n",
       "      <td>3.0</td>\n",
       "    </tr>\n",
       "    <tr>\n",
       "      <th>5</th>\n",
       "      <td>Добавить страницу отзывов клиентов о магазине,...</td>\n",
       "      <td>3</td>\n",
       "      <td>2</td>\n",
       "      <td>2</td>\n",
       "      <td>3</td>\n",
       "      <td>1.33</td>\n",
       "      <td>4.0</td>\n",
       "    </tr>\n",
       "    <tr>\n",
       "      <th>6</th>\n",
       "      <td>Показать на главной странице баннеры с актуаль...</td>\n",
       "      <td>5</td>\n",
       "      <td>3</td>\n",
       "      <td>8</td>\n",
       "      <td>3</td>\n",
       "      <td>8.00</td>\n",
       "      <td>40.0</td>\n",
       "    </tr>\n",
       "    <tr>\n",
       "      <th>7</th>\n",
       "      <td>Добавить форму подписки на все основные страни...</td>\n",
       "      <td>10</td>\n",
       "      <td>7</td>\n",
       "      <td>8</td>\n",
       "      <td>5</td>\n",
       "      <td>11.20</td>\n",
       "      <td>112.0</td>\n",
       "    </tr>\n",
       "    <tr>\n",
       "      <th>8</th>\n",
       "      <td>Запустить акцию, дающую скидку на товар в день...</td>\n",
       "      <td>1</td>\n",
       "      <td>9</td>\n",
       "      <td>9</td>\n",
       "      <td>5</td>\n",
       "      <td>16.20</td>\n",
       "      <td>16.2</td>\n",
       "    </tr>\n",
       "  </tbody>\n",
       "</table>\n",
       "</div>"
      ],
      "text/plain": [
       "                                          Hypothesis  Reach  Impact  \\\n",
       "0  Добавить два новых канала привлечения трафика,...      3      10   \n",
       "1  Запустить собственную службу доставки, что сок...      2       5   \n",
       "2  Добавить блоки рекомендаций товаров на сайт ин...      8       3   \n",
       "3  Изменить структура категорий, что увеличит кон...      8       3   \n",
       "4  Изменить цвет фона главной страницы, чтобы уве...      3       1   \n",
       "5  Добавить страницу отзывов клиентов о магазине,...      3       2   \n",
       "6  Показать на главной странице баннеры с актуаль...      5       3   \n",
       "7  Добавить форму подписки на все основные страни...     10       7   \n",
       "8  Запустить акцию, дающую скидку на товар в день...      1       9   \n",
       "\n",
       "   Confidence  Efforts    ICE   RICE  \n",
       "0           8        6  13.33   40.0  \n",
       "1           4       10   2.00    4.0  \n",
       "2           7        3   7.00   56.0  \n",
       "3           3        8   1.12    9.0  \n",
       "4           1        1   1.00    3.0  \n",
       "5           2        3   1.33    4.0  \n",
       "6           8        3   8.00   40.0  \n",
       "7           8        5  11.20  112.0  \n",
       "8           9        5  16.20   16.2  "
      ]
     },
     "metadata": {},
     "output_type": "display_data"
    }
   ],
   "source": [
    "hypothesis['ICE'] = round((hypothesis['Impact'] * hypothesis['Confidence']) / hypothesis['Efforts'], 2)\n",
    "hypothesis['RICE'] = round((hypothesis['Reach'] * hypothesis['Impact'] * hypothesis['Confidence']) / hypothesis['Efforts'],2)\n",
    "display(hypothesis)"
   ]
  },
  {
   "cell_type": "markdown",
   "metadata": {
    "id": "dJIULKe2RGcM"
   },
   "source": [
    "Методом ICE рсчитали что в приоритете гипотеза \"Запустить акцию, дающую скидку на товар в день рождения\". Методом RICE - \"Добавить форму подписки на все остальные страницы, чтобы собрать базу клиентов для email-рассылок\". Вторая гипотеза набрала больше баллов за счет показателя Reach."
   ]
  },
  {
   "cell_type": "markdown",
   "metadata": {
    "id": "d-zb-336SSIA"
   },
   "source": [
    "## Анализ A/B-теста\n",
    "\n",
    "Результаты проведенного А/В-теста хранятся в файлах: orders.csv, visitors.csv. создадим аггрегированный по дням датафрейм для последующего анализа. "
   ]
  },
  {
   "cell_type": "code",
   "execution_count": 113,
   "metadata": {
    "executionInfo": {
     "elapsed": 64,
     "status": "ok",
     "timestamp": 1654629004485,
     "user": {
      "displayName": "Таня Яковлева",
      "userId": "13485763811818083048"
     },
     "user_tz": -180
    },
    "id": "rLSDP2E3Osl0"
   },
   "outputs": [],
   "source": [
    "# создаем массив уникальных пар значений дат и групп теста\n",
    "datesGroups = orders[['date','group']].drop_duplicates() "
   ]
  },
  {
   "cell_type": "code",
   "execution_count": 114,
   "metadata": {
    "executionInfo": {
     "elapsed": 439,
     "status": "ok",
     "timestamp": 1654629004868,
     "user": {
      "displayName": "Таня Яковлева",
      "userId": "13485763811818083048"
     },
     "user_tz": -180
    },
    "id": "a6MtriovvpTk"
   },
   "outputs": [],
   "source": [
    "#аггрегируем данные по дням\n",
    "ordersAggregated = datesGroups.apply(\n",
    "    lambda x: orders[np.logical_and(orders['date'] <= x['date'], orders['group'] == x['group'])].agg({'date' : 'max', \n",
    "                                                                                                      'group' : 'max', \n",
    "                                                                                                      'transactionId' : 'nunique', \n",
    "                                                                                                      'visitorId' : 'nunique', \n",
    "                                                                                                      'revenue' : 'sum'}), axis=1).sort_values(by=['date','group']) \n",
    "\n",
    "visitorsAggregated = datesGroups.apply(\n",
    "    lambda x: visitors[np.logical_and(visitors['date'] <= x['date'], visitors['group'] == x['group'])].agg({'date':'max', \n",
    "                                                                                                            'group':'max',\n",
    "                                                                                                            'visitors':'sum'}), axis=1).sort_values(by=['date', 'group'])\n",
    "\n",
    "cumulativeData = ordersAggregated.merge(visitorsAggregated, on=['date', 'group'])\n",
    "cumulativeData.columns = ['date', 'group', 'orders', 'buyers', 'revenue', 'visitors']                                                                                                                                            "
   ]
  },
  {
   "cell_type": "code",
   "execution_count": 115,
   "metadata": {
    "colab": {
     "base_uri": "https://localhost:8080/",
     "height": 206
    },
    "executionInfo": {
     "elapsed": 68,
     "status": "ok",
     "timestamp": 1654629004874,
     "user": {
      "displayName": "Таня Яковлева",
      "userId": "13485763811818083048"
     },
     "user_tz": -180
    },
    "id": "Ry1Ysd_Rq4zj",
    "outputId": "4d9ebaf9-c14b-4ca5-9856-3063fb60c029"
   },
   "outputs": [
    {
     "data": {
      "text/html": [
       "<div>\n",
       "<style scoped>\n",
       "    .dataframe tbody tr th:only-of-type {\n",
       "        vertical-align: middle;\n",
       "    }\n",
       "\n",
       "    .dataframe tbody tr th {\n",
       "        vertical-align: top;\n",
       "    }\n",
       "\n",
       "    .dataframe thead th {\n",
       "        text-align: right;\n",
       "    }\n",
       "</style>\n",
       "<table border=\"1\" class=\"dataframe\">\n",
       "  <thead>\n",
       "    <tr style=\"text-align: right;\">\n",
       "      <th></th>\n",
       "      <th>date</th>\n",
       "      <th>group</th>\n",
       "      <th>orders</th>\n",
       "      <th>buyers</th>\n",
       "      <th>revenue</th>\n",
       "      <th>visitors</th>\n",
       "    </tr>\n",
       "  </thead>\n",
       "  <tbody>\n",
       "    <tr>\n",
       "      <th>0</th>\n",
       "      <td>2019-08-01</td>\n",
       "      <td>A</td>\n",
       "      <td>24</td>\n",
       "      <td>20</td>\n",
       "      <td>148579</td>\n",
       "      <td>719</td>\n",
       "    </tr>\n",
       "    <tr>\n",
       "      <th>1</th>\n",
       "      <td>2019-08-01</td>\n",
       "      <td>B</td>\n",
       "      <td>21</td>\n",
       "      <td>20</td>\n",
       "      <td>101217</td>\n",
       "      <td>713</td>\n",
       "    </tr>\n",
       "    <tr>\n",
       "      <th>2</th>\n",
       "      <td>2019-08-02</td>\n",
       "      <td>A</td>\n",
       "      <td>44</td>\n",
       "      <td>38</td>\n",
       "      <td>242401</td>\n",
       "      <td>1338</td>\n",
       "    </tr>\n",
       "    <tr>\n",
       "      <th>3</th>\n",
       "      <td>2019-08-02</td>\n",
       "      <td>B</td>\n",
       "      <td>45</td>\n",
       "      <td>43</td>\n",
       "      <td>266748</td>\n",
       "      <td>1294</td>\n",
       "    </tr>\n",
       "    <tr>\n",
       "      <th>4</th>\n",
       "      <td>2019-08-03</td>\n",
       "      <td>A</td>\n",
       "      <td>68</td>\n",
       "      <td>62</td>\n",
       "      <td>354874</td>\n",
       "      <td>1845</td>\n",
       "    </tr>\n",
       "  </tbody>\n",
       "</table>\n",
       "</div>"
      ],
      "text/plain": [
       "        date group  orders  buyers  revenue  visitors\n",
       "0 2019-08-01     A      24      20   148579       719\n",
       "1 2019-08-01     B      21      20   101217       713\n",
       "2 2019-08-02     A      44      38   242401      1338\n",
       "3 2019-08-02     B      45      43   266748      1294\n",
       "4 2019-08-03     A      68      62   354874      1845"
      ]
     },
     "execution_count": 115,
     "metadata": {},
     "output_type": "execute_result"
    }
   ],
   "source": [
    "cumulativeData.head()"
   ]
  },
  {
   "cell_type": "markdown",
   "metadata": {
    "id": "wVSC38zy6JyT"
   },
   "source": [
    "### Расчет кумулятивных метрик\n",
    "\n",
    "Построим график кумулятивной выручки по группам."
   ]
  },
  {
   "cell_type": "code",
   "execution_count": 116,
   "metadata": {
    "colab": {
     "base_uri": "https://localhost:8080/",
     "height": 319
    },
    "executionInfo": {
     "elapsed": 59,
     "status": "ok",
     "timestamp": 1654629004879,
     "user": {
      "displayName": "Таня Яковлева",
      "userId": "13485763811818083048"
     },
     "user_tz": -180
    },
    "id": "ap5SB5A556aW",
    "outputId": "502d1d95-111b-48ff-bab3-bb5dcf07b2be"
   },
   "outputs": [
    {
     "data": {
      "image/png": "[encoded data removed]",
      "text/plain": [
       "<Figure size 432x288 with 1 Axes>"
      ]
     },
     "metadata": {
      "needs_background": "light"
     },
     "output_type": "display_data"
    }
   ],
   "source": [
    "cumulativeRevenueA = cumulativeData[cumulativeData['group'] == 'A'][['date', 'revenue', 'orders']]\n",
    "cumulativeRevenueB = cumulativeData[cumulativeData['group'] == 'B'][['date', 'revenue', 'orders']]\n",
    "\n",
    "plt.plot(cumulativeRevenueA['date'], cumulativeRevenueA['revenue']/1000, label='A')\n",
    "plt.plot(cumulativeRevenueB['date'], cumulativeRevenueB['revenue']/1000, label='B')\n",
    "plt.xticks(rotation=45)\n",
    "plt.xlabel('Дата')\n",
    "plt.ylabel('Выручка, тыс.руб')\n",
    "plt.title('Кумулятивная выручка')\n",
    "plt.legend(title='Группа')\n",
    "plt.show()"
   ]
  },
  {
   "cell_type": "markdown",
   "metadata": {
    "id": "-62s4QS184Qj"
   },
   "source": [
    "Выручка обеих групп растет. Но в группе А - рост равномерный на протяжении всего теста, в группе В наблюдается резкое увеличение выручки 17.08.2019. В эту дату могло быт сильное увеличение заказов, либо в данных содержатся аномалии.\n",
    "\n",
    "\n",
    "Теперь построим график кумулятивного среднего чека по группам"
   ]
  },
  {
   "cell_type": "code",
   "execution_count": 117,
   "metadata": {
    "colab": {
     "base_uri": "https://localhost:8080/",
     "height": 319
    },
    "executionInfo": {
     "elapsed": 641,
     "status": "ok",
     "timestamp": 1654629005471,
     "user": {
      "displayName": "Таня Яковлева",
      "userId": "13485763811818083048"
     },
     "user_tz": -180
    },
    "id": "Jm_tOBSW83wZ",
    "outputId": "39500314-abf1-491e-b316-20db7a58587e"
   },
   "outputs": [
    {
     "data": {
      "image/png": "[encoded data removed]",
      "text/plain": [
       "<Figure size 432x288 with 1 Axes>"
      ]
     },
     "metadata": {
      "needs_background": "light"
     },
     "output_type": "display_data"
    }
   ],
   "source": [
    "plt.plot(cumulativeRevenueA['date'], cumulativeRevenueA['revenue']/cumulativeRevenueA['orders'], label='A')\n",
    "plt.plot(cumulativeRevenueB['date'], cumulativeRevenueB['revenue']/cumulativeRevenueB['orders'], label='B')\n",
    "plt.xticks(rotation=45)\n",
    "plt.xlabel('Дата')\n",
    "plt.ylabel('Сумма среднего чека, руб')\n",
    "plt.title('Кумулятивный средний чек')\n",
    "plt.legend(title='Группа')\n",
    "plt.show()"
   ]
  },
  {
   "cell_type": "markdown",
   "metadata": {
    "id": "k-zmUIF5_8Pb"
   },
   "source": [
    "График кумулятивного среднего чека в обеи группах был нестабилен до 17.08, затем в группе А средний чек зафиксировался в районе 7000, в группе В наблюдается всплеск 17.08 с 7 до 10 тыс и затем плавное снижение к 9000. Либо 17.08 проиошло событие подтолкнувшее покупателей группы А делать более дорогие заказы. либо в отчете есть аномально высокие значения.\n",
    "\n",
    "Посчитаем относительное различие среднего чека группы А и группы В"
   ]
  },
  {
   "cell_type": "code",
   "execution_count": 118,
   "metadata": {
    "colab": {
     "base_uri": "https://localhost:8080/",
     "height": 319
    },
    "executionInfo": {
     "elapsed": 61,
     "status": "ok",
     "timestamp": 1654629005479,
     "user": {
      "displayName": "Таня Яковлева",
      "userId": "13485763811818083048"
     },
     "user_tz": -180
    },
    "id": "t86Afg4e19MY",
    "outputId": "bc27cd10-484d-4aaf-dc7a-a2c7d3aa7b29"
   },
   "outputs": [
    {
     "data": {
      "image/png": "[encoded data removed]",
      "text/plain": [
       "<Figure size 432x288 with 1 Axes>"
      ]
     },
     "metadata": {
      "needs_background": "light"
     },
     "output_type": "display_data"
    }
   ],
   "source": [
    "cumulativeRevenue = cumulativeRevenueA.merge(cumulativeRevenueB, on='date', how='left', suffixes=['A', 'B'])\n",
    "\n",
    "plt.plot(cumulativeRevenue['date'], \n",
    "         (cumulativeRevenue['revenueB']/cumulativeRevenue['ordersB'])/(cumulativeRevenue['revenueA']/cumulativeRevenue['ordersA'])-1)\n",
    "\n",
    "plt.axhline(y=0, color='black', linestyle='--')\n",
    "plt.xticks(rotation=45)\n",
    "plt.xlabel('Дата')\n",
    "plt.ylabel('Коэффициент различия')\n",
    "plt.title('Отношение среднего чека группы В к группе А')\n",
    "plt.show()\n",
    "                                             "
   ]
  },
  {
   "cell_type": "markdown",
   "metadata": {
    "id": "9ZnxU5pJJGg-"
   },
   "source": [
    "График показывает что отношение величины среднего чека пользователей групы В к пользователям группы А неустойчиво. 17.08 показатель резко возрастает и далее плавно снижается.\n",
    "\n",
    "Построим график кумулятивной конверсии по группам."
   ]
  },
  {
   "cell_type": "code",
   "execution_count": 119,
   "metadata": {
    "colab": {
     "base_uri": "https://localhost:8080/",
     "height": 319
    },
    "executionInfo": {
     "elapsed": 1555,
     "status": "ok",
     "timestamp": 1654629006987,
     "user": {
      "displayName": "Таня Яковлева",
      "userId": "13485763811818083048"
     },
     "user_tz": -180
    },
    "id": "LB0NrNTVIDe7",
    "outputId": "86f8ec85-b506-48be-aa79-510eb80c2031"
   },
   "outputs": [
    {
     "data": {
      "image/png": "[encoded data removed]",
      "text/plain": [
       "<Figure size 432x288 with 1 Axes>"
      ]
     },
     "metadata": {
      "needs_background": "light"
     },
     "output_type": "display_data"
    }
   ],
   "source": [
    "cumulativeData['conversion'] = cumulativeData['orders']/cumulativeData['visitors']\n",
    "\n",
    "cumulativeDataA = cumulativeData[cumulativeData['group'] == 'A']\n",
    "cumulativeDataB = cumulativeData[cumulativeData['group'] == 'B']\n",
    "\n",
    "plt.plot(cumulativeDataA['date'], cumulativeDataA['conversion'], label='A')\n",
    "plt.plot(cumulativeDataB['date'], cumulativeDataB['conversion'], label='B')\n",
    "\n",
    "plt.xticks(rotation=45)\n",
    "plt.xlabel('Дата')\n",
    "plt.ylabel('Конверсия')\n",
    "plt.title('Кумулятивная конверсия')\n",
    "plt.legend(title='Группа')\n",
    "plt.show()"
   ]
  },
  {
   "cell_type": "markdown",
   "metadata": {
    "id": "Sv7ktQDnL3nt"
   },
   "source": [
    "В начале проведени теста конверсия обеих групп сильно колебалась, затем зафиксировалась в одном диапазоне. При этом видно что конверсия группы В выросла, а конверсия группы А наоборот опустилась ниже первоначальных значений.\n",
    "\n",
    "Построим график относителього различия комулятивной конверсии."
   ]
  },
  {
   "cell_type": "code",
   "execution_count": 120,
   "metadata": {
    "colab": {
     "base_uri": "https://localhost:8080/",
     "height": 336
    },
    "executionInfo": {
     "elapsed": 102,
     "status": "ok",
     "timestamp": 1654629006992,
     "user": {
      "displayName": "Таня Яковлева",
      "userId": "13485763811818083048"
     },
     "user_tz": -180
    },
    "id": "5WfQAR-FLc7S",
    "outputId": "d139cc7e-2d3e-4d85-c38b-b404c03cd421"
   },
   "outputs": [
    {
     "data": {
      "image/png": "[encoded data removed]",
      "text/plain": [
       "<Figure size 432x288 with 1 Axes>"
      ]
     },
     "metadata": {
      "needs_background": "light"
     },
     "output_type": "display_data"
    }
   ],
   "source": [
    "mergedCumulativeConversions = cumulativeDataA[['date', 'conversion']].merge(cumulativeDataB[['date', 'conversion']],\n",
    "                                                                            on='date',\n",
    "                                                                            how='left', \n",
    "                                                                            suffixes=['A', 'B'])\n",
    "\n",
    "plt.plot(mergedCumulativeConversions['date'], mergedCumulativeConversions['conversionB']/mergedCumulativeConversions['conversionA']-1)\n",
    "\n",
    "plt.axhline(y=0, color='black', linestyle='--')\n",
    "plt.xticks(rotation=45)\n",
    "plt.xlabel('Дата')\n",
    "plt.ylabel('Показатель отношения')\n",
    "plt.title('Относительный прирост конверсии группы В относительно группе А')\n",
    "plt.show()"
   ]
  },
  {
   "cell_type": "markdown",
   "metadata": {
    "id": "-Rs6q4y7PEQ3"
   },
   "source": [
    "Отношение конверсий обеих групп резко повысилось в начале теста, а затем плавно начало уменьшаться и в последние недели теста опять начало повышаться.\n",
    "\n",
    "Необходимо проверить данные на аномалиии затем сделать вывод. Посмотрим какое количество заказов совершал каждый пользователь."
   ]
  },
  {
   "cell_type": "code",
   "execution_count": 121,
   "metadata": {
    "colab": {
     "base_uri": "https://localhost:8080/",
     "height": 294
    },
    "executionInfo": {
     "elapsed": 1313,
     "status": "ok",
     "timestamp": 1654629008227,
     "user": {
      "displayName": "Таня Яковлева",
      "userId": "13485763811818083048"
     },
     "user_tz": -180
    },
    "id": "Fg8MUqahN3Ca",
    "outputId": "5d49b95b-a1ad-470b-cbb3-66f95724c3bb"
   },
   "outputs": [
    {
     "data": {
      "image/png": "[encoded data removed]",
      "text/plain": [
       "<Figure size 432x288 with 1 Axes>"
      ]
     },
     "metadata": {
      "needs_background": "light"
     },
     "output_type": "display_data"
    }
   ],
   "source": [
    "df = orders.groupby('visitorId').agg({'transactionId':'count'}).reset_index()\n",
    "plt.scatter(df['visitorId'], df['transactionId'])\n",
    "\n",
    "plt.title('Количество заказов пользователей')\n",
    "plt.xlabel('Пользователь')\n",
    "plt.ylabel('Количество заказов')\n",
    "plt.show()"
   ]
  },
  {
   "cell_type": "markdown",
   "metadata": {
    "id": "6lFj255XSaiH"
   },
   "source": [
    "В основном один пользователь совершал 1-2 заказа. Но есть пользователи, совершившие больше 10 заказов, их очень мало, но они искажают результаты теста.\n",
    "\n",
    "Посчитаем 95-й и 99-й перцентили количества заказов на пользователя и выберем границы аномальных значений."
   ]
  },
  {
   "cell_type": "code",
   "execution_count": 122,
   "metadata": {
    "colab": {
     "base_uri": "https://localhost:8080/"
    },
    "executionInfo": {
     "elapsed": 221,
     "status": "ok",
     "timestamp": 1654629008231,
     "user": {
      "displayName": "Таня Яковлева",
      "userId": "13485763811818083048"
     },
     "user_tz": -180
    },
    "id": "LQthMuWdRBdW",
    "outputId": "e10bd258-93f9-485b-ed6b-11d1374506bf"
   },
   "outputs": [
    {
     "data": {
      "text/plain": [
       "array([2., 4.])"
      ]
     },
     "execution_count": 122,
     "metadata": {},
     "output_type": "execute_result"
    }
   ],
   "source": [
    "np.percentile(df['transactionId'], [95, 99])"
   ]
  },
  {
   "cell_type": "markdown",
   "metadata": {
    "id": "aiHw83wUV92T"
   },
   "source": [
    "5% пользователей сделали 2 заказа, 1% пользователей сделал 4 заказа. Можно сделать вывод что значения 3 заказа и выше можно считать аномалиями и их нужно исключить из анализа"
   ]
  },
  {
   "cell_type": "code",
   "execution_count": 123,
   "metadata": {
    "colab": {
     "base_uri": "https://localhost:8080/",
     "height": 294
    },
    "executionInfo": {
     "elapsed": 204,
     "status": "ok",
     "timestamp": 1654629008236,
     "user": {
      "displayName": "Таня Яковлева",
      "userId": "13485763811818083048"
     },
     "user_tz": -180
    },
    "id": "jYuVSL1CW5C9",
    "outputId": "4c335f32-9a59-4fab-b4d5-3bf851486b67"
   },
   "outputs": [
    {
     "data": {
      "image/png": "[encoded data removed]",
      "text/plain": [
       "<Figure size 432x288 with 1 Axes>"
      ]
     },
     "metadata": {
      "needs_background": "light"
     },
     "output_type": "display_data"
    }
   ],
   "source": [
    "plt.scatter(orders['transactionId'], orders['revenue']/1000)\n",
    "plt.xlabel('Заказ')\n",
    "plt.ylabel('Выручка, тыс. руб')\n",
    "plt.title('Сумма заказов пользователей')\n",
    "plt.show()"
   ]
  },
  {
   "cell_type": "markdown",
   "metadata": {
    "id": "UtiG7g9Pfn8a"
   },
   "source": [
    "Большинство заказов пользователей расположены в районе 0-100 тыс. Но есть несколько выбивающихся значений. \n",
    "\n",
    "Проверим на аномалии, также посчитем 95-й и 99-й перцентиль стоимости заказов и определим границы аномалий."
   ]
  },
  {
   "cell_type": "code",
   "execution_count": 124,
   "metadata": {
    "colab": {
     "base_uri": "https://localhost:8080/"
    },
    "executionInfo": {
     "elapsed": 201,
     "status": "ok",
     "timestamp": 1654629008242,
     "user": {
      "displayName": "Таня Яковлева",
      "userId": "13485763811818083048"
     },
     "user_tz": -180
    },
    "id": "f6maYi_ufZjQ",
    "outputId": "cf5000f7-d633-4744-e633-b8819fa8f5fc"
   },
   "outputs": [
    {
     "data": {
      "text/plain": [
       "array([28000. , 58233.2])"
      ]
     },
     "execution_count": 124,
     "metadata": {},
     "output_type": "execute_result"
    }
   ],
   "source": [
    "np.percentile(orders['revenue'], [95, 99])"
   ]
  },
  {
   "cell_type": "markdown",
   "metadata": {},
   "source": [
    "5% пользователей сделали заказ на сумму 28 тыс. Аномально высокими значениями можно считать сумму выручки более 28 тыс."
   ]
  },
  {
   "cell_type": "markdown",
   "metadata": {
    "id": "BndihqdTggEe"
   },
   "source": [
    "### Расчет статистической значимости различий\n",
    "\n",
    "\n",
    "Посчитаем статистическую значимость различий в конверсии между группами по «сырым» данным.\n",
    "Сформулируем гипотезы. Нулевая: различий в конверсии между группами нет. Альтернативная: различия в конверсии между группами есть.\n",
    "\n",
    "Сначала проверим что в тесте не было пользователей, участвовавших в обеих группах исследования."
   ]
  },
  {
   "cell_type": "code",
   "execution_count": 125,
   "metadata": {},
   "outputs": [
    {
     "data": {
      "text/plain": [
       "89"
      ]
     },
     "execution_count": 125,
     "metadata": {},
     "output_type": "execute_result"
    }
   ],
   "source": [
    "orders.query('group == \"A\"')['visitorId'].isin(orders.query('group == \"B\"')['visitorId']).sum()"
   ]
  },
  {
   "cell_type": "code",
   "execution_count": 126,
   "metadata": {},
   "outputs": [
    {
     "data": {
      "text/plain": [
       "1031"
      ]
     },
     "execution_count": 126,
     "metadata": {},
     "output_type": "execute_result"
    }
   ],
   "source": [
    "len(orders['visitorId'].unique())"
   ]
  },
  {
   "cell_type": "markdown",
   "metadata": {},
   "source": [
    "89 пользователей попали в обе группы исследования. Это примерно 8% от общего количества пользоателей. Поскольку данные собраны в одну таблицу. выбрать строи для удаления сложно, поэтому оставим без изменений."
   ]
  },
  {
   "cell_type": "markdown",
   "metadata": {},
   "source": [
    "Для анализа А/В теста соберем данные в единую таблицу, где:\n",
    "- date — дата;\n",
    "- ordersPerDateA — количество заказов в выбранную дату в группе A;\n",
    "- revenuePerDateA — суммарная выручка в выбранную дату в группе A;\n",
    "- ordersPerDateB — количество заказов в выбранную дату в группе B;\n",
    "- revenuePerDateB — суммарная выручка в выбранную дату в группе B;\n",
    "- ordersCummulativeA — суммарное число заказов до выбранной даты включительно в группе A;\n",
    "- revenueCummulativeA — суммарная выручка до выбранной даты включительно в группе A;\n",
    "- ordersCummulativeB — суммарное количество заказов до выбранной даты включительно в группе B;\n",
    "- revenueCummulativeB — суммарная выручка до выбранной даты включительно в группе B;\n",
    "- visitorsPerDateA — количество пользователей в выбранную дату в группе A;\n",
    "- visitorsPerDateB — количество пользователей в выбранную дату в группе B;\n",
    "- visitorsCummulativeA — количество пользователей до выбранной даты включительно в группе A;\n",
    "- visitorsCummulativeB — количество пользователей до выбранной даты включительно в группе B."
   ]
  },
  {
   "cell_type": "code",
   "execution_count": 127,
   "metadata": {
    "colab": {
     "base_uri": "https://localhost:8080/",
     "height": 357
    },
    "executionInfo": {
     "elapsed": 193,
     "status": "ok",
     "timestamp": 1654629008248,
     "user": {
      "displayName": "Таня Яковлева",
      "userId": "13485763811818083048"
     },
     "user_tz": -180
    },
    "id": "dh4HoNUegYlK",
    "outputId": "cb56d456-51c1-44b5-902c-366e7aab2558"
   },
   "outputs": [
    {
     "data": {
      "text/html": [
       "<div>\n",
       "<style scoped>\n",
       "    .dataframe tbody tr th:only-of-type {\n",
       "        vertical-align: middle;\n",
       "    }\n",
       "\n",
       "    .dataframe tbody tr th {\n",
       "        vertical-align: top;\n",
       "    }\n",
       "\n",
       "    .dataframe thead th {\n",
       "        text-align: right;\n",
       "    }\n",
       "</style>\n",
       "<table border=\"1\" class=\"dataframe\">\n",
       "  <thead>\n",
       "    <tr style=\"text-align: right;\">\n",
       "      <th></th>\n",
       "      <th>date</th>\n",
       "      <th>ordersPerDateA</th>\n",
       "      <th>revenuePerDateA</th>\n",
       "      <th>ordersPerDateB</th>\n",
       "      <th>revenuePerDateB</th>\n",
       "      <th>ordersCummulativeA</th>\n",
       "      <th>revenueCummulativeA</th>\n",
       "      <th>ordersCummulativeB</th>\n",
       "      <th>revenueCummulativeB</th>\n",
       "      <th>visitorsPerDateA</th>\n",
       "      <th>visitorsPerDateB</th>\n",
       "      <th>visitorsCummulativeA</th>\n",
       "      <th>visitorsCummulativeB</th>\n",
       "    </tr>\n",
       "  </thead>\n",
       "  <tbody>\n",
       "    <tr>\n",
       "      <th>0</th>\n",
       "      <td>2019-08-01</td>\n",
       "      <td>24</td>\n",
       "      <td>148579</td>\n",
       "      <td>21</td>\n",
       "      <td>101217</td>\n",
       "      <td>24</td>\n",
       "      <td>148579</td>\n",
       "      <td>21</td>\n",
       "      <td>101217</td>\n",
       "      <td>719</td>\n",
       "      <td>713</td>\n",
       "      <td>719</td>\n",
       "      <td>713</td>\n",
       "    </tr>\n",
       "    <tr>\n",
       "      <th>1</th>\n",
       "      <td>2019-08-02</td>\n",
       "      <td>20</td>\n",
       "      <td>93822</td>\n",
       "      <td>24</td>\n",
       "      <td>165531</td>\n",
       "      <td>44</td>\n",
       "      <td>242401</td>\n",
       "      <td>45</td>\n",
       "      <td>266748</td>\n",
       "      <td>619</td>\n",
       "      <td>581</td>\n",
       "      <td>1338</td>\n",
       "      <td>1294</td>\n",
       "    </tr>\n",
       "    <tr>\n",
       "      <th>2</th>\n",
       "      <td>2019-08-03</td>\n",
       "      <td>24</td>\n",
       "      <td>112473</td>\n",
       "      <td>16</td>\n",
       "      <td>114248</td>\n",
       "      <td>68</td>\n",
       "      <td>354874</td>\n",
       "      <td>61</td>\n",
       "      <td>380996</td>\n",
       "      <td>507</td>\n",
       "      <td>509</td>\n",
       "      <td>1845</td>\n",
       "      <td>1803</td>\n",
       "    </tr>\n",
       "    <tr>\n",
       "      <th>3</th>\n",
       "      <td>2019-08-04</td>\n",
       "      <td>16</td>\n",
       "      <td>70825</td>\n",
       "      <td>17</td>\n",
       "      <td>108571</td>\n",
       "      <td>84</td>\n",
       "      <td>425699</td>\n",
       "      <td>78</td>\n",
       "      <td>489567</td>\n",
       "      <td>717</td>\n",
       "      <td>770</td>\n",
       "      <td>2562</td>\n",
       "      <td>2573</td>\n",
       "    </tr>\n",
       "    <tr>\n",
       "      <th>4</th>\n",
       "      <td>2019-08-05</td>\n",
       "      <td>25</td>\n",
       "      <td>124218</td>\n",
       "      <td>23</td>\n",
       "      <td>92428</td>\n",
       "      <td>109</td>\n",
       "      <td>549917</td>\n",
       "      <td>101</td>\n",
       "      <td>581995</td>\n",
       "      <td>756</td>\n",
       "      <td>707</td>\n",
       "      <td>3318</td>\n",
       "      <td>3280</td>\n",
       "    </tr>\n",
       "  </tbody>\n",
       "</table>\n",
       "</div>"
      ],
      "text/plain": [
       "        date  ordersPerDateA  revenuePerDateA  ordersPerDateB  \\\n",
       "0 2019-08-01              24           148579              21   \n",
       "1 2019-08-02              20            93822              24   \n",
       "2 2019-08-03              24           112473              16   \n",
       "3 2019-08-04              16            70825              17   \n",
       "4 2019-08-05              25           124218              23   \n",
       "\n",
       "   revenuePerDateB  ordersCummulativeA  revenueCummulativeA  \\\n",
       "0           101217                  24               148579   \n",
       "1           165531                  44               242401   \n",
       "2           114248                  68               354874   \n",
       "3           108571                  84               425699   \n",
       "4            92428                 109               549917   \n",
       "\n",
       "   ordersCummulativeB  revenueCummulativeB  visitorsPerDateA  \\\n",
       "0                  21               101217               719   \n",
       "1                  45               266748               619   \n",
       "2                  61               380996               507   \n",
       "3                  78               489567               717   \n",
       "4                 101               581995               756   \n",
       "\n",
       "   visitorsPerDateB  visitorsCummulativeA  visitorsCummulativeB  \n",
       "0               713                   719                   713  \n",
       "1               581                  1338                  1294  \n",
       "2               509                  1845                  1803  \n",
       "3               770                  2562                  2573  \n",
       "4               707                  3318                  3280  "
      ]
     },
     "execution_count": 127,
     "metadata": {},
     "output_type": "execute_result"
    }
   ],
   "source": [
    "visitorsADaily = visitors[visitors['group'] == 'A'][['date', 'visitors']]\n",
    "visitorsADaily.columns = ['date', 'visitorsPerDateA']\n",
    "\n",
    "visitorsACummulative = visitorsADaily.apply(\n",
    "    lambda x: visitorsADaily[visitorsADaily['date'] <= x['date']].agg(\n",
    "        {'date': 'max', 'visitorsPerDateA': 'sum'}\n",
    "    ),\n",
    "    axis=1,\n",
    ")\n",
    "visitorsACummulative.columns = ['date', 'visitorsCummulativeA']\n",
    "\n",
    "visitorsBDaily = visitors[visitors['group'] == 'B'][['date', 'visitors']]\n",
    "visitorsBDaily.columns = ['date', 'visitorsPerDateB']\n",
    "\n",
    "visitorsBCummulative = visitorsBDaily.apply(\n",
    "    lambda x: visitorsBDaily[visitorsBDaily['date'] <= x['date']].agg(\n",
    "        {'date': 'max', 'visitorsPerDateB': 'sum'}\n",
    "    ),\n",
    "    axis=1,\n",
    ")\n",
    "visitorsBCummulative.columns = ['date', 'visitorsCummulativeB']\n",
    "\n",
    "ordersADaily = (\n",
    "    orders[orders['group'] == 'A'][['date', 'transactionId', 'visitorId', 'revenue']]\n",
    "    .groupby('date', as_index=False)\n",
    "    .agg({'transactionId': pd.Series.nunique, 'revenue': 'sum'})\n",
    ")\n",
    "ordersADaily.columns = ['date', 'ordersPerDateA', 'revenuePerDateA']\n",
    "\n",
    "ordersACummulative = ordersADaily.apply(\n",
    "    lambda x: ordersADaily[ordersADaily['date'] <= x['date']].agg(\n",
    "        {'date': 'max', 'ordersPerDateA': 'sum', 'revenuePerDateA': 'sum'}\n",
    "    ),\n",
    "    axis=1,\n",
    ").sort_values(by=['date'])\n",
    "ordersACummulative.columns = [\n",
    "    'date',\n",
    "    'ordersCummulativeA',\n",
    "    'revenueCummulativeA',\n",
    "]\n",
    "\n",
    "ordersBDaily = (\n",
    "    orders[orders['group'] == 'B'][['date', 'transactionId', 'visitorId', 'revenue']]\n",
    "    .groupby('date', as_index=False)\n",
    "    .agg({'transactionId': pd.Series.nunique, 'revenue': 'sum'})\n",
    ")\n",
    "ordersBDaily.columns = ['date', 'ordersPerDateB', 'revenuePerDateB']\n",
    "\n",
    "ordersBCummulative = ordersBDaily.apply(\n",
    "    lambda x: ordersBDaily[ordersBDaily['date'] <= x['date']].agg(\n",
    "        {'date': 'max', 'ordersPerDateB': 'sum', 'revenuePerDateB': 'sum'}\n",
    "    ),\n",
    "    axis=1,\n",
    ").sort_values(by=['date'])\n",
    "ordersBCummulative.columns = [\n",
    "    'date',\n",
    "    'ordersCummulativeB',\n",
    "    'revenueCummulativeB',\n",
    "]\n",
    "\n",
    "data = (\n",
    "    ordersADaily.merge(\n",
    "        ordersBDaily, left_on='date', right_on='date', how='left'\n",
    "    )\n",
    "    .merge(ordersACummulative, left_on='date', right_on='date', how='left')\n",
    "    .merge(ordersBCummulative, left_on='date', right_on='date', how='left')\n",
    "    .merge(visitorsADaily, left_on='date', right_on='date', how='left')\n",
    "    .merge(visitorsBDaily, left_on='date', right_on='date', how='left')\n",
    "    .merge(visitorsACummulative, left_on='date', right_on='date', how='left')\n",
    "    .merge(visitorsBCummulative, left_on='date', right_on='date', how='left')\n",
    ")\n",
    "data.head()"
   ]
  },
  {
   "cell_type": "code",
   "execution_count": 128,
   "metadata": {
    "executionInfo": {
     "elapsed": 189,
     "status": "ok",
     "timestamp": 1654629008253,
     "user": {
      "displayName": "Таня Яковлева",
      "userId": "13485763811818083048"
     },
     "user_tz": -180
    },
    "id": "h0VzsXjOqLNR"
   },
   "outputs": [],
   "source": [
    "ordersByUsersA = (\n",
    "    orders[orders['group'] == 'A']\n",
    "    .groupby('visitorId', as_index=False)\n",
    "    .agg({'transactionId': pd.Series.nunique})\n",
    ")\n",
    "ordersByUsersA.columns = ['userId', 'orders']\n",
    "\n",
    "ordersByUsersB = (\n",
    "    orders[orders['group'] == 'B']\n",
    "    .groupby('visitorId', as_index=False)\n",
    "    .agg({'transactionId': pd.Series.nunique})\n",
    ")\n",
    "ordersByUsersB.columns = ['userId', 'orders']\n",
    "\n",
    "sampleA = pd.concat(\n",
    "    [\n",
    "        ordersByUsersA['orders'],\n",
    "        pd.Series(\n",
    "            0,\n",
    "            index=np.arange(\n",
    "                data['visitorsPerDateA'].sum() - len(ordersByUsersA['orders'])\n",
    "            ),\n",
    "            name='orders',\n",
    "        ),\n",
    "    ],\n",
    "    axis=0,\n",
    ")\n",
    "\n",
    "sampleB = pd.concat(\n",
    "    [\n",
    "        ordersByUsersB['orders'],\n",
    "        pd.Series(\n",
    "            0,\n",
    "            index=np.arange(\n",
    "                data['visitorsPerDateB'].sum() - len(ordersByUsersB['orders'])\n",
    "            ),\n",
    "            name='orders',\n",
    "        ),\n",
    "    ],\n",
    "    axis=0,\n",
    ")\n"
   ]
  },
  {
   "cell_type": "code",
   "execution_count": 130,
   "metadata": {
    "colab": {
     "base_uri": "https://localhost:8080/"
    },
    "executionInfo": {
     "elapsed": 189,
     "status": "ok",
     "timestamp": 1654629008258,
     "user": {
      "displayName": "Таня Яковлева",
      "userId": "13485763811818083048"
     },
     "user_tz": -180
    },
    "id": "g6UY177ir0CV",
    "outputId": "0a3b54cf-5fba-4a9b-ae26-b2f459a575fe"
   },
   "outputs": [
    {
     "name": "stdout",
     "output_type": "stream",
     "text": [
      "0.017\n",
      "0.138\n"
     ]
    }
   ],
   "source": [
    "print(\"{0:.3f}\".format(stats.mannwhitneyu(sampleA, sampleB)[1]))\n",
    "\n",
    "print(\"{0:.3f}\".format(sampleB.mean() / sampleA.mean() - 1))"
   ]
  },
  {
   "cell_type": "markdown",
   "metadata": {
    "id": "AWVvW_sBbI7R"
   },
   "source": [
    "p-value - 0,02, это меньше статистической значимости 0,05. Мы можем опровергнуть нулевую гипотезу об отсутствии различий между конверсиями обеих групп пользователей. В относительном выражении результаты группы В на 13,8% лучше группы А.\n",
    "\n",
    "Теперь  посчитаем статистическую значимость различий в среднем чеке заказа между группами по «сырым» данным. Нулевая гипотеза: различий в среднем чеке между группами нет. Альтернативная гипотеза: различия в среднем чеке между группами есть."
   ]
  },
  {
   "cell_type": "code",
   "execution_count": 131,
   "metadata": {
    "colab": {
     "base_uri": "https://localhost:8080/"
    },
    "executionInfo": {
     "elapsed": 178,
     "status": "ok",
     "timestamp": 1654629008263,
     "user": {
      "displayName": "Таня Яковлева",
      "userId": "13485763811818083048"
     },
     "user_tz": -180
    },
    "id": "0MYKl5uhrEU2",
    "outputId": "1759d032-3203-44d2-fb0c-cce7cec670b5"
   },
   "outputs": [
    {
     "name": "stdout",
     "output_type": "stream",
     "text": [
      "0.729\n",
      "0.259\n"
     ]
    }
   ],
   "source": [
    "print('{0:.3f}'.format(stats.mannwhitneyu(orders[orders['group']=='A']['revenue'], orders[orders['group']=='B']['revenue'])[1]))\n",
    "print('{0:.3f}'.format(orders[orders['group']=='B']['revenue'].mean()/orders[orders['group']=='A']['revenue'].mean()-1)) \n"
   ]
  },
  {
   "cell_type": "markdown",
   "metadata": {
    "id": "b5CigCzcdJIn"
   },
   "source": [
    "p-value - 0,729 что больше статистической значимости. Вероятность получить одинаковый средний чек равна 73%. Это достаточно большой процент, что говорит о том что нулевая гипотеза не может быть опровергнута. При этом в относительном выржении средний чек в группе В больше среднего чека группы А на 26%.\n",
    "\n",
    "\n",
    "Теперь очистим данные от аномальных значений и посчитаем статистическую значимость различий в конверсии между группами."
   ]
  },
  {
   "cell_type": "code",
   "execution_count": 132,
   "metadata": {
    "colab": {
     "base_uri": "https://localhost:8080/"
    },
    "executionInfo": {
     "elapsed": 170,
     "status": "ok",
     "timestamp": 1654629008268,
     "user": {
      "displayName": "Таня Яковлева",
      "userId": "13485763811818083048"
     },
     "user_tz": -180
    },
    "id": "9apHSkT7rfDv",
    "outputId": "46a48b08-7503-47c2-9981-d025aea8ffac"
   },
   "outputs": [
    {
     "name": "stdout",
     "output_type": "stream",
     "text": [
      "1099    148427295\n",
      "18      199603092\n",
      "928     204675465\n",
      "23      237748145\n",
      "684     358944393\n",
      "dtype: int64\n",
      "63\n"
     ]
    }
   ],
   "source": [
    "usersWithManyOrders = pd.concat(\n",
    "    [\n",
    "        ordersByUsersA[ordersByUsersA['orders'] > 3]['userId'],\n",
    "        ordersByUsersB[ordersByUsersB['orders'] > 3]['userId'],\n",
    "    ],\n",
    "    axis=0,\n",
    ")\n",
    "usersWithExpensiveOrders = orders[orders['revenue'] > 28000]['visitorId']\n",
    "abnormalUsers = (\n",
    "    pd.concat([usersWithManyOrders, usersWithExpensiveOrders], axis=0)\n",
    "    .drop_duplicates()\n",
    "    .sort_values()\n",
    ")\n",
    "print(abnormalUsers.head(5))\n",
    "print(abnormalUsers.shape[0]) "
   ]
  },
  {
   "cell_type": "markdown",
   "metadata": {
    "id": "nsMXec1nhJN3"
   },
   "source": [
    "В аномальные значения попали только 63 пользоватля."
   ]
  },
  {
   "cell_type": "code",
   "execution_count": 133,
   "metadata": {
    "executionInfo": {
     "elapsed": 162,
     "status": "ok",
     "timestamp": 1654629008274,
     "user": {
      "displayName": "Таня Яковлева",
      "userId": "13485763811818083048"
     },
     "user_tz": -180
    },
    "id": "CY_A9pfffyzj"
   },
   "outputs": [],
   "source": [
    "sampleAFiltered = pd.concat(\n",
    "    [\n",
    "        ordersByUsersA[\n",
    "            np.logical_not(ordersByUsersA['userId'].isin(abnormalUsers))\n",
    "        ]['orders'],\n",
    "        pd.Series(\n",
    "            0,\n",
    "            index=np.arange(\n",
    "                data['visitorsPerDateA'].sum() - len(ordersByUsersA['orders'])\n",
    "            ),\n",
    "            name='orders',\n",
    "        ),\n",
    "    ],\n",
    "    axis=0,\n",
    ")\n",
    "\n",
    "sampleBFiltered = pd.concat(\n",
    "    [\n",
    "        ordersByUsersB[\n",
    "            np.logical_not(ordersByUsersB['userId'].isin(abnormalUsers))\n",
    "        ]['orders'],\n",
    "        pd.Series(\n",
    "            0,\n",
    "            index=np.arange(\n",
    "                data['visitorsPerDateB'].sum() - len(ordersByUsersB['orders'])\n",
    "            ),\n",
    "            name='orders',\n",
    "        ),\n",
    "    ],\n",
    "    axis=0,\n",
    ") "
   ]
  },
  {
   "cell_type": "code",
   "execution_count": 134,
   "metadata": {
    "colab": {
     "base_uri": "https://localhost:8080/"
    },
    "executionInfo": {
     "elapsed": 163,
     "status": "ok",
     "timestamp": 1654629008278,
     "user": {
      "displayName": "Таня Яковлева",
      "userId": "13485763811818083048"
     },
     "user_tz": -180
    },
    "id": "ExpyU3feg95Z",
    "outputId": "ce9ca80d-aa6a-4b10-cf9e-e245bb90b45f"
   },
   "outputs": [
    {
     "name": "stdout",
     "output_type": "stream",
     "text": [
      "0.018\n",
      "0.148\n"
     ]
    }
   ],
   "source": [
    "print('{0:.3f}'.format(stats.mannwhitneyu(sampleAFiltered, sampleBFiltered)[1]))\n",
    "print('{0:.3f}'.format(sampleBFiltered.mean()/sampleAFiltered.mean()-1))"
   ]
  },
  {
   "cell_type": "markdown",
   "metadata": {
    "id": "YVD1n1MpiUVO"
   },
   "source": [
    "Результаты сравнения конверсии по очищенным данным практически не отличаются от исходных. p-value - 0,018 ниже статистической значимсти, а значит мы можем опровергнуть нулевую гипотезу.\n",
    "\n",
    "\n",
    "Теперь посмотрим на средний чек в обеих группах."
   ]
  },
  {
   "cell_type": "code",
   "execution_count": 135,
   "metadata": {
    "colab": {
     "base_uri": "https://localhost:8080/"
    },
    "executionInfo": {
     "elapsed": 154,
     "status": "ok",
     "timestamp": 1654629008283,
     "user": {
      "displayName": "Таня Яковлева",
      "userId": "13485763811818083048"
     },
     "user_tz": -180
    },
    "id": "GDmP1pnahowS",
    "outputId": "2c93449b-3b00-4e88-841d-0607c6a1ec01"
   },
   "outputs": [
    {
     "name": "stdout",
     "output_type": "stream",
     "text": [
      "0.977\n",
      "-0.017\n"
     ]
    }
   ],
   "source": [
    "print(\n",
    "    '{0:.3f}'.format(\n",
    "        stats.mannwhitneyu(\n",
    "            orders[\n",
    "                np.logical_and(\n",
    "                    orders['group'] == 'A',\n",
    "                    np.logical_not(orders['visitorId'].isin(abnormalUsers)),\n",
    "                )\n",
    "            ]['revenue'],\n",
    "            orders[\n",
    "                np.logical_and(\n",
    "                    orders['group'] == 'B',\n",
    "                    np.logical_not(orders['visitorId'].isin(abnormalUsers)),\n",
    "                )\n",
    "            ]['revenue'],\n",
    "        )[1]\n",
    "    )\n",
    ")\n",
    "\n",
    "print(\n",
    "    \"{0:.3f}\".format(\n",
    "        orders[\n",
    "            np.logical_and(\n",
    "                orders['group'] == 'B',\n",
    "                np.logical_not(orders['visitorId'].isin(abnormalUsers)),\n",
    "            )\n",
    "        ]['revenue'].mean()\n",
    "        / orders[\n",
    "            np.logical_and(\n",
    "                orders['group'] == 'A',\n",
    "                np.logical_not(orders['visitorId'].isin(abnormalUsers)),\n",
    "            )\n",
    "        ]['revenue'].mean()\n",
    "        - 1\n",
    "    )\n",
    ") "
   ]
  },
  {
   "cell_type": "markdown",
   "metadata": {
    "id": "ucCEy4aVjDEh"
   },
   "source": [
    "Сравнение среднего чека по очищенным данным показало что p-value = 0,977, что также не дает опровергнуть нулевую гипотезу, вероятность выше чем в \"сырых\" данных, но относительное сравнение среднего чека показывает другой результат. По очищенным данным средний чек группы В ниже среднего чека группы А на 2%.\n",
    "\n",
    "\n",
    "## Вывод\n",
    "\n",
    "1. Средний чек в группе В выше чем в группе А, но к концу теста отношение постепенно снижается.\n",
    "2. Конверсия группы В лучше группы А и к концу теста показатель начал расти.\n",
    "3. Статистически значимые различия по конверсии между группами есть. Конверсия группы В лучше группы А на 13% по сырым данным и на 15% по очищенным от аномалий данным.\n",
    "4. Нет статистически значимого различия по среднему чеку между группами.\n",
    "\n",
    "Тест можно остановить, исследование показало, что показатели пользователей группы В лучше группы А."
   ]
  }
 ],
 "metadata": {
  "ExecuteTimeLog": [
   {
    "duration": 44,
    "start_time": "2022-06-10T12:38:12.524Z"
   },
   {
    "duration": 954,
    "start_time": "2022-06-10T12:38:16.827Z"
   },
   {
    "duration": 125,
    "start_time": "2022-06-10T12:38:17.782Z"
   },
   {
    "duration": 18,
    "start_time": "2022-06-10T12:38:17.909Z"
   },
   {
    "duration": 17,
    "start_time": "2022-06-10T12:38:17.930Z"
   },
   {
    "duration": 14,
    "start_time": "2022-06-10T12:38:17.949Z"
   },
   {
    "duration": 19,
    "start_time": "2022-06-10T12:38:17.964Z"
   },
   {
    "duration": 6,
    "start_time": "2022-06-10T12:38:17.984Z"
   },
   {
    "duration": 14,
    "start_time": "2022-06-10T12:38:17.991Z"
   },
   {
    "duration": 12,
    "start_time": "2022-06-10T12:38:18.027Z"
   },
   {
    "duration": 8,
    "start_time": "2022-06-10T12:38:18.041Z"
   },
   {
    "duration": 257,
    "start_time": "2022-06-10T12:38:18.050Z"
   },
   {
    "duration": 8,
    "start_time": "2022-06-10T12:38:18.308Z"
   },
   {
    "duration": 246,
    "start_time": "2022-06-10T12:38:18.317Z"
   },
   {
    "duration": 170,
    "start_time": "2022-06-10T12:38:18.564Z"
   },
   {
    "duration": 265,
    "start_time": "2022-06-10T12:38:18.736Z"
   },
   {
    "duration": 194,
    "start_time": "2022-06-10T12:38:19.003Z"
   },
   {
    "duration": 301,
    "start_time": "2022-06-10T12:38:19.198Z"
   },
   {
    "duration": 106,
    "start_time": "2022-06-10T12:38:19.501Z"
   },
   {
    "duration": 4,
    "start_time": "2022-06-10T12:38:19.609Z"
   },
   {
    "duration": 121,
    "start_time": "2022-06-10T12:38:19.627Z"
   },
   {
    "duration": 5,
    "start_time": "2022-06-10T12:38:19.750Z"
   },
   {
    "duration": 220,
    "start_time": "2022-06-10T12:38:19.756Z"
   },
   {
    "duration": 164,
    "start_time": "2022-06-10T12:38:19.978Z"
   },
   {
    "duration": 22,
    "start_time": "2022-06-10T12:38:20.143Z"
   },
   {
    "duration": 10,
    "start_time": "2022-06-10T12:38:20.167Z"
   },
   {
    "duration": 19,
    "start_time": "2022-06-10T12:38:20.179Z"
   },
   {
    "duration": 28,
    "start_time": "2022-06-10T12:38:20.199Z"
   },
   {
    "duration": 20,
    "start_time": "2022-06-10T12:38:20.230Z"
   },
   {
    "duration": 12,
    "start_time": "2022-06-10T12:38:20.252Z"
   },
   {
    "duration": 6,
    "start_time": "2022-06-10T12:38:38.392Z"
   },
   {
    "duration": 7,
    "start_time": "2022-06-10T12:38:58.733Z"
   },
   {
    "duration": 8,
    "start_time": "2022-06-10T12:39:14.629Z"
   },
   {
    "duration": 12,
    "start_time": "2022-06-10T12:44:27.058Z"
   },
   {
    "duration": 11,
    "start_time": "2022-06-10T12:46:25.204Z"
   },
   {
    "duration": 194,
    "start_time": "2022-06-10T12:51:26.449Z"
   },
   {
    "duration": 226,
    "start_time": "2022-06-10T12:51:44.450Z"
   },
   {
    "duration": 176,
    "start_time": "2022-06-10T12:52:06.988Z"
   },
   {
    "duration": 176,
    "start_time": "2022-06-10T12:52:18.888Z"
   },
   {
    "duration": 177,
    "start_time": "2022-06-10T12:52:32.398Z"
   },
   {
    "duration": 109,
    "start_time": "2022-06-10T12:56:23.081Z"
   },
   {
    "duration": 168,
    "start_time": "2022-06-10T12:57:51.819Z"
   },
   {
    "duration": 306,
    "start_time": "2022-06-10T12:58:44.012Z"
   },
   {
    "duration": 245,
    "start_time": "2022-06-10T12:59:39.657Z"
   },
   {
    "duration": 182,
    "start_time": "2022-06-10T13:00:04.343Z"
   },
   {
    "duration": 295,
    "start_time": "2022-06-10T13:00:50.027Z"
   },
   {
    "duration": 108,
    "start_time": "2022-06-10T13:04:59.031Z"
   },
   {
    "duration": 195,
    "start_time": "2022-06-10T13:06:09.138Z"
   },
   {
    "duration": 109,
    "start_time": "2022-06-10T13:06:18.116Z"
   },
   {
    "duration": 111,
    "start_time": "2022-06-10T13:34:44.002Z"
   },
   {
    "duration": 285,
    "start_time": "2022-06-10T16:10:20.977Z"
   },
   {
    "duration": 7,
    "start_time": "2022-06-10T16:10:33.148Z"
   },
   {
    "duration": 9,
    "start_time": "2022-06-10T16:12:40.817Z"
   },
   {
    "duration": 9,
    "start_time": "2022-06-10T16:13:01.208Z"
   },
   {
    "duration": 10,
    "start_time": "2022-06-10T16:15:04.672Z"
   },
   {
    "duration": 9,
    "start_time": "2022-06-10T16:15:43.411Z"
   },
   {
    "duration": 8,
    "start_time": "2022-06-10T16:15:54.019Z"
   },
   {
    "duration": 12,
    "start_time": "2022-06-10T16:22:21.990Z"
   },
   {
    "duration": 17,
    "start_time": "2022-06-10T16:23:00.878Z"
   },
   {
    "duration": 210,
    "start_time": "2022-06-10T16:24:44.561Z"
   },
   {
    "duration": 73,
    "start_time": "2022-06-10T16:24:52.804Z"
   },
   {
    "duration": 22,
    "start_time": "2022-06-10T16:25:00.780Z"
   },
   {
    "duration": 22,
    "start_time": "2022-06-10T16:25:09.366Z"
   },
   {
    "duration": 9,
    "start_time": "2022-06-10T16:25:27.415Z"
   },
   {
    "duration": 7,
    "start_time": "2022-06-10T16:25:33.342Z"
   },
   {
    "duration": 20,
    "start_time": "2022-06-10T16:25:35.853Z"
   },
   {
    "duration": 15,
    "start_time": "2022-06-10T16:25:40.721Z"
   },
   {
    "duration": 3,
    "start_time": "2022-06-10T16:31:44.723Z"
   },
   {
    "duration": 84,
    "start_time": "2022-06-10T16:31:44.727Z"
   },
   {
    "duration": 16,
    "start_time": "2022-06-10T16:31:44.813Z"
   },
   {
    "duration": 16,
    "start_time": "2022-06-10T16:31:44.830Z"
   },
   {
    "duration": 14,
    "start_time": "2022-06-10T16:31:44.848Z"
   },
   {
    "duration": 19,
    "start_time": "2022-06-10T16:31:44.863Z"
   },
   {
    "duration": 7,
    "start_time": "2022-06-10T16:31:44.883Z"
   },
   {
    "duration": 10,
    "start_time": "2022-06-10T16:31:44.891Z"
   },
   {
    "duration": 30,
    "start_time": "2022-06-10T16:31:44.903Z"
   },
   {
    "duration": 256,
    "start_time": "2022-06-10T16:31:44.934Z"
   },
   {
    "duration": 7,
    "start_time": "2022-06-10T16:31:45.192Z"
   },
   {
    "duration": 191,
    "start_time": "2022-06-10T16:31:45.200Z"
   },
   {
    "duration": 175,
    "start_time": "2022-06-10T16:31:45.393Z"
   },
   {
    "duration": 251,
    "start_time": "2022-06-10T16:31:45.570Z"
   },
   {
    "duration": 179,
    "start_time": "2022-06-10T16:31:45.826Z"
   },
   {
    "duration": 298,
    "start_time": "2022-06-10T16:31:46.006Z"
   },
   {
    "duration": 148,
    "start_time": "2022-06-10T16:31:46.306Z"
   },
   {
    "duration": 6,
    "start_time": "2022-06-10T16:31:46.456Z"
   },
   {
    "duration": 149,
    "start_time": "2022-06-10T16:31:46.464Z"
   },
   {
    "duration": 4,
    "start_time": "2022-06-10T16:31:46.615Z"
   },
   {
    "duration": 8,
    "start_time": "2022-06-10T16:31:46.627Z"
   },
   {
    "duration": 15,
    "start_time": "2022-06-10T16:31:46.636Z"
   },
   {
    "duration": 266,
    "start_time": "2022-06-10T16:31:46.653Z"
   },
   {
    "duration": 148,
    "start_time": "2022-06-10T16:31:46.921Z"
   },
   {
    "duration": 20,
    "start_time": "2022-06-10T16:31:47.070Z"
   },
   {
    "duration": 10,
    "start_time": "2022-06-10T16:31:47.091Z"
   },
   {
    "duration": 30,
    "start_time": "2022-06-10T16:31:47.103Z"
   },
   {
    "duration": 7,
    "start_time": "2022-06-10T16:31:47.135Z"
   },
   {
    "duration": 21,
    "start_time": "2022-06-10T16:31:47.143Z"
   },
   {
    "duration": 12,
    "start_time": "2022-06-10T16:31:47.166Z"
   },
   {
    "duration": 11,
    "start_time": "2022-06-10T17:14:32.995Z"
   },
   {
    "duration": 10,
    "start_time": "2022-06-10T17:14:42.150Z"
   },
   {
    "duration": 4,
    "start_time": "2022-06-10T17:14:56.769Z"
   },
   {
    "duration": 5,
    "start_time": "2022-06-10T17:15:17.846Z"
   },
   {
    "duration": 229,
    "start_time": "2022-06-10T17:26:14.903Z"
   },
   {
    "duration": 8,
    "start_time": "2022-06-10T17:35:35.806Z"
   },
   {
    "duration": 12,
    "start_time": "2022-06-10T17:36:07.959Z"
   },
   {
    "duration": 3,
    "start_time": "2022-06-10T17:40:53.620Z"
   },
   {
    "duration": 76,
    "start_time": "2022-06-10T17:40:53.634Z"
   },
   {
    "duration": 15,
    "start_time": "2022-06-10T17:40:53.713Z"
   },
   {
    "duration": 16,
    "start_time": "2022-06-10T17:40:53.729Z"
   },
   {
    "duration": 14,
    "start_time": "2022-06-10T17:40:53.747Z"
   },
   {
    "duration": 26,
    "start_time": "2022-06-10T17:40:53.763Z"
   },
   {
    "duration": 11,
    "start_time": "2022-06-10T17:40:53.791Z"
   },
   {
    "duration": 26,
    "start_time": "2022-06-10T17:40:53.804Z"
   },
   {
    "duration": 12,
    "start_time": "2022-06-10T17:40:53.832Z"
   },
   {
    "duration": 292,
    "start_time": "2022-06-10T17:40:53.847Z"
   },
   {
    "duration": 8,
    "start_time": "2022-06-10T17:40:54.141Z"
   },
   {
    "duration": 199,
    "start_time": "2022-06-10T17:40:54.150Z"
   },
   {
    "duration": 191,
    "start_time": "2022-06-10T17:40:54.351Z"
   },
   {
    "duration": 294,
    "start_time": "2022-06-10T17:40:54.543Z"
   },
   {
    "duration": 209,
    "start_time": "2022-06-10T17:40:54.839Z"
   },
   {
    "duration": 315,
    "start_time": "2022-06-10T17:40:55.050Z"
   },
   {
    "duration": 133,
    "start_time": "2022-06-10T17:40:55.368Z"
   },
   {
    "duration": 5,
    "start_time": "2022-06-10T17:40:55.503Z"
   },
   {
    "duration": 128,
    "start_time": "2022-06-10T17:40:55.526Z"
   },
   {
    "duration": 5,
    "start_time": "2022-06-10T17:40:55.655Z"
   },
   {
    "duration": 12,
    "start_time": "2022-06-10T17:40:55.662Z"
   },
   {
    "duration": 9,
    "start_time": "2022-06-10T17:40:55.675Z"
   },
   {
    "duration": 224,
    "start_time": "2022-06-10T17:40:55.685Z"
   },
   {
    "duration": 135,
    "start_time": "2022-06-10T17:40:55.911Z"
   },
   {
    "duration": 13,
    "start_time": "2022-06-10T17:40:56.048Z"
   },
   {
    "duration": 21,
    "start_time": "2022-06-10T17:40:56.063Z"
   },
   {
    "duration": 9,
    "start_time": "2022-06-10T17:40:56.085Z"
   },
   {
    "duration": 35,
    "start_time": "2022-06-10T17:40:56.096Z"
   },
   {
    "duration": 23,
    "start_time": "2022-06-10T17:40:56.133Z"
   },
   {
    "duration": 30,
    "start_time": "2022-06-10T17:40:56.158Z"
   },
   {
    "duration": 18,
    "start_time": "2022-06-10T17:40:56.190Z"
   }
  ],
  "colab": {
   "authorship_tag": "ABX9TyM3eNTH2RzQmpUk9w/rZDsD",
   "mount_file_id": "1qcQ32EzsupKxxBiBV5h-0FsOvTTWL58C",
   "name": "Принятие решений  в бизнесе.ipynb",
   "provenance": []
  },
  "kernelspec": {
   "display_name": "Python 3 (ipykernel)",
   "language": "python",
   "name": "python3"
  },
  "language_info": {
   "codemirror_mode": {
    "name": "ipython",
    "version": 3
   },
   "file_extension": ".py",
   "mimetype": "text/x-python",
   "name": "python",
   "nbconvert_exporter": "python",
   "pygments_lexer": "ipython3",
   "version": "3.8.13"
  },
  "toc": {
   "base_numbering": 1,
   "nav_menu": {},
   "number_sections": true,
   "sideBar": true,
   "skip_h1_title": true,
   "title_cell": "Table of Contents",
   "title_sidebar": "Contents",
   "toc_cell": true,
   "toc_position": {},
   "toc_section_display": true,
   "toc_window_display": true
  }
 },
 "nbformat": 4,
 "nbformat_minor": 1
}
