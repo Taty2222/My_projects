{
 "cells": [
  {
   "cell_type": "markdown",
   "metadata": {
    "toc": true
   },
   "source": [
    "<h1>Содержание<span class=\"tocSkip\"></span></h1>\n",
    "<div class=\"toc\"><ul class=\"toc-item\"><li><span><a href=\"#Изучение-данных-из-файла\" data-toc-modified-id=\"Изучение-данных-из-файла-1\"><span class=\"toc-item-num\">1&nbsp;&nbsp;</span>Изучение данных из файла</a></span></li><li><span><a href=\"#Предобработка-данных\" data-toc-modified-id=\"Предобработка-данных-2\"><span class=\"toc-item-num\">2&nbsp;&nbsp;</span>Предобработка данных</a></span><ul class=\"toc-item\"><li><span><a href=\"#Вывод\" data-toc-modified-id=\"Вывод-2.1\"><span class=\"toc-item-num\">2.1&nbsp;&nbsp;</span>Вывод</a></span></li></ul></li><li><span><a href=\"#Расчёты-и-добавление-результатов-в-таблицу\" data-toc-modified-id=\"Расчёты-и-добавление-результатов-в-таблицу-3\"><span class=\"toc-item-num\">3&nbsp;&nbsp;</span>Расчёты и добавление результатов в таблицу</a></span></li><li><span><a href=\"#Исследовательский-анализ-данных\" data-toc-modified-id=\"Исследовательский-анализ-данных-4\"><span class=\"toc-item-num\">4&nbsp;&nbsp;</span>Исследовательский анализ данных</a></span><ul class=\"toc-item\"><li><span><a href=\"#Изучите-следующие-параметры:-площадь,-цена,-число-комнат,-высота-потолков.-Постройте-гистограммы-для-каждого-параметра.\" data-toc-modified-id=\"Изучите-следующие-параметры:-площадь,-цена,-число-комнат,-высота-потолков.-Постройте-гистограммы-для-каждого-параметра.-4.1\"><span class=\"toc-item-num\">4.1&nbsp;&nbsp;</span>Изучите следующие параметры: площадь, цена, число комнат, высота потолков. Постройте гистограммы для каждого параметра.</a></span></li><li><span><a href=\"#Изучите-время-продажи-квартиры.\" data-toc-modified-id=\"Изучите-время-продажи-квартиры.-4.2\"><span class=\"toc-item-num\">4.2&nbsp;&nbsp;</span>Изучите время продажи квартиры.</a></span></li><li><span><a href=\"#Какие-факторы-больше-всего-влияют-на-стоимость-квартиры?\" data-toc-modified-id=\"Какие-факторы-больше-всего-влияют-на-стоимость-квартиры?-4.3\"><span class=\"toc-item-num\">4.3&nbsp;&nbsp;</span>Какие факторы больше всего влияют на стоимость квартиры?</a></span></li><li><span><a href=\"#Выберите-10-населённых-пунктов-с-наибольшим-числом-объявлений.\" data-toc-modified-id=\"Выберите-10-населённых-пунктов-с-наибольшим-числом-объявлений.-4.4\"><span class=\"toc-item-num\">4.4&nbsp;&nbsp;</span>Выберите 10 населённых пунктов с наибольшим числом объявлений.</a></span></li><li><span><a href=\"#Изучите-предложения-квартир:\" data-toc-modified-id=\"Изучите-предложения-квартир:-4.5\"><span class=\"toc-item-num\">4.5&nbsp;&nbsp;</span>Изучите предложения квартир:</a></span></li><li><span><a href=\"#Выделите-сегмент-квартир-в-центре.\" data-toc-modified-id=\"Выделите-сегмент-квартир-в-центре.-4.6\"><span class=\"toc-item-num\">4.6&nbsp;&nbsp;</span>Выделите сегмент квартир в центре.</a></span></li></ul></li><li><span><a href=\"#Общий-вывод\" data-toc-modified-id=\"Общий-вывод-5\"><span class=\"toc-item-num\">5&nbsp;&nbsp;</span>Общий вывод</a></span></li><li><span><a href=\"#Чек-лист-готовности-проекта\" data-toc-modified-id=\"Чек-лист-готовности-проекта-6\"><span class=\"toc-item-num\">6&nbsp;&nbsp;</span>Чек-лист готовности проекта</a></span></li></ul></div>"
   ]
  },
  {
   "cell_type": "markdown",
   "metadata": {},
   "source": [
    "# Исследование объявлений о продаже квартир\n",
    "\n",
    "В вашем распоряжении данные сервиса Яндекc Недвижимость — архив объявлений о продаже квартир в Санкт-Петербурге и соседних населённых пунктах за несколько лет. Нужно научиться определять рыночную стоимость объектов недвижимости. Ваша задача — установить параметры. Это позволит построить автоматизированную систему: она отследит аномалии и мошенническую деятельность. \n",
    "\n",
    "По каждой квартире на продажу доступны два вида данных. Первые вписаны пользователем, вторые получены автоматически на основе картографических данных. Например, расстояние до центра, аэропорта, ближайшего парка и водоёма. "
   ]
  },
  {
   "cell_type": "markdown",
   "metadata": {},
   "source": [
    "## Изучение данных из файла"
   ]
  },
  {
   "cell_type": "code",
   "execution_count": 179,
   "metadata": {},
   "outputs": [],
   "source": [
    "import pandas as pd\n",
    "import numpy as np\n",
    "data = pd.read_csv('/datasets/real_estate_data.csv', sep='\\t')"
   ]
  },
  {
   "cell_type": "code",
   "execution_count": 180,
   "metadata": {},
   "outputs": [],
   "source": [
    "import warnings\n",
    "\n",
    "warnings.filterwarnings(\"ignore\")"
   ]
  },
  {
   "cell_type": "code",
   "execution_count": 181,
   "metadata": {},
   "outputs": [
    {
     "data": {
      "text/html": [
       "<div>\n",
       "<style scoped>\n",
       "    .dataframe tbody tr th:only-of-type {\n",
       "        vertical-align: middle;\n",
       "    }\n",
       "\n",
       "    .dataframe tbody tr th {\n",
       "        vertical-align: top;\n",
       "    }\n",
       "\n",
       "    .dataframe thead th {\n",
       "        text-align: right;\n",
       "    }\n",
       "</style>\n",
       "<table border=\"1\" class=\"dataframe\">\n",
       "  <thead>\n",
       "    <tr style=\"text-align: right;\">\n",
       "      <th></th>\n",
       "      <th>total_images</th>\n",
       "      <th>last_price</th>\n",
       "      <th>total_area</th>\n",
       "      <th>first_day_exposition</th>\n",
       "      <th>rooms</th>\n",
       "      <th>ceiling_height</th>\n",
       "      <th>floors_total</th>\n",
       "      <th>living_area</th>\n",
       "      <th>floor</th>\n",
       "      <th>is_apartment</th>\n",
       "      <th>...</th>\n",
       "      <th>kitchen_area</th>\n",
       "      <th>balcony</th>\n",
       "      <th>locality_name</th>\n",
       "      <th>airports_nearest</th>\n",
       "      <th>cityCenters_nearest</th>\n",
       "      <th>parks_around3000</th>\n",
       "      <th>parks_nearest</th>\n",
       "      <th>ponds_around3000</th>\n",
       "      <th>ponds_nearest</th>\n",
       "      <th>days_exposition</th>\n",
       "    </tr>\n",
       "  </thead>\n",
       "  <tbody>\n",
       "    <tr>\n",
       "      <th>0</th>\n",
       "      <td>20</td>\n",
       "      <td>13000000.0</td>\n",
       "      <td>108.0</td>\n",
       "      <td>2019-03-07T00:00:00</td>\n",
       "      <td>3</td>\n",
       "      <td>2.70</td>\n",
       "      <td>16.0</td>\n",
       "      <td>51.0</td>\n",
       "      <td>8</td>\n",
       "      <td>NaN</td>\n",
       "      <td>...</td>\n",
       "      <td>25.0</td>\n",
       "      <td>NaN</td>\n",
       "      <td>Санкт-Петербург</td>\n",
       "      <td>18863.0</td>\n",
       "      <td>16028.0</td>\n",
       "      <td>1.0</td>\n",
       "      <td>482.0</td>\n",
       "      <td>2.0</td>\n",
       "      <td>755.0</td>\n",
       "      <td>NaN</td>\n",
       "    </tr>\n",
       "    <tr>\n",
       "      <th>1</th>\n",
       "      <td>7</td>\n",
       "      <td>3350000.0</td>\n",
       "      <td>40.4</td>\n",
       "      <td>2018-12-04T00:00:00</td>\n",
       "      <td>1</td>\n",
       "      <td>NaN</td>\n",
       "      <td>11.0</td>\n",
       "      <td>18.6</td>\n",
       "      <td>1</td>\n",
       "      <td>NaN</td>\n",
       "      <td>...</td>\n",
       "      <td>11.0</td>\n",
       "      <td>2.0</td>\n",
       "      <td>посёлок Шушары</td>\n",
       "      <td>12817.0</td>\n",
       "      <td>18603.0</td>\n",
       "      <td>0.0</td>\n",
       "      <td>NaN</td>\n",
       "      <td>0.0</td>\n",
       "      <td>NaN</td>\n",
       "      <td>81.0</td>\n",
       "    </tr>\n",
       "    <tr>\n",
       "      <th>2</th>\n",
       "      <td>10</td>\n",
       "      <td>5196000.0</td>\n",
       "      <td>56.0</td>\n",
       "      <td>2015-08-20T00:00:00</td>\n",
       "      <td>2</td>\n",
       "      <td>NaN</td>\n",
       "      <td>5.0</td>\n",
       "      <td>34.3</td>\n",
       "      <td>4</td>\n",
       "      <td>NaN</td>\n",
       "      <td>...</td>\n",
       "      <td>8.3</td>\n",
       "      <td>0.0</td>\n",
       "      <td>Санкт-Петербург</td>\n",
       "      <td>21741.0</td>\n",
       "      <td>13933.0</td>\n",
       "      <td>1.0</td>\n",
       "      <td>90.0</td>\n",
       "      <td>2.0</td>\n",
       "      <td>574.0</td>\n",
       "      <td>558.0</td>\n",
       "    </tr>\n",
       "    <tr>\n",
       "      <th>3</th>\n",
       "      <td>0</td>\n",
       "      <td>64900000.0</td>\n",
       "      <td>159.0</td>\n",
       "      <td>2015-07-24T00:00:00</td>\n",
       "      <td>3</td>\n",
       "      <td>NaN</td>\n",
       "      <td>14.0</td>\n",
       "      <td>NaN</td>\n",
       "      <td>9</td>\n",
       "      <td>NaN</td>\n",
       "      <td>...</td>\n",
       "      <td>NaN</td>\n",
       "      <td>0.0</td>\n",
       "      <td>Санкт-Петербург</td>\n",
       "      <td>28098.0</td>\n",
       "      <td>6800.0</td>\n",
       "      <td>2.0</td>\n",
       "      <td>84.0</td>\n",
       "      <td>3.0</td>\n",
       "      <td>234.0</td>\n",
       "      <td>424.0</td>\n",
       "    </tr>\n",
       "    <tr>\n",
       "      <th>4</th>\n",
       "      <td>2</td>\n",
       "      <td>10000000.0</td>\n",
       "      <td>100.0</td>\n",
       "      <td>2018-06-19T00:00:00</td>\n",
       "      <td>2</td>\n",
       "      <td>3.03</td>\n",
       "      <td>14.0</td>\n",
       "      <td>32.0</td>\n",
       "      <td>13</td>\n",
       "      <td>NaN</td>\n",
       "      <td>...</td>\n",
       "      <td>41.0</td>\n",
       "      <td>NaN</td>\n",
       "      <td>Санкт-Петербург</td>\n",
       "      <td>31856.0</td>\n",
       "      <td>8098.0</td>\n",
       "      <td>2.0</td>\n",
       "      <td>112.0</td>\n",
       "      <td>1.0</td>\n",
       "      <td>48.0</td>\n",
       "      <td>121.0</td>\n",
       "    </tr>\n",
       "  </tbody>\n",
       "</table>\n",
       "<p>5 rows × 22 columns</p>\n",
       "</div>"
      ],
      "text/plain": [
       "   total_images  last_price  total_area first_day_exposition  rooms  \\\n",
       "0            20  13000000.0       108.0  2019-03-07T00:00:00      3   \n",
       "1             7   3350000.0        40.4  2018-12-04T00:00:00      1   \n",
       "2            10   5196000.0        56.0  2015-08-20T00:00:00      2   \n",
       "3             0  64900000.0       159.0  2015-07-24T00:00:00      3   \n",
       "4             2  10000000.0       100.0  2018-06-19T00:00:00      2   \n",
       "\n",
       "   ceiling_height  floors_total  living_area  floor is_apartment  ...  \\\n",
       "0            2.70          16.0         51.0      8          NaN  ...   \n",
       "1             NaN          11.0         18.6      1          NaN  ...   \n",
       "2             NaN           5.0         34.3      4          NaN  ...   \n",
       "3             NaN          14.0          NaN      9          NaN  ...   \n",
       "4            3.03          14.0         32.0     13          NaN  ...   \n",
       "\n",
       "   kitchen_area  balcony    locality_name  airports_nearest  \\\n",
       "0          25.0      NaN  Санкт-Петербург           18863.0   \n",
       "1          11.0      2.0   посёлок Шушары           12817.0   \n",
       "2           8.3      0.0  Санкт-Петербург           21741.0   \n",
       "3           NaN      0.0  Санкт-Петербург           28098.0   \n",
       "4          41.0      NaN  Санкт-Петербург           31856.0   \n",
       "\n",
       "  cityCenters_nearest  parks_around3000  parks_nearest  ponds_around3000  \\\n",
       "0             16028.0               1.0          482.0               2.0   \n",
       "1             18603.0               0.0            NaN               0.0   \n",
       "2             13933.0               1.0           90.0               2.0   \n",
       "3              6800.0               2.0           84.0               3.0   \n",
       "4              8098.0               2.0          112.0               1.0   \n",
       "\n",
       "   ponds_nearest  days_exposition  \n",
       "0          755.0              NaN  \n",
       "1            NaN             81.0  \n",
       "2          574.0            558.0  \n",
       "3          234.0            424.0  \n",
       "4           48.0            121.0  \n",
       "\n",
       "[5 rows x 22 columns]"
      ]
     },
     "execution_count": 181,
     "metadata": {},
     "output_type": "execute_result"
    }
   ],
   "source": [
    "data.head()"
   ]
  },
  {
   "cell_type": "code",
   "execution_count": 182,
   "metadata": {},
   "outputs": [
    {
     "name": "stdout",
     "output_type": "stream",
     "text": [
      "<class 'pandas.core.frame.DataFrame'>\n",
      "RangeIndex: 23699 entries, 0 to 23698\n",
      "Data columns (total 22 columns):\n",
      " #   Column                Non-Null Count  Dtype  \n",
      "---  ------                --------------  -----  \n",
      " 0   total_images          23699 non-null  int64  \n",
      " 1   last_price            23699 non-null  float64\n",
      " 2   total_area            23699 non-null  float64\n",
      " 3   first_day_exposition  23699 non-null  object \n",
      " 4   rooms                 23699 non-null  int64  \n",
      " 5   ceiling_height        14504 non-null  float64\n",
      " 6   floors_total          23613 non-null  float64\n",
      " 7   living_area           21796 non-null  float64\n",
      " 8   floor                 23699 non-null  int64  \n",
      " 9   is_apartment          2775 non-null   object \n",
      " 10  studio                23699 non-null  bool   \n",
      " 11  open_plan             23699 non-null  bool   \n",
      " 12  kitchen_area          21421 non-null  float64\n",
      " 13  balcony               12180 non-null  float64\n",
      " 14  locality_name         23650 non-null  object \n",
      " 15  airports_nearest      18157 non-null  float64\n",
      " 16  cityCenters_nearest   18180 non-null  float64\n",
      " 17  parks_around3000      18181 non-null  float64\n",
      " 18  parks_nearest         8079 non-null   float64\n",
      " 19  ponds_around3000      18181 non-null  float64\n",
      " 20  ponds_nearest         9110 non-null   float64\n",
      " 21  days_exposition       20518 non-null  float64\n",
      "dtypes: bool(2), float64(14), int64(3), object(3)\n",
      "memory usage: 3.7+ MB\n"
     ]
    }
   ],
   "source": [
    "data.info()"
   ]
  },
  {
   "cell_type": "markdown",
   "metadata": {},
   "source": [
    "## Предобработка данных"
   ]
  },
  {
   "cell_type": "markdown",
   "metadata": {},
   "source": [
    "В исходных данных есть пропуски в столбцах:\n",
    "- **ceiling_height.** Пустые значения заполнены медианой.\n",
    "- **floors_total.** Поле участвует в расчетах. Пустые значения заполнила значениями из поля Floors, т.к. количество этажей не может быть меньiе этажа квартиры. Доля пустых значений 0,3% на результат расчета существенного влияния не окажет. \n",
    "- **living_area.** Поле участвует в расчетах. Поле заполнено медианным значением в зависимости от количества комнат.\n",
    "- **is_apartment.** Можно предположить что если поле не заполнено, значит помещение не относится к апартаментам. Пустые значения заменены на 'False'\n",
    "- **kitchen_area.** Поле участвует в расчетах, но лучше оставить поле пустым, т.к. средняя или медиана могут исказить выводы.\n",
    "- **balcony.** Поле участвует в расчетах, если полене заполнено, можно предположить что балкона нет. Просвоим пустым строкам значение 0\n",
    "- **locality_name.** Поле участвует в расчетах. Пустых значений немного. поэтому можно удалить строки. На результат анализа они не окажут большого влияния.\n",
    "- **airports_nearest.** Это поле не уччаствует в анализе, соответсвенно нет необходимости заполнять какими либо значениями.\n",
    "- **cityCenters_nearest.** Поле участвует в расчетах.\n",
    "- **parks_around3000.** Это поле не уччаствует в анализе, соответсвенно нет необходимости заполнять какими либо значениями.\n",
    "- **parks_nearest.** Это поле не уччаствует в анализе, соответсвенно нет необходимости заполнять какими либо значениями.\n",
    "- **ponds_around3000.** Это поле не уччаствует в анализе, соответсвенно нет необходимости заполнять какими либо значениями.\n",
    "- **ponds_nearest.** Это поле не уччаствует в анализе, соответсвенно нет необходимости заполнять какими либо значениями.\n",
    "- **days_exposition.** Поле участвует в расчетах, пустые значения не стала заменять, чтобы не исказить выводы. Для анализа отбросим эти строки"
   ]
  },
  {
   "cell_type": "code",
   "execution_count": 183,
   "metadata": {},
   "outputs": [],
   "source": [
    "data['is_apartment'] = data['is_apartment'].fillna(False)"
   ]
  },
  {
   "cell_type": "code",
   "execution_count": 184,
   "metadata": {},
   "outputs": [],
   "source": [
    "data['balcony'] = data['balcony'].fillna(0)"
   ]
  },
  {
   "cell_type": "code",
   "execution_count": 185,
   "metadata": {},
   "outputs": [],
   "source": [
    "data['ceiling_height'] = data['ceiling_height'].fillna(data['ceiling_height'].median())"
   ]
  },
  {
   "cell_type": "code",
   "execution_count": 186,
   "metadata": {},
   "outputs": [],
   "source": [
    "data['floors_total'] = data['floors_total'].fillna(data['floor'])"
   ]
  },
  {
   "cell_type": "code",
   "execution_count": 187,
   "metadata": {},
   "outputs": [],
   "source": [
    "data['living_area'] = (data['living_area']\n",
    "                       .fillna(data.groupby('rooms')['living_area']\n",
    "                               .transform(\"median\"))) "
   ]
  },
  {
   "cell_type": "code",
   "execution_count": 188,
   "metadata": {},
   "outputs": [],
   "source": [
    "data['last_price'] = data['last_price']/1000 #разделила на 1000 для лучшей визуализации"
   ]
  },
  {
   "cell_type": "code",
   "execution_count": 189,
   "metadata": {},
   "outputs": [
    {
     "name": "stdout",
     "output_type": "stream",
     "text": [
      "<class 'pandas.core.frame.DataFrame'>\n",
      "RangeIndex: 23699 entries, 0 to 23698\n",
      "Data columns (total 22 columns):\n",
      " #   Column                Non-Null Count  Dtype  \n",
      "---  ------                --------------  -----  \n",
      " 0   total_images          23699 non-null  int64  \n",
      " 1   last_price            23699 non-null  float64\n",
      " 2   total_area            23699 non-null  float64\n",
      " 3   first_day_exposition  23699 non-null  object \n",
      " 4   rooms                 23699 non-null  int64  \n",
      " 5   ceiling_height        23699 non-null  float64\n",
      " 6   floors_total          23699 non-null  float64\n",
      " 7   living_area           23699 non-null  float64\n",
      " 8   floor                 23699 non-null  int64  \n",
      " 9   is_apartment          23699 non-null  bool   \n",
      " 10  studio                23699 non-null  bool   \n",
      " 11  open_plan             23699 non-null  bool   \n",
      " 12  kitchen_area          21421 non-null  float64\n",
      " 13  balcony               23699 non-null  float64\n",
      " 14  locality_name         23650 non-null  object \n",
      " 15  airports_nearest      18157 non-null  float64\n",
      " 16  cityCenters_nearest   18180 non-null  float64\n",
      " 17  parks_around3000      18181 non-null  float64\n",
      " 18  parks_nearest         8079 non-null   float64\n",
      " 19  ponds_around3000      18181 non-null  float64\n",
      " 20  ponds_nearest         9110 non-null   float64\n",
      " 21  days_exposition       20518 non-null  float64\n",
      "dtypes: bool(3), float64(14), int64(3), object(2)\n",
      "memory usage: 3.5+ MB\n"
     ]
    }
   ],
   "source": [
    "data.info()"
   ]
  },
  {
   "cell_type": "markdown",
   "metadata": {},
   "source": [
    "Для некоторых данных необходимо поменять тип."
   ]
  },
  {
   "cell_type": "code",
   "execution_count": 190,
   "metadata": {},
   "outputs": [],
   "source": [
    "data['balcony'] = data['balcony'].astype('int')"
   ]
  },
  {
   "cell_type": "code",
   "execution_count": 191,
   "metadata": {
    "scrolled": true
   },
   "outputs": [],
   "source": [
    "data['floors_total'] = data['floors_total'].astype('int')"
   ]
  },
  {
   "cell_type": "markdown",
   "metadata": {},
   "source": [
    "### Вывод"
   ]
  },
  {
   "cell_type": "markdown",
   "metadata": {},
   "source": [
    "В исходных данных много пропущеных значений. Некоторые были заменены медианой, некоторые оставила без изменений."
   ]
  },
  {
   "cell_type": "markdown",
   "metadata": {},
   "source": [
    "## Расчёты и добавление результатов в таблицу"
   ]
  },
  {
   "cell_type": "markdown",
   "metadata": {},
   "source": [
    "Посчитайте и добавьте в таблицу:\n",
    "- цену квадратного метра;\n",
    "- день недели, месяц и год публикации объявления;\n",
    "- этаж квартиры; варианты — первый, последний, другой;\n",
    "- соотношение жилой и общей площади, а также отношение площади кухни к общей."
   ]
  },
  {
   "cell_type": "code",
   "execution_count": 192,
   "metadata": {},
   "outputs": [],
   "source": [
    "data['price_m3'] = data['last_price']/data['total_area']"
   ]
  },
  {
   "cell_type": "code",
   "execution_count": 193,
   "metadata": {},
   "outputs": [],
   "source": [
    "data['first_day_exposition'] = pd.to_datetime(data['first_day_exposition'], format='%Y-%m-%d %H:%M')"
   ]
  },
  {
   "cell_type": "code",
   "execution_count": 194,
   "metadata": {},
   "outputs": [],
   "source": [
    "data['weekday_exposition'] = data['first_day_exposition'].dt.weekday"
   ]
  },
  {
   "cell_type": "code",
   "execution_count": 195,
   "metadata": {},
   "outputs": [],
   "source": [
    "data['month_exposition'] = data['first_day_exposition'].dt.month"
   ]
  },
  {
   "cell_type": "code",
   "execution_count": 196,
   "metadata": {},
   "outputs": [],
   "source": [
    "data['year_exposition'] = data['first_day_exposition'].dt.year"
   ]
  },
  {
   "cell_type": "code",
   "execution_count": 197,
   "metadata": {},
   "outputs": [],
   "source": [
    "def floor_var(row):\n",
    "    if row['floor'] == 1:\n",
    "        return 'первый'\n",
    "    elif row['floor'] == row ['floors_total']:\n",
    "        return 'последний'\n",
    "    else:\n",
    "        return 'другой'"
   ]
  },
  {
   "cell_type": "code",
   "execution_count": 198,
   "metadata": {},
   "outputs": [],
   "source": [
    "data['floor_var'] = data.apply(floor_var, axis=1)"
   ]
  },
  {
   "cell_type": "code",
   "execution_count": 199,
   "metadata": {},
   "outputs": [],
   "source": [
    "data['living_area_share'] = data['living_area']/data['total_area']"
   ]
  },
  {
   "cell_type": "code",
   "execution_count": 200,
   "metadata": {},
   "outputs": [],
   "source": [
    "data['kitchen_area_share'] = data['kitchen_area']/data['total_area']"
   ]
  },
  {
   "cell_type": "code",
   "execution_count": 201,
   "metadata": {},
   "outputs": [
    {
     "data": {
      "text/html": [
       "<div>\n",
       "<style scoped>\n",
       "    .dataframe tbody tr th:only-of-type {\n",
       "        vertical-align: middle;\n",
       "    }\n",
       "\n",
       "    .dataframe tbody tr th {\n",
       "        vertical-align: top;\n",
       "    }\n",
       "\n",
       "    .dataframe thead th {\n",
       "        text-align: right;\n",
       "    }\n",
       "</style>\n",
       "<table border=\"1\" class=\"dataframe\">\n",
       "  <thead>\n",
       "    <tr style=\"text-align: right;\">\n",
       "      <th></th>\n",
       "      <th>total_images</th>\n",
       "      <th>last_price</th>\n",
       "      <th>total_area</th>\n",
       "      <th>first_day_exposition</th>\n",
       "      <th>rooms</th>\n",
       "      <th>ceiling_height</th>\n",
       "      <th>floors_total</th>\n",
       "      <th>living_area</th>\n",
       "      <th>floor</th>\n",
       "      <th>is_apartment</th>\n",
       "      <th>...</th>\n",
       "      <th>ponds_around3000</th>\n",
       "      <th>ponds_nearest</th>\n",
       "      <th>days_exposition</th>\n",
       "      <th>price_m3</th>\n",
       "      <th>weekday_exposition</th>\n",
       "      <th>month_exposition</th>\n",
       "      <th>year_exposition</th>\n",
       "      <th>floor_var</th>\n",
       "      <th>living_area_share</th>\n",
       "      <th>kitchen_area_share</th>\n",
       "    </tr>\n",
       "  </thead>\n",
       "  <tbody>\n",
       "    <tr>\n",
       "      <th>0</th>\n",
       "      <td>20</td>\n",
       "      <td>13000.0</td>\n",
       "      <td>108.00</td>\n",
       "      <td>2019-03-07</td>\n",
       "      <td>3</td>\n",
       "      <td>2.70</td>\n",
       "      <td>16</td>\n",
       "      <td>51.0</td>\n",
       "      <td>8</td>\n",
       "      <td>False</td>\n",
       "      <td>...</td>\n",
       "      <td>2.0</td>\n",
       "      <td>755.0</td>\n",
       "      <td>NaN</td>\n",
       "      <td>120.370370</td>\n",
       "      <td>3</td>\n",
       "      <td>3</td>\n",
       "      <td>2019</td>\n",
       "      <td>другой</td>\n",
       "      <td>0.472222</td>\n",
       "      <td>0.231481</td>\n",
       "    </tr>\n",
       "    <tr>\n",
       "      <th>1</th>\n",
       "      <td>7</td>\n",
       "      <td>3350.0</td>\n",
       "      <td>40.40</td>\n",
       "      <td>2018-12-04</td>\n",
       "      <td>1</td>\n",
       "      <td>2.65</td>\n",
       "      <td>11</td>\n",
       "      <td>18.6</td>\n",
       "      <td>1</td>\n",
       "      <td>False</td>\n",
       "      <td>...</td>\n",
       "      <td>0.0</td>\n",
       "      <td>NaN</td>\n",
       "      <td>81.0</td>\n",
       "      <td>82.920792</td>\n",
       "      <td>1</td>\n",
       "      <td>12</td>\n",
       "      <td>2018</td>\n",
       "      <td>первый</td>\n",
       "      <td>0.460396</td>\n",
       "      <td>0.272277</td>\n",
       "    </tr>\n",
       "    <tr>\n",
       "      <th>2</th>\n",
       "      <td>10</td>\n",
       "      <td>5196.0</td>\n",
       "      <td>56.00</td>\n",
       "      <td>2015-08-20</td>\n",
       "      <td>2</td>\n",
       "      <td>2.65</td>\n",
       "      <td>5</td>\n",
       "      <td>34.3</td>\n",
       "      <td>4</td>\n",
       "      <td>False</td>\n",
       "      <td>...</td>\n",
       "      <td>2.0</td>\n",
       "      <td>574.0</td>\n",
       "      <td>558.0</td>\n",
       "      <td>92.785714</td>\n",
       "      <td>3</td>\n",
       "      <td>8</td>\n",
       "      <td>2015</td>\n",
       "      <td>другой</td>\n",
       "      <td>0.612500</td>\n",
       "      <td>0.148214</td>\n",
       "    </tr>\n",
       "    <tr>\n",
       "      <th>3</th>\n",
       "      <td>0</td>\n",
       "      <td>64900.0</td>\n",
       "      <td>159.00</td>\n",
       "      <td>2015-07-24</td>\n",
       "      <td>3</td>\n",
       "      <td>2.65</td>\n",
       "      <td>14</td>\n",
       "      <td>45.0</td>\n",
       "      <td>9</td>\n",
       "      <td>False</td>\n",
       "      <td>...</td>\n",
       "      <td>3.0</td>\n",
       "      <td>234.0</td>\n",
       "      <td>424.0</td>\n",
       "      <td>408.176101</td>\n",
       "      <td>4</td>\n",
       "      <td>7</td>\n",
       "      <td>2015</td>\n",
       "      <td>другой</td>\n",
       "      <td>0.283019</td>\n",
       "      <td>NaN</td>\n",
       "    </tr>\n",
       "    <tr>\n",
       "      <th>4</th>\n",
       "      <td>2</td>\n",
       "      <td>10000.0</td>\n",
       "      <td>100.00</td>\n",
       "      <td>2018-06-19</td>\n",
       "      <td>2</td>\n",
       "      <td>3.03</td>\n",
       "      <td>14</td>\n",
       "      <td>32.0</td>\n",
       "      <td>13</td>\n",
       "      <td>False</td>\n",
       "      <td>...</td>\n",
       "      <td>1.0</td>\n",
       "      <td>48.0</td>\n",
       "      <td>121.0</td>\n",
       "      <td>100.000000</td>\n",
       "      <td>1</td>\n",
       "      <td>6</td>\n",
       "      <td>2018</td>\n",
       "      <td>другой</td>\n",
       "      <td>0.320000</td>\n",
       "      <td>0.410000</td>\n",
       "    </tr>\n",
       "    <tr>\n",
       "      <th>...</th>\n",
       "      <td>...</td>\n",
       "      <td>...</td>\n",
       "      <td>...</td>\n",
       "      <td>...</td>\n",
       "      <td>...</td>\n",
       "      <td>...</td>\n",
       "      <td>...</td>\n",
       "      <td>...</td>\n",
       "      <td>...</td>\n",
       "      <td>...</td>\n",
       "      <td>...</td>\n",
       "      <td>...</td>\n",
       "      <td>...</td>\n",
       "      <td>...</td>\n",
       "      <td>...</td>\n",
       "      <td>...</td>\n",
       "      <td>...</td>\n",
       "      <td>...</td>\n",
       "      <td>...</td>\n",
       "      <td>...</td>\n",
       "      <td>...</td>\n",
       "    </tr>\n",
       "    <tr>\n",
       "      <th>23694</th>\n",
       "      <td>9</td>\n",
       "      <td>9700.0</td>\n",
       "      <td>133.81</td>\n",
       "      <td>2017-03-21</td>\n",
       "      <td>3</td>\n",
       "      <td>3.70</td>\n",
       "      <td>5</td>\n",
       "      <td>73.3</td>\n",
       "      <td>3</td>\n",
       "      <td>False</td>\n",
       "      <td>...</td>\n",
       "      <td>3.0</td>\n",
       "      <td>381.0</td>\n",
       "      <td>NaN</td>\n",
       "      <td>72.490845</td>\n",
       "      <td>1</td>\n",
       "      <td>3</td>\n",
       "      <td>2017</td>\n",
       "      <td>другой</td>\n",
       "      <td>0.547792</td>\n",
       "      <td>0.103356</td>\n",
       "    </tr>\n",
       "    <tr>\n",
       "      <th>23695</th>\n",
       "      <td>14</td>\n",
       "      <td>3100.0</td>\n",
       "      <td>59.00</td>\n",
       "      <td>2018-01-15</td>\n",
       "      <td>3</td>\n",
       "      <td>2.65</td>\n",
       "      <td>5</td>\n",
       "      <td>38.0</td>\n",
       "      <td>4</td>\n",
       "      <td>False</td>\n",
       "      <td>...</td>\n",
       "      <td>NaN</td>\n",
       "      <td>NaN</td>\n",
       "      <td>45.0</td>\n",
       "      <td>52.542373</td>\n",
       "      <td>0</td>\n",
       "      <td>1</td>\n",
       "      <td>2018</td>\n",
       "      <td>другой</td>\n",
       "      <td>0.644068</td>\n",
       "      <td>0.144068</td>\n",
       "    </tr>\n",
       "    <tr>\n",
       "      <th>23696</th>\n",
       "      <td>18</td>\n",
       "      <td>2500.0</td>\n",
       "      <td>56.70</td>\n",
       "      <td>2018-02-11</td>\n",
       "      <td>2</td>\n",
       "      <td>2.65</td>\n",
       "      <td>3</td>\n",
       "      <td>29.7</td>\n",
       "      <td>1</td>\n",
       "      <td>False</td>\n",
       "      <td>...</td>\n",
       "      <td>NaN</td>\n",
       "      <td>NaN</td>\n",
       "      <td>NaN</td>\n",
       "      <td>44.091711</td>\n",
       "      <td>6</td>\n",
       "      <td>2</td>\n",
       "      <td>2018</td>\n",
       "      <td>первый</td>\n",
       "      <td>0.523810</td>\n",
       "      <td>NaN</td>\n",
       "    </tr>\n",
       "    <tr>\n",
       "      <th>23697</th>\n",
       "      <td>13</td>\n",
       "      <td>11475.0</td>\n",
       "      <td>76.75</td>\n",
       "      <td>2017-03-28</td>\n",
       "      <td>2</td>\n",
       "      <td>3.00</td>\n",
       "      <td>17</td>\n",
       "      <td>30.5</td>\n",
       "      <td>12</td>\n",
       "      <td>False</td>\n",
       "      <td>...</td>\n",
       "      <td>3.0</td>\n",
       "      <td>196.0</td>\n",
       "      <td>602.0</td>\n",
       "      <td>149.511401</td>\n",
       "      <td>1</td>\n",
       "      <td>3</td>\n",
       "      <td>2017</td>\n",
       "      <td>другой</td>\n",
       "      <td>0.397394</td>\n",
       "      <td>0.303583</td>\n",
       "    </tr>\n",
       "    <tr>\n",
       "      <th>23698</th>\n",
       "      <td>4</td>\n",
       "      <td>1350.0</td>\n",
       "      <td>32.30</td>\n",
       "      <td>2017-07-21</td>\n",
       "      <td>1</td>\n",
       "      <td>2.50</td>\n",
       "      <td>5</td>\n",
       "      <td>12.3</td>\n",
       "      <td>1</td>\n",
       "      <td>False</td>\n",
       "      <td>...</td>\n",
       "      <td>NaN</td>\n",
       "      <td>NaN</td>\n",
       "      <td>NaN</td>\n",
       "      <td>41.795666</td>\n",
       "      <td>4</td>\n",
       "      <td>7</td>\n",
       "      <td>2017</td>\n",
       "      <td>первый</td>\n",
       "      <td>0.380805</td>\n",
       "      <td>0.278638</td>\n",
       "    </tr>\n",
       "  </tbody>\n",
       "</table>\n",
       "<p>23699 rows × 29 columns</p>\n",
       "</div>"
      ],
      "text/plain": [
       "       total_images  last_price  total_area first_day_exposition  rooms  \\\n",
       "0                20     13000.0      108.00           2019-03-07      3   \n",
       "1                 7      3350.0       40.40           2018-12-04      1   \n",
       "2                10      5196.0       56.00           2015-08-20      2   \n",
       "3                 0     64900.0      159.00           2015-07-24      3   \n",
       "4                 2     10000.0      100.00           2018-06-19      2   \n",
       "...             ...         ...         ...                  ...    ...   \n",
       "23694             9      9700.0      133.81           2017-03-21      3   \n",
       "23695            14      3100.0       59.00           2018-01-15      3   \n",
       "23696            18      2500.0       56.70           2018-02-11      2   \n",
       "23697            13     11475.0       76.75           2017-03-28      2   \n",
       "23698             4      1350.0       32.30           2017-07-21      1   \n",
       "\n",
       "       ceiling_height  floors_total  living_area  floor  is_apartment  ...  \\\n",
       "0                2.70            16         51.0      8         False  ...   \n",
       "1                2.65            11         18.6      1         False  ...   \n",
       "2                2.65             5         34.3      4         False  ...   \n",
       "3                2.65            14         45.0      9         False  ...   \n",
       "4                3.03            14         32.0     13         False  ...   \n",
       "...               ...           ...          ...    ...           ...  ...   \n",
       "23694            3.70             5         73.3      3         False  ...   \n",
       "23695            2.65             5         38.0      4         False  ...   \n",
       "23696            2.65             3         29.7      1         False  ...   \n",
       "23697            3.00            17         30.5     12         False  ...   \n",
       "23698            2.50             5         12.3      1         False  ...   \n",
       "\n",
       "       ponds_around3000  ponds_nearest  days_exposition    price_m3  \\\n",
       "0                   2.0          755.0              NaN  120.370370   \n",
       "1                   0.0            NaN             81.0   82.920792   \n",
       "2                   2.0          574.0            558.0   92.785714   \n",
       "3                   3.0          234.0            424.0  408.176101   \n",
       "4                   1.0           48.0            121.0  100.000000   \n",
       "...                 ...            ...              ...         ...   \n",
       "23694               3.0          381.0              NaN   72.490845   \n",
       "23695               NaN            NaN             45.0   52.542373   \n",
       "23696               NaN            NaN              NaN   44.091711   \n",
       "23697               3.0          196.0            602.0  149.511401   \n",
       "23698               NaN            NaN              NaN   41.795666   \n",
       "\n",
       "      weekday_exposition  month_exposition  year_exposition  floor_var  \\\n",
       "0                      3                 3             2019     другой   \n",
       "1                      1                12             2018     первый   \n",
       "2                      3                 8             2015     другой   \n",
       "3                      4                 7             2015     другой   \n",
       "4                      1                 6             2018     другой   \n",
       "...                  ...               ...              ...        ...   \n",
       "23694                  1                 3             2017     другой   \n",
       "23695                  0                 1             2018     другой   \n",
       "23696                  6                 2             2018     первый   \n",
       "23697                  1                 3             2017     другой   \n",
       "23698                  4                 7             2017     первый   \n",
       "\n",
       "       living_area_share  kitchen_area_share  \n",
       "0               0.472222            0.231481  \n",
       "1               0.460396            0.272277  \n",
       "2               0.612500            0.148214  \n",
       "3               0.283019                 NaN  \n",
       "4               0.320000            0.410000  \n",
       "...                  ...                 ...  \n",
       "23694           0.547792            0.103356  \n",
       "23695           0.644068            0.144068  \n",
       "23696           0.523810                 NaN  \n",
       "23697           0.397394            0.303583  \n",
       "23698           0.380805            0.278638  \n",
       "\n",
       "[23699 rows x 29 columns]"
      ]
     },
     "metadata": {},
     "output_type": "display_data"
    }
   ],
   "source": [
    "display(data)"
   ]
  },
  {
   "cell_type": "markdown",
   "metadata": {},
   "source": [
    "## Исследовательский анализ данных"
   ]
  },
  {
   "cell_type": "markdown",
   "metadata": {},
   "source": [
    "### Изучите следующие параметры: площадь, цена, число комнат, высота потолков. Постройте гистограммы для каждого параметра."
   ]
  },
  {
   "cell_type": "code",
   "execution_count": 202,
   "metadata": {},
   "outputs": [
    {
     "data": {
      "text/html": [
       "<div>\n",
       "<style scoped>\n",
       "    .dataframe tbody tr th:only-of-type {\n",
       "        vertical-align: middle;\n",
       "    }\n",
       "\n",
       "    .dataframe tbody tr th {\n",
       "        vertical-align: top;\n",
       "    }\n",
       "\n",
       "    .dataframe thead th {\n",
       "        text-align: right;\n",
       "    }\n",
       "</style>\n",
       "<table border=\"1\" class=\"dataframe\">\n",
       "  <thead>\n",
       "    <tr style=\"text-align: right;\">\n",
       "      <th></th>\n",
       "      <th>total_area</th>\n",
       "      <th>last_price</th>\n",
       "      <th>rooms</th>\n",
       "      <th>ceiling_height</th>\n",
       "    </tr>\n",
       "  </thead>\n",
       "  <tbody>\n",
       "    <tr>\n",
       "      <th>count</th>\n",
       "      <td>23699.000000</td>\n",
       "      <td>23699.000000</td>\n",
       "      <td>23699.000000</td>\n",
       "      <td>23699.000000</td>\n",
       "    </tr>\n",
       "    <tr>\n",
       "      <th>mean</th>\n",
       "      <td>60.348651</td>\n",
       "      <td>6541.548772</td>\n",
       "      <td>2.070636</td>\n",
       "      <td>2.724358</td>\n",
       "    </tr>\n",
       "    <tr>\n",
       "      <th>std</th>\n",
       "      <td>35.654083</td>\n",
       "      <td>10887.013268</td>\n",
       "      <td>1.078405</td>\n",
       "      <td>0.988298</td>\n",
       "    </tr>\n",
       "    <tr>\n",
       "      <th>min</th>\n",
       "      <td>12.000000</td>\n",
       "      <td>12.190000</td>\n",
       "      <td>0.000000</td>\n",
       "      <td>1.000000</td>\n",
       "    </tr>\n",
       "    <tr>\n",
       "      <th>25%</th>\n",
       "      <td>40.000000</td>\n",
       "      <td>3400.000000</td>\n",
       "      <td>1.000000</td>\n",
       "      <td>2.600000</td>\n",
       "    </tr>\n",
       "    <tr>\n",
       "      <th>50%</th>\n",
       "      <td>52.000000</td>\n",
       "      <td>4650.000000</td>\n",
       "      <td>2.000000</td>\n",
       "      <td>2.650000</td>\n",
       "    </tr>\n",
       "    <tr>\n",
       "      <th>75%</th>\n",
       "      <td>69.900000</td>\n",
       "      <td>6800.000000</td>\n",
       "      <td>3.000000</td>\n",
       "      <td>2.700000</td>\n",
       "    </tr>\n",
       "    <tr>\n",
       "      <th>max</th>\n",
       "      <td>900.000000</td>\n",
       "      <td>763000.000000</td>\n",
       "      <td>19.000000</td>\n",
       "      <td>100.000000</td>\n",
       "    </tr>\n",
       "  </tbody>\n",
       "</table>\n",
       "</div>"
      ],
      "text/plain": [
       "         total_area     last_price         rooms  ceiling_height\n",
       "count  23699.000000   23699.000000  23699.000000    23699.000000\n",
       "mean      60.348651    6541.548772      2.070636        2.724358\n",
       "std       35.654083   10887.013268      1.078405        0.988298\n",
       "min       12.000000      12.190000      0.000000        1.000000\n",
       "25%       40.000000    3400.000000      1.000000        2.600000\n",
       "50%       52.000000    4650.000000      2.000000        2.650000\n",
       "75%       69.900000    6800.000000      3.000000        2.700000\n",
       "max      900.000000  763000.000000     19.000000      100.000000"
      ]
     },
     "execution_count": 202,
     "metadata": {},
     "output_type": "execute_result"
    }
   ],
   "source": [
    "data[['total_area','last_price','rooms','ceiling_height']].describe()"
   ]
  },
  {
   "cell_type": "code",
   "execution_count": 203,
   "metadata": {},
   "outputs": [
    {
     "data": {
      "text/plain": [
       "<AxesSubplot:>"
      ]
     },
     "execution_count": 203,
     "metadata": {},
     "output_type": "execute_result"
    },
    {
     "data": {
      "image/png": "[encoded data removed]",
      "text/plain": [
       "<Figure size 432x288 with 1 Axes>"
      ]
     },
     "metadata": {
      "needs_background": "light"
     },
     "output_type": "display_data"
    }
   ],
   "source": [
    "data['total_area'].hist(bins=50)"
   ]
  },
  {
   "cell_type": "code",
   "execution_count": 204,
   "metadata": {},
   "outputs": [
    {
     "data": {
      "text/plain": [
       "<AxesSubplot:>"
      ]
     },
     "execution_count": 204,
     "metadata": {},
     "output_type": "execute_result"
    },
    {
     "data": {
      "image/png": "[encoded data removed]",
      "text/plain": [
       "<Figure size 432x288 with 1 Axes>"
      ]
     },
     "metadata": {
      "needs_background": "light"
     },
     "output_type": "display_data"
    }
   ],
   "source": [
    "data['last_price'].hist(bins=30)"
   ]
  },
  {
   "cell_type": "code",
   "execution_count": 205,
   "metadata": {},
   "outputs": [
    {
     "data": {
      "text/plain": [
       "<AxesSubplot:>"
      ]
     },
     "execution_count": 205,
     "metadata": {},
     "output_type": "execute_result"
    },
    {
     "data": {
      "image/png": "[encoded data removed]",
      "text/plain": [
       "<Figure size 432x288 with 1 Axes>"
      ]
     },
     "metadata": {
      "needs_background": "light"
     },
     "output_type": "display_data"
    }
   ],
   "source": [
    "data['rooms'].hist(bins=20)"
   ]
  },
  {
   "cell_type": "code",
   "execution_count": 206,
   "metadata": {},
   "outputs": [
    {
     "data": {
      "text/plain": [
       "<AxesSubplot:>"
      ]
     },
     "execution_count": 206,
     "metadata": {},
     "output_type": "execute_result"
    },
    {
     "data": {
      "image/png": "[encoded data removed]",
      "text/plain": [
       "<Figure size 432x288 with 1 Axes>"
      ]
     },
     "metadata": {
      "needs_background": "light"
     },
     "output_type": "display_data"
    }
   ],
   "source": [
    "data['ceiling_height'].hist(bins=10)"
   ]
  },
  {
   "cell_type": "markdown",
   "metadata": {},
   "source": [
    "Все данные заполнены. В столбце 'last_price' слишком высокое стандартное отклонение. Необходимо будет очистить данные от выпадающих значений. Гистограмма по 'total_area' и 'rooms' имеют нормальное распределение с небольшим скосом влево. Гистограммы 'last_price' и 'ceiling_heights' имеют слишком большие выбросы, поэтому гистограммы сложно анализировать."
   ]
  },
  {
   "cell_type": "markdown",
   "metadata": {},
   "source": [
    "### Изучите время продажи квартиры. "
   ]
  },
  {
   "cell_type": "markdown",
   "metadata": {},
   "source": [
    "Постройте гистограмму. Посчитайте среднее и медиану. Опишите, сколько обычно занимает продажа. Когда можно считать, что продажи прошли очень быстро, а когда необычно долго?"
   ]
  },
  {
   "cell_type": "code",
   "execution_count": 207,
   "metadata": {},
   "outputs": [
    {
     "data": {
      "text/plain": [
       "<AxesSubplot:>"
      ]
     },
     "execution_count": 207,
     "metadata": {},
     "output_type": "execute_result"
    },
    {
     "data": {
      "image/png": "[encoded data removed]",
      "text/plain": [
       "<Figure size 432x288 with 1 Axes>"
      ]
     },
     "metadata": {
      "needs_background": "light"
     },
     "output_type": "display_data"
    }
   ],
   "source": [
    "data['days_exposition'].hist(bins=50)"
   ]
  },
  {
   "cell_type": "code",
   "execution_count": 208,
   "metadata": {},
   "outputs": [
    {
     "data": {
      "text/plain": [
       "count    20518.000000\n",
       "mean       180.888634\n",
       "std        219.727988\n",
       "min          1.000000\n",
       "25%         45.000000\n",
       "50%         95.000000\n",
       "75%        232.000000\n",
       "max       1580.000000\n",
       "Name: days_exposition, dtype: float64"
      ]
     },
     "execution_count": 208,
     "metadata": {},
     "output_type": "execute_result"
    }
   ],
   "source": [
    "data['days_exposition'].describe()"
   ]
  },
  {
   "cell_type": "markdown",
   "metadata": {},
   "source": [
    "Среднее значение продажи 181 день. Но медианное значение 95 дней. Оптимальное время продажи от 45 до 232 дней. В таблице есть значения меньше 45 дней и больше 232, их лучше не учитывать для анализа."
   ]
  },
  {
   "cell_type": "code",
   "execution_count": 209,
   "metadata": {},
   "outputs": [],
   "source": [
    "data_clear = data.query('45 < days_exposition < 232') #Убираю редкие и выбивающиеся значения."
   ]
  },
  {
   "cell_type": "code",
   "execution_count": 210,
   "metadata": {},
   "outputs": [
    {
     "data": {
      "text/html": [
       "<div>\n",
       "<style scoped>\n",
       "    .dataframe tbody tr th:only-of-type {\n",
       "        vertical-align: middle;\n",
       "    }\n",
       "\n",
       "    .dataframe tbody tr th {\n",
       "        vertical-align: top;\n",
       "    }\n",
       "\n",
       "    .dataframe thead th {\n",
       "        text-align: right;\n",
       "    }\n",
       "</style>\n",
       "<table border=\"1\" class=\"dataframe\">\n",
       "  <thead>\n",
       "    <tr style=\"text-align: right;\">\n",
       "      <th></th>\n",
       "      <th>total_images</th>\n",
       "      <th>last_price</th>\n",
       "      <th>total_area</th>\n",
       "      <th>rooms</th>\n",
       "      <th>ceiling_height</th>\n",
       "      <th>floors_total</th>\n",
       "      <th>living_area</th>\n",
       "      <th>floor</th>\n",
       "      <th>kitchen_area</th>\n",
       "      <th>balcony</th>\n",
       "      <th>...</th>\n",
       "      <th>parks_nearest</th>\n",
       "      <th>ponds_around3000</th>\n",
       "      <th>ponds_nearest</th>\n",
       "      <th>days_exposition</th>\n",
       "      <th>price_m3</th>\n",
       "      <th>weekday_exposition</th>\n",
       "      <th>month_exposition</th>\n",
       "      <th>year_exposition</th>\n",
       "      <th>living_area_share</th>\n",
       "      <th>kitchen_area_share</th>\n",
       "    </tr>\n",
       "  </thead>\n",
       "  <tbody>\n",
       "    <tr>\n",
       "      <th>count</th>\n",
       "      <td>23699.000000</td>\n",
       "      <td>23699.000000</td>\n",
       "      <td>23699.000000</td>\n",
       "      <td>23699.000000</td>\n",
       "      <td>23699.000000</td>\n",
       "      <td>23699.000000</td>\n",
       "      <td>23699.000000</td>\n",
       "      <td>23699.000000</td>\n",
       "      <td>21421.000000</td>\n",
       "      <td>23699.000000</td>\n",
       "      <td>...</td>\n",
       "      <td>8079.000000</td>\n",
       "      <td>18181.000000</td>\n",
       "      <td>9110.000000</td>\n",
       "      <td>20518.000000</td>\n",
       "      <td>23699.000000</td>\n",
       "      <td>23699.000000</td>\n",
       "      <td>23699.000000</td>\n",
       "      <td>23699.000000</td>\n",
       "      <td>23699.000000</td>\n",
       "      <td>21421.000000</td>\n",
       "    </tr>\n",
       "    <tr>\n",
       "      <th>mean</th>\n",
       "      <td>9.858475</td>\n",
       "      <td>6541.548772</td>\n",
       "      <td>60.348651</td>\n",
       "      <td>2.070636</td>\n",
       "      <td>2.724358</td>\n",
       "      <td>10.671463</td>\n",
       "      <td>34.321982</td>\n",
       "      <td>5.892358</td>\n",
       "      <td>10.569807</td>\n",
       "      <td>0.591080</td>\n",
       "      <td>...</td>\n",
       "      <td>490.804555</td>\n",
       "      <td>0.770255</td>\n",
       "      <td>517.980900</td>\n",
       "      <td>180.888634</td>\n",
       "      <td>99.421656</td>\n",
       "      <td>2.569307</td>\n",
       "      <td>6.400101</td>\n",
       "      <td>2017.367146</td>\n",
       "      <td>0.563845</td>\n",
       "      <td>0.187355</td>\n",
       "    </tr>\n",
       "    <tr>\n",
       "      <th>std</th>\n",
       "      <td>5.682529</td>\n",
       "      <td>10887.013268</td>\n",
       "      <td>35.654083</td>\n",
       "      <td>1.078405</td>\n",
       "      <td>0.988298</td>\n",
       "      <td>6.595802</td>\n",
       "      <td>21.700627</td>\n",
       "      <td>4.885249</td>\n",
       "      <td>5.905438</td>\n",
       "      <td>0.959298</td>\n",
       "      <td>...</td>\n",
       "      <td>342.317995</td>\n",
       "      <td>0.938346</td>\n",
       "      <td>277.720643</td>\n",
       "      <td>219.727988</td>\n",
       "      <td>50.306802</td>\n",
       "      <td>1.789082</td>\n",
       "      <td>3.491561</td>\n",
       "      <td>1.039771</td>\n",
       "      <td>0.110933</td>\n",
       "      <td>0.072968</td>\n",
       "    </tr>\n",
       "    <tr>\n",
       "      <th>min</th>\n",
       "      <td>0.000000</td>\n",
       "      <td>12.190000</td>\n",
       "      <td>12.000000</td>\n",
       "      <td>0.000000</td>\n",
       "      <td>1.000000</td>\n",
       "      <td>1.000000</td>\n",
       "      <td>2.000000</td>\n",
       "      <td>1.000000</td>\n",
       "      <td>1.300000</td>\n",
       "      <td>0.000000</td>\n",
       "      <td>...</td>\n",
       "      <td>1.000000</td>\n",
       "      <td>0.000000</td>\n",
       "      <td>13.000000</td>\n",
       "      <td>1.000000</td>\n",
       "      <td>0.111835</td>\n",
       "      <td>0.000000</td>\n",
       "      <td>1.000000</td>\n",
       "      <td>2014.000000</td>\n",
       "      <td>0.021583</td>\n",
       "      <td>0.025381</td>\n",
       "    </tr>\n",
       "    <tr>\n",
       "      <th>25%</th>\n",
       "      <td>6.000000</td>\n",
       "      <td>3400.000000</td>\n",
       "      <td>40.000000</td>\n",
       "      <td>1.000000</td>\n",
       "      <td>2.600000</td>\n",
       "      <td>5.000000</td>\n",
       "      <td>18.400000</td>\n",
       "      <td>2.000000</td>\n",
       "      <td>7.000000</td>\n",
       "      <td>0.000000</td>\n",
       "      <td>...</td>\n",
       "      <td>288.000000</td>\n",
       "      <td>0.000000</td>\n",
       "      <td>294.000000</td>\n",
       "      <td>45.000000</td>\n",
       "      <td>76.585470</td>\n",
       "      <td>1.000000</td>\n",
       "      <td>3.000000</td>\n",
       "      <td>2017.000000</td>\n",
       "      <td>0.490326</td>\n",
       "      <td>0.133333</td>\n",
       "    </tr>\n",
       "    <tr>\n",
       "      <th>50%</th>\n",
       "      <td>9.000000</td>\n",
       "      <td>4650.000000</td>\n",
       "      <td>52.000000</td>\n",
       "      <td>2.000000</td>\n",
       "      <td>2.650000</td>\n",
       "      <td>9.000000</td>\n",
       "      <td>30.300000</td>\n",
       "      <td>4.000000</td>\n",
       "      <td>9.100000</td>\n",
       "      <td>0.000000</td>\n",
       "      <td>...</td>\n",
       "      <td>455.000000</td>\n",
       "      <td>1.000000</td>\n",
       "      <td>502.000000</td>\n",
       "      <td>95.000000</td>\n",
       "      <td>95.000000</td>\n",
       "      <td>3.000000</td>\n",
       "      <td>6.000000</td>\n",
       "      <td>2017.000000</td>\n",
       "      <td>0.566596</td>\n",
       "      <td>0.172414</td>\n",
       "    </tr>\n",
       "    <tr>\n",
       "      <th>75%</th>\n",
       "      <td>14.000000</td>\n",
       "      <td>6800.000000</td>\n",
       "      <td>69.900000</td>\n",
       "      <td>3.000000</td>\n",
       "      <td>2.700000</td>\n",
       "      <td>16.000000</td>\n",
       "      <td>42.700000</td>\n",
       "      <td>8.000000</td>\n",
       "      <td>12.000000</td>\n",
       "      <td>1.000000</td>\n",
       "      <td>...</td>\n",
       "      <td>612.000000</td>\n",
       "      <td>1.000000</td>\n",
       "      <td>729.000000</td>\n",
       "      <td>232.000000</td>\n",
       "      <td>114.256326</td>\n",
       "      <td>4.000000</td>\n",
       "      <td>10.000000</td>\n",
       "      <td>2018.000000</td>\n",
       "      <td>0.638298</td>\n",
       "      <td>0.232416</td>\n",
       "    </tr>\n",
       "    <tr>\n",
       "      <th>max</th>\n",
       "      <td>50.000000</td>\n",
       "      <td>763000.000000</td>\n",
       "      <td>900.000000</td>\n",
       "      <td>19.000000</td>\n",
       "      <td>100.000000</td>\n",
       "      <td>60.000000</td>\n",
       "      <td>409.700000</td>\n",
       "      <td>33.000000</td>\n",
       "      <td>112.000000</td>\n",
       "      <td>5.000000</td>\n",
       "      <td>...</td>\n",
       "      <td>3190.000000</td>\n",
       "      <td>3.000000</td>\n",
       "      <td>1344.000000</td>\n",
       "      <td>1580.000000</td>\n",
       "      <td>1907.500000</td>\n",
       "      <td>6.000000</td>\n",
       "      <td>12.000000</td>\n",
       "      <td>2019.000000</td>\n",
       "      <td>1.514286</td>\n",
       "      <td>0.787879</td>\n",
       "    </tr>\n",
       "  </tbody>\n",
       "</table>\n",
       "<p>8 rows × 23 columns</p>\n",
       "</div>"
      ],
      "text/plain": [
       "       total_images     last_price    total_area         rooms  \\\n",
       "count  23699.000000   23699.000000  23699.000000  23699.000000   \n",
       "mean       9.858475    6541.548772     60.348651      2.070636   \n",
       "std        5.682529   10887.013268     35.654083      1.078405   \n",
       "min        0.000000      12.190000     12.000000      0.000000   \n",
       "25%        6.000000    3400.000000     40.000000      1.000000   \n",
       "50%        9.000000    4650.000000     52.000000      2.000000   \n",
       "75%       14.000000    6800.000000     69.900000      3.000000   \n",
       "max       50.000000  763000.000000    900.000000     19.000000   \n",
       "\n",
       "       ceiling_height  floors_total   living_area         floor  kitchen_area  \\\n",
       "count    23699.000000  23699.000000  23699.000000  23699.000000  21421.000000   \n",
       "mean         2.724358     10.671463     34.321982      5.892358     10.569807   \n",
       "std          0.988298      6.595802     21.700627      4.885249      5.905438   \n",
       "min          1.000000      1.000000      2.000000      1.000000      1.300000   \n",
       "25%          2.600000      5.000000     18.400000      2.000000      7.000000   \n",
       "50%          2.650000      9.000000     30.300000      4.000000      9.100000   \n",
       "75%          2.700000     16.000000     42.700000      8.000000     12.000000   \n",
       "max        100.000000     60.000000    409.700000     33.000000    112.000000   \n",
       "\n",
       "            balcony  ...  parks_nearest  ponds_around3000  ponds_nearest  \\\n",
       "count  23699.000000  ...    8079.000000      18181.000000    9110.000000   \n",
       "mean       0.591080  ...     490.804555          0.770255     517.980900   \n",
       "std        0.959298  ...     342.317995          0.938346     277.720643   \n",
       "min        0.000000  ...       1.000000          0.000000      13.000000   \n",
       "25%        0.000000  ...     288.000000          0.000000     294.000000   \n",
       "50%        0.000000  ...     455.000000          1.000000     502.000000   \n",
       "75%        1.000000  ...     612.000000          1.000000     729.000000   \n",
       "max        5.000000  ...    3190.000000          3.000000    1344.000000   \n",
       "\n",
       "       days_exposition      price_m3  weekday_exposition  month_exposition  \\\n",
       "count     20518.000000  23699.000000        23699.000000      23699.000000   \n",
       "mean        180.888634     99.421656            2.569307          6.400101   \n",
       "std         219.727988     50.306802            1.789082          3.491561   \n",
       "min           1.000000      0.111835            0.000000          1.000000   \n",
       "25%          45.000000     76.585470            1.000000          3.000000   \n",
       "50%          95.000000     95.000000            3.000000          6.000000   \n",
       "75%         232.000000    114.256326            4.000000         10.000000   \n",
       "max        1580.000000   1907.500000            6.000000         12.000000   \n",
       "\n",
       "       year_exposition  living_area_share  kitchen_area_share  \n",
       "count     23699.000000       23699.000000        21421.000000  \n",
       "mean       2017.367146           0.563845            0.187355  \n",
       "std           1.039771           0.110933            0.072968  \n",
       "min        2014.000000           0.021583            0.025381  \n",
       "25%        2017.000000           0.490326            0.133333  \n",
       "50%        2017.000000           0.566596            0.172414  \n",
       "75%        2018.000000           0.638298            0.232416  \n",
       "max        2019.000000           1.514286            0.787879  \n",
       "\n",
       "[8 rows x 23 columns]"
      ]
     },
     "execution_count": 210,
     "metadata": {},
     "output_type": "execute_result"
    }
   ],
   "source": [
    "data.describe()"
   ]
  },
  {
   "cell_type": "code",
   "execution_count": 211,
   "metadata": {},
   "outputs": [
    {
     "data": {
      "text/html": [
       "<div>\n",
       "<style scoped>\n",
       "    .dataframe tbody tr th:only-of-type {\n",
       "        vertical-align: middle;\n",
       "    }\n",
       "\n",
       "    .dataframe tbody tr th {\n",
       "        vertical-align: top;\n",
       "    }\n",
       "\n",
       "    .dataframe thead th {\n",
       "        text-align: right;\n",
       "    }\n",
       "</style>\n",
       "<table border=\"1\" class=\"dataframe\">\n",
       "  <thead>\n",
       "    <tr style=\"text-align: right;\">\n",
       "      <th></th>\n",
       "      <th>total_images</th>\n",
       "      <th>last_price</th>\n",
       "      <th>total_area</th>\n",
       "      <th>rooms</th>\n",
       "      <th>ceiling_height</th>\n",
       "      <th>floors_total</th>\n",
       "      <th>living_area</th>\n",
       "      <th>floor</th>\n",
       "      <th>kitchen_area</th>\n",
       "      <th>balcony</th>\n",
       "      <th>...</th>\n",
       "      <th>parks_nearest</th>\n",
       "      <th>ponds_around3000</th>\n",
       "      <th>ponds_nearest</th>\n",
       "      <th>days_exposition</th>\n",
       "      <th>price_m3</th>\n",
       "      <th>weekday_exposition</th>\n",
       "      <th>month_exposition</th>\n",
       "      <th>year_exposition</th>\n",
       "      <th>living_area_share</th>\n",
       "      <th>kitchen_area_share</th>\n",
       "    </tr>\n",
       "  </thead>\n",
       "  <tbody>\n",
       "    <tr>\n",
       "      <th>count</th>\n",
       "      <td>10291.0000</td>\n",
       "      <td>10291.000000</td>\n",
       "      <td>10291.000000</td>\n",
       "      <td>10291.000000</td>\n",
       "      <td>10291.000000</td>\n",
       "      <td>10291.000000</td>\n",
       "      <td>10291.000000</td>\n",
       "      <td>10291.000000</td>\n",
       "      <td>9076.000000</td>\n",
       "      <td>10291.000000</td>\n",
       "      <td>...</td>\n",
       "      <td>3370.000000</td>\n",
       "      <td>7812.000000</td>\n",
       "      <td>3840.000000</td>\n",
       "      <td>10291.000000</td>\n",
       "      <td>10291.000000</td>\n",
       "      <td>10291.000000</td>\n",
       "      <td>10291.000000</td>\n",
       "      <td>10291.000000</td>\n",
       "      <td>10291.000000</td>\n",
       "      <td>9076.000000</td>\n",
       "    </tr>\n",
       "    <tr>\n",
       "      <th>mean</th>\n",
       "      <td>9.7354</td>\n",
       "      <td>5924.671596</td>\n",
       "      <td>57.716816</td>\n",
       "      <td>2.005539</td>\n",
       "      <td>2.694203</td>\n",
       "      <td>10.938490</td>\n",
       "      <td>32.747641</td>\n",
       "      <td>6.034982</td>\n",
       "      <td>10.299663</td>\n",
       "      <td>0.596152</td>\n",
       "      <td>...</td>\n",
       "      <td>491.646884</td>\n",
       "      <td>0.744240</td>\n",
       "      <td>526.775260</td>\n",
       "      <td>108.178991</td>\n",
       "      <td>96.072979</td>\n",
       "      <td>2.617433</td>\n",
       "      <td>6.562239</td>\n",
       "      <td>2017.377223</td>\n",
       "      <td>0.562241</td>\n",
       "      <td>0.189620</td>\n",
       "    </tr>\n",
       "    <tr>\n",
       "      <th>std</th>\n",
       "      <td>5.6268</td>\n",
       "      <td>8627.211598</td>\n",
       "      <td>31.517280</td>\n",
       "      <td>1.019188</td>\n",
       "      <td>0.561402</td>\n",
       "      <td>6.742999</td>\n",
       "      <td>19.172005</td>\n",
       "      <td>5.025140</td>\n",
       "      <td>5.367332</td>\n",
       "      <td>0.955146</td>\n",
       "      <td>...</td>\n",
       "      <td>344.269214</td>\n",
       "      <td>0.918869</td>\n",
       "      <td>275.664277</td>\n",
       "      <td>52.310390</td>\n",
       "      <td>41.249731</td>\n",
       "      <td>1.798359</td>\n",
       "      <td>3.442784</td>\n",
       "      <td>0.746591</td>\n",
       "      <td>0.111873</td>\n",
       "      <td>0.072191</td>\n",
       "    </tr>\n",
       "    <tr>\n",
       "      <th>min</th>\n",
       "      <td>0.0000</td>\n",
       "      <td>440.000000</td>\n",
       "      <td>12.000000</td>\n",
       "      <td>0.000000</td>\n",
       "      <td>1.750000</td>\n",
       "      <td>1.000000</td>\n",
       "      <td>2.000000</td>\n",
       "      <td>1.000000</td>\n",
       "      <td>2.000000</td>\n",
       "      <td>0.000000</td>\n",
       "      <td>...</td>\n",
       "      <td>3.000000</td>\n",
       "      <td>0.000000</td>\n",
       "      <td>16.000000</td>\n",
       "      <td>45.000000</td>\n",
       "      <td>9.615385</td>\n",
       "      <td>0.000000</td>\n",
       "      <td>1.000000</td>\n",
       "      <td>2015.000000</td>\n",
       "      <td>0.038462</td>\n",
       "      <td>0.025381</td>\n",
       "    </tr>\n",
       "    <tr>\n",
       "      <th>25%</th>\n",
       "      <td>6.0000</td>\n",
       "      <td>3350.000000</td>\n",
       "      <td>40.000000</td>\n",
       "      <td>1.000000</td>\n",
       "      <td>2.600000</td>\n",
       "      <td>5.000000</td>\n",
       "      <td>18.000000</td>\n",
       "      <td>2.000000</td>\n",
       "      <td>7.000000</td>\n",
       "      <td>0.000000</td>\n",
       "      <td>...</td>\n",
       "      <td>287.250000</td>\n",
       "      <td>0.000000</td>\n",
       "      <td>311.750000</td>\n",
       "      <td>61.000000</td>\n",
       "      <td>75.505102</td>\n",
       "      <td>1.000000</td>\n",
       "      <td>3.000000</td>\n",
       "      <td>2017.000000</td>\n",
       "      <td>0.487584</td>\n",
       "      <td>0.136101</td>\n",
       "    </tr>\n",
       "    <tr>\n",
       "      <th>50%</th>\n",
       "      <td>9.0000</td>\n",
       "      <td>4500.000000</td>\n",
       "      <td>51.000000</td>\n",
       "      <td>2.000000</td>\n",
       "      <td>2.650000</td>\n",
       "      <td>9.000000</td>\n",
       "      <td>30.000000</td>\n",
       "      <td>4.000000</td>\n",
       "      <td>9.000000</td>\n",
       "      <td>0.000000</td>\n",
       "      <td>...</td>\n",
       "      <td>453.500000</td>\n",
       "      <td>0.000000</td>\n",
       "      <td>510.500000</td>\n",
       "      <td>95.000000</td>\n",
       "      <td>93.283582</td>\n",
       "      <td>3.000000</td>\n",
       "      <td>7.000000</td>\n",
       "      <td>2017.000000</td>\n",
       "      <td>0.563786</td>\n",
       "      <td>0.175000</td>\n",
       "    </tr>\n",
       "    <tr>\n",
       "      <th>75%</th>\n",
       "      <td>14.0000</td>\n",
       "      <td>6390.000000</td>\n",
       "      <td>66.800000</td>\n",
       "      <td>3.000000</td>\n",
       "      <td>2.700000</td>\n",
       "      <td>16.000000</td>\n",
       "      <td>41.000000</td>\n",
       "      <td>8.000000</td>\n",
       "      <td>11.732500</td>\n",
       "      <td>1.000000</td>\n",
       "      <td>...</td>\n",
       "      <td>620.000000</td>\n",
       "      <td>1.000000</td>\n",
       "      <td>737.500000</td>\n",
       "      <td>146.000000</td>\n",
       "      <td>111.111111</td>\n",
       "      <td>4.000000</td>\n",
       "      <td>10.000000</td>\n",
       "      <td>2018.000000</td>\n",
       "      <td>0.635714</td>\n",
       "      <td>0.234487</td>\n",
       "    </tr>\n",
       "    <tr>\n",
       "      <th>max</th>\n",
       "      <td>50.0000</td>\n",
       "      <td>420000.000000</td>\n",
       "      <td>900.000000</td>\n",
       "      <td>19.000000</td>\n",
       "      <td>27.500000</td>\n",
       "      <td>60.000000</td>\n",
       "      <td>409.700000</td>\n",
       "      <td>32.000000</td>\n",
       "      <td>112.000000</td>\n",
       "      <td>5.000000</td>\n",
       "      <td>...</td>\n",
       "      <td>3190.000000</td>\n",
       "      <td>3.000000</td>\n",
       "      <td>1344.000000</td>\n",
       "      <td>231.000000</td>\n",
       "      <td>995.983936</td>\n",
       "      <td>6.000000</td>\n",
       "      <td>12.000000</td>\n",
       "      <td>2019.000000</td>\n",
       "      <td>1.514286</td>\n",
       "      <td>0.787879</td>\n",
       "    </tr>\n",
       "  </tbody>\n",
       "</table>\n",
       "<p>8 rows × 23 columns</p>\n",
       "</div>"
      ],
      "text/plain": [
       "       total_images     last_price    total_area         rooms  \\\n",
       "count    10291.0000   10291.000000  10291.000000  10291.000000   \n",
       "mean         9.7354    5924.671596     57.716816      2.005539   \n",
       "std          5.6268    8627.211598     31.517280      1.019188   \n",
       "min          0.0000     440.000000     12.000000      0.000000   \n",
       "25%          6.0000    3350.000000     40.000000      1.000000   \n",
       "50%          9.0000    4500.000000     51.000000      2.000000   \n",
       "75%         14.0000    6390.000000     66.800000      3.000000   \n",
       "max         50.0000  420000.000000    900.000000     19.000000   \n",
       "\n",
       "       ceiling_height  floors_total   living_area         floor  kitchen_area  \\\n",
       "count    10291.000000  10291.000000  10291.000000  10291.000000   9076.000000   \n",
       "mean         2.694203     10.938490     32.747641      6.034982     10.299663   \n",
       "std          0.561402      6.742999     19.172005      5.025140      5.367332   \n",
       "min          1.750000      1.000000      2.000000      1.000000      2.000000   \n",
       "25%          2.600000      5.000000     18.000000      2.000000      7.000000   \n",
       "50%          2.650000      9.000000     30.000000      4.000000      9.000000   \n",
       "75%          2.700000     16.000000     41.000000      8.000000     11.732500   \n",
       "max         27.500000     60.000000    409.700000     32.000000    112.000000   \n",
       "\n",
       "            balcony  ...  parks_nearest  ponds_around3000  ponds_nearest  \\\n",
       "count  10291.000000  ...    3370.000000       7812.000000    3840.000000   \n",
       "mean       0.596152  ...     491.646884          0.744240     526.775260   \n",
       "std        0.955146  ...     344.269214          0.918869     275.664277   \n",
       "min        0.000000  ...       3.000000          0.000000      16.000000   \n",
       "25%        0.000000  ...     287.250000          0.000000     311.750000   \n",
       "50%        0.000000  ...     453.500000          0.000000     510.500000   \n",
       "75%        1.000000  ...     620.000000          1.000000     737.500000   \n",
       "max        5.000000  ...    3190.000000          3.000000    1344.000000   \n",
       "\n",
       "       days_exposition      price_m3  weekday_exposition  month_exposition  \\\n",
       "count     10291.000000  10291.000000        10291.000000      10291.000000   \n",
       "mean        108.178991     96.072979            2.617433          6.562239   \n",
       "std          52.310390     41.249731            1.798359          3.442784   \n",
       "min          45.000000      9.615385            0.000000          1.000000   \n",
       "25%          61.000000     75.505102            1.000000          3.000000   \n",
       "50%          95.000000     93.283582            3.000000          7.000000   \n",
       "75%         146.000000    111.111111            4.000000         10.000000   \n",
       "max         231.000000    995.983936            6.000000         12.000000   \n",
       "\n",
       "       year_exposition  living_area_share  kitchen_area_share  \n",
       "count     10291.000000       10291.000000         9076.000000  \n",
       "mean       2017.377223           0.562241            0.189620  \n",
       "std           0.746591           0.111873            0.072191  \n",
       "min        2015.000000           0.038462            0.025381  \n",
       "25%        2017.000000           0.487584            0.136101  \n",
       "50%        2017.000000           0.563786            0.175000  \n",
       "75%        2018.000000           0.635714            0.234487  \n",
       "max        2019.000000           1.514286            0.787879  \n",
       "\n",
       "[8 rows x 23 columns]"
      ]
     },
     "execution_count": 211,
     "metadata": {},
     "output_type": "execute_result"
    }
   ],
   "source": [
    "data_clear.describe()"
   ]
  },
  {
   "cell_type": "code",
   "execution_count": null,
   "metadata": {},
   "outputs": [],
   "source": []
  },
  {
   "cell_type": "markdown",
   "metadata": {},
   "source": [
    "Датасет очищен от выпадающих значений. в колонке Last_price значительно изменилось среднее значение, но видно что стандартное отклонение при этом значительно уменьшилось, значит данные остались более достоверные. По остальным столбцам изменения незначительны."
   ]
  },
  {
   "cell_type": "markdown",
   "metadata": {},
   "source": [
    "### Какие факторы больше всего влияют на стоимость квартиры? "
   ]
  },
  {
   "cell_type": "markdown",
   "metadata": {},
   "source": [
    "Изучите, зависит ли цена от площади, числа комнат, удалённости от центра. Изучите зависимость цены от того, на каком этаже расположена квартира: первом, последнем или другом. Также изучите зависимость от даты размещения: дня недели, месяца и года."
   ]
  },
  {
   "cell_type": "code",
   "execution_count": 212,
   "metadata": {},
   "outputs": [
    {
     "data": {
      "text/plain": [
       "0.7417052653396032"
      ]
     },
     "execution_count": 212,
     "metadata": {},
     "output_type": "execute_result"
    }
   ],
   "source": [
    "data_clear['total_area'].corr(data_clear['last_price'])"
   ]
  },
  {
   "cell_type": "code",
   "execution_count": 213,
   "metadata": {},
   "outputs": [
    {
     "data": {
      "text/plain": [
       "<AxesSubplot:xlabel='total_area'>"
      ]
     },
     "execution_count": 213,
     "metadata": {},
     "output_type": "execute_result"
    },
    {
     "data": {
      "image/png": "[encoded data removed]",
      "text/plain": [
       "<Figure size 432x288 with 1 Axes>"
      ]
     },
     "metadata": {
      "needs_background": "light"
     },
     "output_type": "display_data"
    }
   ],
   "source": [
    "data_clear.query('40 < total_area < 66.8').groupby('total_area')['last_price'].mean().plot(x='last_price', y='total_area')"
   ]
  },
  {
   "cell_type": "code",
   "execution_count": 214,
   "metadata": {},
   "outputs": [
    {
     "data": {
      "text/plain": [
       "0.39345120446642307"
      ]
     },
     "execution_count": 214,
     "metadata": {},
     "output_type": "execute_result"
    }
   ],
   "source": [
    "data_clear['rooms'].corr(data_clear['last_price'])"
   ]
  },
  {
   "cell_type": "code",
   "execution_count": 215,
   "metadata": {},
   "outputs": [
    {
     "data": {
      "text/plain": [
       "<AxesSubplot:xlabel='rooms'>"
      ]
     },
     "execution_count": 215,
     "metadata": {},
     "output_type": "execute_result"
    },
    {
     "data": {
      "image/png": "[encoded data removed]",
      "text/plain": [
       "<Figure size 432x288 with 1 Axes>"
      ]
     },
     "metadata": {
      "needs_background": "light"
     },
     "output_type": "display_data"
    }
   ],
   "source": [
    "data_clear.groupby('rooms')['last_price'].mean().plot(x='last_price', y='rooms')"
   ]
  },
  {
   "cell_type": "code",
   "execution_count": 216,
   "metadata": {},
   "outputs": [
    {
     "data": {
      "text/plain": [
       "count     7812.000000\n",
       "mean     14515.640937\n",
       "std       8371.231338\n",
       "min        208.000000\n",
       "25%       9833.500000\n",
       "50%      13302.500000\n",
       "75%      16506.750000\n",
       "max      64857.000000\n",
       "Name: cityCenters_nearest, dtype: float64"
      ]
     },
     "execution_count": 216,
     "metadata": {},
     "output_type": "execute_result"
    }
   ],
   "source": [
    "data_clear['cityCenters_nearest'].describe()"
   ]
  },
  {
   "cell_type": "code",
   "execution_count": 217,
   "metadata": {},
   "outputs": [
    {
     "data": {
      "text/plain": [
       "-0.2076462283088796"
      ]
     },
     "execution_count": 217,
     "metadata": {},
     "output_type": "execute_result"
    }
   ],
   "source": [
    "data_clear['cityCenters_nearest'].corr(data_clear['last_price'])"
   ]
  },
  {
   "cell_type": "code",
   "execution_count": 218,
   "metadata": {},
   "outputs": [
    {
     "data": {
      "text/plain": [
       "<AxesSubplot:xlabel='cityCenters_nearest'>"
      ]
     },
     "execution_count": 218,
     "metadata": {},
     "output_type": "execute_result"
    },
    {
     "data": {
      "image/png": "[encoded data removed]",
      "text/plain": [
       "<Figure size 432x288 with 1 Axes>"
      ]
     },
     "metadata": {
      "needs_background": "light"
     },
     "output_type": "display_data"
    }
   ],
   "source": [
    "data_clear.query('11577 <cityCenters_nearest < 16422').groupby('cityCenters_nearest')['last_price'].mean().plot(x='last_price', y='cityCenters_nearest')"
   ]
  },
  {
   "cell_type": "markdown",
   "metadata": {},
   "source": [
    "На графике видна зависимость цены от площади помещения. Количество комнат от 1 до 3 влияет на цену, от 3 до 5 - влияние на цену незначительное. Удаленность от центра на цену не влияет. "
   ]
  },
  {
   "cell_type": "markdown",
   "metadata": {},
   "source": [
    "### Выберите 10 населённых пунктов с наибольшим числом объявлений. "
   ]
  },
  {
   "cell_type": "markdown",
   "metadata": {},
   "source": [
    "Посчитайте среднюю цену квадратного метра в этих населённых пунктах. Выделите населённые пункты с самой высокой и низкой стоимостью жилья. Эти данные можно найти по имени в столбце locality_name."
   ]
  },
  {
   "cell_type": "code",
   "execution_count": 219,
   "metadata": {},
   "outputs": [
    {
     "data": {
      "text/plain": [
       "Санкт-Петербург      6676\n",
       "посёлок Мурино        258\n",
       "посёлок Шушары        229\n",
       "Всеволожск            171\n",
       "Колпино               164\n",
       "посёлок Парголово     158\n",
       "Пушкин                146\n",
       "деревня Кудрово       146\n",
       "Гатчина               140\n",
       "Выборг                116\n",
       "Name: locality_name, dtype: int64"
      ]
     },
     "execution_count": 219,
     "metadata": {},
     "output_type": "execute_result"
    }
   ],
   "source": [
    "data_clear['locality_name'].value_counts().head(10)"
   ]
  },
  {
   "cell_type": "code",
   "execution_count": 220,
   "metadata": {},
   "outputs": [],
   "source": [
    "data_pivot = data_clear.pivot_table(index='locality_name',\n",
    "                values='price_m3',\n",
    "                aggfunc=['count', 'mean'])"
   ]
  },
  {
   "cell_type": "code",
   "execution_count": 221,
   "metadata": {},
   "outputs": [],
   "source": [
    "data_pivot.columns = ['price_count', 'price_mean']"
   ]
  },
  {
   "cell_type": "code",
   "execution_count": 222,
   "metadata": {},
   "outputs": [],
   "source": [
    "data_piv_sort = data_pivot.sort_values('price_count', ascending=False).head(10)"
   ]
  },
  {
   "cell_type": "code",
   "execution_count": 223,
   "metadata": {},
   "outputs": [
    {
     "data": {
      "text/html": [
       "<div>\n",
       "<style scoped>\n",
       "    .dataframe tbody tr th:only-of-type {\n",
       "        vertical-align: middle;\n",
       "    }\n",
       "\n",
       "    .dataframe tbody tr th {\n",
       "        vertical-align: top;\n",
       "    }\n",
       "\n",
       "    .dataframe thead th {\n",
       "        text-align: right;\n",
       "    }\n",
       "</style>\n",
       "<table border=\"1\" class=\"dataframe\">\n",
       "  <thead>\n",
       "    <tr style=\"text-align: right;\">\n",
       "      <th></th>\n",
       "      <th>price_count</th>\n",
       "      <th>price_mean</th>\n",
       "    </tr>\n",
       "    <tr>\n",
       "      <th>locality_name</th>\n",
       "      <th></th>\n",
       "      <th></th>\n",
       "    </tr>\n",
       "  </thead>\n",
       "  <tbody>\n",
       "    <tr>\n",
       "      <th>Санкт-Петербург</th>\n",
       "      <td>6676</td>\n",
       "      <td>110.900250</td>\n",
       "    </tr>\n",
       "    <tr>\n",
       "      <th>Пушкин</th>\n",
       "      <td>146</td>\n",
       "      <td>99.825677</td>\n",
       "    </tr>\n",
       "    <tr>\n",
       "      <th>деревня Кудрово</th>\n",
       "      <td>146</td>\n",
       "      <td>92.616432</td>\n",
       "    </tr>\n",
       "    <tr>\n",
       "      <th>посёлок Парголово</th>\n",
       "      <td>158</td>\n",
       "      <td>88.677462</td>\n",
       "    </tr>\n",
       "    <tr>\n",
       "      <th>посёлок Мурино</th>\n",
       "      <td>258</td>\n",
       "      <td>85.569498</td>\n",
       "    </tr>\n",
       "    <tr>\n",
       "      <th>посёлок Шушары</th>\n",
       "      <td>229</td>\n",
       "      <td>78.724576</td>\n",
       "    </tr>\n",
       "    <tr>\n",
       "      <th>Колпино</th>\n",
       "      <td>164</td>\n",
       "      <td>74.419518</td>\n",
       "    </tr>\n",
       "    <tr>\n",
       "      <th>Всеволожск</th>\n",
       "      <td>171</td>\n",
       "      <td>67.593995</td>\n",
       "    </tr>\n",
       "    <tr>\n",
       "      <th>Гатчина</th>\n",
       "      <td>140</td>\n",
       "      <td>66.970028</td>\n",
       "    </tr>\n",
       "    <tr>\n",
       "      <th>Выборг</th>\n",
       "      <td>116</td>\n",
       "      <td>57.035350</td>\n",
       "    </tr>\n",
       "  </tbody>\n",
       "</table>\n",
       "</div>"
      ],
      "text/plain": [
       "                   price_count  price_mean\n",
       "locality_name                             \n",
       "Санкт-Петербург           6676  110.900250\n",
       "Пушкин                     146   99.825677\n",
       "деревня Кудрово            146   92.616432\n",
       "посёлок Парголово          158   88.677462\n",
       "посёлок Мурино             258   85.569498\n",
       "посёлок Шушары             229   78.724576\n",
       "Колпино                    164   74.419518\n",
       "Всеволожск                 171   67.593995\n",
       "Гатчина                    140   66.970028\n",
       "Выборг                     116   57.035350"
      ]
     },
     "execution_count": 223,
     "metadata": {},
     "output_type": "execute_result"
    }
   ],
   "source": [
    "data_piv_sort.sort_values('price_mean', ascending=False)"
   ]
  },
  {
   "cell_type": "markdown",
   "metadata": {},
   "source": [
    "Самая высокая стоимость жилья в г. Санкг-Петербург, самая низкая - в г. Выборг"
   ]
  },
  {
   "cell_type": "markdown",
   "metadata": {},
   "source": [
    "### Изучите предложения квартир: "
   ]
  },
  {
   "cell_type": "markdown",
   "metadata": {},
   "source": [
    "для каждой квартиры есть информация о расстоянии до центра. Выделите квартиры в Санкт-Петербурге (locality_name). Ваша задача — выяснить, какая область входит в центр. Создайте столбец с расстоянием до центра в километрах: округлите до целых значений. После этого посчитайте среднюю цену для каждого километра. Постройте график: он должен показывать, как цена зависит от удалённости от центра. Определите границу, где график сильно меняется, — это и будет центральная зона."
   ]
  },
  {
   "cell_type": "code",
   "execution_count": 224,
   "metadata": {},
   "outputs": [],
   "source": [
    "data_spb = data_clear.query('locality_name==\"Санкт-Петербург\"')"
   ]
  },
  {
   "cell_type": "code",
   "execution_count": 225,
   "metadata": {},
   "outputs": [],
   "source": [
    "data_spb['center_distance'] = round(data_spb['cityCenters_nearest']/1000)"
   ]
  },
  {
   "cell_type": "code",
   "execution_count": 226,
   "metadata": {},
   "outputs": [
    {
     "data": {
      "text/plain": [
       "-0.25239782002244715"
      ]
     },
     "execution_count": 226,
     "metadata": {},
     "output_type": "execute_result"
    }
   ],
   "source": [
    "data_spb['center_distance'].corr(data_spb['last_price'])"
   ]
  },
  {
   "cell_type": "code",
   "execution_count": 227,
   "metadata": {},
   "outputs": [
    {
     "data": {
      "text/plain": [
       "<AxesSubplot:xlabel='center_distance'>"
      ]
     },
     "execution_count": 227,
     "metadata": {},
     "output_type": "execute_result"
    },
    {
     "data": {
      "image/png": "[encoded data removed]",
      "text/plain": [
       "<Figure size 432x288 with 1 Axes>"
      ]
     },
     "metadata": {
      "needs_background": "light"
     },
     "output_type": "display_data"
    }
   ],
   "source": [
    "data_spb.groupby('center_distance')['last_price'].mean().plot()"
   ]
  },
  {
   "cell_type": "markdown",
   "metadata": {},
   "source": [
    "Средняя цена держится примерно на одном уровне до 7 км, затем снижается, можно сделать вывод что цена зависит от расстояния до центра."
   ]
  },
  {
   "cell_type": "markdown",
   "metadata": {},
   "source": [
    "### Выделите сегмент квартир в центре."
   ]
  },
  {
   "cell_type": "markdown",
   "metadata": {},
   "source": [
    " Проанализируйте эту территорию и изучите следующие параметры: площадь, цена, число комнат, высота потолков. Также выделите факторы, которые влияют на стоимость квартиры (число комнат, этаж, удалённость от центра, дата размещения объявления). Сделайте выводы. Отличаются ли они от общих выводов по всей базе?"
   ]
  },
  {
   "cell_type": "code",
   "execution_count": 228,
   "metadata": {},
   "outputs": [],
   "source": [
    "data_spb_center = data_spb.query('center_distance < 7')"
   ]
  },
  {
   "cell_type": "code",
   "execution_count": 229,
   "metadata": {},
   "outputs": [
    {
     "data": {
      "text/plain": [
       "0.4092316741594768"
      ]
     },
     "execution_count": 229,
     "metadata": {},
     "output_type": "execute_result"
    }
   ],
   "source": [
    "data_spb['rooms'].corr(data_spb['last_price'])"
   ]
  },
  {
   "cell_type": "code",
   "execution_count": 230,
   "metadata": {},
   "outputs": [
    {
     "data": {
      "text/plain": [
       "<AxesSubplot:xlabel='rooms'>"
      ]
     },
     "execution_count": 230,
     "metadata": {},
     "output_type": "execute_result"
    },
    {
     "data": {
      "image/png": "[encoded data removed]",
      "text/plain": [
       "<Figure size 432x288 with 1 Axes>"
      ]
     },
     "metadata": {
      "needs_background": "light"
     },
     "output_type": "display_data"
    }
   ],
   "source": [
    "data_spb_center.groupby('rooms')['last_price'].mean().plot()"
   ]
  },
  {
   "cell_type": "code",
   "execution_count": 231,
   "metadata": {},
   "outputs": [
    {
     "data": {
      "text/plain": [
       "0.024595610794048674"
      ]
     },
     "execution_count": 231,
     "metadata": {},
     "output_type": "execute_result"
    }
   ],
   "source": [
    "data_spb['floor'].corr(data_spb['last_price'])"
   ]
  },
  {
   "cell_type": "code",
   "execution_count": 232,
   "metadata": {},
   "outputs": [
    {
     "data": {
      "text/plain": [
       "<AxesSubplot:xlabel='floor'>"
      ]
     },
     "execution_count": 232,
     "metadata": {},
     "output_type": "execute_result"
    },
    {
     "data": {
      "image/png": "[encoded data removed]",
      "text/plain": [
       "<Figure size 432x288 with 1 Axes>"
      ]
     },
     "metadata": {
      "needs_background": "light"
     },
     "output_type": "display_data"
    }
   ],
   "source": [
    "data_spb_center.groupby('floor')['last_price'].mean().plot()"
   ]
  },
  {
   "cell_type": "code",
   "execution_count": 233,
   "metadata": {},
   "outputs": [
    {
     "data": {
      "text/plain": [
       "-0.25239782002244715"
      ]
     },
     "execution_count": 233,
     "metadata": {},
     "output_type": "execute_result"
    }
   ],
   "source": [
    "data_spb['center_distance'].corr(data_spb['last_price'])"
   ]
  },
  {
   "cell_type": "code",
   "execution_count": 234,
   "metadata": {},
   "outputs": [
    {
     "data": {
      "text/plain": [
       "<AxesSubplot:xlabel='center_distance'>"
      ]
     },
     "execution_count": 234,
     "metadata": {},
     "output_type": "execute_result"
    },
    {
     "data": {
      "image/png": "[encoded data removed]",
      "text/plain": [
       "<Figure size 432x288 with 1 Axes>"
      ]
     },
     "metadata": {
      "needs_background": "light"
     },
     "output_type": "display_data"
    }
   ],
   "source": [
    "data_spb_center.groupby('center_distance')['last_price'].mean().plot()"
   ]
  },
  {
   "cell_type": "code",
   "execution_count": 235,
   "metadata": {},
   "outputs": [
    {
     "data": {
      "text/plain": [
       "<AxesSubplot:xlabel='first_day_exposition'>"
      ]
     },
     "execution_count": 235,
     "metadata": {},
     "output_type": "execute_result"
    },
    {
     "data": {
      "image/png": "[encoded data removed]",
      "text/plain": [
       "<Figure size 432x288 with 1 Axes>"
      ]
     },
     "metadata": {
      "needs_background": "light"
     },
     "output_type": "display_data"
    }
   ],
   "source": [
    "data_spb_center.groupby('first_day_exposition')['last_price'].mean().plot()"
   ]
  },
  {
   "cell_type": "markdown",
   "metadata": {},
   "source": [
    "На графиках видна зависимость цены от удаленности от центра. Дата размещения объявления и этаж не влияют на цену помещения. Количество комнат до 7 влияет на цену, далее влияние на цену незначительное."
   ]
  },
  {
   "cell_type": "markdown",
   "metadata": {},
   "source": [
    "## Общий вывод"
   ]
  },
  {
   "cell_type": "markdown",
   "metadata": {},
   "source": [
    "Получены данные архив объявлений о продаже квартир в Санкт-Петербурге и соседних населённых пунктах за несколько лет. В таблице были пропущены важные для анализа данные, некоторые были заменены на медианное значение, некоторые оставила без изменения, т.к. исправление могло исказить результат анализа.\n",
    "Сначала был проведен анализ всей базы объявлений. Была выявлена зависимость цены квартиры от площади и удаленности от центра.\n",
    "Далее проведен анализ квартир, расположенных в центре Санкт-Петербурга. Также видна зависимости цены от удаленности от центра.  "
   ]
  },
  {
   "cell_type": "code",
   "execution_count": null,
   "metadata": {},
   "outputs": [],
   "source": []
  }
 ],
 "metadata": {
  "ExecuteTimeLog": [
   {
    "duration": 639,
    "start_time": "2022-02-23T18:36:50.861Z"
   },
   {
    "duration": 9,
    "start_time": "2022-02-23T18:38:47.713Z"
   },
   {
    "duration": 86,
    "start_time": "2022-02-23T18:39:09.003Z"
   },
   {
    "duration": 89,
    "start_time": "2022-02-23T18:39:20.461Z"
   },
   {
    "duration": 12,
    "start_time": "2022-02-23T18:39:22.962Z"
   },
   {
    "duration": 61,
    "start_time": "2022-02-23T18:39:35.369Z"
   },
   {
    "duration": 64,
    "start_time": "2022-02-23T18:39:38.799Z"
   },
   {
    "duration": 12,
    "start_time": "2022-02-23T18:39:40.530Z"
   },
   {
    "duration": 6,
    "start_time": "2022-02-23T18:59:11.322Z"
   },
   {
    "duration": 13,
    "start_time": "2022-02-23T18:59:42.596Z"
   },
   {
    "duration": 3,
    "start_time": "2022-02-23T19:00:41.381Z"
   },
   {
    "duration": 14,
    "start_time": "2022-02-23T19:00:42.924Z"
   },
   {
    "duration": 32,
    "start_time": "2022-02-23T19:01:38.043Z"
   },
   {
    "duration": 74,
    "start_time": "2022-02-23T19:05:07.961Z"
   },
   {
    "duration": 25,
    "start_time": "2022-02-23T19:05:08.037Z"
   },
   {
    "duration": 10,
    "start_time": "2022-02-23T19:05:08.064Z"
   },
   {
    "duration": 5,
    "start_time": "2022-02-23T19:05:08.075Z"
   },
   {
    "duration": 6,
    "start_time": "2022-02-23T19:05:08.081Z"
   },
   {
    "duration": 14,
    "start_time": "2022-02-23T19:05:08.089Z"
   },
   {
    "duration": 5,
    "start_time": "2022-02-23T19:05:49.770Z"
   },
   {
    "duration": 5,
    "start_time": "2022-02-23T19:06:10.355Z"
   },
   {
    "duration": 5,
    "start_time": "2022-02-23T19:06:16.193Z"
   },
   {
    "duration": 62,
    "start_time": "2022-02-23T19:06:21.703Z"
   },
   {
    "duration": 6,
    "start_time": "2022-02-23T19:06:21.767Z"
   },
   {
    "duration": 14,
    "start_time": "2022-02-23T19:06:21.775Z"
   },
   {
    "duration": 5,
    "start_time": "2022-02-23T19:06:21.790Z"
   },
   {
    "duration": 9,
    "start_time": "2022-02-23T19:06:21.797Z"
   },
   {
    "duration": 12,
    "start_time": "2022-02-23T19:06:21.807Z"
   },
   {
    "duration": 5,
    "start_time": "2022-02-23T19:06:43.068Z"
   },
   {
    "duration": 6,
    "start_time": "2022-02-23T19:10:43.131Z"
   },
   {
    "duration": 11,
    "start_time": "2022-02-23T19:10:48.908Z"
   },
   {
    "duration": 23,
    "start_time": "2022-02-23T19:11:21.108Z"
   },
   {
    "duration": 24,
    "start_time": "2022-02-23T19:15:52.359Z"
   },
   {
    "duration": 469,
    "start_time": "2022-02-23T19:20:01.424Z"
   },
   {
    "duration": 35,
    "start_time": "2022-02-23T19:20:18.252Z"
   },
   {
    "duration": 9,
    "start_time": "2022-02-23T19:25:23.879Z"
   },
   {
    "duration": 13,
    "start_time": "2022-02-23T19:25:30.247Z"
   },
   {
    "duration": 39,
    "start_time": "2022-02-23T19:28:49.069Z"
   },
   {
    "duration": 194,
    "start_time": "2022-02-23T19:32:19.968Z"
   },
   {
    "duration": 689,
    "start_time": "2022-02-23T19:37:51.495Z"
   },
   {
    "duration": 6,
    "start_time": "2022-02-23T19:38:43.160Z"
   },
   {
    "duration": 59,
    "start_time": "2022-02-23T19:39:27.091Z"
   },
   {
    "duration": 193,
    "start_time": "2022-02-23T19:39:36.478Z"
   },
   {
    "duration": 41,
    "start_time": "2022-02-23T19:40:02.066Z"
   },
   {
    "duration": 5,
    "start_time": "2022-02-23T19:40:32.073Z"
   },
   {
    "duration": 39,
    "start_time": "2022-02-23T19:40:34.368Z"
   },
   {
    "duration": 178,
    "start_time": "2022-02-23T19:42:31.304Z"
   },
   {
    "duration": 179,
    "start_time": "2022-02-23T19:42:39.303Z"
   },
   {
    "duration": 9,
    "start_time": "2022-02-23T19:53:28.523Z"
   },
   {
    "duration": 39,
    "start_time": "2022-02-23T19:53:36.575Z"
   },
   {
    "duration": 10,
    "start_time": "2022-02-23T19:53:44.291Z"
   },
   {
    "duration": 47,
    "start_time": "2022-02-23T19:54:07.251Z"
   },
   {
    "duration": 8,
    "start_time": "2022-02-23T19:55:06.653Z"
   },
   {
    "duration": 187,
    "start_time": "2022-02-23T19:56:06.782Z"
   },
   {
    "duration": 7,
    "start_time": "2022-02-23T19:56:27.319Z"
   },
   {
    "duration": 4,
    "start_time": "2022-02-23T19:59:16.240Z"
   },
   {
    "duration": 2207,
    "start_time": "2022-02-23T19:59:43.042Z"
   },
   {
    "duration": 2282,
    "start_time": "2022-02-23T20:00:12.009Z"
   },
   {
    "duration": 262,
    "start_time": "2022-02-23T20:00:14.030Z"
   },
   {
    "duration": 60,
    "start_time": "2022-02-23T20:00:39.194Z"
   },
   {
    "duration": 11,
    "start_time": "2022-02-23T20:00:39.256Z"
   },
   {
    "duration": 6,
    "start_time": "2022-02-23T20:00:39.269Z"
   },
   {
    "duration": 5,
    "start_time": "2022-02-23T20:00:39.277Z"
   },
   {
    "duration": 10,
    "start_time": "2022-02-23T20:00:39.284Z"
   },
   {
    "duration": 7,
    "start_time": "2022-02-23T20:00:39.295Z"
   },
   {
    "duration": 7,
    "start_time": "2022-02-23T20:00:39.304Z"
   },
   {
    "duration": 10,
    "start_time": "2022-02-23T20:00:39.312Z"
   },
   {
    "duration": 43,
    "start_time": "2022-02-23T20:00:39.323Z"
   },
   {
    "duration": 162,
    "start_time": "2022-02-23T20:00:39.368Z"
   },
   {
    "duration": 4,
    "start_time": "2022-02-23T20:07:51.559Z"
   },
   {
    "duration": 6,
    "start_time": "2022-02-23T20:07:53.144Z"
   },
   {
    "duration": 196,
    "start_time": "2022-02-23T20:11:12.848Z"
   },
   {
    "duration": 195,
    "start_time": "2022-02-23T20:11:21.234Z"
   },
   {
    "duration": 175,
    "start_time": "2022-02-23T20:11:38.770Z"
   },
   {
    "duration": 7,
    "start_time": "2022-02-23T20:11:58.737Z"
   },
   {
    "duration": 16,
    "start_time": "2022-02-23T20:13:02.412Z"
   },
   {
    "duration": 7,
    "start_time": "2022-02-23T20:13:03.737Z"
   },
   {
    "duration": 11,
    "start_time": "2022-02-23T20:14:55.323Z"
   },
   {
    "duration": 188,
    "start_time": "2022-02-23T20:19:05.875Z"
   },
   {
    "duration": 7,
    "start_time": "2022-02-23T20:20:00.310Z"
   },
   {
    "duration": 177,
    "start_time": "2022-02-23T20:20:50.334Z"
   },
   {
    "duration": 6,
    "start_time": "2022-02-23T20:20:59.286Z"
   },
   {
    "duration": 664,
    "start_time": "2022-02-24T06:06:47.852Z"
   },
   {
    "duration": 11,
    "start_time": "2022-02-24T06:06:48.518Z"
   },
   {
    "duration": 5,
    "start_time": "2022-02-24T06:06:48.531Z"
   },
   {
    "duration": 6,
    "start_time": "2022-02-24T06:06:48.538Z"
   },
   {
    "duration": 10,
    "start_time": "2022-02-24T06:06:48.546Z"
   },
   {
    "duration": 10,
    "start_time": "2022-02-24T06:06:48.558Z"
   },
   {
    "duration": 20,
    "start_time": "2022-02-24T06:06:48.569Z"
   },
   {
    "duration": 5,
    "start_time": "2022-02-24T06:06:48.591Z"
   },
   {
    "duration": 13,
    "start_time": "2022-02-24T06:06:48.598Z"
   },
   {
    "duration": 5,
    "start_time": "2022-02-24T06:06:48.613Z"
   },
   {
    "duration": 408,
    "start_time": "2022-02-24T06:07:38.337Z"
   },
   {
    "duration": 5,
    "start_time": "2022-02-24T06:07:49.536Z"
   },
   {
    "duration": 384,
    "start_time": "2022-02-24T06:13:22.505Z"
   },
   {
    "duration": 21,
    "start_time": "2022-02-24T06:13:29.560Z"
   },
   {
    "duration": 91,
    "start_time": "2022-02-24T06:16:38.410Z"
   },
   {
    "duration": 14,
    "start_time": "2022-02-24T06:16:38.503Z"
   },
   {
    "duration": 7,
    "start_time": "2022-02-24T06:16:38.520Z"
   },
   {
    "duration": 23,
    "start_time": "2022-02-24T06:16:38.528Z"
   },
   {
    "duration": 8,
    "start_time": "2022-02-24T06:16:38.553Z"
   },
   {
    "duration": 24,
    "start_time": "2022-02-24T06:16:38.563Z"
   },
   {
    "duration": 18,
    "start_time": "2022-02-24T06:16:38.588Z"
   },
   {
    "duration": 39,
    "start_time": "2022-02-24T06:16:38.608Z"
   },
   {
    "duration": 9,
    "start_time": "2022-02-24T06:16:38.649Z"
   },
   {
    "duration": 5,
    "start_time": "2022-02-24T06:16:38.659Z"
   },
   {
    "duration": 75,
    "start_time": "2022-02-24T06:18:14.091Z"
   },
   {
    "duration": 10,
    "start_time": "2022-02-24T06:18:14.167Z"
   },
   {
    "duration": 5,
    "start_time": "2022-02-24T06:18:14.178Z"
   },
   {
    "duration": 5,
    "start_time": "2022-02-24T06:18:14.185Z"
   },
   {
    "duration": 11,
    "start_time": "2022-02-24T06:18:14.191Z"
   },
   {
    "duration": 21,
    "start_time": "2022-02-24T06:18:14.203Z"
   },
   {
    "duration": 13,
    "start_time": "2022-02-24T06:18:14.246Z"
   },
   {
    "duration": 20,
    "start_time": "2022-02-24T06:18:14.262Z"
   },
   {
    "duration": 8,
    "start_time": "2022-02-24T06:18:14.284Z"
   },
   {
    "duration": 4,
    "start_time": "2022-02-24T06:18:14.294Z"
   },
   {
    "duration": 22,
    "start_time": "2022-02-24T07:28:45.382Z"
   },
   {
    "duration": 74,
    "start_time": "2022-02-24T07:28:52.136Z"
   },
   {
    "duration": 19,
    "start_time": "2022-02-24T07:28:52.211Z"
   },
   {
    "duration": 13,
    "start_time": "2022-02-24T07:28:52.232Z"
   },
   {
    "duration": 4,
    "start_time": "2022-02-24T07:28:52.247Z"
   },
   {
    "duration": 6,
    "start_time": "2022-02-24T07:28:52.253Z"
   },
   {
    "duration": 10,
    "start_time": "2022-02-24T07:28:52.260Z"
   },
   {
    "duration": 19,
    "start_time": "2022-02-24T07:28:52.271Z"
   },
   {
    "duration": 9,
    "start_time": "2022-02-24T07:28:52.292Z"
   },
   {
    "duration": 5,
    "start_time": "2022-02-24T07:28:52.302Z"
   },
   {
    "duration": 589,
    "start_time": "2022-02-27T16:51:47.858Z"
   },
   {
    "duration": 27,
    "start_time": "2022-02-27T16:51:48.448Z"
   },
   {
    "duration": 9,
    "start_time": "2022-02-27T16:51:48.476Z"
   },
   {
    "duration": 17,
    "start_time": "2022-02-27T16:51:48.487Z"
   },
   {
    "duration": 4,
    "start_time": "2022-02-27T16:51:48.505Z"
   },
   {
    "duration": 9,
    "start_time": "2022-02-27T16:51:48.511Z"
   },
   {
    "duration": 8,
    "start_time": "2022-02-27T16:51:48.521Z"
   },
   {
    "duration": 6,
    "start_time": "2022-02-27T16:51:48.531Z"
   },
   {
    "duration": 8,
    "start_time": "2022-02-27T16:53:07.634Z"
   },
   {
    "duration": 355,
    "start_time": "2022-02-27T17:10:37.822Z"
   },
   {
    "duration": 302,
    "start_time": "2022-02-27T17:10:48.780Z"
   },
   {
    "duration": 101,
    "start_time": "2022-02-27T17:12:20.983Z"
   },
   {
    "duration": 90,
    "start_time": "2022-02-27T17:12:34.696Z"
   },
   {
    "duration": 5,
    "start_time": "2022-02-27T17:18:51.311Z"
   },
   {
    "duration": 20,
    "start_time": "2022-02-27T17:19:02.101Z"
   },
   {
    "duration": 5,
    "start_time": "2022-02-27T17:19:39.928Z"
   },
   {
    "duration": 354,
    "start_time": "2022-02-27T17:21:02.622Z"
   },
   {
    "duration": 7,
    "start_time": "2022-02-27T17:21:31.854Z"
   },
   {
    "duration": 5,
    "start_time": "2022-02-27T17:21:38.746Z"
   },
   {
    "duration": 5,
    "start_time": "2022-02-27T17:21:42.342Z"
   },
   {
    "duration": 6,
    "start_time": "2022-02-27T17:22:07.213Z"
   },
   {
    "duration": 312,
    "start_time": "2022-02-27T17:23:30.019Z"
   },
   {
    "duration": 4,
    "start_time": "2022-02-27T17:23:59.319Z"
   },
   {
    "duration": 7,
    "start_time": "2022-02-27T17:24:06.038Z"
   },
   {
    "duration": 90,
    "start_time": "2022-02-27T17:24:37.870Z"
   },
   {
    "duration": 4,
    "start_time": "2022-02-27T17:24:52.648Z"
   },
   {
    "duration": 6,
    "start_time": "2022-02-27T17:24:56.702Z"
   },
   {
    "duration": 2,
    "start_time": "2022-02-27T17:43:40.749Z"
   },
   {
    "duration": 273,
    "start_time": "2022-02-27T17:43:45.642Z"
   },
   {
    "duration": 3508,
    "start_time": "2022-02-27T17:45:19.095Z"
   },
   {
    "duration": 277,
    "start_time": "2022-02-27T17:47:46.962Z"
   },
   {
    "duration": 331,
    "start_time": "2022-02-27T17:47:56.319Z"
   },
   {
    "duration": 73,
    "start_time": "2022-02-27T17:48:08.850Z"
   },
   {
    "duration": 19,
    "start_time": "2022-02-27T17:48:08.925Z"
   },
   {
    "duration": 9,
    "start_time": "2022-02-27T17:48:08.946Z"
   },
   {
    "duration": 4,
    "start_time": "2022-02-27T17:48:08.957Z"
   },
   {
    "duration": 4,
    "start_time": "2022-02-27T17:48:08.963Z"
   },
   {
    "duration": 398,
    "start_time": "2022-02-27T17:48:08.968Z"
   },
   {
    "duration": 7261,
    "start_time": "2022-02-27T17:48:02.107Z"
   },
   {
    "duration": 7244,
    "start_time": "2022-02-27T17:48:02.125Z"
   },
   {
    "duration": 8,
    "start_time": "2022-02-27T17:48:34.997Z"
   },
   {
    "duration": 10,
    "start_time": "2022-02-27T17:48:39.552Z"
   },
   {
    "duration": 9,
    "start_time": "2022-02-27T17:48:48.313Z"
   },
   {
    "duration": 10,
    "start_time": "2022-02-27T17:48:52.694Z"
   },
   {
    "duration": 6,
    "start_time": "2022-02-27T17:49:18.093Z"
   },
   {
    "duration": 283,
    "start_time": "2022-02-27T17:49:41.118Z"
   },
   {
    "duration": 5,
    "start_time": "2022-02-27T17:49:47.867Z"
   },
   {
    "duration": 383,
    "start_time": "2022-02-27T20:58:06.119Z"
   },
   {
    "duration": 828,
    "start_time": "2022-02-27T20:58:18.343Z"
   },
   {
    "duration": 43,
    "start_time": "2022-02-27T20:58:19.174Z"
   },
   {
    "duration": 24,
    "start_time": "2022-02-27T20:58:19.220Z"
   },
   {
    "duration": 7,
    "start_time": "2022-02-27T20:58:19.247Z"
   },
   {
    "duration": 5,
    "start_time": "2022-02-27T20:58:19.257Z"
   },
   {
    "duration": 10,
    "start_time": "2022-02-27T20:58:19.264Z"
   },
   {
    "duration": 15,
    "start_time": "2022-02-27T20:58:19.276Z"
   },
   {
    "duration": 7,
    "start_time": "2022-02-27T20:58:19.333Z"
   },
   {
    "duration": 12,
    "start_time": "2022-02-27T20:58:46.699Z"
   },
   {
    "duration": 17,
    "start_time": "2022-02-27T20:58:49.916Z"
   },
   {
    "duration": 10,
    "start_time": "2022-02-27T20:59:06.690Z"
   },
   {
    "duration": 15,
    "start_time": "2022-02-27T20:59:09.149Z"
   },
   {
    "duration": 1807,
    "start_time": "2022-02-27T20:59:33.036Z"
   },
   {
    "duration": 59,
    "start_time": "2022-02-27T21:00:47.273Z"
   },
   {
    "duration": 10,
    "start_time": "2022-02-27T21:04:30.387Z"
   },
   {
    "duration": 14,
    "start_time": "2022-02-27T21:04:33.443Z"
   },
   {
    "duration": 9,
    "start_time": "2022-02-27T21:04:53.978Z"
   },
   {
    "duration": 15,
    "start_time": "2022-02-27T21:04:57.144Z"
   },
   {
    "duration": 4,
    "start_time": "2022-02-27T21:09:34.434Z"
   },
   {
    "duration": 3,
    "start_time": "2022-02-27T21:10:03.296Z"
   },
   {
    "duration": 1243,
    "start_time": "2022-02-27T21:12:08.523Z"
   },
   {
    "duration": 1155,
    "start_time": "2022-02-27T21:12:19.185Z"
   },
   {
    "duration": 338,
    "start_time": "2022-02-27T21:12:35.594Z"
   },
   {
    "duration": 296,
    "start_time": "2022-02-27T21:15:32.469Z"
   },
   {
    "duration": 7,
    "start_time": "2022-02-27T21:15:46.302Z"
   },
   {
    "duration": 15,
    "start_time": "2022-02-27T21:15:53.972Z"
   },
   {
    "duration": 3,
    "start_time": "2022-02-27T21:20:51.048Z"
   },
   {
    "duration": 302,
    "start_time": "2022-02-27T21:22:44.972Z"
   },
   {
    "duration": 321,
    "start_time": "2022-02-27T21:25:01.380Z"
   },
   {
    "duration": 318,
    "start_time": "2022-02-27T21:26:16.001Z"
   },
   {
    "duration": 4,
    "start_time": "2022-02-27T21:26:24.304Z"
   },
   {
    "duration": 14,
    "start_time": "2022-02-27T21:26:31.057Z"
   },
   {
    "duration": 4,
    "start_time": "2022-02-27T21:26:58.593Z"
   },
   {
    "duration": 55,
    "start_time": "2022-02-27T21:27:05.525Z"
   },
   {
    "duration": 324,
    "start_time": "2022-02-27T21:28:02.390Z"
   },
   {
    "duration": 28,
    "start_time": "2022-02-27T21:28:21.831Z"
   },
   {
    "duration": 13,
    "start_time": "2022-02-27T21:28:33.607Z"
   },
   {
    "duration": 290,
    "start_time": "2022-02-27T21:29:35.146Z"
   },
   {
    "duration": 304,
    "start_time": "2022-02-27T21:30:02.284Z"
   },
   {
    "duration": 10,
    "start_time": "2022-02-27T21:30:10.727Z"
   },
   {
    "duration": 16,
    "start_time": "2022-02-27T21:33:38.074Z"
   },
   {
    "duration": 11,
    "start_time": "2022-02-27T21:47:47.989Z"
   },
   {
    "duration": 15,
    "start_time": "2022-02-27T21:47:53.381Z"
   },
   {
    "duration": 323,
    "start_time": "2022-02-27T21:48:07.488Z"
   },
   {
    "duration": 15,
    "start_time": "2022-02-27T21:48:18.071Z"
   },
   {
    "duration": 25,
    "start_time": "2022-02-27T21:48:20.962Z"
   },
   {
    "duration": 297,
    "start_time": "2022-02-27T21:59:05.709Z"
   },
   {
    "duration": 9,
    "start_time": "2022-02-27T21:59:30.394Z"
   },
   {
    "duration": 16,
    "start_time": "2022-02-27T21:59:33.777Z"
   },
   {
    "duration": 6,
    "start_time": "2022-02-27T22:01:41.202Z"
   },
   {
    "duration": 15,
    "start_time": "2022-02-27T22:01:44.192Z"
   },
   {
    "duration": 304,
    "start_time": "2022-02-27T22:02:33.667Z"
   },
   {
    "duration": 304,
    "start_time": "2022-02-27T22:02:56.561Z"
   },
   {
    "duration": 119,
    "start_time": "2022-02-27T22:03:23.303Z"
   },
   {
    "duration": 314,
    "start_time": "2022-02-27T22:03:30.090Z"
   },
   {
    "duration": 318,
    "start_time": "2022-02-27T22:03:40.896Z"
   },
   {
    "duration": 7,
    "start_time": "2022-02-27T22:04:01.309Z"
   },
   {
    "duration": 8,
    "start_time": "2022-02-27T22:04:52.669Z"
   },
   {
    "duration": 16,
    "start_time": "2022-02-27T22:04:56.477Z"
   },
   {
    "duration": 954,
    "start_time": "2022-02-28T11:35:24.959Z"
   },
   {
    "duration": 52,
    "start_time": "2022-02-28T11:35:25.916Z"
   },
   {
    "duration": 15,
    "start_time": "2022-02-28T11:35:25.970Z"
   },
   {
    "duration": 7,
    "start_time": "2022-02-28T11:35:25.988Z"
   },
   {
    "duration": 6,
    "start_time": "2022-02-28T11:35:25.997Z"
   },
   {
    "duration": 31,
    "start_time": "2022-02-28T11:35:26.006Z"
   },
   {
    "duration": 6,
    "start_time": "2022-02-28T11:35:26.040Z"
   },
   {
    "duration": 13,
    "start_time": "2022-02-28T11:35:26.051Z"
   },
   {
    "duration": 3,
    "start_time": "2022-02-28T11:35:26.067Z"
   },
   {
    "duration": 4,
    "start_time": "2022-02-28T11:35:26.072Z"
   },
   {
    "duration": 4,
    "start_time": "2022-02-28T11:35:26.079Z"
   },
   {
    "duration": 59,
    "start_time": "2022-02-28T11:35:26.085Z"
   },
   {
    "duration": 9,
    "start_time": "2022-02-28T11:35:26.147Z"
   },
   {
    "duration": 68,
    "start_time": "2022-02-28T11:36:14.416Z"
   },
   {
    "duration": 11,
    "start_time": "2022-02-28T11:37:17.711Z"
   },
   {
    "duration": 9,
    "start_time": "2022-02-28T11:40:07.795Z"
   },
   {
    "duration": 13,
    "start_time": "2022-02-28T11:44:23.249Z"
   },
   {
    "duration": 240,
    "start_time": "2022-02-28T14:04:44.942Z"
   },
   {
    "duration": 648,
    "start_time": "2022-02-28T14:04:50.907Z"
   },
   {
    "duration": 30,
    "start_time": "2022-02-28T14:04:51.557Z"
   },
   {
    "duration": 16,
    "start_time": "2022-02-28T14:04:51.589Z"
   },
   {
    "duration": 11,
    "start_time": "2022-02-28T14:04:51.607Z"
   },
   {
    "duration": 15,
    "start_time": "2022-02-28T14:04:51.619Z"
   },
   {
    "duration": 12,
    "start_time": "2022-02-28T14:04:51.636Z"
   },
   {
    "duration": 12,
    "start_time": "2022-02-28T14:04:51.651Z"
   },
   {
    "duration": 18,
    "start_time": "2022-02-28T14:04:51.666Z"
   },
   {
    "duration": 6,
    "start_time": "2022-02-28T14:04:51.686Z"
   },
   {
    "duration": 11,
    "start_time": "2022-02-28T14:04:51.693Z"
   },
   {
    "duration": 10,
    "start_time": "2022-02-28T14:04:51.705Z"
   },
   {
    "duration": 15,
    "start_time": "2022-02-28T14:04:51.717Z"
   },
   {
    "duration": 7,
    "start_time": "2022-02-28T14:04:51.733Z"
   },
   {
    "duration": 13,
    "start_time": "2022-02-28T14:04:51.742Z"
   },
   {
    "duration": 284,
    "start_time": "2022-02-28T14:25:06.749Z"
   },
   {
    "duration": 214,
    "start_time": "2022-02-28T14:25:18.860Z"
   },
   {
    "duration": 235,
    "start_time": "2022-02-28T14:25:27.436Z"
   },
   {
    "duration": 11,
    "start_time": "2022-02-28T14:25:36.140Z"
   },
   {
    "duration": 16,
    "start_time": "2022-02-28T14:26:56.123Z"
   },
   {
    "duration": 16,
    "start_time": "2022-02-28T14:27:11.843Z"
   },
   {
    "duration": 200,
    "start_time": "2022-02-28T14:31:45.564Z"
   },
   {
    "duration": 14,
    "start_time": "2022-02-28T14:34:11.350Z"
   },
   {
    "duration": 12,
    "start_time": "2022-02-28T14:34:25.277Z"
   },
   {
    "duration": 324,
    "start_time": "2022-03-01T06:56:51.966Z"
   },
   {
    "duration": 675,
    "start_time": "2022-03-01T06:57:01.071Z"
   },
   {
    "duration": 29,
    "start_time": "2022-03-01T06:57:01.748Z"
   },
   {
    "duration": 28,
    "start_time": "2022-03-01T06:57:01.779Z"
   },
   {
    "duration": 9,
    "start_time": "2022-03-01T06:57:01.808Z"
   },
   {
    "duration": 22,
    "start_time": "2022-03-01T06:57:01.819Z"
   },
   {
    "duration": 36,
    "start_time": "2022-03-01T06:57:01.843Z"
   },
   {
    "duration": 40,
    "start_time": "2022-03-01T06:57:01.880Z"
   },
   {
    "duration": 43,
    "start_time": "2022-03-01T06:57:01.922Z"
   },
   {
    "duration": 25,
    "start_time": "2022-03-01T06:57:01.967Z"
   },
   {
    "duration": 63,
    "start_time": "2022-03-01T06:57:01.993Z"
   },
   {
    "duration": 1,
    "start_time": "2022-03-01T06:57:02.058Z"
   },
   {
    "duration": 20,
    "start_time": "2022-03-01T06:57:02.061Z"
   },
   {
    "duration": 12,
    "start_time": "2022-03-01T06:57:02.083Z"
   },
   {
    "duration": 20,
    "start_time": "2022-03-01T06:57:02.096Z"
   },
   {
    "duration": 12,
    "start_time": "2022-03-01T06:57:32.596Z"
   },
   {
    "duration": 13,
    "start_time": "2022-03-01T06:57:53.003Z"
   },
   {
    "duration": 601,
    "start_time": "2022-03-07T12:27:47.237Z"
   },
   {
    "duration": 25,
    "start_time": "2022-03-07T12:27:47.839Z"
   },
   {
    "duration": 9,
    "start_time": "2022-03-07T12:27:47.866Z"
   },
   {
    "duration": 5,
    "start_time": "2022-03-07T12:27:47.877Z"
   },
   {
    "duration": 3,
    "start_time": "2022-03-07T12:27:47.901Z"
   },
   {
    "duration": 6,
    "start_time": "2022-03-07T12:27:47.905Z"
   },
   {
    "duration": 3,
    "start_time": "2022-03-07T12:27:47.913Z"
   },
   {
    "duration": 6,
    "start_time": "2022-03-07T12:27:47.918Z"
   },
   {
    "duration": 2,
    "start_time": "2022-03-07T12:27:47.925Z"
   },
   {
    "duration": 16,
    "start_time": "2022-03-07T12:27:47.928Z"
   },
   {
    "duration": 2,
    "start_time": "2022-03-07T12:27:47.945Z"
   },
   {
    "duration": 11,
    "start_time": "2022-03-07T12:27:47.949Z"
   },
   {
    "duration": 4,
    "start_time": "2022-03-07T12:27:47.961Z"
   },
   {
    "duration": 37,
    "start_time": "2022-03-07T12:27:47.966Z"
   },
   {
    "duration": 607,
    "start_time": "2022-03-11T09:26:56.107Z"
   },
   {
    "duration": 29,
    "start_time": "2022-03-11T09:26:56.716Z"
   },
   {
    "duration": 20,
    "start_time": "2022-03-11T09:26:56.747Z"
   },
   {
    "duration": 7,
    "start_time": "2022-03-11T09:26:56.769Z"
   },
   {
    "duration": 5,
    "start_time": "2022-03-11T09:26:56.777Z"
   },
   {
    "duration": 6,
    "start_time": "2022-03-11T09:26:56.784Z"
   },
   {
    "duration": 5,
    "start_time": "2022-03-11T09:26:56.791Z"
   },
   {
    "duration": 8,
    "start_time": "2022-03-11T09:26:56.797Z"
   },
   {
    "duration": 2,
    "start_time": "2022-03-11T09:26:56.808Z"
   },
   {
    "duration": 53,
    "start_time": "2022-03-11T09:26:56.812Z"
   },
   {
    "duration": 3234,
    "start_time": "2022-03-11T09:26:56.867Z"
   },
   {
    "duration": -440,
    "start_time": "2022-03-11T09:27:00.543Z"
   },
   {
    "duration": -441,
    "start_time": "2022-03-11T09:27:00.545Z"
   },
   {
    "duration": -441,
    "start_time": "2022-03-11T09:27:00.546Z"
   },
   {
    "duration": -441,
    "start_time": "2022-03-11T09:27:00.547Z"
   },
   {
    "duration": 63,
    "start_time": "2022-03-11T09:27:30.087Z"
   },
   {
    "duration": 23,
    "start_time": "2022-03-11T09:27:30.152Z"
   },
   {
    "duration": 11,
    "start_time": "2022-03-11T09:27:30.177Z"
   },
   {
    "duration": 10,
    "start_time": "2022-03-11T09:27:30.189Z"
   },
   {
    "duration": 12,
    "start_time": "2022-03-11T09:27:30.200Z"
   },
   {
    "duration": 12,
    "start_time": "2022-03-11T09:27:30.213Z"
   },
   {
    "duration": 11,
    "start_time": "2022-03-11T09:27:30.227Z"
   },
   {
    "duration": 10,
    "start_time": "2022-03-11T09:27:30.239Z"
   },
   {
    "duration": 12,
    "start_time": "2022-03-11T09:27:30.251Z"
   },
   {
    "duration": 22,
    "start_time": "2022-03-11T09:27:30.265Z"
   },
   {
    "duration": 2,
    "start_time": "2022-03-11T09:27:30.288Z"
   },
   {
    "duration": 11,
    "start_time": "2022-03-11T09:27:30.292Z"
   },
   {
    "duration": 13,
    "start_time": "2022-03-11T09:27:30.304Z"
   },
   {
    "duration": 7,
    "start_time": "2022-03-11T09:27:30.319Z"
   },
   {
    "duration": 35,
    "start_time": "2022-03-11T09:27:30.328Z"
   },
   {
    "duration": 233,
    "start_time": "2022-03-11T09:49:13.996Z"
   },
   {
    "duration": 236,
    "start_time": "2022-03-11T09:49:40.397Z"
   },
   {
    "duration": 3,
    "start_time": "2022-03-11T09:52:15.099Z"
   },
   {
    "duration": 277,
    "start_time": "2022-03-11T09:53:03.051Z"
   },
   {
    "duration": 283,
    "start_time": "2022-03-11T10:02:23.743Z"
   },
   {
    "duration": 239,
    "start_time": "2022-03-11T10:03:46.823Z"
   },
   {
    "duration": 237,
    "start_time": "2022-03-11T10:06:51.845Z"
   },
   {
    "duration": 60,
    "start_time": "2022-03-11T10:07:59.344Z"
   },
   {
    "duration": 260,
    "start_time": "2022-03-11T10:08:05.467Z"
   },
   {
    "duration": 60,
    "start_time": "2022-03-11T10:11:41.947Z"
   },
   {
    "duration": 23,
    "start_time": "2022-03-11T10:11:42.008Z"
   },
   {
    "duration": 10,
    "start_time": "2022-03-11T10:11:42.034Z"
   },
   {
    "duration": 5,
    "start_time": "2022-03-11T10:11:42.063Z"
   },
   {
    "duration": 7,
    "start_time": "2022-03-11T10:11:42.070Z"
   },
   {
    "duration": 8,
    "start_time": "2022-03-11T10:11:42.079Z"
   },
   {
    "duration": 7,
    "start_time": "2022-03-11T10:11:42.088Z"
   },
   {
    "duration": 9,
    "start_time": "2022-03-11T10:11:42.096Z"
   },
   {
    "duration": 2,
    "start_time": "2022-03-11T10:11:42.107Z"
   },
   {
    "duration": 17,
    "start_time": "2022-03-11T10:11:42.111Z"
   },
   {
    "duration": 232,
    "start_time": "2022-03-11T10:11:42.130Z"
   },
   {
    "duration": -146,
    "start_time": "2022-03-11T10:11:42.509Z"
   },
   {
    "duration": -147,
    "start_time": "2022-03-11T10:11:42.511Z"
   },
   {
    "duration": -147,
    "start_time": "2022-03-11T10:11:42.512Z"
   },
   {
    "duration": -147,
    "start_time": "2022-03-11T10:11:42.513Z"
   },
   {
    "duration": -147,
    "start_time": "2022-03-11T10:11:42.514Z"
   },
   {
    "duration": 229,
    "start_time": "2022-03-11T10:12:23.510Z"
   },
   {
    "duration": 942,
    "start_time": "2022-03-11T10:12:41.825Z"
   },
   {
    "duration": 3,
    "start_time": "2022-03-11T10:14:54.601Z"
   },
   {
    "duration": 3,
    "start_time": "2022-03-11T10:15:29.833Z"
   },
   {
    "duration": 232,
    "start_time": "2022-03-11T10:15:34.553Z"
   },
   {
    "duration": 484,
    "start_time": "2022-03-11T10:15:56.409Z"
   },
   {
    "duration": 59,
    "start_time": "2022-03-11T10:23:22.979Z"
   },
   {
    "duration": 21,
    "start_time": "2022-03-11T10:23:23.040Z"
   },
   {
    "duration": 28,
    "start_time": "2022-03-11T10:23:23.063Z"
   },
   {
    "duration": 9,
    "start_time": "2022-03-11T10:23:23.093Z"
   },
   {
    "duration": 22,
    "start_time": "2022-03-11T10:23:23.103Z"
   },
   {
    "duration": 18,
    "start_time": "2022-03-11T10:23:23.127Z"
   },
   {
    "duration": 16,
    "start_time": "2022-03-11T10:23:23.146Z"
   },
   {
    "duration": 25,
    "start_time": "2022-03-11T10:23:23.164Z"
   },
   {
    "duration": 4,
    "start_time": "2022-03-11T10:23:23.190Z"
   },
   {
    "duration": 28,
    "start_time": "2022-03-11T10:23:23.195Z"
   },
   {
    "duration": 7,
    "start_time": "2022-03-11T10:23:23.224Z"
   },
   {
    "duration": 11,
    "start_time": "2022-03-11T10:23:23.232Z"
   },
   {
    "duration": 11,
    "start_time": "2022-03-11T10:23:23.244Z"
   },
   {
    "duration": 12,
    "start_time": "2022-03-11T10:23:23.256Z"
   },
   {
    "duration": 6,
    "start_time": "2022-03-11T10:23:23.269Z"
   },
   {
    "duration": 18,
    "start_time": "2022-03-11T10:23:23.277Z"
   },
   {
    "duration": 233,
    "start_time": "2022-03-11T10:24:47.041Z"
   },
   {
    "duration": 230,
    "start_time": "2022-03-11T10:24:53.193Z"
   },
   {
    "duration": 3,
    "start_time": "2022-03-11T10:25:02.099Z"
   },
   {
    "duration": 236,
    "start_time": "2022-03-11T10:25:03.834Z"
   },
   {
    "duration": 233,
    "start_time": "2022-03-11T10:28:19.986Z"
   },
   {
    "duration": 250,
    "start_time": "2022-03-11T10:28:25.673Z"
   },
   {
    "duration": 5,
    "start_time": "2022-03-11T10:59:52.433Z"
   },
   {
    "duration": 239,
    "start_time": "2022-03-11T11:02:24.081Z"
   },
   {
    "duration": 9,
    "start_time": "2022-03-11T11:02:34.637Z"
   },
   {
    "duration": 5,
    "start_time": "2022-03-11T11:02:40.948Z"
   },
   {
    "duration": 6,
    "start_time": "2022-03-11T11:04:05.950Z"
   },
   {
    "duration": 6,
    "start_time": "2022-03-11T11:04:08.794Z"
   },
   {
    "duration": 7,
    "start_time": "2022-03-11T11:04:59.000Z"
   },
   {
    "duration": 7,
    "start_time": "2022-03-11T11:05:52.163Z"
   },
   {
    "duration": 2,
    "start_time": "2022-03-11T11:06:59.882Z"
   },
   {
    "duration": 5,
    "start_time": "2022-03-11T11:07:43.130Z"
   },
   {
    "duration": 4,
    "start_time": "2022-03-11T11:08:03.707Z"
   },
   {
    "duration": 4,
    "start_time": "2022-03-11T11:08:22.317Z"
   },
   {
    "duration": 4,
    "start_time": "2022-03-11T11:08:33.382Z"
   },
   {
    "duration": 37,
    "start_time": "2022-03-11T11:08:41.137Z"
   },
   {
    "duration": 219,
    "start_time": "2022-03-11T17:43:49.517Z"
   },
   {
    "duration": 172,
    "start_time": "2022-03-11T17:44:32.019Z"
   },
   {
    "duration": 167,
    "start_time": "2022-03-11T17:44:48.828Z"
   },
   {
    "duration": 221,
    "start_time": "2022-03-11T17:45:20.156Z"
   },
   {
    "duration": 291,
    "start_time": "2022-03-11T17:45:42.802Z"
   },
   {
    "duration": 221,
    "start_time": "2022-03-11T17:45:51.854Z"
   },
   {
    "duration": 204,
    "start_time": "2022-03-11T17:46:01.209Z"
   },
   {
    "duration": 197,
    "start_time": "2022-03-11T17:46:15.612Z"
   },
   {
    "duration": 221,
    "start_time": "2022-03-11T17:46:31.028Z"
   },
   {
    "duration": 309,
    "start_time": "2022-03-11T17:46:40.411Z"
   },
   {
    "duration": 2,
    "start_time": "2022-03-11T17:48:19.324Z"
   },
   {
    "duration": 565,
    "start_time": "2022-03-11T17:50:23.070Z"
   },
   {
    "duration": 80,
    "start_time": "2022-03-11T18:02:02.548Z"
   },
   {
    "duration": 3,
    "start_time": "2022-03-11T18:02:41.236Z"
   },
   {
    "duration": 3,
    "start_time": "2022-03-11T18:02:44.604Z"
   },
   {
    "duration": 3,
    "start_time": "2022-03-11T18:02:54.593Z"
   },
   {
    "duration": 631,
    "start_time": "2022-03-11T18:04:29.981Z"
   },
   {
    "duration": 64,
    "start_time": "2022-03-11T18:04:35.466Z"
   },
   {
    "duration": 33,
    "start_time": "2022-03-11T18:04:35.532Z"
   },
   {
    "duration": 26,
    "start_time": "2022-03-11T18:04:35.567Z"
   },
   {
    "duration": 24,
    "start_time": "2022-03-11T18:04:35.594Z"
   },
   {
    "duration": 18,
    "start_time": "2022-03-11T18:04:35.619Z"
   },
   {
    "duration": 23,
    "start_time": "2022-03-11T18:04:35.639Z"
   },
   {
    "duration": 28,
    "start_time": "2022-03-11T18:04:35.664Z"
   },
   {
    "duration": 18,
    "start_time": "2022-03-11T18:04:35.695Z"
   },
   {
    "duration": 6,
    "start_time": "2022-03-11T18:04:35.715Z"
   },
   {
    "duration": 18,
    "start_time": "2022-03-11T18:04:35.722Z"
   },
   {
    "duration": 2,
    "start_time": "2022-03-11T18:04:35.741Z"
   },
   {
    "duration": 4,
    "start_time": "2022-03-11T18:04:35.745Z"
   },
   {
    "duration": 5,
    "start_time": "2022-03-11T18:04:35.750Z"
   },
   {
    "duration": 11,
    "start_time": "2022-03-11T18:04:35.756Z"
   },
   {
    "duration": 5,
    "start_time": "2022-03-11T18:04:35.769Z"
   },
   {
    "duration": 5,
    "start_time": "2022-03-11T18:04:35.775Z"
   },
   {
    "duration": 3,
    "start_time": "2022-03-11T18:04:35.782Z"
   },
   {
    "duration": 9,
    "start_time": "2022-03-11T18:04:35.786Z"
   },
   {
    "duration": 17,
    "start_time": "2022-03-11T18:04:35.796Z"
   },
   {
    "duration": 5,
    "start_time": "2022-03-11T18:04:35.814Z"
   },
   {
    "duration": 4,
    "start_time": "2022-03-11T18:04:35.821Z"
   },
   {
    "duration": 3,
    "start_time": "2022-03-11T18:04:35.827Z"
   },
   {
    "duration": 579,
    "start_time": "2022-03-11T18:04:35.833Z"
   },
   {
    "duration": 3,
    "start_time": "2022-03-11T18:04:36.414Z"
   },
   {
    "duration": 7,
    "start_time": "2022-03-11T18:04:36.419Z"
   },
   {
    "duration": 40,
    "start_time": "2022-03-11T18:04:36.428Z"
   },
   {
    "duration": 204,
    "start_time": "2022-03-11T18:04:36.469Z"
   },
   {
    "duration": 206,
    "start_time": "2022-03-11T18:04:36.675Z"
   },
   {
    "duration": 217,
    "start_time": "2022-03-11T18:04:36.883Z"
   },
   {
    "duration": 218,
    "start_time": "2022-03-11T18:04:37.102Z"
   },
   {
    "duration": 2,
    "start_time": "2022-03-11T18:04:37.322Z"
   },
   {
    "duration": 514,
    "start_time": "2022-03-11T18:04:37.325Z"
   },
   {
    "duration": 5,
    "start_time": "2022-03-11T18:06:50.388Z"
   },
   {
    "duration": 7,
    "start_time": "2022-03-11T18:06:52.499Z"
   },
   {
    "duration": 35,
    "start_time": "2022-03-11T18:07:11.901Z"
   },
   {
    "duration": 5,
    "start_time": "2022-03-11T18:07:39.796Z"
   },
   {
    "duration": 51,
    "start_time": "2022-03-11T18:07:44.157Z"
   },
   {
    "duration": 244,
    "start_time": "2022-03-11T18:09:24.173Z"
   },
   {
    "duration": 418,
    "start_time": "2022-03-11T18:09:44.597Z"
   },
   {
    "duration": 540,
    "start_time": "2022-03-11T18:10:01.085Z"
   },
   {
    "duration": 211,
    "start_time": "2022-03-11T18:10:06.077Z"
   },
   {
    "duration": 208,
    "start_time": "2022-03-11T18:10:35.981Z"
   },
   {
    "duration": 5,
    "start_time": "2022-03-11T18:10:58.614Z"
   },
   {
    "duration": 258,
    "start_time": "2022-03-11T18:11:16.452Z"
   },
   {
    "duration": 186,
    "start_time": "2022-03-11T18:11:39.621Z"
   },
   {
    "duration": 5,
    "start_time": "2022-03-11T18:11:49.830Z"
   },
   {
    "duration": 4,
    "start_time": "2022-03-11T18:11:58.492Z"
   },
   {
    "duration": 7,
    "start_time": "2022-03-11T18:12:01.541Z"
   },
   {
    "duration": 6,
    "start_time": "2022-03-11T18:12:33.548Z"
   },
   {
    "duration": 11,
    "start_time": "2022-03-11T18:12:43.862Z"
   },
   {
    "duration": 257,
    "start_time": "2022-03-11T18:14:32.653Z"
   },
   {
    "duration": 880,
    "start_time": "2022-03-13T08:21:32.674Z"
   },
   {
    "duration": 52,
    "start_time": "2022-03-13T08:21:33.558Z"
   },
   {
    "duration": 16,
    "start_time": "2022-03-13T08:21:33.614Z"
   },
   {
    "duration": 16,
    "start_time": "2022-03-13T08:21:33.633Z"
   },
   {
    "duration": 32,
    "start_time": "2022-03-13T08:21:33.651Z"
   },
   {
    "duration": 19,
    "start_time": "2022-03-13T08:21:33.685Z"
   },
   {
    "duration": 21,
    "start_time": "2022-03-13T08:21:33.707Z"
   },
   {
    "duration": 12,
    "start_time": "2022-03-13T08:21:33.732Z"
   },
   {
    "duration": 34,
    "start_time": "2022-03-13T08:21:33.747Z"
   },
   {
    "duration": 47,
    "start_time": "2022-03-13T08:21:33.783Z"
   },
   {
    "duration": 3,
    "start_time": "2022-03-13T08:21:33.833Z"
   },
   {
    "duration": 31,
    "start_time": "2022-03-13T08:21:33.838Z"
   },
   {
    "duration": 18,
    "start_time": "2022-03-13T08:21:33.871Z"
   },
   {
    "duration": 47,
    "start_time": "2022-03-13T08:21:33.891Z"
   },
   {
    "duration": 15,
    "start_time": "2022-03-13T08:21:33.940Z"
   },
   {
    "duration": 29,
    "start_time": "2022-03-13T08:21:33.958Z"
   },
   {
    "duration": 12,
    "start_time": "2022-03-13T08:21:33.990Z"
   },
   {
    "duration": 35,
    "start_time": "2022-03-13T08:21:34.005Z"
   },
   {
    "duration": 31,
    "start_time": "2022-03-13T08:21:34.042Z"
   },
   {
    "duration": 17,
    "start_time": "2022-03-13T08:21:34.076Z"
   },
   {
    "duration": 25,
    "start_time": "2022-03-13T08:21:34.095Z"
   },
   {
    "duration": 5,
    "start_time": "2022-03-13T08:21:34.123Z"
   },
   {
    "duration": 1113,
    "start_time": "2022-03-13T08:21:34.133Z"
   },
   {
    "duration": 5,
    "start_time": "2022-03-13T08:21:35.249Z"
   },
   {
    "duration": 20,
    "start_time": "2022-03-13T08:21:35.257Z"
   },
   {
    "duration": 75,
    "start_time": "2022-03-13T08:21:35.280Z"
   },
   {
    "duration": 520,
    "start_time": "2022-03-13T08:21:35.358Z"
   },
   {
    "duration": 364,
    "start_time": "2022-03-13T08:21:35.880Z"
   },
   {
    "duration": 378,
    "start_time": "2022-03-13T08:21:36.246Z"
   },
   {
    "duration": 370,
    "start_time": "2022-03-13T08:21:36.626Z"
   },
   {
    "duration": 479,
    "start_time": "2022-03-13T08:21:36.999Z"
   },
   {
    "duration": 12,
    "start_time": "2022-03-13T08:21:37.481Z"
   },
   {
    "duration": 836,
    "start_time": "2022-03-13T08:21:37.495Z"
   },
   {
    "duration": 12,
    "start_time": "2022-03-13T08:33:02.928Z"
   },
   {
    "duration": 11,
    "start_time": "2022-03-13T08:33:08.741Z"
   },
   {
    "duration": 120,
    "start_time": "2022-03-13T08:33:26.250Z"
   },
   {
    "duration": 15,
    "start_time": "2022-03-13T08:33:50.747Z"
   },
   {
    "duration": 184,
    "start_time": "2022-03-13T08:33:51.698Z"
   },
   {
    "duration": 16,
    "start_time": "2022-03-13T08:35:11.775Z"
   },
   {
    "duration": 185,
    "start_time": "2022-03-13T08:35:13.224Z"
   },
   {
    "duration": 93,
    "start_time": "2022-03-13T11:16:50.552Z"
   },
   {
    "duration": 59,
    "start_time": "2022-03-13T11:16:50.648Z"
   },
   {
    "duration": 18,
    "start_time": "2022-03-13T11:16:50.709Z"
   },
   {
    "duration": 10,
    "start_time": "2022-03-13T11:16:50.730Z"
   },
   {
    "duration": 7,
    "start_time": "2022-03-13T11:16:50.774Z"
   },
   {
    "duration": 13,
    "start_time": "2022-03-13T11:16:50.783Z"
   },
   {
    "duration": 9,
    "start_time": "2022-03-13T11:16:50.798Z"
   },
   {
    "duration": 11,
    "start_time": "2022-03-13T11:16:50.812Z"
   },
   {
    "duration": 5,
    "start_time": "2022-03-13T11:16:50.827Z"
   },
   {
    "duration": 61,
    "start_time": "2022-03-13T11:16:50.834Z"
   },
   {
    "duration": 4,
    "start_time": "2022-03-13T11:16:50.898Z"
   },
   {
    "duration": 17,
    "start_time": "2022-03-13T11:16:50.905Z"
   },
   {
    "duration": 14,
    "start_time": "2022-03-13T11:16:50.925Z"
   },
   {
    "duration": 34,
    "start_time": "2022-03-13T11:16:50.942Z"
   },
   {
    "duration": 5,
    "start_time": "2022-03-13T11:16:50.979Z"
   },
   {
    "duration": 10,
    "start_time": "2022-03-13T11:16:50.986Z"
   },
   {
    "duration": 8,
    "start_time": "2022-03-13T11:16:50.998Z"
   },
   {
    "duration": 15,
    "start_time": "2022-03-13T11:16:51.009Z"
   },
   {
    "duration": 15,
    "start_time": "2022-03-13T11:16:51.026Z"
   },
   {
    "duration": 33,
    "start_time": "2022-03-13T11:16:51.043Z"
   },
   {
    "duration": 8,
    "start_time": "2022-03-13T11:16:51.079Z"
   },
   {
    "duration": 6,
    "start_time": "2022-03-13T11:16:51.089Z"
   },
   {
    "duration": 1021,
    "start_time": "2022-03-13T11:16:51.100Z"
   },
   {
    "duration": 5,
    "start_time": "2022-03-13T11:16:52.124Z"
   },
   {
    "duration": 9,
    "start_time": "2022-03-13T11:16:52.131Z"
   },
   {
    "duration": 76,
    "start_time": "2022-03-13T11:16:52.143Z"
   },
   {
    "duration": 366,
    "start_time": "2022-03-13T11:16:52.222Z"
   },
   {
    "duration": 441,
    "start_time": "2022-03-13T11:16:52.590Z"
   },
   {
    "duration": 401,
    "start_time": "2022-03-13T11:16:53.034Z"
   },
   {
    "duration": 374,
    "start_time": "2022-03-13T11:16:53.438Z"
   },
   {
    "duration": 616,
    "start_time": "2022-03-13T11:16:53.814Z"
   },
   {
    "duration": 12,
    "start_time": "2022-03-13T11:16:54.433Z"
   },
   {
    "duration": 35,
    "start_time": "2022-03-13T11:16:54.447Z"
   },
   {
    "duration": 146,
    "start_time": "2022-03-13T11:16:54.485Z"
   },
   {
    "duration": 566,
    "start_time": "2022-03-13T11:16:54.633Z"
   },
   {
    "duration": 548,
    "start_time": "2022-03-13T11:19:25.997Z"
   },
   {
    "duration": 574,
    "start_time": "2022-03-13T11:19:53.536Z"
   },
   {
    "duration": -218,
    "start_time": "2022-03-13T11:20:38.545Z"
   },
   {
    "duration": 7294,
    "start_time": "2022-03-13T11:20:40.213Z"
   },
   {
    "duration": 560,
    "start_time": "2022-03-13T11:21:10.292Z"
   },
   {
    "duration": 647,
    "start_time": "2022-03-13T11:22:11.690Z"
   },
   {
    "duration": 563,
    "start_time": "2022-03-13T11:22:19.813Z"
   },
   {
    "duration": 12,
    "start_time": "2022-03-13T11:27:25.362Z"
   },
   {
    "duration": 197,
    "start_time": "2022-03-13T11:28:10.756Z"
   },
   {
    "duration": 100,
    "start_time": "2022-03-13T11:29:08.530Z"
   },
   {
    "duration": 318,
    "start_time": "2022-03-13T11:29:18.257Z"
   },
   {
    "duration": 416,
    "start_time": "2022-03-13T11:29:30.474Z"
   },
   {
    "duration": 314,
    "start_time": "2022-03-13T11:29:38.433Z"
   },
   {
    "duration": 518,
    "start_time": "2022-03-13T11:29:47.240Z"
   },
   {
    "duration": 284,
    "start_time": "2022-03-13T11:35:08.706Z"
   },
   {
    "duration": 288,
    "start_time": "2022-03-13T11:35:19.471Z"
   },
   {
    "duration": 80,
    "start_time": "2022-03-13T11:37:15.682Z"
   },
   {
    "duration": 37,
    "start_time": "2022-03-13T11:37:15.765Z"
   },
   {
    "duration": 23,
    "start_time": "2022-03-13T11:37:15.805Z"
   },
   {
    "duration": 14,
    "start_time": "2022-03-13T11:37:15.831Z"
   },
   {
    "duration": 32,
    "start_time": "2022-03-13T11:37:15.847Z"
   },
   {
    "duration": 18,
    "start_time": "2022-03-13T11:37:15.881Z"
   },
   {
    "duration": 12,
    "start_time": "2022-03-13T11:37:15.902Z"
   },
   {
    "duration": 3,
    "start_time": "2022-03-13T11:37:15.918Z"
   },
   {
    "duration": 24,
    "start_time": "2022-03-13T11:37:15.924Z"
   },
   {
    "duration": 23,
    "start_time": "2022-03-13T11:37:15.950Z"
   },
   {
    "duration": 7,
    "start_time": "2022-03-13T11:37:15.976Z"
   },
   {
    "duration": 6,
    "start_time": "2022-03-13T11:37:15.986Z"
   },
   {
    "duration": 16,
    "start_time": "2022-03-13T11:37:15.994Z"
   },
   {
    "duration": 6,
    "start_time": "2022-03-13T11:37:16.013Z"
   },
   {
    "duration": 8,
    "start_time": "2022-03-13T11:37:16.021Z"
   },
   {
    "duration": 43,
    "start_time": "2022-03-13T11:37:16.031Z"
   },
   {
    "duration": 14,
    "start_time": "2022-03-13T11:37:16.077Z"
   },
   {
    "duration": 11,
    "start_time": "2022-03-13T11:37:16.093Z"
   },
   {
    "duration": 9,
    "start_time": "2022-03-13T11:37:16.106Z"
   },
   {
    "duration": 8,
    "start_time": "2022-03-13T11:37:16.117Z"
   },
   {
    "duration": 46,
    "start_time": "2022-03-13T11:37:16.128Z"
   },
   {
    "duration": 977,
    "start_time": "2022-03-13T11:37:16.176Z"
   },
   {
    "duration": 6,
    "start_time": "2022-03-13T11:37:17.157Z"
   },
   {
    "duration": 5,
    "start_time": "2022-03-13T11:37:17.175Z"
   },
   {
    "duration": 63,
    "start_time": "2022-03-13T11:37:17.182Z"
   },
   {
    "duration": 382,
    "start_time": "2022-03-13T11:37:17.248Z"
   },
   {
    "duration": 389,
    "start_time": "2022-03-13T11:37:17.633Z"
   },
   {
    "duration": 408,
    "start_time": "2022-03-13T11:37:18.025Z"
   },
   {
    "duration": 374,
    "start_time": "2022-03-13T11:37:18.435Z"
   },
   {
    "duration": 467,
    "start_time": "2022-03-13T11:37:18.812Z"
   },
   {
    "duration": 12,
    "start_time": "2022-03-13T11:37:19.282Z"
   },
   {
    "duration": 17,
    "start_time": "2022-03-13T11:37:19.297Z"
   },
   {
    "duration": 258,
    "start_time": "2022-03-13T11:37:19.316Z"
   },
   {
    "duration": 500,
    "start_time": "2022-03-13T11:37:19.577Z"
   },
   {
    "duration": 545,
    "start_time": "2022-03-13T11:37:20.080Z"
   },
   {
    "duration": 528,
    "start_time": "2022-03-13T11:37:20.628Z"
   },
   {
    "duration": 928,
    "start_time": "2022-03-13T11:37:21.158Z"
   },
   {
    "duration": 19,
    "start_time": "2022-03-13T11:37:34.878Z"
   },
   {
    "duration": 22,
    "start_time": "2022-03-13T11:38:33.723Z"
   },
   {
    "duration": 21,
    "start_time": "2022-03-13T11:39:00.374Z"
   },
   {
    "duration": 22,
    "start_time": "2022-03-13T11:39:13.900Z"
   },
   {
    "duration": 20,
    "start_time": "2022-03-13T11:51:06.242Z"
   },
   {
    "duration": 106,
    "start_time": "2022-03-13T11:52:00.868Z"
   },
   {
    "duration": 125,
    "start_time": "2022-03-13T11:53:11.153Z"
   },
   {
    "duration": 310,
    "start_time": "2022-03-13T11:53:17.218Z"
   },
   {
    "duration": 20,
    "start_time": "2022-03-13T11:53:32.695Z"
   },
   {
    "duration": 22,
    "start_time": "2022-03-13T11:53:43.385Z"
   },
   {
    "duration": 15,
    "start_time": "2022-03-13T11:54:21.154Z"
   },
   {
    "duration": 14,
    "start_time": "2022-03-13T11:54:23.533Z"
   },
   {
    "duration": 11,
    "start_time": "2022-03-13T11:58:31.703Z"
   },
   {
    "duration": 6,
    "start_time": "2022-03-13T11:59:07.387Z"
   },
   {
    "duration": 11,
    "start_time": "2022-03-13T12:06:39.358Z"
   },
   {
    "duration": 9,
    "start_time": "2022-03-13T12:07:06.627Z"
   },
   {
    "duration": 13,
    "start_time": "2022-03-13T12:07:10.576Z"
   },
   {
    "duration": 56,
    "start_time": "2022-03-13T12:09:52.656Z"
   },
   {
    "duration": 334,
    "start_time": "2022-03-13T12:10:45.921Z"
   },
   {
    "duration": 447,
    "start_time": "2022-03-13T12:11:02.837Z"
   },
   {
    "duration": 354,
    "start_time": "2022-03-13T12:11:35.163Z"
   },
   {
    "duration": 94,
    "start_time": "2022-03-13T12:13:16.140Z"
   },
   {
    "duration": 313,
    "start_time": "2022-03-13T12:13:21.461Z"
   },
   {
    "duration": 304,
    "start_time": "2022-03-13T12:13:42.051Z"
   },
   {
    "duration": 34,
    "start_time": "2022-03-13T12:13:59.182Z"
   },
   {
    "duration": 27,
    "start_time": "2022-03-13T12:14:34.070Z"
   },
   {
    "duration": 26,
    "start_time": "2022-03-13T12:14:36.370Z"
   },
   {
    "duration": 313,
    "start_time": "2022-03-13T12:15:19.451Z"
   },
   {
    "duration": 288,
    "start_time": "2022-03-13T12:15:37.996Z"
   },
   {
    "duration": 357,
    "start_time": "2022-03-13T12:16:36.202Z"
   },
   {
    "duration": 4,
    "start_time": "2022-03-13T12:17:03.051Z"
   },
   {
    "duration": 5,
    "start_time": "2022-03-13T12:17:10.289Z"
   },
   {
    "duration": 381,
    "start_time": "2022-03-13T12:18:22.466Z"
   },
   {
    "duration": 16,
    "start_time": "2022-03-13T12:18:28.611Z"
   },
   {
    "duration": 13,
    "start_time": "2022-03-13T12:18:39.409Z"
   },
   {
    "duration": 12,
    "start_time": "2022-03-13T12:19:30.658Z"
   },
   {
    "duration": 22,
    "start_time": "2022-03-13T12:19:47.893Z"
   },
   {
    "duration": 318,
    "start_time": "2022-03-13T12:21:38.497Z"
   },
   {
    "duration": 7612,
    "start_time": "2022-03-13T12:23:49.720Z"
   },
   {
    "duration": 7005,
    "start_time": "2022-03-13T12:24:32.499Z"
   },
   {
    "duration": 26,
    "start_time": "2022-03-13T12:24:49.486Z"
   },
   {
    "duration": 16,
    "start_time": "2022-03-13T12:25:03.476Z"
   },
   {
    "duration": 1186,
    "start_time": "2022-03-13T12:25:32.838Z"
   },
   {
    "duration": 4,
    "start_time": "2022-03-13T12:25:48.634Z"
   },
   {
    "duration": 12,
    "start_time": "2022-03-13T12:26:11.827Z"
   },
   {
    "duration": 384,
    "start_time": "2022-03-13T12:26:46.606Z"
   },
   {
    "duration": 6,
    "start_time": "2022-03-13T12:28:38.292Z"
   },
   {
    "duration": 11,
    "start_time": "2022-03-13T12:29:16.723Z"
   },
   {
    "duration": 13,
    "start_time": "2022-03-13T12:29:24.260Z"
   },
   {
    "duration": 106,
    "start_time": "2022-03-13T12:33:31.882Z"
   },
   {
    "duration": 9,
    "start_time": "2022-03-13T12:33:49.016Z"
   },
   {
    "duration": 56,
    "start_time": "2022-03-13T12:34:12.193Z"
   },
   {
    "duration": 7,
    "start_time": "2022-03-13T12:34:49.770Z"
   },
   {
    "duration": 8,
    "start_time": "2022-03-13T12:42:22.807Z"
   },
   {
    "duration": 6,
    "start_time": "2022-03-13T12:42:42.881Z"
   },
   {
    "duration": 6,
    "start_time": "2022-03-13T12:43:31.115Z"
   },
   {
    "duration": 55,
    "start_time": "2022-03-13T12:43:43.617Z"
   },
   {
    "duration": 306,
    "start_time": "2022-03-13T12:45:28.335Z"
   },
   {
    "duration": 288,
    "start_time": "2022-03-13T12:46:22.137Z"
   },
   {
    "duration": 5,
    "start_time": "2022-03-13T12:46:38.664Z"
   },
   {
    "duration": 54,
    "start_time": "2022-03-13T12:46:41.326Z"
   },
   {
    "duration": 448,
    "start_time": "2022-03-13T13:04:43.369Z"
   },
   {
    "duration": 9231,
    "start_time": "2022-03-13T13:07:06.595Z"
   },
   {
    "duration": 10045,
    "start_time": "2022-03-13T13:08:17.648Z"
   },
   {
    "duration": 7,
    "start_time": "2022-03-13T13:08:46.459Z"
   },
   {
    "duration": 6,
    "start_time": "2022-03-13T13:08:55.389Z"
   },
   {
    "duration": 9,
    "start_time": "2022-03-13T13:09:31.959Z"
   },
   {
    "duration": 269,
    "start_time": "2022-03-13T13:11:21.723Z"
   },
   {
    "duration": 366,
    "start_time": "2022-03-13T13:16:06.208Z"
   },
   {
    "duration": 10,
    "start_time": "2022-03-13T13:16:23.068Z"
   },
   {
    "duration": 306,
    "start_time": "2022-03-13T13:17:26.941Z"
   },
   {
    "duration": 96,
    "start_time": "2022-03-13T13:17:45.229Z"
   },
   {
    "duration": 36,
    "start_time": "2022-03-13T13:17:45.327Z"
   },
   {
    "duration": 16,
    "start_time": "2022-03-13T13:17:45.374Z"
   },
   {
    "duration": 13,
    "start_time": "2022-03-13T13:17:45.392Z"
   },
   {
    "duration": 30,
    "start_time": "2022-03-13T13:17:45.407Z"
   },
   {
    "duration": 18,
    "start_time": "2022-03-13T13:17:45.439Z"
   },
   {
    "duration": 18,
    "start_time": "2022-03-13T13:17:45.460Z"
   },
   {
    "duration": 23,
    "start_time": "2022-03-13T13:17:45.483Z"
   },
   {
    "duration": 32,
    "start_time": "2022-03-13T13:17:45.510Z"
   },
   {
    "duration": 3,
    "start_time": "2022-03-13T13:17:45.544Z"
   },
   {
    "duration": 21,
    "start_time": "2022-03-13T13:17:45.549Z"
   },
   {
    "duration": 25,
    "start_time": "2022-03-13T13:17:45.573Z"
   },
   {
    "duration": 23,
    "start_time": "2022-03-13T13:17:45.600Z"
   },
   {
    "duration": 46,
    "start_time": "2022-03-13T13:17:45.626Z"
   },
   {
    "duration": 25,
    "start_time": "2022-03-13T13:17:45.675Z"
   },
   {
    "duration": 29,
    "start_time": "2022-03-13T13:17:45.703Z"
   },
   {
    "duration": 40,
    "start_time": "2022-03-13T13:17:45.734Z"
   },
   {
    "duration": 19,
    "start_time": "2022-03-13T13:17:45.776Z"
   },
   {
    "duration": 15,
    "start_time": "2022-03-13T13:17:45.797Z"
   },
   {
    "duration": 8,
    "start_time": "2022-03-13T13:17:45.815Z"
   },
   {
    "duration": 5,
    "start_time": "2022-03-13T13:17:45.825Z"
   },
   {
    "duration": 1127,
    "start_time": "2022-03-13T13:17:45.832Z"
   },
   {
    "duration": 11,
    "start_time": "2022-03-13T13:17:46.963Z"
   },
   {
    "duration": 12,
    "start_time": "2022-03-13T13:17:46.977Z"
   },
   {
    "duration": 76,
    "start_time": "2022-03-13T13:17:46.992Z"
   },
   {
    "duration": 375,
    "start_time": "2022-03-13T13:17:47.070Z"
   },
   {
    "duration": 386,
    "start_time": "2022-03-13T13:17:47.447Z"
   },
   {
    "duration": 385,
    "start_time": "2022-03-13T13:17:47.835Z"
   },
   {
    "duration": 395,
    "start_time": "2022-03-13T13:17:48.222Z"
   },
   {
    "duration": 467,
    "start_time": "2022-03-13T13:17:48.620Z"
   },
   {
    "duration": 12,
    "start_time": "2022-03-13T13:17:49.090Z"
   },
   {
    "duration": 15,
    "start_time": "2022-03-13T13:17:49.105Z"
   },
   {
    "duration": 154,
    "start_time": "2022-03-13T13:17:49.123Z"
   },
   {
    "duration": 560,
    "start_time": "2022-03-13T13:17:49.280Z"
   },
   {
    "duration": 567,
    "start_time": "2022-03-13T13:17:49.843Z"
   },
   {
    "duration": 539,
    "start_time": "2022-03-13T13:17:50.412Z"
   },
   {
    "duration": 10,
    "start_time": "2022-03-13T13:17:50.954Z"
   },
   {
    "duration": 26,
    "start_time": "2022-03-13T13:17:50.974Z"
   },
   {
    "duration": 5,
    "start_time": "2022-03-13T13:17:51.002Z"
   },
   {
    "duration": 25,
    "start_time": "2022-03-13T13:17:51.009Z"
   },
   {
    "duration": 15,
    "start_time": "2022-03-13T13:17:51.036Z"
   },
   {
    "duration": 8,
    "start_time": "2022-03-13T13:17:51.074Z"
   },
   {
    "duration": 29,
    "start_time": "2022-03-13T13:17:51.085Z"
   },
   {
    "duration": 275,
    "start_time": "2022-03-13T13:17:51.116Z"
   },
   {
    "duration": 9,
    "start_time": "2022-03-13T14:14:07.567Z"
   },
   {
    "duration": 9,
    "start_time": "2022-03-13T14:14:11.676Z"
   },
   {
    "duration": 57,
    "start_time": "2022-03-13T14:14:29.287Z"
   },
   {
    "duration": 14,
    "start_time": "2022-03-13T14:15:20.607Z"
   },
   {
    "duration": 6,
    "start_time": "2022-03-13T14:43:20.626Z"
   },
   {
    "duration": 8,
    "start_time": "2022-03-13T14:43:25.083Z"
   },
   {
    "duration": 321,
    "start_time": "2022-03-13T14:43:46.538Z"
   },
   {
    "duration": 12,
    "start_time": "2022-03-13T14:43:59.994Z"
   },
   {
    "duration": 7,
    "start_time": "2022-03-13T14:44:24.419Z"
   },
   {
    "duration": 7,
    "start_time": "2022-03-13T14:46:04.157Z"
   },
   {
    "duration": 11,
    "start_time": "2022-03-13T14:46:15.567Z"
   },
   {
    "duration": 5,
    "start_time": "2022-03-13T14:46:37.255Z"
   },
   {
    "duration": 15,
    "start_time": "2022-03-13T14:46:40.122Z"
   },
   {
    "duration": 6,
    "start_time": "2022-03-13T14:47:31.864Z"
   },
   {
    "duration": 6,
    "start_time": "2022-03-13T14:48:13.064Z"
   },
   {
    "duration": 8,
    "start_time": "2022-03-13T14:48:23.109Z"
   },
   {
    "duration": 6,
    "start_time": "2022-03-13T14:48:30.482Z"
   },
   {
    "duration": 91,
    "start_time": "2022-03-13T14:48:45.703Z"
   },
   {
    "duration": 42,
    "start_time": "2022-03-13T14:48:45.797Z"
   },
   {
    "duration": 49,
    "start_time": "2022-03-13T14:48:45.842Z"
   },
   {
    "duration": 8,
    "start_time": "2022-03-13T14:48:45.894Z"
   },
   {
    "duration": 26,
    "start_time": "2022-03-13T14:48:45.905Z"
   },
   {
    "duration": 17,
    "start_time": "2022-03-13T14:48:45.934Z"
   },
   {
    "duration": 22,
    "start_time": "2022-03-13T14:48:45.954Z"
   },
   {
    "duration": 28,
    "start_time": "2022-03-13T14:48:45.981Z"
   },
   {
    "duration": 11,
    "start_time": "2022-03-13T14:48:46.012Z"
   },
   {
    "duration": 34,
    "start_time": "2022-03-13T14:48:46.026Z"
   },
   {
    "duration": 3,
    "start_time": "2022-03-13T14:48:46.063Z"
   },
   {
    "duration": 9,
    "start_time": "2022-03-13T14:48:46.074Z"
   },
   {
    "duration": 17,
    "start_time": "2022-03-13T14:48:46.086Z"
   },
   {
    "duration": 30,
    "start_time": "2022-03-13T14:48:46.105Z"
   },
   {
    "duration": 20,
    "start_time": "2022-03-13T14:48:46.137Z"
   },
   {
    "duration": 18,
    "start_time": "2022-03-13T14:48:46.159Z"
   },
   {
    "duration": 16,
    "start_time": "2022-03-13T14:48:46.180Z"
   },
   {
    "duration": 28,
    "start_time": "2022-03-13T14:48:46.199Z"
   },
   {
    "duration": 23,
    "start_time": "2022-03-13T14:48:46.230Z"
   },
   {
    "duration": 16,
    "start_time": "2022-03-13T14:48:46.255Z"
   },
   {
    "duration": 25,
    "start_time": "2022-03-13T14:48:46.273Z"
   },
   {
    "duration": 11,
    "start_time": "2022-03-13T14:48:46.300Z"
   },
   {
    "duration": 994,
    "start_time": "2022-03-13T14:48:46.317Z"
   },
   {
    "duration": 6,
    "start_time": "2022-03-13T14:48:47.315Z"
   },
   {
    "duration": 24,
    "start_time": "2022-03-13T14:48:47.324Z"
   },
   {
    "duration": 77,
    "start_time": "2022-03-13T14:48:47.350Z"
   },
   {
    "duration": 345,
    "start_time": "2022-03-13T14:48:47.429Z"
   },
   {
    "duration": 387,
    "start_time": "2022-03-13T14:48:47.776Z"
   },
   {
    "duration": 393,
    "start_time": "2022-03-13T14:48:48.166Z"
   },
   {
    "duration": 547,
    "start_time": "2022-03-13T14:48:48.562Z"
   },
   {
    "duration": 488,
    "start_time": "2022-03-13T14:48:49.112Z"
   },
   {
    "duration": 13,
    "start_time": "2022-03-13T14:48:49.603Z"
   },
   {
    "duration": 18,
    "start_time": "2022-03-13T14:48:49.618Z"
   },
   {
    "duration": 155,
    "start_time": "2022-03-13T14:48:49.639Z"
   },
   {
    "duration": 609,
    "start_time": "2022-03-13T14:48:49.797Z"
   },
   {
    "duration": 612,
    "start_time": "2022-03-13T14:48:50.408Z"
   },
   {
    "duration": 731,
    "start_time": "2022-03-13T14:48:51.023Z"
   },
   {
    "duration": 23,
    "start_time": "2022-03-13T14:48:51.757Z"
   },
   {
    "duration": 28,
    "start_time": "2022-03-13T14:48:51.783Z"
   },
   {
    "duration": 4,
    "start_time": "2022-03-13T14:48:51.813Z"
   },
   {
    "duration": 9,
    "start_time": "2022-03-13T14:48:51.820Z"
   },
   {
    "duration": 47,
    "start_time": "2022-03-13T14:48:51.831Z"
   },
   {
    "duration": 13,
    "start_time": "2022-03-13T14:48:51.881Z"
   },
   {
    "duration": 19,
    "start_time": "2022-03-13T14:48:51.898Z"
   },
   {
    "duration": 293,
    "start_time": "2022-03-13T14:48:51.920Z"
   },
   {
    "duration": 11,
    "start_time": "2022-03-13T14:48:52.216Z"
   },
   {
    "duration": 14,
    "start_time": "2022-03-13T14:48:52.230Z"
   },
   {
    "duration": 111,
    "start_time": "2022-03-13T14:56:14.788Z"
   },
   {
    "duration": 9,
    "start_time": "2022-03-13T14:58:14.853Z"
   },
   {
    "duration": 375,
    "start_time": "2022-03-13T14:58:47.487Z"
   },
   {
    "duration": 6,
    "start_time": "2022-03-13T15:00:07.924Z"
   },
   {
    "duration": 81,
    "start_time": "2022-03-13T15:00:12.194Z"
   },
   {
    "duration": 36,
    "start_time": "2022-03-13T15:00:12.277Z"
   },
   {
    "duration": 17,
    "start_time": "2022-03-13T15:00:12.316Z"
   },
   {
    "duration": 8,
    "start_time": "2022-03-13T15:00:12.336Z"
   },
   {
    "duration": 6,
    "start_time": "2022-03-13T15:00:12.373Z"
   },
   {
    "duration": 8,
    "start_time": "2022-03-13T15:00:12.381Z"
   },
   {
    "duration": 5,
    "start_time": "2022-03-13T15:00:12.392Z"
   },
   {
    "duration": 9,
    "start_time": "2022-03-13T15:00:12.401Z"
   },
   {
    "duration": 6,
    "start_time": "2022-03-13T15:00:12.413Z"
   },
   {
    "duration": 68,
    "start_time": "2022-03-13T15:00:12.422Z"
   },
   {
    "duration": 3,
    "start_time": "2022-03-13T15:00:12.493Z"
   },
   {
    "duration": 7,
    "start_time": "2022-03-13T15:00:12.498Z"
   },
   {
    "duration": 5,
    "start_time": "2022-03-13T15:00:12.508Z"
   },
   {
    "duration": 16,
    "start_time": "2022-03-13T15:00:12.516Z"
   },
   {
    "duration": 5,
    "start_time": "2022-03-13T15:00:12.574Z"
   },
   {
    "duration": 22,
    "start_time": "2022-03-13T15:00:12.581Z"
   },
   {
    "duration": 5,
    "start_time": "2022-03-13T15:00:12.606Z"
   },
   {
    "duration": 17,
    "start_time": "2022-03-13T15:00:12.613Z"
   },
   {
    "duration": 10,
    "start_time": "2022-03-13T15:00:12.632Z"
   },
   {
    "duration": 8,
    "start_time": "2022-03-13T15:00:12.644Z"
   },
   {
    "duration": 8,
    "start_time": "2022-03-13T15:00:12.673Z"
   },
   {
    "duration": 4,
    "start_time": "2022-03-13T15:00:12.686Z"
   },
   {
    "duration": 1081,
    "start_time": "2022-03-13T15:00:12.692Z"
   },
   {
    "duration": 7,
    "start_time": "2022-03-13T15:00:13.776Z"
   },
   {
    "duration": 12,
    "start_time": "2022-03-13T15:00:13.785Z"
   },
   {
    "duration": 99,
    "start_time": "2022-03-13T15:00:13.799Z"
   },
   {
    "duration": 364,
    "start_time": "2022-03-13T15:00:13.900Z"
   },
   {
    "duration": 387,
    "start_time": "2022-03-13T15:00:14.274Z"
   },
   {
    "duration": 415,
    "start_time": "2022-03-13T15:00:14.664Z"
   },
   {
    "duration": 368,
    "start_time": "2022-03-13T15:00:15.082Z"
   },
   {
    "duration": 461,
    "start_time": "2022-03-13T15:00:15.453Z"
   },
   {
    "duration": 12,
    "start_time": "2022-03-13T15:00:15.916Z"
   },
   {
    "duration": 15,
    "start_time": "2022-03-13T15:00:15.930Z"
   },
   {
    "duration": 157,
    "start_time": "2022-03-13T15:00:15.948Z"
   },
   {
    "duration": 586,
    "start_time": "2022-03-13T15:00:16.108Z"
   },
   {
    "duration": 576,
    "start_time": "2022-03-13T15:00:16.697Z"
   },
   {
    "duration": 584,
    "start_time": "2022-03-13T15:00:17.276Z"
   },
   {
    "duration": 15,
    "start_time": "2022-03-13T15:00:17.862Z"
   },
   {
    "duration": 28,
    "start_time": "2022-03-13T15:00:17.879Z"
   },
   {
    "duration": 4,
    "start_time": "2022-03-13T15:00:17.909Z"
   },
   {
    "duration": 8,
    "start_time": "2022-03-13T15:00:17.916Z"
   },
   {
    "duration": 14,
    "start_time": "2022-03-13T15:00:17.926Z"
   },
   {
    "duration": 38,
    "start_time": "2022-03-13T15:00:17.943Z"
   },
   {
    "duration": 7,
    "start_time": "2022-03-13T15:00:17.984Z"
   },
   {
    "duration": 305,
    "start_time": "2022-03-13T15:00:17.993Z"
   },
   {
    "duration": 10,
    "start_time": "2022-03-13T15:00:18.302Z"
   },
   {
    "duration": 325,
    "start_time": "2022-03-13T15:00:18.315Z"
   },
   {
    "duration": 461,
    "start_time": "2022-03-13T15:00:42.733Z"
   },
   {
    "duration": 262,
    "start_time": "2022-03-13T15:01:13.062Z"
   },
   {
    "duration": 265,
    "start_time": "2022-03-13T15:01:51.565Z"
   },
   {
    "duration": 269,
    "start_time": "2022-03-13T15:02:08.390Z"
   },
   {
    "duration": 273,
    "start_time": "2022-03-13T15:02:34.983Z"
   },
   {
    "duration": 346,
    "start_time": "2022-03-13T15:03:22.584Z"
   },
   {
    "duration": 501,
    "start_time": "2022-03-13T15:16:06.791Z"
   },
   {
    "duration": 521,
    "start_time": "2022-03-13T15:19:59.622Z"
   },
   {
    "duration": 572,
    "start_time": "2022-03-13T15:20:23.525Z"
   },
   {
    "duration": 339,
    "start_time": "2022-03-13T15:20:36.955Z"
   },
   {
    "duration": 548,
    "start_time": "2022-03-13T15:21:10.346Z"
   },
   {
    "duration": 476,
    "start_time": "2022-03-13T15:21:31.983Z"
   },
   {
    "duration": 312,
    "start_time": "2022-03-13T15:29:01.016Z"
   },
   {
    "duration": 4260,
    "start_time": "2022-03-13T15:34:43.287Z"
   },
   {
    "duration": 319,
    "start_time": "2022-03-13T15:35:14.373Z"
   },
   {
    "duration": 390,
    "start_time": "2022-03-13T15:36:23.336Z"
   },
   {
    "duration": 569,
    "start_time": "2022-03-13T15:37:23.295Z"
   },
   {
    "duration": 106,
    "start_time": "2022-03-13T15:38:29.961Z"
   },
   {
    "duration": 307,
    "start_time": "2022-03-13T15:38:38.554Z"
   },
   {
    "duration": 334,
    "start_time": "2022-03-13T15:39:03.779Z"
   },
   {
    "duration": 328,
    "start_time": "2022-03-13T15:39:18.592Z"
   },
   {
    "duration": 11,
    "start_time": "2022-03-13T15:39:33.927Z"
   },
   {
    "duration": 15,
    "start_time": "2022-03-13T15:40:42.202Z"
   },
   {
    "duration": 111,
    "start_time": "2022-03-13T15:40:46.535Z"
   },
   {
    "duration": 300,
    "start_time": "2022-03-13T15:40:54.222Z"
   },
   {
    "duration": 3,
    "start_time": "2022-03-13T15:41:57.909Z"
   },
   {
    "duration": 113,
    "start_time": "2022-03-13T15:42:00.497Z"
   },
   {
    "duration": 9,
    "start_time": "2022-03-13T15:42:31.264Z"
   },
   {
    "duration": 112,
    "start_time": "2022-03-13T15:42:32.886Z"
   },
   {
    "duration": 333,
    "start_time": "2022-03-13T15:42:40.134Z"
   },
   {
    "duration": 274,
    "start_time": "2022-03-13T15:43:40.119Z"
   },
   {
    "duration": 423,
    "start_time": "2022-03-13T15:44:11.875Z"
   },
   {
    "duration": 394,
    "start_time": "2022-03-13T15:44:22.428Z"
   },
   {
    "duration": 283,
    "start_time": "2022-03-13T15:45:21.768Z"
   },
   {
    "duration": 572,
    "start_time": "2022-03-13T15:46:51.630Z"
   },
   {
    "duration": 610,
    "start_time": "2022-03-13T15:48:57.569Z"
   },
   {
    "duration": 12,
    "start_time": "2022-03-13T15:50:24.516Z"
   },
   {
    "duration": 412,
    "start_time": "2022-03-13T15:51:07.439Z"
   },
   {
    "duration": 294,
    "start_time": "2022-03-13T15:52:53.456Z"
   },
   {
    "duration": 110,
    "start_time": "2022-03-13T15:53:26.725Z"
   },
   {
    "duration": 515,
    "start_time": "2022-03-13T15:53:54.636Z"
   },
   {
    "duration": 105,
    "start_time": "2022-03-13T16:04:58.154Z"
   },
   {
    "duration": 390,
    "start_time": "2022-03-13T16:05:02.889Z"
   },
   {
    "duration": 421,
    "start_time": "2022-03-13T16:05:26.619Z"
   },
   {
    "duration": 304,
    "start_time": "2022-03-13T16:06:17.390Z"
   },
   {
    "duration": 120,
    "start_time": "2022-03-13T16:08:35.380Z"
   },
   {
    "duration": 11,
    "start_time": "2022-03-13T16:08:51.757Z"
   },
   {
    "duration": 338,
    "start_time": "2022-03-13T16:11:50.509Z"
   },
   {
    "duration": 50,
    "start_time": "2022-03-23T17:07:16.878Z"
   },
   {
    "duration": 469,
    "start_time": "2022-03-23T17:07:22.380Z"
   },
   {
    "duration": 31,
    "start_time": "2022-03-23T17:07:22.851Z"
   },
   {
    "duration": 35,
    "start_time": "2022-03-23T17:07:22.884Z"
   },
   {
    "duration": 20,
    "start_time": "2022-03-23T17:07:22.921Z"
   },
   {
    "duration": 12,
    "start_time": "2022-03-23T17:07:22.943Z"
   },
   {
    "duration": 32,
    "start_time": "2022-03-23T17:07:22.957Z"
   },
   {
    "duration": 17,
    "start_time": "2022-03-23T17:07:22.991Z"
   },
   {
    "duration": 27,
    "start_time": "2022-03-23T17:07:23.010Z"
   },
   {
    "duration": 21,
    "start_time": "2022-03-23T17:07:23.039Z"
   },
   {
    "duration": 39,
    "start_time": "2022-03-23T17:07:23.062Z"
   },
   {
    "duration": 10,
    "start_time": "2022-03-23T17:07:23.102Z"
   },
   {
    "duration": 25,
    "start_time": "2022-03-23T17:07:23.113Z"
   },
   {
    "duration": 31,
    "start_time": "2022-03-23T17:07:23.140Z"
   },
   {
    "duration": 27,
    "start_time": "2022-03-23T17:07:23.172Z"
   },
   {
    "duration": 28,
    "start_time": "2022-03-23T17:07:23.200Z"
   },
   {
    "duration": 22,
    "start_time": "2022-03-23T17:07:23.230Z"
   },
   {
    "duration": 21,
    "start_time": "2022-03-23T17:07:23.254Z"
   },
   {
    "duration": 19,
    "start_time": "2022-03-23T17:07:23.277Z"
   },
   {
    "duration": 406,
    "start_time": "2022-03-23T17:07:23.298Z"
   },
   {
    "duration": 4,
    "start_time": "2022-03-23T17:07:23.706Z"
   },
   {
    "duration": 21,
    "start_time": "2022-03-23T17:07:23.711Z"
   },
   {
    "duration": 55,
    "start_time": "2022-03-23T17:07:23.734Z"
   },
   {
    "duration": 33,
    "start_time": "2022-03-23T17:07:23.790Z"
   },
   {
    "duration": 0,
    "start_time": "2022-03-23T17:07:23.825Z"
   },
   {
    "duration": 0,
    "start_time": "2022-03-23T17:07:23.827Z"
   },
   {
    "duration": 0,
    "start_time": "2022-03-23T17:07:23.828Z"
   },
   {
    "duration": 0,
    "start_time": "2022-03-23T17:07:23.830Z"
   },
   {
    "duration": 0,
    "start_time": "2022-03-23T17:07:23.831Z"
   },
   {
    "duration": 0,
    "start_time": "2022-03-23T17:07:23.832Z"
   },
   {
    "duration": 0,
    "start_time": "2022-03-23T17:07:23.838Z"
   },
   {
    "duration": 0,
    "start_time": "2022-03-23T17:07:23.839Z"
   },
   {
    "duration": 0,
    "start_time": "2022-03-23T17:07:23.841Z"
   },
   {
    "duration": 0,
    "start_time": "2022-03-23T17:07:23.842Z"
   },
   {
    "duration": 0,
    "start_time": "2022-03-23T17:07:23.843Z"
   },
   {
    "duration": 0,
    "start_time": "2022-03-23T17:07:23.845Z"
   },
   {
    "duration": 0,
    "start_time": "2022-03-23T17:07:23.847Z"
   },
   {
    "duration": 0,
    "start_time": "2022-03-23T17:07:23.848Z"
   },
   {
    "duration": 0,
    "start_time": "2022-03-23T17:07:23.850Z"
   },
   {
    "duration": 0,
    "start_time": "2022-03-23T17:07:23.851Z"
   },
   {
    "duration": 0,
    "start_time": "2022-03-23T17:07:23.852Z"
   },
   {
    "duration": 0,
    "start_time": "2022-03-23T17:07:23.854Z"
   },
   {
    "duration": 0,
    "start_time": "2022-03-23T17:07:23.855Z"
   },
   {
    "duration": 0,
    "start_time": "2022-03-23T17:07:23.857Z"
   },
   {
    "duration": 0,
    "start_time": "2022-03-23T17:07:23.858Z"
   },
   {
    "duration": 1,
    "start_time": "2022-03-23T17:07:23.859Z"
   },
   {
    "duration": 0,
    "start_time": "2022-03-23T17:07:23.861Z"
   },
   {
    "duration": 0,
    "start_time": "2022-03-23T17:07:23.862Z"
   },
   {
    "duration": 0,
    "start_time": "2022-03-23T17:07:23.864Z"
   },
   {
    "duration": 0,
    "start_time": "2022-03-23T17:07:23.865Z"
   },
   {
    "duration": 2107,
    "start_time": "2022-03-23T17:07:46.995Z"
   },
   {
    "duration": 90,
    "start_time": "2022-03-23T17:08:30.298Z"
   },
   {
    "duration": 13,
    "start_time": "2022-03-23T17:08:46.202Z"
   },
   {
    "duration": 92,
    "start_time": "2022-03-23T17:08:53.031Z"
   },
   {
    "duration": 26,
    "start_time": "2022-03-23T17:10:59.712Z"
   },
   {
    "duration": 103,
    "start_time": "2022-03-23T17:11:16.000Z"
   },
   {
    "duration": 45,
    "start_time": "2022-03-23T17:11:16.105Z"
   },
   {
    "duration": 15,
    "start_time": "2022-03-23T17:11:16.152Z"
   },
   {
    "duration": 5,
    "start_time": "2022-03-23T17:11:16.169Z"
   },
   {
    "duration": 7,
    "start_time": "2022-03-23T17:11:16.176Z"
   },
   {
    "duration": 7,
    "start_time": "2022-03-23T17:11:16.185Z"
   },
   {
    "duration": 9,
    "start_time": "2022-03-23T17:11:16.193Z"
   },
   {
    "duration": 34,
    "start_time": "2022-03-23T17:11:16.204Z"
   },
   {
    "duration": 4,
    "start_time": "2022-03-23T17:11:16.240Z"
   },
   {
    "duration": 18,
    "start_time": "2022-03-23T17:11:16.247Z"
   },
   {
    "duration": 4,
    "start_time": "2022-03-23T17:11:16.267Z"
   },
   {
    "duration": 7,
    "start_time": "2022-03-23T17:11:16.273Z"
   },
   {
    "duration": 7,
    "start_time": "2022-03-23T17:11:16.282Z"
   },
   {
    "duration": 12,
    "start_time": "2022-03-23T17:11:16.291Z"
   },
   {
    "duration": 10,
    "start_time": "2022-03-23T17:11:16.305Z"
   },
   {
    "duration": 6,
    "start_time": "2022-03-23T17:11:16.337Z"
   },
   {
    "duration": 7,
    "start_time": "2022-03-23T17:11:16.345Z"
   },
   {
    "duration": 5,
    "start_time": "2022-03-23T17:11:16.354Z"
   },
   {
    "duration": 338,
    "start_time": "2022-03-23T17:11:16.361Z"
   },
   {
    "duration": 5,
    "start_time": "2022-03-23T17:11:16.701Z"
   },
   {
    "duration": 20,
    "start_time": "2022-03-23T17:11:16.707Z"
   },
   {
    "duration": 47,
    "start_time": "2022-03-23T17:11:16.728Z"
   },
   {
    "duration": 25,
    "start_time": "2022-03-23T17:11:16.777Z"
   },
   {
    "duration": 635,
    "start_time": "2022-03-23T17:11:16.804Z"
   },
   {
    "duration": 176,
    "start_time": "2022-03-23T17:11:17.440Z"
   },
   {
    "duration": 186,
    "start_time": "2022-03-23T17:11:17.618Z"
   },
   {
    "duration": 158,
    "start_time": "2022-03-23T17:11:17.806Z"
   },
   {
    "duration": 215,
    "start_time": "2022-03-23T17:11:17.968Z"
   },
   {
    "duration": 11,
    "start_time": "2022-03-23T17:11:18.185Z"
   },
   {
    "duration": 10,
    "start_time": "2022-03-23T17:11:18.197Z"
   },
   {
    "duration": 29,
    "start_time": "2022-03-23T17:11:18.208Z"
   },
   {
    "duration": 69,
    "start_time": "2022-03-23T17:11:18.239Z"
   },
   {
    "duration": 140,
    "start_time": "2022-03-23T17:11:18.309Z"
   },
   {
    "duration": 139,
    "start_time": "2022-03-23T17:11:18.451Z"
   },
   {
    "duration": 9,
    "start_time": "2022-03-23T17:11:18.591Z"
   },
   {
    "duration": 209,
    "start_time": "2022-03-23T17:11:18.602Z"
   },
   {
    "duration": 6,
    "start_time": "2022-03-23T17:11:18.813Z"
   },
   {
    "duration": 27,
    "start_time": "2022-03-23T17:11:18.821Z"
   },
   {
    "duration": 3,
    "start_time": "2022-03-23T17:11:18.850Z"
   },
   {
    "duration": 10,
    "start_time": "2022-03-23T17:11:18.854Z"
   },
   {
    "duration": 16,
    "start_time": "2022-03-23T17:11:18.866Z"
   },
   {
    "duration": 11,
    "start_time": "2022-03-23T17:11:18.884Z"
   },
   {
    "duration": 9,
    "start_time": "2022-03-23T17:11:18.897Z"
   },
   {
    "duration": 144,
    "start_time": "2022-03-23T17:11:18.908Z"
   },
   {
    "duration": 7,
    "start_time": "2022-03-23T17:11:19.054Z"
   },
   {
    "duration": 141,
    "start_time": "2022-03-23T17:11:19.063Z"
   },
   {
    "duration": 142,
    "start_time": "2022-03-23T17:11:19.206Z"
   },
   {
    "duration": 132,
    "start_time": "2022-03-23T17:11:19.350Z"
   },
   {
    "duration": 270,
    "start_time": "2022-03-23T17:11:19.483Z"
   },
   {
    "duration": 126,
    "start_time": "2022-03-23T17:16:24.441Z"
   },
   {
    "duration": 129,
    "start_time": "2022-03-23T17:16:32.022Z"
   },
   {
    "duration": 142,
    "start_time": "2022-03-23T17:16:47.508Z"
   },
   {
    "duration": 164,
    "start_time": "2022-03-23T17:17:01.840Z"
   },
   {
    "duration": 228,
    "start_time": "2022-03-23T17:17:12.309Z"
   },
   {
    "duration": 131,
    "start_time": "2022-03-23T17:17:17.080Z"
   },
   {
    "duration": 159,
    "start_time": "2022-03-23T17:18:22.569Z"
   },
   {
    "duration": 122,
    "start_time": "2022-03-23T17:18:34.662Z"
   },
   {
    "duration": 126,
    "start_time": "2022-03-23T17:18:42.947Z"
   },
   {
    "duration": 117,
    "start_time": "2022-03-23T17:18:51.281Z"
   },
   {
    "duration": 136,
    "start_time": "2022-03-23T17:22:10.700Z"
   },
   {
    "duration": 8,
    "start_time": "2022-03-23T17:24:34.171Z"
   },
   {
    "duration": 7,
    "start_time": "2022-03-23T17:24:40.978Z"
   },
   {
    "duration": 69,
    "start_time": "2022-03-23T17:24:48.177Z"
   },
   {
    "duration": 69,
    "start_time": "2022-03-23T17:25:05.193Z"
   },
   {
    "duration": 88,
    "start_time": "2022-03-23T17:25:25.374Z"
   },
   {
    "duration": 26,
    "start_time": "2022-03-23T17:25:25.464Z"
   },
   {
    "duration": 17,
    "start_time": "2022-03-23T17:25:25.492Z"
   },
   {
    "duration": 29,
    "start_time": "2022-03-23T17:25:25.512Z"
   },
   {
    "duration": 38,
    "start_time": "2022-03-23T17:25:25.542Z"
   },
   {
    "duration": 7,
    "start_time": "2022-03-23T17:25:25.581Z"
   },
   {
    "duration": 11,
    "start_time": "2022-03-23T17:25:25.590Z"
   },
   {
    "duration": 11,
    "start_time": "2022-03-23T17:25:25.603Z"
   },
   {
    "duration": 5,
    "start_time": "2022-03-23T17:25:25.616Z"
   },
   {
    "duration": 15,
    "start_time": "2022-03-23T17:25:25.624Z"
   },
   {
    "duration": 6,
    "start_time": "2022-03-23T17:25:25.641Z"
   },
   {
    "duration": 6,
    "start_time": "2022-03-23T17:25:25.649Z"
   },
   {
    "duration": 5,
    "start_time": "2022-03-23T17:25:25.657Z"
   },
   {
    "duration": 9,
    "start_time": "2022-03-23T17:25:25.664Z"
   },
   {
    "duration": 9,
    "start_time": "2022-03-23T17:25:25.675Z"
   },
   {
    "duration": 9,
    "start_time": "2022-03-23T17:25:25.685Z"
   },
   {
    "duration": 9,
    "start_time": "2022-03-23T17:25:25.695Z"
   },
   {
    "duration": 33,
    "start_time": "2022-03-23T17:25:25.706Z"
   },
   {
    "duration": 334,
    "start_time": "2022-03-23T17:25:25.741Z"
   },
   {
    "duration": 5,
    "start_time": "2022-03-23T17:25:26.077Z"
   },
   {
    "duration": 9,
    "start_time": "2022-03-23T17:25:26.084Z"
   },
   {
    "duration": 52,
    "start_time": "2022-03-23T17:25:26.094Z"
   },
   {
    "duration": 25,
    "start_time": "2022-03-23T17:25:26.148Z"
   },
   {
    "duration": 157,
    "start_time": "2022-03-23T17:25:26.175Z"
   },
   {
    "duration": 153,
    "start_time": "2022-03-23T17:25:26.338Z"
   },
   {
    "duration": 273,
    "start_time": "2022-03-23T17:25:26.493Z"
   },
   {
    "duration": 125,
    "start_time": "2022-03-23T17:25:26.768Z"
   },
   {
    "duration": 212,
    "start_time": "2022-03-23T17:25:26.897Z"
   },
   {
    "duration": 9,
    "start_time": "2022-03-23T17:25:27.111Z"
   },
   {
    "duration": 18,
    "start_time": "2022-03-23T17:25:27.122Z"
   },
   {
    "duration": 16,
    "start_time": "2022-03-23T17:25:27.142Z"
   },
   {
    "duration": 82,
    "start_time": "2022-03-23T17:25:27.160Z"
   },
   {
    "duration": 94,
    "start_time": "2022-03-23T17:25:27.244Z"
   },
   {
    "duration": 140,
    "start_time": "2022-03-23T17:25:27.341Z"
   },
   {
    "duration": 140,
    "start_time": "2022-03-23T17:25:27.483Z"
   },
   {
    "duration": 18,
    "start_time": "2022-03-23T17:25:27.625Z"
   },
   {
    "duration": 143,
    "start_time": "2022-03-23T17:25:27.645Z"
   },
   {
    "duration": 8,
    "start_time": "2022-03-23T17:25:27.789Z"
   },
   {
    "duration": 27,
    "start_time": "2022-03-23T17:25:27.799Z"
   },
   {
    "duration": 3,
    "start_time": "2022-03-23T17:25:27.839Z"
   },
   {
    "duration": 12,
    "start_time": "2022-03-23T17:25:27.844Z"
   },
   {
    "duration": 14,
    "start_time": "2022-03-23T17:25:27.858Z"
   },
   {
    "duration": 14,
    "start_time": "2022-03-23T17:25:27.873Z"
   },
   {
    "duration": 8,
    "start_time": "2022-03-23T17:25:27.889Z"
   },
   {
    "duration": 150,
    "start_time": "2022-03-23T17:25:27.898Z"
   },
   {
    "duration": 10,
    "start_time": "2022-03-23T17:25:28.050Z"
   },
   {
    "duration": 142,
    "start_time": "2022-03-23T17:25:28.062Z"
   },
   {
    "duration": 132,
    "start_time": "2022-03-23T17:25:28.206Z"
   },
   {
    "duration": 146,
    "start_time": "2022-03-23T17:25:28.340Z"
   },
   {
    "duration": 229,
    "start_time": "2022-03-23T17:25:28.487Z"
   },
   {
    "duration": 85,
    "start_time": "2022-03-23T17:27:03.719Z"
   },
   {
    "duration": 45,
    "start_time": "2022-03-23T17:27:03.806Z"
   },
   {
    "duration": 16,
    "start_time": "2022-03-23T17:27:03.854Z"
   },
   {
    "duration": 6,
    "start_time": "2022-03-23T17:27:03.873Z"
   },
   {
    "duration": 16,
    "start_time": "2022-03-23T17:27:03.881Z"
   },
   {
    "duration": 12,
    "start_time": "2022-03-23T17:27:03.899Z"
   },
   {
    "duration": 25,
    "start_time": "2022-03-23T17:27:03.913Z"
   },
   {
    "duration": 8,
    "start_time": "2022-03-23T17:27:03.940Z"
   },
   {
    "duration": 38,
    "start_time": "2022-03-23T17:27:03.949Z"
   },
   {
    "duration": 19,
    "start_time": "2022-03-23T17:27:03.990Z"
   },
   {
    "duration": 5,
    "start_time": "2022-03-23T17:27:04.011Z"
   },
   {
    "duration": 10,
    "start_time": "2022-03-23T17:27:04.018Z"
   },
   {
    "duration": 7,
    "start_time": "2022-03-23T17:27:04.030Z"
   },
   {
    "duration": 10,
    "start_time": "2022-03-23T17:27:04.039Z"
   },
   {
    "duration": 9,
    "start_time": "2022-03-23T17:27:04.051Z"
   },
   {
    "duration": 7,
    "start_time": "2022-03-23T17:27:04.062Z"
   },
   {
    "duration": 8,
    "start_time": "2022-03-23T17:27:04.071Z"
   },
   {
    "duration": 4,
    "start_time": "2022-03-23T17:27:04.081Z"
   },
   {
    "duration": 461,
    "start_time": "2022-03-23T17:27:04.087Z"
   },
   {
    "duration": 5,
    "start_time": "2022-03-23T17:27:04.549Z"
   },
   {
    "duration": 7,
    "start_time": "2022-03-23T17:27:04.556Z"
   },
   {
    "duration": 53,
    "start_time": "2022-03-23T17:27:04.565Z"
   },
   {
    "duration": 40,
    "start_time": "2022-03-23T17:27:04.619Z"
   },
   {
    "duration": 156,
    "start_time": "2022-03-23T17:27:04.661Z"
   },
   {
    "duration": 155,
    "start_time": "2022-03-23T17:27:04.820Z"
   },
   {
    "duration": 183,
    "start_time": "2022-03-23T17:27:04.978Z"
   },
   {
    "duration": 132,
    "start_time": "2022-03-23T17:27:05.163Z"
   },
   {
    "duration": 210,
    "start_time": "2022-03-23T17:27:05.299Z"
   },
   {
    "duration": 10,
    "start_time": "2022-03-23T17:27:05.511Z"
   },
   {
    "duration": 22,
    "start_time": "2022-03-23T17:27:05.523Z"
   },
   {
    "duration": 21,
    "start_time": "2022-03-23T17:27:05.547Z"
   },
   {
    "duration": 79,
    "start_time": "2022-03-23T17:27:05.570Z"
   },
   {
    "duration": 103,
    "start_time": "2022-03-23T17:27:05.652Z"
   },
   {
    "duration": 141,
    "start_time": "2022-03-23T17:27:05.757Z"
   },
   {
    "duration": 161,
    "start_time": "2022-03-23T17:27:05.900Z"
   },
   {
    "duration": 11,
    "start_time": "2022-03-23T17:27:06.064Z"
   },
   {
    "duration": 154,
    "start_time": "2022-03-23T17:27:06.076Z"
   },
   {
    "duration": 9,
    "start_time": "2022-03-23T17:27:06.232Z"
   },
   {
    "duration": 34,
    "start_time": "2022-03-23T17:27:06.243Z"
   },
   {
    "duration": 6,
    "start_time": "2022-03-23T17:27:06.279Z"
   },
   {
    "duration": 9,
    "start_time": "2022-03-23T17:27:06.287Z"
   },
   {
    "duration": 13,
    "start_time": "2022-03-23T17:27:06.298Z"
   },
   {
    "duration": 7,
    "start_time": "2022-03-23T17:27:06.313Z"
   },
   {
    "duration": 9,
    "start_time": "2022-03-23T17:27:06.322Z"
   },
   {
    "duration": 135,
    "start_time": "2022-03-23T17:27:06.332Z"
   },
   {
    "duration": 7,
    "start_time": "2022-03-23T17:27:06.469Z"
   },
   {
    "duration": 147,
    "start_time": "2022-03-23T17:27:06.478Z"
   },
   {
    "duration": 157,
    "start_time": "2022-03-23T17:27:06.627Z"
   },
   {
    "duration": 137,
    "start_time": "2022-03-23T17:27:06.786Z"
   },
   {
    "duration": 207,
    "start_time": "2022-03-23T17:27:06.925Z"
   },
   {
    "duration": 120,
    "start_time": "2022-03-23T17:35:56.092Z"
   },
   {
    "duration": 88,
    "start_time": "2022-03-23T17:36:39.959Z"
   },
   {
    "duration": 29,
    "start_time": "2022-03-23T17:36:40.049Z"
   },
   {
    "duration": 15,
    "start_time": "2022-03-23T17:36:40.081Z"
   },
   {
    "duration": 41,
    "start_time": "2022-03-23T17:36:40.099Z"
   },
   {
    "duration": 4,
    "start_time": "2022-03-23T17:36:40.142Z"
   },
   {
    "duration": 20,
    "start_time": "2022-03-23T17:36:40.147Z"
   },
   {
    "duration": 17,
    "start_time": "2022-03-23T17:36:40.169Z"
   },
   {
    "duration": 16,
    "start_time": "2022-03-23T17:36:40.188Z"
   },
   {
    "duration": 27,
    "start_time": "2022-03-23T17:36:40.206Z"
   },
   {
    "duration": 25,
    "start_time": "2022-03-23T17:36:40.236Z"
   },
   {
    "duration": 5,
    "start_time": "2022-03-23T17:36:40.263Z"
   },
   {
    "duration": 13,
    "start_time": "2022-03-23T17:36:40.270Z"
   },
   {
    "duration": 10,
    "start_time": "2022-03-23T17:36:40.285Z"
   },
   {
    "duration": 36,
    "start_time": "2022-03-23T17:36:40.297Z"
   },
   {
    "duration": 16,
    "start_time": "2022-03-23T17:36:40.334Z"
   },
   {
    "duration": 24,
    "start_time": "2022-03-23T17:36:40.352Z"
   },
   {
    "duration": 10,
    "start_time": "2022-03-23T17:36:40.378Z"
   },
   {
    "duration": 14,
    "start_time": "2022-03-23T17:36:40.390Z"
   },
   {
    "duration": 443,
    "start_time": "2022-03-23T17:36:40.406Z"
   },
   {
    "duration": 4,
    "start_time": "2022-03-23T17:36:40.851Z"
   },
   {
    "duration": 28,
    "start_time": "2022-03-23T17:36:40.857Z"
   },
   {
    "duration": 50,
    "start_time": "2022-03-23T17:36:40.887Z"
   },
   {
    "duration": 26,
    "start_time": "2022-03-23T17:36:40.938Z"
   },
   {
    "duration": 162,
    "start_time": "2022-03-23T17:36:40.966Z"
   },
   {
    "duration": 144,
    "start_time": "2022-03-23T17:36:41.130Z"
   },
   {
    "duration": 172,
    "start_time": "2022-03-23T17:36:41.275Z"
   },
   {
    "duration": 135,
    "start_time": "2022-03-23T17:36:41.450Z"
   },
   {
    "duration": 222,
    "start_time": "2022-03-23T17:36:41.589Z"
   },
   {
    "duration": 9,
    "start_time": "2022-03-23T17:36:41.813Z"
   },
   {
    "duration": 19,
    "start_time": "2022-03-23T17:36:41.824Z"
   },
   {
    "duration": 7,
    "start_time": "2022-03-23T17:36:41.845Z"
   },
   {
    "duration": 98,
    "start_time": "2022-03-23T17:36:41.854Z"
   },
   {
    "duration": 70,
    "start_time": "2022-03-23T17:36:41.954Z"
   },
   {
    "duration": 144,
    "start_time": "2022-03-23T17:36:42.025Z"
   },
   {
    "duration": 154,
    "start_time": "2022-03-23T17:36:42.171Z"
   },
   {
    "duration": 13,
    "start_time": "2022-03-23T17:36:42.327Z"
   },
   {
    "duration": 140,
    "start_time": "2022-03-23T17:36:42.342Z"
   },
   {
    "duration": 6,
    "start_time": "2022-03-23T17:36:42.484Z"
   },
   {
    "duration": 43,
    "start_time": "2022-03-23T17:36:42.492Z"
   },
   {
    "duration": 22,
    "start_time": "2022-03-23T17:36:42.537Z"
   },
   {
    "duration": 11,
    "start_time": "2022-03-23T17:36:42.561Z"
   },
   {
    "duration": 36,
    "start_time": "2022-03-23T17:36:42.573Z"
   },
   {
    "duration": 28,
    "start_time": "2022-03-23T17:36:42.611Z"
   },
   {
    "duration": 18,
    "start_time": "2022-03-23T17:36:42.642Z"
   },
   {
    "duration": 161,
    "start_time": "2022-03-23T17:36:42.662Z"
   },
   {
    "duration": 8,
    "start_time": "2022-03-23T17:36:42.826Z"
   },
   {
    "duration": 144,
    "start_time": "2022-03-23T17:36:42.835Z"
   },
   {
    "duration": 140,
    "start_time": "2022-03-23T17:36:42.982Z"
   },
   {
    "duration": 151,
    "start_time": "2022-03-23T17:36:43.124Z"
   },
   {
    "duration": 202,
    "start_time": "2022-03-23T17:36:43.276Z"
   },
   {
    "duration": 6,
    "start_time": "2022-03-23T18:03:05.654Z"
   },
   {
    "duration": 5,
    "start_time": "2022-03-23T18:09:10.593Z"
   },
   {
    "duration": 19,
    "start_time": "2022-03-23T18:14:43.557Z"
   },
   {
    "duration": 9,
    "start_time": "2022-03-23T18:16:45.325Z"
   },
   {
    "duration": 1970,
    "start_time": "2022-03-23T18:16:59.956Z"
   },
   {
    "duration": 6,
    "start_time": "2022-03-23T18:17:18.188Z"
   },
   {
    "duration": 75,
    "start_time": "2022-03-23T18:19:36.405Z"
   },
   {
    "duration": 26,
    "start_time": "2022-03-23T18:19:36.482Z"
   },
   {
    "duration": 31,
    "start_time": "2022-03-23T18:19:36.510Z"
   },
   {
    "duration": 6,
    "start_time": "2022-03-23T18:19:36.543Z"
   },
   {
    "duration": 7,
    "start_time": "2022-03-23T18:19:36.550Z"
   },
   {
    "duration": 6,
    "start_time": "2022-03-23T18:19:36.559Z"
   },
   {
    "duration": 6,
    "start_time": "2022-03-23T18:19:36.566Z"
   },
   {
    "duration": 5,
    "start_time": "2022-03-23T18:19:36.574Z"
   },
   {
    "duration": 3,
    "start_time": "2022-03-23T18:19:36.581Z"
   },
   {
    "duration": 61,
    "start_time": "2022-03-23T18:19:36.588Z"
   },
   {
    "duration": 7,
    "start_time": "2022-03-23T18:19:36.651Z"
   },
   {
    "duration": 5,
    "start_time": "2022-03-23T18:19:36.660Z"
   },
   {
    "duration": 5,
    "start_time": "2022-03-23T18:19:36.667Z"
   },
   {
    "duration": 8,
    "start_time": "2022-03-23T18:19:36.674Z"
   },
   {
    "duration": 9,
    "start_time": "2022-03-23T18:19:36.684Z"
   },
   {
    "duration": 44,
    "start_time": "2022-03-23T18:19:36.694Z"
   },
   {
    "duration": 8,
    "start_time": "2022-03-23T18:19:36.740Z"
   },
   {
    "duration": 3,
    "start_time": "2022-03-23T18:19:36.750Z"
   },
   {
    "duration": 339,
    "start_time": "2022-03-23T18:19:36.755Z"
   },
   {
    "duration": 5,
    "start_time": "2022-03-23T18:19:37.095Z"
   },
   {
    "duration": 12,
    "start_time": "2022-03-23T18:19:37.101Z"
   },
   {
    "duration": 52,
    "start_time": "2022-03-23T18:19:37.115Z"
   },
   {
    "duration": 24,
    "start_time": "2022-03-23T18:19:37.169Z"
   },
   {
    "duration": 168,
    "start_time": "2022-03-23T18:19:37.195Z"
   },
   {
    "duration": 155,
    "start_time": "2022-03-23T18:19:37.365Z"
   },
   {
    "duration": 338,
    "start_time": "2022-03-23T18:19:37.522Z"
   },
   {
    "duration": 137,
    "start_time": "2022-03-23T18:19:37.862Z"
   },
   {
    "duration": 220,
    "start_time": "2022-03-23T18:19:38.003Z"
   },
   {
    "duration": 15,
    "start_time": "2022-03-23T18:19:38.225Z"
   },
   {
    "duration": 30,
    "start_time": "2022-03-23T18:19:38.242Z"
   },
   {
    "duration": 22,
    "start_time": "2022-03-23T18:19:38.274Z"
   },
   {
    "duration": 86,
    "start_time": "2022-03-23T18:19:38.298Z"
   },
   {
    "duration": 76,
    "start_time": "2022-03-23T18:19:38.386Z"
   },
   {
    "duration": 5,
    "start_time": "2022-03-23T18:19:38.464Z"
   },
   {
    "duration": 150,
    "start_time": "2022-03-23T18:19:38.471Z"
   },
   {
    "duration": 5,
    "start_time": "2022-03-23T18:19:38.623Z"
   },
   {
    "duration": 178,
    "start_time": "2022-03-23T18:19:38.638Z"
   },
   {
    "duration": 10,
    "start_time": "2022-03-23T18:19:38.818Z"
   },
   {
    "duration": 21,
    "start_time": "2022-03-23T18:19:38.838Z"
   },
   {
    "duration": 199,
    "start_time": "2022-03-23T18:19:38.861Z"
   },
   {
    "duration": 7,
    "start_time": "2022-03-23T18:19:39.062Z"
   },
   {
    "duration": 45,
    "start_time": "2022-03-23T18:19:39.071Z"
   },
   {
    "duration": 16,
    "start_time": "2022-03-23T18:19:39.118Z"
   },
   {
    "duration": 23,
    "start_time": "2022-03-23T18:19:39.136Z"
   },
   {
    "duration": 25,
    "start_time": "2022-03-23T18:19:39.161Z"
   },
   {
    "duration": 16,
    "start_time": "2022-03-23T18:19:39.188Z"
   },
   {
    "duration": 27,
    "start_time": "2022-03-23T18:19:39.206Z"
   },
   {
    "duration": 147,
    "start_time": "2022-03-23T18:19:39.235Z"
   },
   {
    "duration": 9,
    "start_time": "2022-03-23T18:19:39.384Z"
   },
   {
    "duration": 151,
    "start_time": "2022-03-23T18:19:39.395Z"
   },
   {
    "duration": 171,
    "start_time": "2022-03-23T18:19:39.548Z"
   },
   {
    "duration": 144,
    "start_time": "2022-03-23T18:19:39.722Z"
   },
   {
    "duration": 243,
    "start_time": "2022-03-23T18:19:39.868Z"
   },
   {
    "duration": 27,
    "start_time": "2022-03-23T18:22:13.314Z"
   },
   {
    "duration": 13,
    "start_time": "2022-03-23T18:22:35.494Z"
   },
   {
    "duration": 8,
    "start_time": "2022-03-23T18:23:24.538Z"
   },
   {
    "duration": 79,
    "start_time": "2022-03-23T18:23:29.176Z"
   },
   {
    "duration": 25,
    "start_time": "2022-03-23T18:23:29.257Z"
   },
   {
    "duration": 27,
    "start_time": "2022-03-23T18:23:29.284Z"
   },
   {
    "duration": 6,
    "start_time": "2022-03-23T18:23:29.313Z"
   },
   {
    "duration": 8,
    "start_time": "2022-03-23T18:23:29.321Z"
   },
   {
    "duration": 14,
    "start_time": "2022-03-23T18:23:29.331Z"
   },
   {
    "duration": 11,
    "start_time": "2022-03-23T18:23:29.347Z"
   },
   {
    "duration": 9,
    "start_time": "2022-03-23T18:23:29.360Z"
   },
   {
    "duration": 6,
    "start_time": "2022-03-23T18:23:29.371Z"
   },
   {
    "duration": 18,
    "start_time": "2022-03-23T18:23:29.380Z"
   },
   {
    "duration": 5,
    "start_time": "2022-03-23T18:23:29.400Z"
   },
   {
    "duration": 9,
    "start_time": "2022-03-23T18:23:29.406Z"
   },
   {
    "duration": 4,
    "start_time": "2022-03-23T18:23:29.439Z"
   },
   {
    "duration": 18,
    "start_time": "2022-03-23T18:23:29.445Z"
   },
   {
    "duration": 11,
    "start_time": "2022-03-23T18:23:29.465Z"
   },
   {
    "duration": 9,
    "start_time": "2022-03-23T18:23:29.478Z"
   },
   {
    "duration": 6,
    "start_time": "2022-03-23T18:23:29.489Z"
   },
   {
    "duration": 5,
    "start_time": "2022-03-23T18:23:29.497Z"
   },
   {
    "duration": 326,
    "start_time": "2022-03-23T18:23:29.503Z"
   },
   {
    "duration": 15,
    "start_time": "2022-03-23T18:23:29.831Z"
   },
   {
    "duration": 10,
    "start_time": "2022-03-23T18:23:29.848Z"
   },
   {
    "duration": 42,
    "start_time": "2022-03-23T18:23:29.860Z"
   },
   {
    "duration": 35,
    "start_time": "2022-03-23T18:23:29.905Z"
   },
   {
    "duration": 159,
    "start_time": "2022-03-23T18:23:29.942Z"
   },
   {
    "duration": 145,
    "start_time": "2022-03-23T18:23:30.103Z"
   },
   {
    "duration": 178,
    "start_time": "2022-03-23T18:23:30.250Z"
   },
   {
    "duration": 136,
    "start_time": "2022-03-23T18:23:30.430Z"
   },
   {
    "duration": 224,
    "start_time": "2022-03-23T18:23:30.570Z"
   },
   {
    "duration": 10,
    "start_time": "2022-03-23T18:23:30.796Z"
   },
   {
    "duration": 16,
    "start_time": "2022-03-23T18:23:30.808Z"
   },
   {
    "duration": 191,
    "start_time": "2022-03-23T18:23:30.825Z"
   },
   {
    "duration": 24,
    "start_time": "2022-03-23T18:23:31.018Z"
   },
   {
    "duration": 98,
    "start_time": "2022-03-23T18:23:31.043Z"
   },
   {
    "duration": 66,
    "start_time": "2022-03-23T18:23:31.142Z"
   },
   {
    "duration": 5,
    "start_time": "2022-03-23T18:23:31.210Z"
   },
   {
    "duration": 149,
    "start_time": "2022-03-23T18:23:31.216Z"
   },
   {
    "duration": 5,
    "start_time": "2022-03-23T18:23:31.367Z"
   },
   {
    "duration": 149,
    "start_time": "2022-03-23T18:23:31.373Z"
   },
   {
    "duration": 16,
    "start_time": "2022-03-23T18:23:31.523Z"
   },
   {
    "duration": 6,
    "start_time": "2022-03-23T18:23:31.540Z"
   },
   {
    "duration": 145,
    "start_time": "2022-03-23T18:23:31.548Z"
   },
   {
    "duration": 6,
    "start_time": "2022-03-23T18:23:31.695Z"
   },
   {
    "duration": 25,
    "start_time": "2022-03-23T18:23:31.703Z"
   },
   {
    "duration": 12,
    "start_time": "2022-03-23T18:23:31.730Z"
   },
   {
    "duration": 12,
    "start_time": "2022-03-23T18:23:31.744Z"
   },
   {
    "duration": 17,
    "start_time": "2022-03-23T18:23:31.757Z"
   },
   {
    "duration": 11,
    "start_time": "2022-03-23T18:23:31.776Z"
   },
   {
    "duration": 7,
    "start_time": "2022-03-23T18:23:31.789Z"
   },
   {
    "duration": 158,
    "start_time": "2022-03-23T18:23:31.798Z"
   },
   {
    "duration": 8,
    "start_time": "2022-03-23T18:23:31.958Z"
   },
   {
    "duration": 169,
    "start_time": "2022-03-23T18:23:31.968Z"
   },
   {
    "duration": 147,
    "start_time": "2022-03-23T18:23:32.139Z"
   },
   {
    "duration": 144,
    "start_time": "2022-03-23T18:23:32.288Z"
   },
   {
    "duration": 215,
    "start_time": "2022-03-23T18:23:32.437Z"
   },
   {
    "duration": 3,
    "start_time": "2022-03-23T18:26:28.132Z"
   },
   {
    "duration": 85,
    "start_time": "2022-03-23T18:26:32.738Z"
   },
   {
    "duration": 2,
    "start_time": "2022-03-23T18:26:32.826Z"
   },
   {
    "duration": 30,
    "start_time": "2022-03-23T18:26:32.830Z"
   },
   {
    "duration": 20,
    "start_time": "2022-03-23T18:26:32.862Z"
   },
   {
    "duration": 6,
    "start_time": "2022-03-23T18:26:32.884Z"
   },
   {
    "duration": 8,
    "start_time": "2022-03-23T18:26:32.892Z"
   },
   {
    "duration": 9,
    "start_time": "2022-03-23T18:26:32.902Z"
   },
   {
    "duration": 25,
    "start_time": "2022-03-23T18:26:32.914Z"
   },
   {
    "duration": 6,
    "start_time": "2022-03-23T18:26:32.941Z"
   },
   {
    "duration": 6,
    "start_time": "2022-03-23T18:26:32.950Z"
   },
   {
    "duration": 19,
    "start_time": "2022-03-23T18:26:32.958Z"
   },
   {
    "duration": 4,
    "start_time": "2022-03-23T18:26:32.979Z"
   },
   {
    "duration": 7,
    "start_time": "2022-03-23T18:26:32.985Z"
   },
   {
    "duration": 7,
    "start_time": "2022-03-23T18:26:32.994Z"
   },
   {
    "duration": 38,
    "start_time": "2022-03-23T18:26:33.003Z"
   },
   {
    "duration": 11,
    "start_time": "2022-03-23T18:26:33.043Z"
   },
   {
    "duration": 8,
    "start_time": "2022-03-23T18:26:33.056Z"
   },
   {
    "duration": 8,
    "start_time": "2022-03-23T18:26:33.065Z"
   },
   {
    "duration": 3,
    "start_time": "2022-03-23T18:26:33.075Z"
   },
   {
    "duration": 328,
    "start_time": "2022-03-23T18:26:33.080Z"
   },
   {
    "duration": 4,
    "start_time": "2022-03-23T18:26:33.410Z"
   },
   {
    "duration": 8,
    "start_time": "2022-03-23T18:26:33.416Z"
   },
   {
    "duration": 48,
    "start_time": "2022-03-23T18:26:33.426Z"
   },
   {
    "duration": 26,
    "start_time": "2022-03-23T18:26:33.476Z"
   },
   {
    "duration": 169,
    "start_time": "2022-03-23T18:26:33.503Z"
   },
   {
    "duration": 148,
    "start_time": "2022-03-23T18:26:33.674Z"
   },
   {
    "duration": 166,
    "start_time": "2022-03-23T18:26:34.851Z"
   },
   {
    "duration": 142,
    "start_time": "2022-03-23T18:26:35.019Z"
   },
   {
    "duration": 205,
    "start_time": "2022-03-23T18:26:35.163Z"
   },
   {
    "duration": 10,
    "start_time": "2022-03-23T18:26:35.370Z"
   },
   {
    "duration": 9,
    "start_time": "2022-03-23T18:26:35.382Z"
   },
   {
    "duration": 10,
    "start_time": "2022-03-23T18:26:35.393Z"
   },
   {
    "duration": 110,
    "start_time": "2022-03-23T18:26:35.405Z"
   },
   {
    "duration": 75,
    "start_time": "2022-03-23T18:26:35.517Z"
   },
   {
    "duration": 5,
    "start_time": "2022-03-23T18:26:35.594Z"
   },
   {
    "duration": 139,
    "start_time": "2022-03-23T18:26:35.601Z"
   },
   {
    "duration": 6,
    "start_time": "2022-03-23T18:26:35.741Z"
   },
   {
    "duration": 140,
    "start_time": "2022-03-23T18:26:35.749Z"
   },
   {
    "duration": 9,
    "start_time": "2022-03-23T18:26:35.891Z"
   },
   {
    "duration": 5,
    "start_time": "2022-03-23T18:26:35.903Z"
   },
   {
    "duration": 147,
    "start_time": "2022-03-23T18:26:35.910Z"
   },
   {
    "duration": 7,
    "start_time": "2022-03-23T18:26:36.059Z"
   },
   {
    "duration": 15,
    "start_time": "2022-03-23T18:26:36.068Z"
   },
   {
    "duration": 4,
    "start_time": "2022-03-23T18:26:36.085Z"
   },
   {
    "duration": 6,
    "start_time": "2022-03-23T18:26:36.091Z"
   },
   {
    "duration": 11,
    "start_time": "2022-03-23T18:26:36.099Z"
   },
   {
    "duration": 8,
    "start_time": "2022-03-23T18:26:36.139Z"
   },
   {
    "duration": 11,
    "start_time": "2022-03-23T18:26:36.148Z"
   },
   {
    "duration": 144,
    "start_time": "2022-03-23T18:26:36.161Z"
   },
   {
    "duration": 8,
    "start_time": "2022-03-23T18:26:36.307Z"
   },
   {
    "duration": 142,
    "start_time": "2022-03-23T18:26:36.317Z"
   },
   {
    "duration": 138,
    "start_time": "2022-03-23T18:26:36.460Z"
   },
   {
    "duration": 129,
    "start_time": "2022-03-23T18:26:36.600Z"
   },
   {
    "duration": 202,
    "start_time": "2022-03-23T18:26:36.737Z"
   },
   {
    "duration": 6,
    "start_time": "2022-03-23T18:28:50.148Z"
   },
   {
    "duration": 7,
    "start_time": "2022-03-23T18:29:44.641Z"
   },
   {
    "duration": 7,
    "start_time": "2022-03-23T18:30:04.166Z"
   },
   {
    "duration": 6,
    "start_time": "2022-03-23T18:30:20.417Z"
   },
   {
    "duration": 12,
    "start_time": "2022-03-23T18:30:42.721Z"
   },
   {
    "duration": 108,
    "start_time": "2022-03-23T18:31:32.943Z"
   },
   {
    "duration": 111,
    "start_time": "2022-03-23T18:32:16.581Z"
   },
   {
    "duration": 118,
    "start_time": "2022-03-23T18:33:34.695Z"
   },
   {
    "duration": 128,
    "start_time": "2022-03-23T18:33:44.831Z"
   },
   {
    "duration": 341,
    "start_time": "2022-03-23T18:33:54.745Z"
   },
   {
    "duration": 119,
    "start_time": "2022-03-23T18:44:13.713Z"
   },
   {
    "duration": 112,
    "start_time": "2022-03-23T18:44:20.544Z"
   },
   {
    "duration": 147,
    "start_time": "2022-03-23T18:44:30.248Z"
   },
   {
    "duration": 169,
    "start_time": "2022-03-23T18:44:39.797Z"
   },
   {
    "duration": 176,
    "start_time": "2022-03-23T18:45:22.889Z"
   },
   {
    "duration": 163,
    "start_time": "2022-03-23T18:45:30.327Z"
   },
   {
    "duration": 118,
    "start_time": "2022-03-23T18:54:39.238Z"
   },
   {
    "duration": 105,
    "start_time": "2022-03-23T18:54:45.956Z"
   },
   {
    "duration": 112,
    "start_time": "2022-03-23T18:55:00.648Z"
   },
   {
    "duration": 127,
    "start_time": "2022-03-23T18:56:35.401Z"
   },
   {
    "duration": 130,
    "start_time": "2022-03-23T18:56:41.005Z"
   },
   {
    "duration": 184,
    "start_time": "2022-03-23T18:56:47.464Z"
   },
   {
    "duration": 159,
    "start_time": "2022-03-23T18:56:57.137Z"
   },
   {
    "duration": 81,
    "start_time": "2022-03-23T19:01:46.234Z"
   },
   {
    "duration": 3,
    "start_time": "2022-03-23T19:01:46.317Z"
   },
   {
    "duration": 33,
    "start_time": "2022-03-23T19:01:46.321Z"
   },
   {
    "duration": 15,
    "start_time": "2022-03-23T19:01:46.356Z"
   },
   {
    "duration": 6,
    "start_time": "2022-03-23T19:01:46.373Z"
   },
   {
    "duration": 8,
    "start_time": "2022-03-23T19:01:46.381Z"
   },
   {
    "duration": 16,
    "start_time": "2022-03-23T19:01:46.391Z"
   },
   {
    "duration": 5,
    "start_time": "2022-03-23T19:01:46.409Z"
   },
   {
    "duration": 27,
    "start_time": "2022-03-23T19:01:46.416Z"
   },
   {
    "duration": 9,
    "start_time": "2022-03-23T19:01:46.446Z"
   },
   {
    "duration": 19,
    "start_time": "2022-03-23T19:01:46.456Z"
   },
   {
    "duration": 3,
    "start_time": "2022-03-23T19:01:46.477Z"
   },
   {
    "duration": 9,
    "start_time": "2022-03-23T19:01:46.482Z"
   },
   {
    "duration": 6,
    "start_time": "2022-03-23T19:01:46.493Z"
   },
   {
    "duration": 8,
    "start_time": "2022-03-23T19:01:46.501Z"
   },
   {
    "duration": 27,
    "start_time": "2022-03-23T19:01:46.511Z"
   },
   {
    "duration": 5,
    "start_time": "2022-03-23T19:01:46.539Z"
   },
   {
    "duration": 7,
    "start_time": "2022-03-23T19:01:46.546Z"
   },
   {
    "duration": 3,
    "start_time": "2022-03-23T19:01:46.554Z"
   },
   {
    "duration": 318,
    "start_time": "2022-03-23T19:01:46.559Z"
   },
   {
    "duration": 3,
    "start_time": "2022-03-23T19:01:46.879Z"
   },
   {
    "duration": 9,
    "start_time": "2022-03-23T19:01:46.884Z"
   },
   {
    "duration": 46,
    "start_time": "2022-03-23T19:01:46.894Z"
   },
   {
    "duration": 24,
    "start_time": "2022-03-23T19:01:46.941Z"
   },
   {
    "duration": 177,
    "start_time": "2022-03-23T19:01:46.967Z"
   },
   {
    "duration": 164,
    "start_time": "2022-03-23T19:01:47.146Z"
   },
   {
    "duration": 163,
    "start_time": "2022-03-23T19:01:47.312Z"
   },
   {
    "duration": 126,
    "start_time": "2022-03-23T19:01:47.480Z"
   },
   {
    "duration": 200,
    "start_time": "2022-03-23T19:01:47.608Z"
   },
   {
    "duration": 10,
    "start_time": "2022-03-23T19:01:47.810Z"
   },
   {
    "duration": 22,
    "start_time": "2022-03-23T19:01:47.822Z"
   },
   {
    "duration": 8,
    "start_time": "2022-03-23T19:01:47.846Z"
   },
   {
    "duration": 89,
    "start_time": "2022-03-23T19:01:47.856Z"
   },
   {
    "duration": 63,
    "start_time": "2022-03-23T19:01:47.947Z"
   },
   {
    "duration": 4,
    "start_time": "2022-03-23T19:01:48.012Z"
   },
   {
    "duration": 142,
    "start_time": "2022-03-23T19:01:48.018Z"
   },
   {
    "duration": 5,
    "start_time": "2022-03-23T19:01:48.162Z"
   },
   {
    "duration": 138,
    "start_time": "2022-03-23T19:01:48.169Z"
   },
   {
    "duration": 8,
    "start_time": "2022-03-23T19:01:48.309Z"
   },
   {
    "duration": 6,
    "start_time": "2022-03-23T19:01:48.319Z"
   },
   {
    "duration": 130,
    "start_time": "2022-03-23T19:01:48.338Z"
   },
   {
    "duration": 7,
    "start_time": "2022-03-23T19:01:48.470Z"
   },
   {
    "duration": 17,
    "start_time": "2022-03-23T19:01:48.479Z"
   },
   {
    "duration": 3,
    "start_time": "2022-03-23T19:01:48.497Z"
   },
   {
    "duration": 12,
    "start_time": "2022-03-23T19:01:48.502Z"
   },
   {
    "duration": 24,
    "start_time": "2022-03-23T19:01:48.516Z"
   },
   {
    "duration": 7,
    "start_time": "2022-03-23T19:01:48.543Z"
   },
   {
    "duration": 8,
    "start_time": "2022-03-23T19:01:48.552Z"
   },
   {
    "duration": 8,
    "start_time": "2022-03-23T19:01:48.562Z"
   },
   {
    "duration": 376,
    "start_time": "2022-03-23T19:01:48.571Z"
   },
   {
    "duration": 8,
    "start_time": "2022-03-23T19:01:48.948Z"
   },
   {
    "duration": 10,
    "start_time": "2022-03-23T19:01:48.957Z"
   },
   {
    "duration": 141,
    "start_time": "2022-03-23T19:01:48.968Z"
   },
   {
    "duration": 6,
    "start_time": "2022-03-23T19:01:49.110Z"
   },
   {
    "duration": 137,
    "start_time": "2022-03-23T19:01:49.118Z"
   },
   {
    "duration": 6,
    "start_time": "2022-03-23T19:01:49.256Z"
   },
   {
    "duration": 130,
    "start_time": "2022-03-23T19:01:49.263Z"
   },
   {
    "duration": 197,
    "start_time": "2022-03-23T19:01:49.395Z"
   },
   {
    "duration": 47,
    "start_time": "2022-03-24T05:25:25.298Z"
   },
   {
    "duration": 528,
    "start_time": "2022-03-24T05:25:29.613Z"
   },
   {
    "duration": 3,
    "start_time": "2022-03-24T05:25:30.143Z"
   },
   {
    "duration": 45,
    "start_time": "2022-03-24T05:25:30.147Z"
   },
   {
    "duration": 15,
    "start_time": "2022-03-24T05:25:30.194Z"
   },
   {
    "duration": 22,
    "start_time": "2022-03-24T05:25:30.211Z"
   },
   {
    "duration": 11,
    "start_time": "2022-03-24T05:25:30.235Z"
   },
   {
    "duration": 11,
    "start_time": "2022-03-24T05:25:30.248Z"
   },
   {
    "duration": 9,
    "start_time": "2022-03-24T05:25:30.261Z"
   },
   {
    "duration": 11,
    "start_time": "2022-03-24T05:25:30.272Z"
   },
   {
    "duration": 11,
    "start_time": "2022-03-24T05:25:30.286Z"
   },
   {
    "duration": 17,
    "start_time": "2022-03-24T05:25:30.298Z"
   },
   {
    "duration": 7,
    "start_time": "2022-03-24T05:25:30.316Z"
   },
   {
    "duration": 11,
    "start_time": "2022-03-24T05:25:30.324Z"
   },
   {
    "duration": 5,
    "start_time": "2022-03-24T05:25:30.337Z"
   },
   {
    "duration": 12,
    "start_time": "2022-03-24T05:25:30.343Z"
   },
   {
    "duration": 20,
    "start_time": "2022-03-24T05:25:30.356Z"
   },
   {
    "duration": 6,
    "start_time": "2022-03-24T05:25:30.378Z"
   },
   {
    "duration": 7,
    "start_time": "2022-03-24T05:25:30.385Z"
   },
   {
    "duration": 15,
    "start_time": "2022-03-24T05:25:30.394Z"
   },
   {
    "duration": 356,
    "start_time": "2022-03-24T05:25:30.410Z"
   },
   {
    "duration": 4,
    "start_time": "2022-03-24T05:25:30.768Z"
   },
   {
    "duration": 11,
    "start_time": "2022-03-24T05:25:30.774Z"
   },
   {
    "duration": 62,
    "start_time": "2022-03-24T05:25:30.787Z"
   },
   {
    "duration": 26,
    "start_time": "2022-03-24T05:25:30.851Z"
   },
   {
    "duration": 612,
    "start_time": "2022-03-24T05:25:30.878Z"
   },
   {
    "duration": 176,
    "start_time": "2022-03-24T05:25:31.492Z"
   },
   {
    "duration": 170,
    "start_time": "2022-03-24T05:25:31.669Z"
   },
   {
    "duration": 134,
    "start_time": "2022-03-24T05:25:31.844Z"
   },
   {
    "duration": 206,
    "start_time": "2022-03-24T05:25:31.980Z"
   },
   {
    "duration": 11,
    "start_time": "2022-03-24T05:25:32.187Z"
   },
   {
    "duration": 9,
    "start_time": "2022-03-24T05:25:32.199Z"
   },
   {
    "duration": 29,
    "start_time": "2022-03-24T05:25:32.210Z"
   },
   {
    "duration": 98,
    "start_time": "2022-03-24T05:25:32.241Z"
   },
   {
    "duration": 68,
    "start_time": "2022-03-24T05:25:32.341Z"
   },
   {
    "duration": 5,
    "start_time": "2022-03-24T05:25:32.410Z"
   },
   {
    "duration": 161,
    "start_time": "2022-03-24T05:25:32.417Z"
   },
   {
    "duration": 6,
    "start_time": "2022-03-24T05:25:32.579Z"
   },
   {
    "duration": 132,
    "start_time": "2022-03-24T05:25:32.586Z"
   },
   {
    "duration": 18,
    "start_time": "2022-03-24T05:25:32.720Z"
   },
   {
    "duration": 5,
    "start_time": "2022-03-24T05:25:32.740Z"
   },
   {
    "duration": 151,
    "start_time": "2022-03-24T05:25:32.747Z"
   },
   {
    "duration": 7,
    "start_time": "2022-03-24T05:25:32.899Z"
   },
   {
    "duration": 30,
    "start_time": "2022-03-24T05:25:32.908Z"
   },
   {
    "duration": 3,
    "start_time": "2022-03-24T05:25:32.940Z"
   },
   {
    "duration": 12,
    "start_time": "2022-03-24T05:25:32.945Z"
   },
   {
    "duration": 25,
    "start_time": "2022-03-24T05:25:32.959Z"
   },
   {
    "duration": 16,
    "start_time": "2022-03-24T05:25:32.986Z"
   },
   {
    "duration": 16,
    "start_time": "2022-03-24T05:25:33.004Z"
   },
   {
    "duration": 15,
    "start_time": "2022-03-24T05:25:33.022Z"
   },
   {
    "duration": 139,
    "start_time": "2022-03-24T05:25:33.039Z"
   },
   {
    "duration": 8,
    "start_time": "2022-03-24T05:25:33.181Z"
   },
   {
    "duration": 20,
    "start_time": "2022-03-24T05:25:33.191Z"
   },
   {
    "duration": 144,
    "start_time": "2022-03-24T05:25:33.213Z"
   },
   {
    "duration": 6,
    "start_time": "2022-03-24T05:25:33.359Z"
   },
   {
    "duration": 215,
    "start_time": "2022-03-24T05:25:33.367Z"
   },
   {
    "duration": 5,
    "start_time": "2022-03-24T05:25:33.584Z"
   },
   {
    "duration": 139,
    "start_time": "2022-03-24T05:25:33.591Z"
   },
   {
    "duration": 271,
    "start_time": "2022-03-24T05:25:33.732Z"
   },
   {
    "duration": 92,
    "start_time": "2022-03-24T05:44:19.392Z"
   },
   {
    "duration": 3,
    "start_time": "2022-03-24T05:44:19.486Z"
   },
   {
    "duration": 31,
    "start_time": "2022-03-24T05:44:19.491Z"
   },
   {
    "duration": 36,
    "start_time": "2022-03-24T05:44:19.524Z"
   },
   {
    "duration": 6,
    "start_time": "2022-03-24T05:44:19.561Z"
   },
   {
    "duration": 6,
    "start_time": "2022-03-24T05:44:19.569Z"
   },
   {
    "duration": 7,
    "start_time": "2022-03-24T05:44:19.577Z"
   },
   {
    "duration": 5,
    "start_time": "2022-03-24T05:44:19.586Z"
   },
   {
    "duration": 10,
    "start_time": "2022-03-24T05:44:19.593Z"
   },
   {
    "duration": 5,
    "start_time": "2022-03-24T05:44:19.606Z"
   },
   {
    "duration": 23,
    "start_time": "2022-03-24T05:44:19.638Z"
   },
   {
    "duration": 6,
    "start_time": "2022-03-24T05:44:19.662Z"
   },
   {
    "duration": 6,
    "start_time": "2022-03-24T05:44:19.669Z"
   },
   {
    "duration": 5,
    "start_time": "2022-03-24T05:44:19.677Z"
   },
   {
    "duration": 10,
    "start_time": "2022-03-24T05:44:19.683Z"
   },
   {
    "duration": 10,
    "start_time": "2022-03-24T05:44:19.695Z"
   },
   {
    "duration": 10,
    "start_time": "2022-03-24T05:44:19.738Z"
   },
   {
    "duration": 11,
    "start_time": "2022-03-24T05:44:19.750Z"
   },
   {
    "duration": 6,
    "start_time": "2022-03-24T05:44:19.762Z"
   },
   {
    "duration": 340,
    "start_time": "2022-03-24T05:44:19.769Z"
   },
   {
    "duration": 5,
    "start_time": "2022-03-24T05:44:20.111Z"
   },
   {
    "duration": 18,
    "start_time": "2022-03-24T05:44:20.117Z"
   },
   {
    "duration": 49,
    "start_time": "2022-03-24T05:44:20.141Z"
   },
   {
    "duration": 25,
    "start_time": "2022-03-24T05:44:20.192Z"
   },
   {
    "duration": 190,
    "start_time": "2022-03-24T05:44:20.219Z"
   },
   {
    "duration": 177,
    "start_time": "2022-03-24T05:44:20.411Z"
   },
   {
    "duration": 175,
    "start_time": "2022-03-24T05:44:20.589Z"
   },
   {
    "duration": 142,
    "start_time": "2022-03-24T05:44:20.765Z"
   },
   {
    "duration": 311,
    "start_time": "2022-03-24T05:44:20.909Z"
   },
   {
    "duration": 19,
    "start_time": "2022-03-24T05:44:21.222Z"
   },
   {
    "duration": 10,
    "start_time": "2022-03-24T05:44:21.243Z"
   },
   {
    "duration": 7,
    "start_time": "2022-03-24T05:44:21.254Z"
   },
   {
    "duration": 105,
    "start_time": "2022-03-24T05:44:21.263Z"
   },
   {
    "duration": 85,
    "start_time": "2022-03-24T05:44:21.370Z"
   },
   {
    "duration": 5,
    "start_time": "2022-03-24T05:44:21.457Z"
   },
   {
    "duration": 143,
    "start_time": "2022-03-24T05:44:21.463Z"
   },
   {
    "duration": 5,
    "start_time": "2022-03-24T05:44:21.608Z"
   },
   {
    "duration": 144,
    "start_time": "2022-03-24T05:44:21.615Z"
   },
   {
    "duration": 11,
    "start_time": "2022-03-24T05:44:21.761Z"
   },
   {
    "duration": 8,
    "start_time": "2022-03-24T05:44:21.774Z"
   },
   {
    "duration": 146,
    "start_time": "2022-03-24T05:44:21.783Z"
   },
   {
    "duration": 15,
    "start_time": "2022-03-24T05:44:21.931Z"
   },
   {
    "duration": 32,
    "start_time": "2022-03-24T05:44:21.949Z"
   },
   {
    "duration": 3,
    "start_time": "2022-03-24T05:44:21.983Z"
   },
   {
    "duration": 5,
    "start_time": "2022-03-24T05:44:21.988Z"
   },
   {
    "duration": 14,
    "start_time": "2022-03-24T05:44:21.995Z"
   },
   {
    "duration": 8,
    "start_time": "2022-03-24T05:44:22.011Z"
   },
   {
    "duration": 27,
    "start_time": "2022-03-24T05:44:22.020Z"
   },
   {
    "duration": 6,
    "start_time": "2022-03-24T05:44:22.049Z"
   },
   {
    "duration": 141,
    "start_time": "2022-03-24T05:44:22.057Z"
   },
   {
    "duration": 8,
    "start_time": "2022-03-24T05:44:22.200Z"
   },
   {
    "duration": 7,
    "start_time": "2022-03-24T05:44:22.210Z"
   },
   {
    "duration": 149,
    "start_time": "2022-03-24T05:44:22.219Z"
   },
   {
    "duration": 6,
    "start_time": "2022-03-24T05:44:22.370Z"
   },
   {
    "duration": 130,
    "start_time": "2022-03-24T05:44:22.377Z"
   },
   {
    "duration": 5,
    "start_time": "2022-03-24T05:44:22.509Z"
   },
   {
    "duration": 160,
    "start_time": "2022-03-24T05:44:22.515Z"
   },
   {
    "duration": 204,
    "start_time": "2022-03-24T05:44:22.677Z"
   },
   {
    "duration": 9,
    "start_time": "2022-03-24T05:52:34.619Z"
   },
   {
    "duration": 68,
    "start_time": "2022-03-24T05:52:38.757Z"
   },
   {
    "duration": 86,
    "start_time": "2022-03-24T05:53:12.477Z"
   },
   {
    "duration": 3,
    "start_time": "2022-03-24T05:53:12.564Z"
   },
   {
    "duration": 42,
    "start_time": "2022-03-24T05:53:12.568Z"
   },
   {
    "duration": 21,
    "start_time": "2022-03-24T05:53:12.612Z"
   },
   {
    "duration": 7,
    "start_time": "2022-03-24T05:53:12.635Z"
   },
   {
    "duration": 13,
    "start_time": "2022-03-24T05:53:12.644Z"
   },
   {
    "duration": 17,
    "start_time": "2022-03-24T05:53:12.659Z"
   },
   {
    "duration": 13,
    "start_time": "2022-03-24T05:53:12.677Z"
   },
   {
    "duration": 15,
    "start_time": "2022-03-24T05:53:12.692Z"
   },
   {
    "duration": 18,
    "start_time": "2022-03-24T05:53:12.709Z"
   },
   {
    "duration": 19,
    "start_time": "2022-03-24T05:53:12.729Z"
   },
   {
    "duration": 4,
    "start_time": "2022-03-24T05:53:12.750Z"
   },
   {
    "duration": 30,
    "start_time": "2022-03-24T05:53:12.755Z"
   },
   {
    "duration": 12,
    "start_time": "2022-03-24T05:53:12.786Z"
   },
   {
    "duration": 35,
    "start_time": "2022-03-24T05:53:12.799Z"
   },
   {
    "duration": 43,
    "start_time": "2022-03-24T05:53:12.836Z"
   },
   {
    "duration": 22,
    "start_time": "2022-03-24T05:53:12.881Z"
   },
   {
    "duration": 26,
    "start_time": "2022-03-24T05:53:12.905Z"
   },
   {
    "duration": 29,
    "start_time": "2022-03-24T05:53:12.932Z"
   },
   {
    "duration": 414,
    "start_time": "2022-03-24T05:53:12.963Z"
   },
   {
    "duration": 4,
    "start_time": "2022-03-24T05:53:13.379Z"
   },
   {
    "duration": 19,
    "start_time": "2022-03-24T05:53:13.384Z"
   },
   {
    "duration": 73,
    "start_time": "2022-03-24T05:53:13.405Z"
   },
   {
    "duration": 27,
    "start_time": "2022-03-24T05:53:13.480Z"
   },
   {
    "duration": 185,
    "start_time": "2022-03-24T05:53:13.508Z"
   },
   {
    "duration": 172,
    "start_time": "2022-03-24T05:53:13.695Z"
   },
   {
    "duration": 166,
    "start_time": "2022-03-24T05:53:13.868Z"
   },
   {
    "duration": 128,
    "start_time": "2022-03-24T05:53:14.040Z"
   },
   {
    "duration": 193,
    "start_time": "2022-03-24T05:53:14.169Z"
   },
   {
    "duration": 10,
    "start_time": "2022-03-24T05:53:14.363Z"
   },
   {
    "duration": 9,
    "start_time": "2022-03-24T05:53:14.375Z"
   },
   {
    "duration": 3,
    "start_time": "2022-03-24T05:53:14.386Z"
   },
   {
    "duration": 11,
    "start_time": "2022-03-24T05:53:14.390Z"
   },
   {
    "duration": 105,
    "start_time": "2022-03-24T05:53:14.403Z"
   },
   {
    "duration": 76,
    "start_time": "2022-03-24T05:53:14.509Z"
   },
   {
    "duration": 4,
    "start_time": "2022-03-24T05:53:14.587Z"
   },
   {
    "duration": 135,
    "start_time": "2022-03-24T05:53:14.593Z"
   },
   {
    "duration": 11,
    "start_time": "2022-03-24T05:53:14.730Z"
   },
   {
    "duration": 145,
    "start_time": "2022-03-24T05:53:14.742Z"
   },
   {
    "duration": 10,
    "start_time": "2022-03-24T05:53:14.889Z"
   },
   {
    "duration": 5,
    "start_time": "2022-03-24T05:53:14.900Z"
   },
   {
    "duration": 146,
    "start_time": "2022-03-24T05:53:14.907Z"
   },
   {
    "duration": 7,
    "start_time": "2022-03-24T05:53:15.055Z"
   },
   {
    "duration": 27,
    "start_time": "2022-03-24T05:53:15.063Z"
   },
   {
    "duration": 3,
    "start_time": "2022-03-24T05:53:15.092Z"
   },
   {
    "duration": 8,
    "start_time": "2022-03-24T05:53:15.096Z"
   },
   {
    "duration": 13,
    "start_time": "2022-03-24T05:53:15.106Z"
   },
   {
    "duration": 25,
    "start_time": "2022-03-24T05:53:15.121Z"
   },
   {
    "duration": 6,
    "start_time": "2022-03-24T05:53:15.148Z"
   },
   {
    "duration": 7,
    "start_time": "2022-03-24T05:53:15.156Z"
   },
   {
    "duration": 138,
    "start_time": "2022-03-24T05:53:15.165Z"
   },
   {
    "duration": 8,
    "start_time": "2022-03-24T05:53:15.304Z"
   },
   {
    "duration": 8,
    "start_time": "2022-03-24T05:53:15.313Z"
   },
   {
    "duration": 135,
    "start_time": "2022-03-24T05:53:15.322Z"
   },
   {
    "duration": 5,
    "start_time": "2022-03-24T05:53:15.458Z"
   },
   {
    "duration": 135,
    "start_time": "2022-03-24T05:53:15.465Z"
   },
   {
    "duration": 5,
    "start_time": "2022-03-24T05:53:15.601Z"
   },
   {
    "duration": 139,
    "start_time": "2022-03-24T05:53:15.608Z"
   },
   {
    "duration": 199,
    "start_time": "2022-03-24T05:53:15.748Z"
   },
   {
    "duration": 77,
    "start_time": "2022-03-24T05:54:16.405Z"
   },
   {
    "duration": 3,
    "start_time": "2022-03-24T05:54:16.484Z"
   },
   {
    "duration": 31,
    "start_time": "2022-03-24T05:54:16.488Z"
   },
   {
    "duration": 15,
    "start_time": "2022-03-24T05:54:16.537Z"
   },
   {
    "duration": 6,
    "start_time": "2022-03-24T05:54:16.554Z"
   },
   {
    "duration": 6,
    "start_time": "2022-03-24T05:54:16.561Z"
   },
   {
    "duration": 7,
    "start_time": "2022-03-24T05:54:16.569Z"
   },
   {
    "duration": 5,
    "start_time": "2022-03-24T05:54:16.578Z"
   },
   {
    "duration": 7,
    "start_time": "2022-03-24T05:54:16.585Z"
   },
   {
    "duration": 6,
    "start_time": "2022-03-24T05:54:16.595Z"
   },
   {
    "duration": 41,
    "start_time": "2022-03-24T05:54:16.603Z"
   },
   {
    "duration": 4,
    "start_time": "2022-03-24T05:54:16.646Z"
   },
   {
    "duration": 6,
    "start_time": "2022-03-24T05:54:16.652Z"
   },
   {
    "duration": 8,
    "start_time": "2022-03-24T05:54:16.659Z"
   },
   {
    "duration": 10,
    "start_time": "2022-03-24T05:54:16.668Z"
   },
   {
    "duration": 10,
    "start_time": "2022-03-24T05:54:16.680Z"
   },
   {
    "duration": 8,
    "start_time": "2022-03-24T05:54:16.691Z"
   },
   {
    "duration": 10,
    "start_time": "2022-03-24T05:54:16.700Z"
   },
   {
    "duration": 5,
    "start_time": "2022-03-24T05:54:16.711Z"
   },
   {
    "duration": 456,
    "start_time": "2022-03-24T05:54:16.717Z"
   },
   {
    "duration": 4,
    "start_time": "2022-03-24T05:54:17.175Z"
   },
   {
    "duration": 7,
    "start_time": "2022-03-24T05:54:17.181Z"
   },
   {
    "duration": 50,
    "start_time": "2022-03-24T05:54:17.189Z"
   },
   {
    "duration": 26,
    "start_time": "2022-03-24T05:54:17.240Z"
   },
   {
    "duration": 183,
    "start_time": "2022-03-24T05:54:17.267Z"
   },
   {
    "duration": 167,
    "start_time": "2022-03-24T05:54:17.452Z"
   },
   {
    "duration": 167,
    "start_time": "2022-03-24T05:54:17.620Z"
   },
   {
    "duration": 122,
    "start_time": "2022-03-24T05:54:17.791Z"
   },
   {
    "duration": 215,
    "start_time": "2022-03-24T05:54:17.915Z"
   },
   {
    "duration": 15,
    "start_time": "2022-03-24T05:54:18.131Z"
   },
   {
    "duration": 10,
    "start_time": "2022-03-24T05:54:18.147Z"
   },
   {
    "duration": 102,
    "start_time": "2022-03-24T05:54:18.159Z"
   },
   {
    "duration": 80,
    "start_time": "2022-03-24T05:54:18.263Z"
   },
   {
    "duration": 5,
    "start_time": "2022-03-24T05:54:18.345Z"
   },
   {
    "duration": 131,
    "start_time": "2022-03-24T05:54:18.352Z"
   },
   {
    "duration": 5,
    "start_time": "2022-03-24T05:54:18.485Z"
   },
   {
    "duration": 125,
    "start_time": "2022-03-24T05:54:18.491Z"
   },
   {
    "duration": 8,
    "start_time": "2022-03-24T05:54:18.618Z"
   },
   {
    "duration": 13,
    "start_time": "2022-03-24T05:54:18.628Z"
   },
   {
    "duration": 136,
    "start_time": "2022-03-24T05:54:18.643Z"
   },
   {
    "duration": 7,
    "start_time": "2022-03-24T05:54:18.781Z"
   },
   {
    "duration": 18,
    "start_time": "2022-03-24T05:54:18.789Z"
   },
   {
    "duration": 3,
    "start_time": "2022-03-24T05:54:18.809Z"
   },
   {
    "duration": 25,
    "start_time": "2022-03-24T05:54:18.813Z"
   },
   {
    "duration": 18,
    "start_time": "2022-03-24T05:54:18.840Z"
   },
   {
    "duration": 12,
    "start_time": "2022-03-24T05:54:18.860Z"
   },
   {
    "duration": 4,
    "start_time": "2022-03-24T05:54:18.874Z"
   },
   {
    "duration": 9,
    "start_time": "2022-03-24T05:54:18.880Z"
   },
   {
    "duration": 127,
    "start_time": "2022-03-24T05:54:18.890Z"
   },
   {
    "duration": 21,
    "start_time": "2022-03-24T05:54:19.019Z"
   },
   {
    "duration": 6,
    "start_time": "2022-03-24T05:54:19.042Z"
   },
   {
    "duration": 141,
    "start_time": "2022-03-24T05:54:19.050Z"
   },
   {
    "duration": 6,
    "start_time": "2022-03-24T05:54:19.192Z"
   },
   {
    "duration": 121,
    "start_time": "2022-03-24T05:54:19.199Z"
   },
   {
    "duration": 5,
    "start_time": "2022-03-24T05:54:19.321Z"
   },
   {
    "duration": 130,
    "start_time": "2022-03-24T05:54:19.328Z"
   },
   {
    "duration": 188,
    "start_time": "2022-03-24T05:54:19.459Z"
   }
  ],
  "kernelspec": {
   "display_name": "Python 3 (ipykernel)",
   "language": "python",
   "name": "python3"
  },
  "language_info": {
   "codemirror_mode": {
    "name": "ipython",
    "version": 3
   },
   "file_extension": ".py",
   "mimetype": "text/x-python",
   "name": "python",
   "nbconvert_exporter": "python",
   "pygments_lexer": "ipython3",
   "version": "3.8.13"
  },
  "toc": {
   "base_numbering": 1,
   "nav_menu": {},
   "number_sections": true,
   "sideBar": true,
   "skip_h1_title": true,
   "title_cell": "Содержание",
   "title_sidebar": "Contents",
   "toc_cell": true,
   "toc_position": {},
   "toc_section_display": true,
   "toc_window_display": false
  }
 },
 "nbformat": 4,
 "nbformat_minor": 4
}
